{
 "cells": [
  {
   "cell_type": "markdown",
   "metadata": {},
   "source": [
    "# $\\mu$-tutorial de `git`"
   ]
  },
  {
   "cell_type": "markdown",
   "metadata": {},
   "source": [
    "> En este micro-tutorial veremos varios comandos básicos y útiles de `git`, y cómo hacer la configuración de un repositorio."
   ]
  },
  {
   "cell_type": "markdown",
   "metadata": {},
   "source": [
    "<img src=\"https://raw.githubusercontent.com/louim/in-case-of-fire/master/in_case_of_fire.png\" title=\"In case of fire (https://github.com/louim/in-case-of-fire)\" width=\"250\" height=\"200\" align=\"center\">"
   ]
  },
  {
   "cell_type": "markdown",
   "metadata": {},
   "source": [
    "## Comandos básicos"
   ]
  },
  {
   "cell_type": "markdown",
   "metadata": {},
   "source": [
    "### - `git init`"
   ]
  },
  {
   "cell_type": "markdown",
   "metadata": {},
   "source": [
    "Sirve para inicializar cualquier repositorio local `git`."
   ]
  },
  {
   "cell_type": "markdown",
   "metadata": {},
   "source": [
    "Este comando, esencialmente lo que hace es crear el directorio \".git/\", en el directorio local. En ese directorio está **todo** lo importante relacionado con `git`. Borrar este directorio hace que se pierda toda la información del repositorio."
   ]
  },
  {
   "cell_type": "code",
   "execution_count": 1,
   "metadata": {
    "collapsed": false
   },
   "outputs": [
    {
     "name": "stdout",
     "output_type": "stream",
     "text": [
      "total 56\n",
      "drwxr-xr-x  14 benet  staff  476 Feb  7 13:16 ./\n",
      "drwxr-xr-x   7 benet  staff  238 Feb  8 12:21 ../\n",
      "-rw-r--r--   1 benet  staff   17 Feb  7 11:59 COMMIT_EDITMSG\n",
      "-rw-r--r--   1 benet  staff  233 Feb  8 12:20 FETCH_HEAD\n",
      "-rw-r--r--   1 benet  staff   23 Feb  7 11:08 HEAD\n",
      "-rw-r--r--   1 benet  staff   41 Feb  7 10:56 ORIG_HEAD\n",
      "-rw-r--r--   1 benet  staff  323 Feb  7 11:01 config\n",
      "-rw-r--r--   1 benet  staff   73 Jan 31 10:59 description\n",
      "drwxr-xr-x  12 benet  staff  408 Jan 31 10:59 hooks/\n",
      "-rw-r--r--   1 benet  staff  256 Feb  7 11:59 index\n",
      "drwxr-xr-x   3 benet  staff  102 Jan 31 10:59 info/\n",
      "drwxr-xr-x   4 benet  staff  136 Jan 31 11:05 logs/\n",
      "drwxr-xr-x  26 benet  staff  884 Feb  7 11:59 objects/\n",
      "drwxr-xr-x   5 benet  staff  170 Jan 31 11:33 refs/\n"
     ]
    }
   ],
   "source": [
    "; ls -alp ../.git"
   ]
  },
  {
   "cell_type": "markdown",
   "metadata": {},
   "source": [
    "**NOTA**: En `Julia`, y desde el REPL o el jupyter notebook, cuando una instrucción empieza con `;` (punto y coma), la instrucción se ejecuta en el *shell*."
   ]
  },
  {
   "cell_type": "markdown",
   "metadata": {},
   "source": [
    "### - `git clone`"
   ]
  },
  {
   "cell_type": "markdown",
   "metadata": {},
   "source": [
    "Este comando *clona* un repositorio remoto de `git` en un directorio local. Es otra manera de crear un repositorio `git`. A diferencia de `git init`, este comando configura el repositorio para notar los cambios que se hacen en el repositorio *remoto*. \n",
    "\n",
    "Como ejemplo de este comando, para clonar este curso deben usar la instrucción\n",
    "```\n",
    "git clone https://github.com/lbenet/2017-2_TSFisComputacional-1\n",
    "```\n",
    "lo que creará el directorio (local, respecto al lugar donde ejecuten el comando) `2017-2_TSFisComputacional-1`."
   ]
  },
  {
   "cell_type": "markdown",
   "metadata": {},
   "source": [
    "Vale la pena decir que, si quieren *colaborar* en algún proyecto de software abierto en [GitHub](https://github.com), es indispensable que tengan una copia propia del repositorio al que quieren contribuir en su cuenta de GitHub. Eso se hace desde GitHub, haciendo un \"fork\", es decir, creando una bifurcación del proyecto, donde ustedes copian sus cambios, y desde donde hacen las peticiones de inclusiones (*pull requests*)."
   ]
  },
  {
   "cell_type": "markdown",
   "metadata": {},
   "source": [
    "### - `git help`"
   ]
  },
  {
   "cell_type": "markdown",
   "metadata": {},
   "source": [
    "Ayuda sobre `git`; en particular despliega varios comandos útiles. Para obtener el manual correspondiente a cada comando se usa \n",
    "```\n",
    "git help <command>\n",
    "```"
   ]
  },
  {
   "cell_type": "markdown",
   "metadata": {},
   "source": [
    "### - `git status`"
   ]
  },
  {
   "cell_type": "markdown",
   "metadata": {},
   "source": [
    "Muestra el *estado* del repositorio: la rama en la que se está trabajando, los cambios en los archivos (que se siguen) o la lista de archivos que no se están siguiendo, etc."
   ]
  },
  {
   "cell_type": "code",
   "execution_count": 3,
   "metadata": {
    "collapsed": false
   },
   "outputs": [
    {
     "name": "stdout",
     "output_type": "stream",
     "text": [
      "On branch master\n",
      "Your branch is up-to-date with 'origin/master'.\n",
      "Untracked files:\n",
      "  (use \"git add <file>...\" to include in what will be committed)\n",
      "\n",
      "\t../2017-2_lista.txt\n",
      "\t./\n",
      "\t../tareas/.ipynb_checkpoints/\n",
      "\n",
      "nothing added to commit but untracked files present (use \"git add\" to track)\n"
     ]
    }
   ],
   "source": [
    ";git status"
   ]
  },
  {
   "cell_type": "markdown",
   "metadata": {},
   "source": [
    "### - `git log`"
   ]
  },
  {
   "cell_type": "markdown",
   "metadata": {},
   "source": [
    "Muestra la información sobre los commits que se han hecho en el repositorio, mostrando primero los commits más recientes.\n",
    "\n",
    "Existen varias formas útiles simplificadas, por ejemplo, \n",
    "```\n",
    "git log --oneline\n",
    "git log --graph\n",
    "```"
   ]
  },
  {
   "cell_type": "markdown",
   "metadata": {},
   "source": [
    "### - `git add`"
   ]
  },
  {
   "cell_type": "markdown",
   "metadata": {},
   "source": [
    "Este es uno de los comandos más importantes: agrega el contenido del archivo a la lista de archivos cuyos cambios se segurán en el repositorio:\n",
    "\n",
    "```\n",
    "git add <file>\n",
    "```"
   ]
  },
  {
   "cell_type": "markdown",
   "metadata": {},
   "source": [
    "### - `git commit`"
   ]
  },
  {
   "cell_type": "markdown",
   "metadata": {},
   "source": [
    "Este comando \"compromete\" los cambios hechos y agregados con `git add`, es decir, los incluye en el historial del repositorio. Es un comando muy importante, en el sentido que no usarlo puede llevar a pérdida del trabajo realizado.\n",
    "\n",
    "Después de ejecutar este comando, se abre un editor (típicamente `vi`, pero esto se puede configurar) para guardar una oración de una línea o menos, descriptiva de los cambios hechos (respecto al commit anterior), y se se requiere dar más detalles, después de una línea en blanco éstos se detallan. (Vale la pena preguntarle a google sobre [vi](http://lmgtfy.com/?q=vi), ya que es un editor no muy evidente.) La información que aquí se escribe puede leerse con `git log`."
   ]
  },
  {
   "cell_type": "markdown",
   "metadata": {},
   "source": [
    "\n",
    "### - `git checkout`"
   ]
  },
  {
   "cell_type": "markdown",
   "metadata": {},
   "source": [
    "Este comando tiene varios usos. Por ejemplo, \n",
    "```\n",
    "git checkout mi_rama\n",
    "```\n",
    "sirve para cambiarse de rama, a la rama \"mi_rama\". También permite crear ramas, por ejemplo la rama \"otra_rama\", usando\n",
    "```\n",
    "git checkout -b otra_rama\n",
    "```\n",
    "\n",
    "También permite revertir ciertos cambios en archivos. Por ejemplo,\n",
    "```\n",
    "git checkout -- file\n",
    "```\n",
    "revierte los cambios hecho en el archivo \"file\", es decir, vuelve a la versión del archivo (o de directorios) que está almacenada en el historial de `git`."
   ]
  },
  {
   "cell_type": "markdown",
   "metadata": {},
   "source": [
    "---"
   ]
  },
  {
   "cell_type": "markdown",
   "metadata": {},
   "source": [
    "## Configuración de `git`"
   ]
  },
  {
   "cell_type": "markdown",
   "metadata": {},
   "source": [
    "Uno puede configurar `git` de manera *local* o *global*; la decisión de cuál opción tomar depende esencialmente de si comparten la máquina (y la cuenta de usuario) o si trabajan en su máquina."
   ]
  },
  {
   "cell_type": "markdown",
   "metadata": {},
   "source": [
    "Los comandos básicos de configuración son:\n",
    "\n",
    "```\n",
    "git config --global user.name \"Su nombre\"\n",
    "git config --global user.email \"usuario@email_de_verdad.hoy\"\n",
    "git config --global color.ui \"auto\"\n",
    "git config --global github.user \"Usuario_GitHub\"\n",
    "```\n",
    "\n",
    "Si su configuración es *local*, por ejemplo, por que comparten la cuenta en la máquina en la que trabajan, en lugar de usar `--global` deben usar `--local`."
   ]
  },
  {
   "cell_type": "markdown",
   "metadata": {
    "collapsed": true
   },
   "source": [
    "---"
   ]
  },
  {
   "cell_type": "markdown",
   "metadata": {},
   "source": [
    "## `git` colaborativo"
   ]
  },
  {
   "cell_type": "markdown",
   "metadata": {},
   "source": [
    "### Ramas (*branches*)"
   ]
  },
  {
   "cell_type": "markdown",
   "metadata": {},
   "source": [
    "Un punto esencial para hacer de `git` una herramienta colaborativa es el uso de ramas (*branches*). \n",
    "\n",
    "La idea es trabajar en una rama independiente, cosa que más o menos equivale a una copia íntegra del momento (commit) en que se crea la rama, pero es mucho más inteligente que eso. En esa rama uno hace un desarrollo específico, que eventualmente se envía para ser considerado a incluirse en el proyecto."
   ]
  },
  {
   "cell_type": "markdown",
   "metadata": {},
   "source": [
    "Para crear una rama, uno puede usar el comando\n",
    "```\n",
    "git branch <nombre_rama>\n",
    "```\n",
    "donde \"<nombre_rama>\" es el nombre de la rama; ejemplos de posibles nombres de ramas son \"tutorial_git\" o \"lbenet/tutorial_git\". ¡Vale la pena evitar líos de incluir espacios en blanco en el nombre de las ramas!\n",
    "\n",
    "El comando anterior *crea* la rama, pero no nos cambia a esa rama. Para cambiarnos, utilizamos (ver arriba) el comando `git checkout <nombre_rama>`. Para ver qué ramas hay en el proyecto, uno usa el comando `git branch -v`.\n"
   ]
  },
  {
   "cell_type": "markdown",
   "metadata": {},
   "source": [
    "Una manera más corta de crear la rama y cambiarnos a ella es usar el comando\n",
    "```\n",
    "git checkout -b <nombre_rama>\n",
    "```\n",
    "\n",
    "Es importante señalar que uno puede crear tantas ramas como se quiera, y éstas son baratas en cuanto al espacio de disco, y esencialmente desde cualquier punto del desarrollo, incluyendo commits específicos. El commit en la rama desde que se crea la nueva rama aparece en la nueva rama."
   ]
  },
  {
   "cell_type": "markdown",
   "metadata": {},
   "source": [
    "Por ejemplo, voy a crear la rama \"lbenet/tutorial_git\":"
   ]
  },
  {
   "cell_type": "code",
   "execution_count": 3,
   "metadata": {
    "collapsed": false
   },
   "outputs": [
    {
     "name": "stdout",
     "output_type": "stream",
     "text": [
      "M\tnotas_clase/01_Microtutorial_git.ipynb\n"
     ]
    },
    {
     "name": "stderr",
     "output_type": "stream",
     "text": [
      "Switched to a new branch 'lbenet/tutorial_git'\n"
     ]
    }
   ],
   "source": [
    "; git checkout -b lbenet/tutorial_git"
   ]
  },
  {
   "cell_type": "markdown",
   "metadata": {},
   "source": [
    "La idea de las ramas es hacer todos los ensayos posibles sin que esto afecte el desarrollo del proyecto (cuya rama principal es `master`); eventualmente uno hace (desde su propio *fork* en GitHub un *Pull Request* para que los cambios se incluyan en el proyecto."
   ]
  },
  {
   "cell_type": "markdown",
   "metadata": {},
   "source": [
    "### Servidores remotos (*remotes*)"
   ]
  },
  {
   "cell_type": "markdown",
   "metadata": {},
   "source": [
    "Uno debe tener claro que uno tiene una copia íntegra del repositorio en su disco duro. El repositorio, además de estar en cada una de nuestras máquinas está en GitHub. Como se dijo más arriba, `git clone` permite clonar un repositorio *remoto* (por ejemplo, en GitHub, aunque no exclusivamente) a un directorio local. `git` permite de hecho poder seguir los cambios de distintos repositorios remotos, por ejemplo el proyecto oficial, y el de nuestro *fork* propio."
   ]
  },
  {
   "cell_type": "markdown",
   "metadata": {},
   "source": [
    "Para ver qué configuración se tiene de los repositorios remotos, uno ejecuta `git remove -v`:\n"
   ]
  },
  {
   "cell_type": "code",
   "execution_count": 2,
   "metadata": {
    "collapsed": false
   },
   "outputs": [
    {
     "name": "stdout",
     "output_type": "stream",
     "text": [
      "origin\tgit@github.com:lbenet/2017-2_TSFisComputacional-1.git (fetch)\n",
      "origin\tgit@github.com:lbenet/2017-2_TSFisComputacional-1.git (push)\n"
     ]
    }
   ],
   "source": [
    "; git remote -v"
   ]
  },
  {
   "cell_type": "markdown",
   "metadata": {},
   "source": [
    "En el resultado de la instrucción anterior, \"origin\" es un alias del repositorio `git` en GitHub donde está el curso.\n",
    "\n",
    "Si uno quiere agregar un nuevo servidor para seguir los cambios, por ejemplo, el de su *fork*, lo que se necesita hacer es usar el comando:\n",
    "```\n",
    "git remote add <alias> <url_de_su_fork>\n",
    "```\n",
    "donde `<url_de_su_fork>` es la dirección donde está su *fork* en GitHub, y `<alias>` es la abreviación que le darán (por ejemplo, \"fork\" o \"mifork\"; este último es el que usaré)."
   ]
  },
  {
   "cell_type": "markdown",
   "metadata": {},
   "source": [
    "Las abreviaciones (o alias) de los repositorios son muy útiles. Por ejemplo, ustedes *sólamente* van a poder subir los cambios que hagan en un proyecto a su propio *fork* (o también a los repositorios donde estén declarados como colaboradores del proyecto). El comando\n",
    "```\n",
    "git push mifork\n",
    "```\n",
    "*empuja* sus cambios a `mifork`."
   ]
  },
  {
   "cell_type": "markdown",
   "metadata": {},
   "source": [
    "De igual manera, ustedes quieren tener actualizada la rama `master` con el proyecto del curso. Lo que deben hacer para esto es:\n",
    "```\n",
    "git checkout master\n",
    "git pull origin\n",
    "git push mifork\n",
    "```\n",
    "La primer instrucción hace el cambio de rama a `master`, y la segunda *jala* los cambios (si es que hay en master) a la rama que tenemos localmente. Vale la pena notar que, si bien tenemos la copia *local* actualizada, la copia en el *fork* aún no lo está; esa es la razón de la tercer instrucción."
   ]
  },
  {
   "cell_type": "markdown",
   "metadata": {},
   "source": [
    "### Tarea 0\n",
    "\n",
    "Hagan **todo** el tutorial [Learn git branching](http://learngitbranching.js.org/). Tienen que enviar captura de pantalla (en formato `jpg`) de las *dos* pantallas (Main y Remote) donde se ve sus avances en el tutorial, con las \"palomitas\" de los niveles que consiguieron hacer.\n",
    "\n",
    "\n",
    "Fecha de envío del PR (*pull request*) inicial: **12 de febrero**\n",
    "\n",
    "Fecha de aceptación del PR: **19 de febrero**\n"
   ]
  },
  {
   "cell_type": "code",
   "execution_count": null,
   "metadata": {
    "collapsed": true
   },
   "outputs": [],
   "source": []
  }
 ],
 "metadata": {
  "kernelspec": {
   "display_name": "Julia 0.5.1-pre",
   "language": "julia",
   "name": "julia-0.5"
  },
  "language_info": {
   "file_extension": ".jl",
   "mimetype": "application/julia",
   "name": "julia",
   "version": "0.5.1"
  }
 },
 "nbformat": 4,
 "nbformat_minor": 2
}
