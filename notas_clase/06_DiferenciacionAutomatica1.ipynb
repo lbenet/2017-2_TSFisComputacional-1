{
  "cells": [
    {
      "cell_type": "markdown",
      "source": [
        "# Diferenciación automática (o algorítmica)\n",
        "\n## Parte 1"
      ],
      "metadata": {
        "deletable": true,
        "editable": true,
        "slideshow": {
          "slide_type": "slide"
        }
      }
    },
    {
      "cell_type": "markdown",
      "source": [
        ">### NOTA\n",
        ">\n",
        ">Este notebook se iniciará en la clase. La resolución completa \n",
        ">de los ejercicios debe ser enviada como \"Tarea3.ipynb\".\n",
        ">\n",
        ">Fecha de envío del PR inicial: **lunes 27 de marzo, antes de la clase**\n",
        ">\n",
        ">Fecha de aceptación del PR: **martes 4 de abril, antes de la clase**\n",
        ">"
      ],
      "metadata": {
        "deletable": true,
        "editable": true,
        "slideshow": {
          "slide_type": "-"
        }
      }
    },
    {
      "cell_type": "markdown",
      "source": [
        "# Motivación"
      ],
      "metadata": {
        "deletable": true,
        "editable": true,
        "slideshow": {
          "slide_type": "slide"
        }
      }
    },
    {
      "cell_type": "markdown",
      "source": [
        "En el [notebook anterior](https://github.com/lbenet/2017-2_TSFisComputacional-1/blob/master/notas_clase/05_Derivacion_numerica.ipynb), vimos que hay diferentes formas de implementar numéricamente la derivada de una función $f(x)$ en un punto $x_0$ y que éstas dependen de un parámetro $h$, que es la separación entre puntos cercanos. \n",
        "\nEn ese notebook obtuvieron que el error absoluto en términos de $h$, cuando $h\\to 0$, tiene un comportamiento distinto, y que de hecho puede ser \"contaminado\" por errores de numéricos."
      ],
      "metadata": {
        "deletable": true,
        "editable": true,
        "slideshow": {
          "slide_type": "-"
        }
      }
    },
    {
      "cell_type": "markdown",
      "source": [
        "Se obtuvo que:\n",
        "\n",
        "- La \"derivada derecha\" converge *linealmente* al $h\\to 0$ al valor correcto de la derivada, es decir, el error es proporcional a $\\mathcal{O}(h)$. Sin embargo, para valores *suficientemente* pequeños de $h$, el valor obtenido de la derivada deja de tener sentido ya que se pierde exactitud.\n",
        "\n",
        "- La \"derivada simétrica\" converge *cuadráticamente*, es decir, el error escala como $\\mathcal{O}(h^2)$. Al igual que la derivada derecha, para $h$ suficientemente pequeña los errores \"de cancelación\" debidos a la diferencia en la definición hacen que el resultado pierda sentido.\n",
        "\n- La definición de la \"derivada compleja\" también converge *cuadráticamente*. A diferencia de las dos definiciones anteriores *no* exhibe problemas al considerar valores de $h$ muy pequeños; esto se debe a que no involucra diferencias que dan lugar a errores de cancelación."
      ],
      "metadata": {
        "deletable": true,
        "editable": true,
        "slideshow": {
          "slide_type": "subslide"
        }
      }
    },
    {
      "cell_type": "markdown",
      "source": [
        "Los puntos anteriores muestran que, la manera de implementar un algoritmo (concreto) cualquiera en la computadora es importante respecto a cuestiones de la convergencia y del manejo de errores numéricos. En este sentido, la \"derivada compleja\" da el resultado que más se acerca al exacto, incluso para valores de $h \\sim 10^{-16}$."
      ],
      "metadata": {
        "deletable": true,
        "editable": true,
        "slideshow": {
          "slide_type": "subslide"
        }
      }
    },
    {
      "cell_type": "markdown",
      "source": [
        "La pregunta es si podemos ir más allá y obtener el valor exacto con números de punto flotante, esto es, el que más se acerca al valor obtenido con números reales, excepto por cuestiones de redondeo."
      ],
      "metadata": {
        "deletable": true,
        "editable": true,
        "slideshow": {
          "slide_type": "fragment"
        }
      }
    },
    {
      "cell_type": "markdown",
      "source": [
        "# Diferenciación automática (o algorítmica)"
      ],
      "metadata": {
        "deletable": true,
        "editable": true,
        "slideshow": {
          "slide_type": "slide"
        }
      }
    },
    {
      "cell_type": "markdown",
      "source": [
        "Citando a [wikipedia](https://en.wikipedia.org/wiki/Automatic_differentiation): \n",
        "\n",
        "> ``Automatic differentiation (AD), also called algorithmic differentiation or computational differentiation, is a set of techniques to numerically evaluate the derivative of a function specified by a computer program.''\n",
        "\nDiferenciación automática **no es** diferenciación numérica. Está basada en cálculos numéricos (evaluación de funciones por la computadora), pero **no** usa ninguna de las definiciones por diferencias finitas, como las que vimos la clase anterior."
      ],
      "metadata": {
        "deletable": true,
        "editable": true
      }
    },
    {
      "cell_type": "markdown",
      "source": [
        "Para ilustrar su funcionamiento, empezaremos recordando cómo funcionan los números complejos: $z = a + \\mathrm{i} b$. Como bien sabemos, `a` es la parte real y `b` es la parte imaginaria de `z`.\n",
        "\nUno puede definir todas las operaciones aritméticas de la manera natural (a partir de los números reales), manteniendo las expresiones con $\\mathrm{i}$ factorizada. En el caso de la multiplicación y división, simplemente recordamos que $\\mathrm{i}^2=-1$."
      ],
      "metadata": {
        "deletable": true,
        "editable": true,
        "slideshow": {
          "slide_type": "subslide"
        }
      }
    },
    {
      "cell_type": "markdown",
      "source": [
        "Por ejemplo, para $z = a + \\mathrm{i} b$ y $w = c + \\mathrm{i} d$, tenemos que, \n",
        "\n",
        "\\begin{eqnarray*}\n",
        "z + w & = & (a + \\mathrm{i} b) + (c + \\mathrm{i} d) = (a + c) + \\mathrm{i}(b + d),\\\\\n",
        "z \\cdot w & = & (a + \\mathrm{i} b)\\cdot (c + \\mathrm{i} d) \\\\\n",
        "  & = & ac + \\mathrm{i} (ad+bc) + \\mathrm{i}^2 b d\\\\\n",
        " & = & (ac - b d) + \\mathrm{i} (ad+bc).\n",
        "\\end{eqnarray*}\n",
        "\nPor último, vale también la pena recordar que, $\\mathbb{C}$ es *isomorfo* a $\\mathbb{R}^2$, esto es, hay un mapeo biyectivo de $ z \\leftrightarrow (a, b)$."
      ],
      "metadata": {
        "deletable": true,
        "editable": true,
        "slideshow": {
          "slide_type": "fragment"
        }
      }
    },
    {
      "cell_type": "markdown",
      "source": [
        "Volviendo a la cuestión de la diferenciación automática, la idea es introducir un par ordenado donde la primer componente es el valor de una función $f(x)$ evaluada en $x_0$, y la segunda es el valor de su derivada evaluada\n",
        "en el mismo punto. Esto es, definimos a los *duales* como:\n",
        "\n",
        "\\begin{equation}\n",
        "\\vec{f}(x_0) = \\big( f_0, f'_0\\big) = \\big( f(x_0), f'(x_0)\\big) = f_0 + \\hat{\\mathbf{h}}\\, f'_0,\n",
        "\\end{equation}\n",
        "\ndonde $f_0 = f(x_0)$ y $f'_0=\\frac{d f}{d x}(x_0)$ y, en la segunda igualdad, $\\hat{\\mathbf{h}}$ sirve para indicar la segunda componente del par ordenado. (En un sentido que se precisará más adelante, $\\hat{\\mathbf{h}}$ se comporta de una manera semejante a $\\mathrm{i}$ para los números complejos, distinguiéndose en el valor de $\\hat{\\mathbf{h}}^2$.)"
      ],
      "metadata": {
        "deletable": true,
        "editable": true,
        "slideshow": {
          "slide_type": "subslide"
        }
      }
    },
    {
      "cell_type": "markdown",
      "source": [
        "En particular, para la función constante $f(x)=c$ se cumple que el dual asociado es $\\vec{c}(x_0)=(c,0)$, y para la función identidad $f(x)=x$ obtenemos $\\vec{x}(x_0)=(x_0,1)$. Vale la pena aquí enfatizar que la función identidad es precisamente la variable independiente, respecto a la que estamos derivando."
      ],
      "metadata": {
        "deletable": true,
        "editable": true,
        "slideshow": {
          "slide_type": "subslide"
        }
      }
    },
    {
      "cell_type": "markdown",
      "source": [
        "---"
      ],
      "metadata": {
        "deletable": true,
        "editable": true
      }
    },
    {
      "cell_type": "markdown",
      "source": [
        "## Ejercicio 1\n",
        "\n",
        "Implementen una nueva estructura paramétrica (`type`) que llamaremos `Dual` y que defina los duales, donde el parámetro debe ser un subtipo de `Real`; la siguiente celda sirve para empezar. La parte que identifica a $f_0$ será llamada `fun`, y la correspondiente a $f'_0$ será `der`.\n",
        "\nLa definición debe incluir métodos que sean compatibles con las dos propiedades arriba mencionadas, es decir, que el dual de una constante (cualquier número real) sea $(c,0)$, y que el de la variable independiente sea $(x_0,1)$. Para lo segundo definiremos una función `xdual` con la propiedad mencionada."
      ],
      "metadata": {
        "deletable": true,
        "editable": true,
        "slideshow": {
          "slide_type": "slide"
        }
      }
    },
    {
      "cell_type": "code",
      "source": [
        "\"\"\"\n",
        "    Dual{T<:Real}\n",
        "\n",
        "Definición de los duales, donde lo campos son:\n",
        "...\n",
        "\"\"\"\n",
        "type Dual{}\n",
        "    # código: \n",
        "end"
      ],
      "outputs": [],
      "execution_count": 1,
      "metadata": {
        "collapsed": true,
        "deletable": true,
        "editable": true
      }
    },
    {
      "cell_type": "code",
      "source": [
        "#= \n",
        "Definan un método que permita la promoción automática cuando \n",
        "las entradas para definir el dual no son del mismo tipo\n",
        "=#\n"
      ],
      "outputs": [],
      "execution_count": null,
      "metadata": {
        "collapsed": true,
        "deletable": true,
        "editable": true
      }
    },
    {
      "cell_type": "code",
      "source": [
        "#= \n",
        "Aquí se define un método que garantiza que el dual de una constante \n",
        "(número) cumple lo requerido\n",
        "=#\n"
      ],
      "outputs": [],
      "execution_count": null,
      "metadata": {
        "collapsed": true,
        "deletable": true,
        "editable": true
      }
    },
    {
      "cell_type": "code",
      "source": [
        "#= \n",
        "Aquí se define la función `xdual`, que se usará para identificar \n",
        "la variable independiente. La función dependerá de x_0, y debe \n",
        "regresar el Dual apropiado a la variable independiente\n",
        "=#\n",
        "\n",
        "\"\"\"\n",
        "    xdual(x0) -> Dual(x0, 1)\n",
        "\n",
        "...\n",
        "\"\"\"\n",
        "function xdual(x0)\n",
        "    # código\n",
        "end"
      ],
      "outputs": [],
      "execution_count": null,
      "metadata": {
        "collapsed": true,
        "deletable": true,
        "editable": true
      }
    },
    {
      "cell_type": "code",
      "source": [
        "#= \n",
        "Muestren que su código funciona con tests adecuados para crear duales,\n",
        "para promoverlos, y al definir el dual de un número y `xdual`.\n",
        "\n",
        "En esto es útil usar la infraestructura de Julia; ver:\n",
        "https://julia.readthedocs.io/en/stable/stdlib/test/\n",
        "\n",
        "using Base.Test\n",
        "\n",
        "a = Dual(1, 2.0)\n",
        "@test a.fun == 1.0\n",
        "@test a.der == 2.0\n",
        "\n",
        "=#\n",
        "\n"
      ],
      "outputs": [],
      "execution_count": null,
      "metadata": {
        "collapsed": true,
        "deletable": true,
        "editable": true,
        "slideshow": {
          "slide_type": "subslide"
        }
      }
    },
    {
      "cell_type": "markdown",
      "source": [
        "---"
      ],
      "metadata": {
        "deletable": true,
        "editable": true
      }
    },
    {
      "cell_type": "markdown",
      "source": [
        "# Aritmética de duales"
      ],
      "metadata": {
        "deletable": true,
        "editable": true,
        "slideshow": {
          "slide_type": "slide"
        }
      }
    },
    {
      "cell_type": "markdown",
      "source": [
        "De la definición, y recordando el significado de cada una de las componentes del par doble, tenemos que las operaciones aritméticas quedan definidas por:\n",
        "\n",
        "\\begin{eqnarray}\n",
        "    \\vec{u} \\pm \\vec{w} &=& \\big( u_0 \\pm w_0, \\, u'_0\\pm w'_0 \\big),\\\\\n",
        "    \\vec{u} \\times \\vec{w} &=& \\big( u_0 \\cdot w_0,\\, u_0 w'_0 +  w_0 u'_0 \\big),\\\\\n",
        "    \\frac{\\vec{u}}{\\vec{w}} &=& \\big( \\frac{u_0}{w_0},\\, \\frac{ u'_0 - (u_0/w_0)w'_0}{w_0}\\big),\\\\\n",
        "    {\\vec{u}}^\\alpha &=& \\big( u_0^\\alpha,\\, \\alpha u_0^{\\alpha-1} u'_0 \\big).\\\\\n",
        "\\end{eqnarray}    \n",
        "\n",
        "Noten que las dos últimas operaciones son compatibles con $\\hat{\\mathbf{h}}^2=0$.\n",
        "\n",
        "Además, están los operadores unitarios, que satisfacen:\n",
        "\\begin{equation}\n",
        "    \\pm \\vec{u} = \\big(\\pm u_0, \\pm u'_0 \\big).\n",
        "\\end{equation}    \n",
        "\n"
      ],
      "metadata": {
        "deletable": true,
        "editable": true
      }
    },
    {
      "cell_type": "markdown",
      "source": [
        "---"
      ],
      "metadata": {
        "deletable": true,
        "editable": true
      }
    },
    {
      "cell_type": "markdown",
      "source": [
        "## Ejercicio 2\n",
        "\n",
        "Implementen *todas* las operaciones aritméticas definidas arriba. Estas operaciones deben incluir las operaciones aritméticas que involucran un número cualquiera (`a :: Real`) y un dual (`b::Dual`), como por ejemplo `a+b` o `b+a`, etc. Esto se puede hacer implementando los métodos específicos para estos casos (¡y que sirven en cualquier órden!). \n",
        "\n",
        "Implementen también la comparación entre duales (`==`). \n",
        "\nIncluyan tests que muestren que cada una de ellas está bien definida, y que sus resultados dan valores consistentes."
      ],
      "metadata": {
        "deletable": true,
        "editable": true,
        "slideshow": {
          "slide_type": "slide"
        }
      }
    },
    {
      "cell_type": "code",
      "source": [
        "import Base: +, -, *, /, ^, ==\n",
        "\n",
        "#= \n",
        "Aquí se implementan los métodos necesarios para cada función; \n",
        "en el caso de ^ por ahora nos conformaremos con que la potencia \n",
        "sea entera.\n",
        "=#\n",
        "\n"
      ],
      "outputs": [],
      "execution_count": 1,
      "metadata": {
        "collapsed": true,
        "deletable": true,
        "editable": true
      }
    },
    {
      "cell_type": "code",
      "source": [
        "# Aquí se incluyen las pruebas necesarias\n"
      ],
      "outputs": [],
      "execution_count": null,
      "metadata": {
        "collapsed": true,
        "deletable": true,
        "editable": true,
        "slideshow": {
          "slide_type": "subslide"
        }
      }
    },
    {
      "cell_type": "markdown",
      "source": [
        "---"
      ],
      "metadata": {
        "deletable": true,
        "editable": true
      }
    },
    {
      "cell_type": "markdown",
      "source": [
        "# Entendiendo los Duales"
      ],
      "metadata": {
        "deletable": true,
        "editable": true
      }
    },
    {
      "cell_type": "markdown",
      "source": [
        "Ahora probaremos la infraestructura que han desarrollado. En particular, usaremos la misma función que se utilizó en la clase anterior:\n",
        "\n",
        "```julia\n",
        "    ftest(x) = 3x^3 - 2,\n",
        "```\n",
        "\ny la idea es calcular la derivada en $x_0=1$."
      ],
      "metadata": {
        "deletable": true,
        "editable": true,
        "slideshow": {
          "slide_type": "slide"
        }
      }
    },
    {
      "cell_type": "code",
      "source": [
        "ftest(x) = 3*x^3 - 2"
      ],
      "outputs": [],
      "execution_count": null,
      "metadata": {
        "collapsed": true,
        "deletable": true,
        "editable": true
      }
    },
    {
      "cell_type": "markdown",
      "source": [
        "Para obtener la derivada en $x_0=1$ evaluamos `ftest` en `xdual(1)`:"
      ],
      "metadata": {
        "deletable": true,
        "editable": true
      }
    },
    {
      "cell_type": "code",
      "source": [
        "ftest( xdual(1) )"
      ],
      "outputs": [],
      "execution_count": null,
      "metadata": {
        "collapsed": true,
        "deletable": true,
        "editable": true
      }
    },
    {
      "cell_type": "code",
      "source": [
        "# Del resultado anterior, obtengan el valor de la derivada"
      ],
      "outputs": [],
      "execution_count": null,
      "metadata": {
        "collapsed": true,
        "deletable": true,
        "editable": true
      }
    },
    {
      "cell_type": "markdown",
      "source": [
        "Consideremos otra función racional:\n",
        "\n",
        "```julia\n",
        "    gtest(x) = (3x^2-8x+5)/(7x^3-1)\n",
        "```\n",
        "\n",
        "cuya derivada queremos calcular en $x_0=1$. Según [WolframAlpha](http://www.wolframalpha.com/input/?i=D%5B+%283x%5E2-8x%2B5%29%2F%287x%5E3-1%29+%2C+x+%5D+%2F.+x-%3E+1), el resultado exacto es $-1/3$.\n"
      ],
      "metadata": {
        "deletable": true,
        "editable": true,
        "slideshow": {
          "slide_type": "slide"
        }
      }
    },
    {
      "cell_type": "code",
      "source": [
        "gtest(x) = (3x^2-8x+5)/(7x^3-1)"
      ],
      "outputs": [],
      "execution_count": null,
      "metadata": {
        "collapsed": true,
        "deletable": true,
        "editable": true
      }
    },
    {
      "cell_type": "code",
      "source": [
        "gtest( xdual(1) )"
      ],
      "outputs": [],
      "execution_count": null,
      "metadata": {
        "collapsed": true,
        "deletable": true,
        "editable": true
      }
    },
    {
      "cell_type": "markdown",
      "source": [
        "El resultado anterior es la representación en números de punto flotante de $-1/3$. La pregunta es si podemos obtener\n",
        "el resultado exacto."
      ],
      "metadata": {
        "deletable": true,
        "editable": true,
        "slideshow": {
          "slide_type": "subslide"
        }
      }
    },
    {
      "cell_type": "code",
      "source": [
        "# Evalúen `gtest` de manera que el resultado sea el exacto\n",
        "\n"
      ],
      "outputs": [],
      "execution_count": null,
      "metadata": {
        "collapsed": true,
        "deletable": true,
        "editable": true
      }
    },
    {
      "cell_type": "markdown",
      "source": [
        "Para entender cómo funciona esto, evaluaremos explícitamente y paso a paso `gtest(x)` en $\\vec{x_0} = (1,1)$. Sustituímos $\\vec{x_0}$ en `gtest`:"
      ],
      "metadata": {
        "deletable": true,
        "editable": true,
        "slideshow": {
          "slide_type": "slide"
        }
      }
    },
    {
      "cell_type": "markdown",
      "source": [
        "\\begin{equation}\n",
        "\\vec{g}_\\textrm{test}(\\vec{x_0}) = \\frac{\\vec{3}\\cdot{\\vec{x_0}}^2-\\vec{8}\\cdot\\vec{x_0}+\\vec{5}}{\\vec{7}\\cdot{\\vec{x_0}}^3-\\vec{1}},\n",
        "\\end{equation}\n"
      ],
      "metadata": {
        "deletable": true,
        "editable": true,
        "slideshow": {
          "slide_type": "subslide"
        }
      }
    },
    {
      "cell_type": "markdown",
      "source": [
        "esto es,"
      ],
      "metadata": {
        "collapsed": false,
        "deletable": true,
        "editable": true,
        "inputHidden": false,
        "outputHidden": false
      }
    },
    {
      "cell_type": "markdown",
      "source": [
        "\\begin{eqnarray}\n",
        "\\vec{g}_\\textrm{test}(\\vec{x_0}) & = & \n",
        "\\frac{3\\cdot{(1,1)}^2-8\\cdot(1,1)+5}{7\\cdot{(1,1)}^3-1}\\\\\\\\\n",
        "& = & \\frac{3\\cdot(1,2)-8\\cdot(1,1)+5}{7\\cdot(1,3)-1}\n",
        "\\end{eqnarray}\n"
      ],
      "metadata": {
        "deletable": true,
        "editable": true,
        "slideshow": {
          "slide_type": "subslide"
        }
      }
    },
    {
      "cell_type": "markdown",
      "source": [
        "\\begin{equation}\n",
        "\\vec{g}_\\textrm{test}(\\vec{x_0}) = \n",
        "\\frac{ (3,6)-(8,8)+(5,0)}{(7,21)-(1,0)} = \n",
        "\\frac{ \\Big(3-8+5, 6-8\\Big)}{\\Big( 7-1,21\\Big)} = \n",
        "\\frac{ \\Big(0, -2\\Big)}{\\Big( 6,21\\Big)} \n",
        "\\end{equation}"
      ],
      "metadata": {
        "deletable": true,
        "editable": true,
        "slideshow": {
          "slide_type": "subslide"
        }
      }
    },
    {
      "cell_type": "markdown",
      "source": [
        "\\begin{equation}\n",
        "\\vec{g}_\\textrm{test}(\\vec{x_0}) = \n",
        "\\Big(\\frac{0}{6}, \\frac{(-2)-21\\cdot(0/6)}{6} \\Big) = \n",
        "\\Big(0, -\\frac{1}{3}\\Big). \\\\\\\\\n",
        "\\Box\n",
        "\\end{equation}\n"
      ],
      "metadata": {
        "deletable": true,
        "editable": true,
        "slideshow": {
          "slide_type": "subslide"
        }
      }
    },
    {
      "cell_type": "markdown",
      "source": [
        "# Modulos y \"runtests.jl\" en julia"
      ],
      "metadata": {
        "deletable": true,
        "editable": true,
        "slideshow": {
          "slide_type": "slide"
        }
      }
    },
    {
      "cell_type": "markdown",
      "source": [
        "## Ejercicio 3\n",
        "\n",
        "Para reutilizar el código que han hecho en este notebook, y de hecho seguirlo desarrollando, conviene ponerlo dentro de un módulo. Para hacer esto, deberán copiar todo el código necesario (y que aparece en la resolución de los ejercicios anteriores) en un archivo cuyo nombre será \"AutomDiff.jl\" y cuya estructura será la siguiente\n",
        "\n",
        "```julia\n",
        "#=\n",
        "Aquí viene una explicación de lo que se hace en el módulo, \n",
        "los autores y la fecha\n",
        "=#\n",
        "\n",
        "# La siguiente instrucción sirve para *precompilar* el módulo\n",
        "__precompile__(true)\n",
        "\n",
        "module AD\n",
        "    import Base: +, -, *, /, ^, ==\n",
        "    \n",
        "    export Dual, xdual\n",
        "    \n",
        "    # Aquí viene TODO el código que implementaron.\n",
        "    # Primero uno incluye la definición de Dual y\n",
        "    # después las operaciones con Duales.\n",
        "    # ...\n",
        "\n",
        "end\n",
        "```\n",
        "\n",
        "Todas las pruebas deberán ser incluidas en un archivo separado llamado \"runtest.jl\", y su estructura es:\n",
        "\n",
        "```julia\n",
        "# Este archivo incluye los tests del módulo AD\n",
        "include(\"AutomDiff.jl\")\n",
        "using Base.Test\n",
        "using AD\n",
        "\n",
        "# A continuación vienen los tests que implementaron y que deben \n",
        "# ser suficientemente exhaustivos\n",
        "# ...\n",
        "\n",
        "```\n",
        "\nEstos dos archivos deben incluirlos en el envío de su tarea (además del archivo `Tarea3.ipynb`)."
      ],
      "metadata": {
        "deletable": true,
        "editable": true
      }
    },
    {
      "cell_type": "code",
      "source": [],
      "outputs": [],
      "execution_count": null,
      "metadata": {
        "collapsed": false,
        "deletable": true,
        "editable": true,
        "inputHidden": false,
        "outputHidden": false
      }
    }
  ],
  "metadata": {
    "kernel_info": {
      "name": "julia-0.5"
    },
    "kernelspec": {
      "name": "julia-0.5",
      "language": "julia",
      "display_name": "Julia 0.5.2-pre"
    },
    "language_info": {
      "file_extension": ".jl",
      "name": "julia",
      "mimetype": "application/julia",
      "version": "0.5.2"
    }
  },
  "nbformat": 4,
  "nbformat_minor": 0
}