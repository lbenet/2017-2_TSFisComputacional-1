{
  "cells": [
    {
      "cell_type": "markdown",
      "source": [
        "# Julia nivel intermedio"
      ],
      "metadata": {
        "deletable": true,
        "editable": true
      }
    },
    {
      "cell_type": "markdown",
      "source": [
        "## Definición de nuevas estructuras (o tipos)"
      ],
      "metadata": {
        "deletable": true,
        "editable": true
      }
    },
    {
      "cell_type": "markdown",
      "source": [
        "Ahora veremos cómo crear nuevas estructuras o tipos. Esto es algo impresionantemente útil, ya que permite definir un arreglo compacto de datos de interés y crear funciones especializadas. Dado que Julia se basa en el concepto de tipo, esto se traduce en velocidad."
      ],
      "metadata": {
        "deletable": true,
        "editable": true
      }
    },
    {
      "cell_type": "markdown",
      "source": [
        "Como ilustración definiremos un tipo nuevo, `Vector2D`, que permite dar la posición, o velocidad, de una partícula *libre*.\n",
        "\n**NOTA** En Julia **no** se permite sobreescribir los tipos; es por esto que en varias ocasiones usaremos el comando `workspace()`, que esencialmente reseatea lo que se ha hecho en la sesión."
      ],
      "metadata": {
        "deletable": true,
        "editable": true
      }
    },
    {
      "cell_type": "markdown",
      "source": [
        "### Los campos de un `type`"
      ],
      "metadata": {
        "deletable": true,
        "editable": true
      }
    },
    {
      "cell_type": "markdown",
      "source": [
        "Para entender un poco más lo que significa definir un nuevo tipo, consideremos los números complejos:"
      ],
      "metadata": {
        "deletable": true,
        "editable": true
      }
    },
    {
      "cell_type": "code",
      "source": [
        "z0 = complex(3,2) # z=3+2im"
      ],
      "outputs": [],
      "execution_count": 1,
      "metadata": {
        "collapsed": false,
        "deletable": true,
        "editable": true
      }
    },
    {
      "cell_type": "code",
      "source": [
        "typeof(ans)"
      ],
      "outputs": [],
      "execution_count": 2,
      "metadata": {
        "collapsed": false,
        "deletable": true,
        "editable": true
      }
    },
    {
      "cell_type": "markdown",
      "source": [
        "La instrucción `fieldnames` da los campos internos del tipo de la variable `z0`; vale la pena notar que el resultado consiste en un vector de *símbolos*. Estos símbolos son los nombres de los campos internos del tipo."
      ],
      "metadata": {
        "deletable": true,
        "editable": true
      }
    },
    {
      "cell_type": "code",
      "source": [
        "fieldnames(z0)"
      ],
      "outputs": [],
      "execution_count": 3,
      "metadata": {
        "collapsed": false,
        "deletable": true,
        "editable": true
      }
    },
    {
      "cell_type": "markdown",
      "source": [
        "Uno puede acceder el valor de los campos a través de `z0.re` o `z0.im`:"
      ],
      "metadata": {}
    },
    {
      "cell_type": "code",
      "source": [
        "z0.re, z0.im"
      ],
      "outputs": [],
      "execution_count": 5,
      "metadata": {
        "collapsed": false,
        "outputHidden": false,
        "inputHidden": false
      }
    },
    {
      "cell_type": "code",
      "source": [
        "typeof(ans)"
      ],
      "outputs": [],
      "execution_count": 6,
      "metadata": {
        "collapsed": false,
        "deletable": true,
        "editable": true
      }
    },
    {
      "cell_type": "markdown",
      "source": [
        "Consideremos otro ejemplo, los números racionales:"
      ],
      "metadata": {}
    },
    {
      "cell_type": "code",
      "source": [
        "BigInt(1)//2"
      ],
      "outputs": [],
      "execution_count": 7,
      "metadata": {
        "collapsed": false,
        "deletable": true,
        "editable": true
      }
    },
    {
      "cell_type": "code",
      "source": [
        "typeof(ans)"
      ],
      "outputs": [],
      "execution_count": 8,
      "metadata": {
        "collapsed": false,
        "deletable": true,
        "editable": true
      }
    },
    {
      "cell_type": "code",
      "source": [
        "fieldnames(BigInt(1)//2)"
      ],
      "outputs": [],
      "execution_count": 9,
      "metadata": {
        "collapsed": false,
        "deletable": true,
        "editable": true
      }
    },
    {
      "cell_type": "markdown",
      "source": [
        "### Vectores de tamaño fijo `Vector2D`"
      ],
      "metadata": {
        "deletable": true,
        "editable": true
      }
    },
    {
      "cell_type": "markdown",
      "source": [
        "La sintáxis básica para definir nuevos tipos es:"
      ],
      "metadata": {
        "deletable": true,
        "editable": true
      }
    },
    {
      "cell_type": "code",
      "source": [
        "type Vector2D\n",
        "    x :: Float64\n",
        "    y :: Float64\n",
        "end"
      ],
      "outputs": [],
      "execution_count": 1,
      "metadata": {
        "collapsed": true,
        "deletable": true,
        "editable": true
      }
    },
    {
      "cell_type": "markdown",
      "source": [
        "En la celda anterior, los doble dos-puntos `::` sirve para *anotar* el tipo de las variables internas. Esto es, `Vector2D` constará de dos componentes, `x` y `y`, ambas del tipo `Float64`.\n",
        "\nUno puede **no** especificar el tipo de las variables internas de la estructura. Esto puede ser útil en ciertas ocasiones, pero en general hace que el compilador no sepa qué tipo de variable son los campos internos y por lo tanto tiene que guardar la información con apuntadores. En otras palabras, esto puede generar código lento."
      ],
      "metadata": {
        "deletable": true,
        "editable": true
      }
    },
    {
      "cell_type": "markdown",
      "source": [
        "Por **convención**, las estructuras de tipo empiezan con una *mayúscula*; las funciones empiezan en *minúsculas*."
      ],
      "metadata": {
        "deletable": true,
        "editable": true
      }
    },
    {
      "cell_type": "markdown",
      "source": [
        "A estas alturas del partido, sólo hemos definido el tipo `Vector2D`; ¿hemos acaso definido algún método asociado a ésto? O, en otras palabras, ¿cómo creamos algo que sea del tipo `Vector2D`?\n",
        "\nVeamos cuántos métodos hemos definido en torno a `Vector2D`:"
      ],
      "metadata": {
        "deletable": true,
        "editable": true
      }
    },
    {
      "cell_type": "code",
      "source": [
        "methods(Vector2D)"
      ],
      "outputs": [
        {
          "output_type": "execute_result",
          "execution_count": 2,
          "data": {
            "text/plain": [
              "# 3 methods for generic function \"(::Type)\":\n",
              "Vector2D(x::Float64, y::Float64) at In[1]:2\n",
              "Vector2D(x, y) at In[1]:2\n",
              "(::Type{T}){T}(arg) at sysimg.jl:53"
            ],
            "text/html": [
              "3 methods for generic function <b>Type</b>:<ul><li> Vector2D(x::<b>Float64</b>, y::<b>Float64</b>) at In[1]:2</li> <li> Vector2D(x, y) at In[1]:2</li> <li> (::<b>Type{T}</b>)<i>{T}</i>(arg) at <a href=\"https://github.com/JuliaLang/julia/tree/89a1e8eac01613a80f9a89e6e86a37038d3e4255/base/sysimg.jl#L53\" target=\"_blank\">sysimg.jl:53</a></li> </ul>"
            ]
          },
          "metadata": {}
        }
      ],
      "execution_count": 2,
      "metadata": {
        "collapsed": false,
        "deletable": true,
        "editable": true
      }
    },
    {
      "cell_type": "markdown",
      "source": [
        "Claramente, hemos definido tres métodos simplemente por haber construido la estructura `Vector2D`. Vale la pena notar que el tercer método es intrínseco en Julia."
      ],
      "metadata": {
        "deletable": true,
        "editable": true
      }
    },
    {
      "cell_type": "code",
      "source": [
        "(Vector2D)(1.0, 2.0) # Ejemplo del uso del tercer método"
      ],
      "outputs": [
        {
          "output_type": "execute_result",
          "execution_count": 3,
          "data": {
            "text/plain": [
              "Vector2D(1.0,2.0)"
            ]
          },
          "metadata": {}
        }
      ],
      "execution_count": 3,
      "metadata": {
        "collapsed": false,
        "outputHidden": false,
        "inputHidden": false
      }
    },
    {
      "cell_type": "code",
      "source": [
        "Vector2D((1, 2)...) # \"...\" es el 'splat' operator"
      ],
      "outputs": [
        {
          "output_type": "execute_result",
          "execution_count": 4,
          "data": {
            "text/plain": [
              "Vector2D(1.0,2.0)"
            ]
          },
          "metadata": {}
        }
      ],
      "execution_count": 4,
      "metadata": {
        "collapsed": false,
        "deletable": true,
        "editable": true
      }
    },
    {
      "cell_type": "markdown",
      "source": [
        "Los puntos suspensivos `...` implican que la *tupla* (1,2) será separada en sus componentes individuales, cada una considerada como un parámetro independiente."
      ],
      "metadata": {
        "deletable": true,
        "editable": true
      }
    },
    {
      "cell_type": "code",
      "source": [
        "x = Vector2D(1, 4)"
      ],
      "outputs": [
        {
          "output_type": "execute_result",
          "execution_count": 5,
          "data": {
            "text/plain": [
              "Vector2D(1.0,4.0)"
            ]
          },
          "metadata": {}
        }
      ],
      "execution_count": 5,
      "metadata": {
        "collapsed": false,
        "deletable": true,
        "editable": true
      }
    },
    {
      "cell_type": "code",
      "source": [
        "y = Vector2D(5, 6)"
      ],
      "outputs": [
        {
          "output_type": "execute_result",
          "execution_count": 6,
          "data": {
            "text/plain": [
              "Vector2D(5.0,6.0)"
            ]
          },
          "metadata": {}
        }
      ],
      "execution_count": 6,
      "metadata": {
        "collapsed": false,
        "deletable": true,
        "editable": true
      }
    },
    {
      "cell_type": "code",
      "source": [
        "fieldnames(Vector2D)"
      ],
      "outputs": [
        {
          "output_type": "execute_result",
          "execution_count": 7,
          "data": {
            "text/plain": [
              "2-element Array{Symbol,1}:\n",
              " :x\n",
              " :y"
            ]
          },
          "metadata": {}
        }
      ],
      "execution_count": 7,
      "metadata": {
        "collapsed": false,
        "deletable": true,
        "editable": true
      }
    },
    {
      "cell_type": "code",
      "source": [
        "x.x"
      ],
      "outputs": [
        {
          "output_type": "execute_result",
          "execution_count": 8,
          "data": {
            "text/plain": [
              "1.0"
            ]
          },
          "metadata": {}
        }
      ],
      "execution_count": 8,
      "metadata": {
        "collapsed": false,
        "deletable": true,
        "editable": true
      }
    },
    {
      "cell_type": "markdown",
      "source": [
        "Vale la pena notar que uno puede modificar los campos internos de un tipo:"
      ],
      "metadata": {
        "deletable": true,
        "editable": true
      }
    },
    {
      "cell_type": "code",
      "source": [
        "x.y = 3"
      ],
      "outputs": [
        {
          "output_type": "execute_result",
          "execution_count": 9,
          "data": {
            "text/plain": [
              "3"
            ]
          },
          "metadata": {}
        }
      ],
      "execution_count": 9,
      "metadata": {
        "collapsed": false,
        "deletable": true,
        "editable": true
      }
    },
    {
      "cell_type": "code",
      "source": [
        "x"
      ],
      "outputs": [
        {
          "output_type": "execute_result",
          "execution_count": 10,
          "data": {
            "text/plain": [
              "Vector2D(1.0,3.0)"
            ]
          },
          "metadata": {}
        }
      ],
      "execution_count": 10,
      "metadata": {
        "collapsed": false,
        "deletable": true,
        "editable": true
      }
    },
    {
      "cell_type": "markdown",
      "source": [
        "**NOTA:** Uno también puede definir estructuras en que **no** sea posible modificar los valores internos; un ejemplo es `Rational`; a este último tipo de estructuras se les llama inmutables, y se crean usando `immutable` en lugar de `type`."
      ],
      "metadata": {
        "deletable": true,
        "editable": true
      }
    },
    {
      "cell_type": "markdown",
      "source": [
        "Sin importar mucho el significado de cada componente, la pregunta es si podemos sumar dos de ellos. Problemos:"
      ],
      "metadata": {
        "deletable": true,
        "editable": true
      }
    },
    {
      "cell_type": "code",
      "source": [
        "x + y"
      ],
      "outputs": [
        {
          "output_type": "error",
          "ename": "LoadError",
          "evalue": "MethodError: no method matching +(::Vector2D, ::Vector2D)\u001b[0m\nClosest candidates are:\n  +(::Any, ::Any, \u001b[1m\u001b[31m::Any\u001b[0m, \u001b[1m\u001b[31m::Any...\u001b[0m) at operators.jl:138\u001b[0m",
          "traceback": [
            "MethodError: no method matching +(::Vector2D, ::Vector2D)\u001b[0m\nClosest candidates are:\n  +(::Any, ::Any, \u001b[1m\u001b[31m::Any\u001b[0m, \u001b[1m\u001b[31m::Any...\u001b[0m) at operators.jl:138\u001b[0m",
            ""
          ]
        }
      ],
      "execution_count": 11,
      "metadata": {
        "collapsed": false,
        "deletable": true,
        "editable": true
      }
    },
    {
      "cell_type": "markdown",
      "source": [
        "Julia nos arroja un error ya que *no* está definida la función `+` para dos argumentos del tipo `Vector2D`; el mensaje de la primer línea es perfectamente claro.\n",
        "\nEntonces, dado que *no* está definido, y nos interesa usarlo, podemos simplemente definirlo. Entonces, como `+` existe como función, primero debemos importarlo (del módulo `Base`) y luego extender su definición."
      ],
      "metadata": {
        "deletable": true,
        "editable": true
      }
    },
    {
      "cell_type": "code",
      "source": [
        "import Base.+\n",
        "+(a::Vector2D, b::Vector2D) = Vector2D( a.x+b.x, a.y+b.y )"
      ],
      "outputs": [
        {
          "output_type": "execute_result",
          "execution_count": 12,
          "data": {
            "text/plain": [
              "+ (generic function with 164 methods)"
            ]
          },
          "metadata": {}
        }
      ],
      "execution_count": 12,
      "metadata": {
        "collapsed": false,
        "deletable": true,
        "editable": true
      }
    },
    {
      "cell_type": "code",
      "source": [
        "x + y"
      ],
      "outputs": [
        {
          "output_type": "execute_result",
          "execution_count": 13,
          "data": {
            "text/plain": [
              "Vector2D(6.0,9.0)"
            ]
          },
          "metadata": {}
        }
      ],
      "execution_count": 13,
      "metadata": {
        "collapsed": false,
        "deletable": true,
        "editable": true
      }
    },
    {
      "cell_type": "markdown",
      "source": [
        "De igual manera procedemos con las demás operaciones."
      ],
      "metadata": {
        "deletable": true,
        "editable": true
      }
    },
    {
      "cell_type": "code",
      "source": [
        "import Base.-\n",
        "\n-(a::Vector2D, b::Vector2D) = Vector2D(a.x-b.x, a.y-b.y)"
      ],
      "outputs": [
        {
          "output_type": "execute_result",
          "execution_count": 14,
          "data": {
            "text/plain": [
              "- (generic function with 191 methods)"
            ]
          },
          "metadata": {}
        }
      ],
      "execution_count": 14,
      "metadata": {
        "collapsed": false,
        "deletable": true,
        "editable": true
      }
    },
    {
      "cell_type": "code",
      "source": [
        "x - y"
      ],
      "outputs": [
        {
          "output_type": "execute_result",
          "execution_count": 15,
          "data": {
            "text/plain": [
              "Vector2D(-4.0,-3.0)"
            ]
          },
          "metadata": {}
        }
      ],
      "execution_count": 15,
      "metadata": {
        "collapsed": false,
        "deletable": true,
        "editable": true
      }
    },
    {
      "cell_type": "code",
      "source": [
        "import Base.*\n",
        "*(a::Vector2D, b::Vector2D) = Vector2D(a.x*b.x, a.y*b.y)"
      ],
      "outputs": [
        {
          "output_type": "execute_result",
          "execution_count": 17,
          "data": {
            "text/plain": [
              "* (generic function with 150 methods)"
            ]
          },
          "metadata": {}
        }
      ],
      "execution_count": 17,
      "metadata": {
        "collapsed": false,
        "deletable": true,
        "editable": true
      }
    },
    {
      "cell_type": "code",
      "source": [
        "x * y"
      ],
      "outputs": [
        {
          "output_type": "execute_result",
          "execution_count": 18,
          "data": {
            "text/plain": [
              "Vector2D(5.0,18.0)"
            ]
          },
          "metadata": {}
        }
      ],
      "execution_count": 18,
      "metadata": {
        "collapsed": false,
        "outputHidden": false,
        "inputHidden": false
      }
    },
    {
      "cell_type": "markdown",
      "source": [
        "Vale la pena hacer notar que esto se puede usar en funciones directamente, siempre y cuando las operaciones o funciones involucradas tengan sentido."
      ],
      "metadata": {}
    },
    {
      "cell_type": "code",
      "source": [
        "g(x,y) = x^2 - y^3"
      ],
      "outputs": [
        {
          "output_type": "execute_result",
          "execution_count": 23,
          "data": {
            "text/plain": [
              "g (generic function with 1 method)"
            ]
          },
          "metadata": {}
        }
      ],
      "execution_count": 23,
      "metadata": {
        "collapsed": false,
        "deletable": true,
        "editable": true
      }
    },
    {
      "cell_type": "code",
      "source": [
        "x^2"
      ],
      "outputs": [
        {
          "output_type": "execute_result",
          "execution_count": 21,
          "data": {
            "text/plain": [
              "Vector2D(1.0,9.0)"
            ]
          },
          "metadata": {}
        }
      ],
      "execution_count": 21,
      "metadata": {
        "collapsed": false,
        "outputHidden": false,
        "inputHidden": false
      }
    },
    {
      "cell_type": "code",
      "source": [
        "x^3\n"
      ],
      "outputs": [
        {
          "output_type": "execute_result",
          "execution_count": 22,
          "data": {
            "text/plain": [
              "Vector2D(1.0,27.0)"
            ]
          },
          "metadata": {}
        }
      ],
      "execution_count": 22,
      "metadata": {
        "collapsed": false,
        "outputHidden": false,
        "inputHidden": false
      }
    },
    {
      "cell_type": "code",
      "source": [
        "g(x,y)"
      ],
      "outputs": [
        {
          "output_type": "execute_result",
          "execution_count": 24,
          "data": {
            "text/plain": [
              "Vector2D(-124.0,-207.0)"
            ]
          },
          "metadata": {}
        }
      ],
      "execution_count": 24,
      "metadata": {
        "collapsed": false,
        "deletable": true,
        "editable": true
      }
    },
    {
      "cell_type": "markdown",
      "source": [
        "Para saber qué método concreto se utilizó, podemos usar el macro `@which`:"
      ],
      "metadata": {}
    },
    {
      "cell_type": "code",
      "source": [
        "@which x + y"
      ],
      "outputs": [
        {
          "output_type": "execute_result",
          "execution_count": 25,
          "data": {
            "text/plain": [
              "+(a::Vector2D, b::Vector2D) at In[12]:2"
            ],
            "text/html": [
              "+(a::<b>Vector2D</b>, b::<b>Vector2D</b>) at In[12]:2"
            ]
          },
          "metadata": {}
        }
      ],
      "execution_count": 25,
      "metadata": {
        "collapsed": false,
        "outputHidden": false,
        "inputHidden": false
      }
    },
    {
      "cell_type": "code",
      "source": [
        "@which x^2"
      ],
      "outputs": [
        {
          "output_type": "execute_result",
          "execution_count": 26,
          "data": {
            "text/plain": [
              "^(x, p::Integer) at intfuncs.jl:144"
            ],
            "text/html": [
              "^(x, p::<b>Integer</b>) at <a href=\"https://github.com/JuliaLang/julia/tree/89a1e8eac01613a80f9a89e6e86a37038d3e4255/base/intfuncs.jl#L144\" target=\"_blank\">intfuncs.jl:144</a>"
            ]
          },
          "metadata": {}
        }
      ],
      "execution_count": 26,
      "metadata": {
        "collapsed": false,
        "outputHidden": false,
        "inputHidden": false
      }
    },
    {
      "cell_type": "markdown",
      "source": [
        "### Tipos parametrizados"
      ],
      "metadata": {
        "deletable": true,
        "editable": true
      }
    },
    {
      "cell_type": "markdown",
      "source": [
        "Hay situaciones en que nos interesa definir un nuevo tipo para distintos tipos de signatura de los parámetros internos. Un ejemplo es `Complex` o `Rational`, pero de hecho también los arreglos son estructuras que reconocen el tipo de los elementos internos que los componen"
      ],
      "metadata": {
        "deletable": true,
        "editable": true
      }
    },
    {
      "cell_type": "code",
      "source": [
        "typeof(complex(1.0,2.0))"
      ],
      "outputs": [],
      "execution_count": null,
      "metadata": {
        "collapsed": false,
        "deletable": true,
        "editable": true
      }
    },
    {
      "cell_type": "code",
      "source": [
        "typeof(1//2)"
      ],
      "outputs": [],
      "execution_count": null,
      "metadata": {
        "collapsed": false,
        "deletable": true,
        "editable": true
      }
    },
    {
      "cell_type": "code",
      "source": [
        "typeof( [1, 2.1] )"
      ],
      "outputs": [],
      "execution_count": null,
      "metadata": {
        "collapsed": false,
        "deletable": true,
        "editable": true
      }
    },
    {
      "cell_type": "markdown",
      "source": [
        "El tipo `Vector2D` que definimos arriba funciona, pero es rígido en el sentido de que sus campos son *siempre* `Float64`. Por ejemplo:"
      ],
      "metadata": {}
    },
    {
      "cell_type": "code",
      "source": [
        "Vector2D(1//2, 1//1) + Vector2D(1//3, 1//1)"
      ],
      "outputs": [
        {
          "output_type": "execute_result",
          "execution_count": 27,
          "data": {
            "text/plain": [
              "Vector2D(0.8333333333333333,2.0)"
            ]
          },
          "metadata": {}
        }
      ],
      "execution_count": 27,
      "metadata": {
        "collapsed": false,
        "deletable": true,
        "editable": true
      }
    },
    {
      "cell_type": "code",
      "source": [
        "Vector2D(complex(1,2), complex(1,1))"
      ],
      "outputs": [
        {
          "output_type": "error",
          "ename": "LoadError",
          "evalue": "InexactError()",
          "traceback": [
            "InexactError()",
            "",
            " in convert at ./complex.jl:23 [inlined]",
            " in Vector2D(::Complex{Int64}, ::Complex{Int64}) at ./In[1]:2"
          ]
        }
      ],
      "execution_count": 28,
      "metadata": {
        "collapsed": false,
        "deletable": true,
        "editable": true
      }
    },
    {
      "cell_type": "markdown",
      "source": [
        "La razón por la que funcionó la instrucción penúltima es que Julia incluye métodos de conversión y promoción, que son funciones y que uno puede ampliar. Esto es, los racionales pueden ser *promovidos* a `Float64`; sin embargo, el error de la última instrucción muestra que los complejos **no** pueden ser promovidos a `Float64`."
      ],
      "metadata": {}
    },
    {
      "cell_type": "markdown",
      "source": [
        "Noten arriba que el entero \"1\" es *promovido* a Float64 \"1.0\", que es el tipo del segundo elemento."
      ],
      "metadata": {
        "deletable": true,
        "editable": true
      }
    },
    {
      "cell_type": "markdown",
      "source": [
        "Para *redefinir* el tipo `Vector2D` tenemos que borrar los tipos definidos (y todo lo demás) en el llamado ambiente global (*global scope*); esto lo hacemos con `workspace()`:"
      ],
      "metadata": {}
    },
    {
      "cell_type": "code",
      "source": [
        "workspace()"
      ],
      "outputs": [],
      "execution_count": 29,
      "metadata": {
        "collapsed": true,
        "deletable": true,
        "editable": true
      }
    },
    {
      "cell_type": "code",
      "source": [
        "x"
      ],
      "outputs": [
        {
          "output_type": "error",
          "ename": "LoadError",
          "evalue": "UndefVarError: x not defined",
          "traceback": [
            "UndefVarError: x not defined",
            ""
          ]
        }
      ],
      "execution_count": 30,
      "metadata": {
        "collapsed": false,
        "deletable": true,
        "editable": true
      }
    },
    {
      "cell_type": "code",
      "source": [
        "immutable Vector2D{T}\n",
        "    x::T\n",
        "    y::T\n",
        "end"
      ],
      "outputs": [],
      "execution_count": 31,
      "metadata": {
        "collapsed": true,
        "deletable": true,
        "editable": true
      }
    },
    {
      "cell_type": "code",
      "source": [
        "methods(Vector2D)"
      ],
      "outputs": [
        {
          "output_type": "execute_result",
          "execution_count": 86,
          "data": {
            "text/plain": [
              "# 3 methods for generic function \"(::Type)\":\n",
              "(::Type{Vector2D}){T}(x::T, y::T) at In[31]:2\n",
              "(::Type{Vector2D})(a, b) at In[82]:1\n",
              "(::Type{T}){T}(arg) at sysimg.jl:53"
            ],
            "text/html": [
              "3 methods for generic function <b>Type</b>:<ul><li> (::<b>Type{Vector2D}</b>)<i>{T}</i>(x::<b>T</b>, y::<b>T</b>) at In[31]:2</li> <li> (::<b>Type{Vector2D}</b>)(a, b) at In[82]:1</li> <li> (::<b>Type{T}</b>)<i>{T}</i>(arg) at <a href=\"https://github.com/JuliaLang/julia/tree/89a1e8eac01613a80f9a89e6e86a37038d3e4255/base/sysimg.jl#L53\" target=\"_blank\">sysimg.jl:53</a></li> </ul>"
            ]
          },
          "metadata": {}
        }
      ],
      "execution_count": 86,
      "metadata": {
        "collapsed": false,
        "outputHidden": false,
        "inputHidden": false
      }
    },
    {
      "cell_type": "markdown",
      "source": [
        "En la celda anterior, hemos usado `immutable` en lugar de `type`, lo que le permite al compilador guardar (en memoria) a este tipo de estructura de una manera más eficiente. Esto, sin embargo, tiene consecuencias, como es el hecho de que una vez definida una estructura, sus componentes *no* pueden cambiar.\n",
        "\nEn la definición de `Vector2D{T}`, `T` representa el tipo de los elementos de la  estructura que creamos y *parametriza* a `Vector2D` lo que se indica con `{T}`. Dada esta definición, ambas componentes `x` y `y` tienen que ser del mismo tipo `T`."
      ],
      "metadata": {}
    },
    {
      "cell_type": "code",
      "source": [
        "x = Vector2D(1,3)\n",
        "\n",
        "y = Vector2D(2.0,3.5)\n",
        "\nprintln(x)"
      ],
      "outputs": [
        {
          "output_type": "stream",
          "name": "stdout",
          "text": [
            "Vector2D{Int64}(1,3)\n"
          ]
        }
      ],
      "execution_count": 32,
      "metadata": {
        "collapsed": false,
        "outputHidden": false,
        "inputHidden": false
      }
    },
    {
      "cell_type": "code",
      "source": [
        "x.x"
      ],
      "outputs": [
        {
          "output_type": "execute_result",
          "execution_count": 33,
          "data": {
            "text/plain": [
              "1"
            ]
          },
          "metadata": {}
        }
      ],
      "execution_count": 33,
      "metadata": {
        "collapsed": false,
        "outputHidden": false,
        "inputHidden": false
      }
    },
    {
      "cell_type": "code",
      "source": [
        "x.x = 5"
      ],
      "outputs": [
        {
          "output_type": "error",
          "ename": "LoadError",
          "evalue": "type Vector2D is immutable",
          "traceback": [
            "type Vector2D is immutable",
            ""
          ]
        }
      ],
      "execution_count": 34,
      "metadata": {
        "collapsed": false,
        "outputHidden": false,
        "inputHidden": false
      }
    },
    {
      "cell_type": "code",
      "source": [
        "x"
      ],
      "outputs": [
        {
          "output_type": "execute_result",
          "execution_count": 35,
          "data": {
            "text/plain": [
              "Vector2D{Int64}(1,3)"
            ]
          },
          "metadata": {}
        }
      ],
      "execution_count": 35,
      "metadata": {
        "collapsed": false,
        "outputHidden": false,
        "inputHidden": false
      }
    },
    {
      "cell_type": "markdown",
      "source": [
        "Claramente **no** podemos cambiar el valor de las componentes internas de la estructura."
      ],
      "metadata": {}
    },
    {
      "cell_type": "markdown",
      "source": [
        "El definir una estructura parametrizada hace que, por default, si los parámetros **no** cumplen la signatura del tipo, haya un error. En este caso, las reglas de promoción no aplican; amboas componentes deben ser del mismo tipo `T`."
      ],
      "metadata": {
        "deletable": true,
        "editable": true
      }
    },
    {
      "cell_type": "code",
      "source": [
        "Vector2D(1, 2.3)"
      ],
      "outputs": [
        {
          "output_type": "error",
          "ename": "LoadError",
          "evalue": "MethodError: no method matching Vector2D{T}(::Int64, ::Float64)\u001b[0m\nClosest candidates are:\n  Vector2D{T}{T}(::T, \u001b[1m\u001b[31m::T\u001b[0m) at In[31]:2\n  Vector2D{T}{T}(::Any) at sysimg.jl:53\u001b[0m",
          "traceback": [
            "MethodError: no method matching Vector2D{T}(::Int64, ::Float64)\u001b[0m\nClosest candidates are:\n  Vector2D{T}{T}(::T, \u001b[1m\u001b[31m::T\u001b[0m) at In[31]:2\n  Vector2D{T}{T}(::Any) at sysimg.jl:53\u001b[0m",
            ""
          ]
        }
      ],
      "execution_count": 37,
      "metadata": {
        "collapsed": false,
        "deletable": true,
        "editable": true
      }
    },
    {
      "cell_type": "markdown",
      "source": [
        "Noten que la actual definición de `Vector2D{T}` (parametrizada) es *demasiado* flexible, esto es, permite definir ciertos tipos que, quizás, no nos interesa considerar. Por ejemplo:"
      ],
      "metadata": {
        "deletable": true,
        "editable": true
      }
    },
    {
      "cell_type": "code",
      "source": [
        "Vector2D(\"perro\", \"gato\")"
      ],
      "outputs": [
        {
          "output_type": "execute_result",
          "execution_count": 38,
          "data": {
            "text/plain": [
              "Vector2D{String}(\"perro\",\"gato\")"
            ]
          },
          "metadata": {}
        }
      ],
      "execution_count": 38,
      "metadata": {
        "collapsed": false,
        "deletable": true,
        "editable": true
      }
    },
    {
      "cell_type": "markdown",
      "source": [
        "Vale la pena mencionar que las funciones, de hecho, también pueden ser parametrizadas:"
      ],
      "metadata": {
        "deletable": true,
        "editable": true
      }
    },
    {
      "cell_type": "code",
      "source": [
        "import Base.+\n",
        "\n+{T}(a::Vector2D{T}, b::Vector2D{T}) = Vector2D{T}(a.x+b.x, a.y+b.y)"
      ],
      "outputs": [
        {
          "output_type": "execute_result",
          "execution_count": 39,
          "data": {
            "text/plain": [
              "+ (generic function with 165 methods)"
            ]
          },
          "metadata": {}
        }
      ],
      "execution_count": 39,
      "metadata": {
        "collapsed": false,
        "deletable": true,
        "editable": true
      }
    },
    {
      "cell_type": "markdown",
      "source": [
        "Noten arriba que la función, de hecho, está parametrizada, y que el parámetro está relacionado con el parámetros del tipo de los argumentos. Esta función se usará (y definirá un método especializado) cuando *ambos* argumentos son del tipo `Vector2D{T}`.\n",
        "\n",
        "Si bien el valor de los argumentos *no* se conoce a la hora de compilar, el tipo sí.\n",
        "\n"
      ],
      "metadata": {
        "deletable": true,
        "editable": true
      }
    },
    {
      "cell_type": "code",
      "source": [
        "Vector2D(1,3) + Vector2D(-1,2)"
      ],
      "outputs": [
        {
          "output_type": "execute_result",
          "execution_count": 43,
          "data": {
            "text/plain": [
              "Vector2D{Int64}(0,5)"
            ]
          },
          "metadata": {}
        }
      ],
      "execution_count": 43,
      "metadata": {
        "collapsed": false,
        "deletable": true,
        "editable": true
      }
    },
    {
      "cell_type": "code",
      "source": [
        "Vector2D(1,3) + Vector2D(-1//2,2//2)"
      ],
      "outputs": [
        {
          "output_type": "error",
          "ename": "LoadError",
          "evalue": "MethodError: no method matching +(::Vector2D{Int64}, ::Vector2D{Rational{Int64}})\u001b[0m\nClosest candidates are:\n  +(::Any, ::Any, \u001b[1m\u001b[31m::Any\u001b[0m, \u001b[1m\u001b[31m::Any...\u001b[0m) at operators.jl:138\n  +{T}(::Vector2D{T}, \u001b[1m\u001b[31m::Vector2D{T}\u001b[0m) at In[39]:3\u001b[0m",
          "traceback": [
            "MethodError: no method matching +(::Vector2D{Int64}, ::Vector2D{Rational{Int64}})\u001b[0m\nClosest candidates are:\n  +(::Any, ::Any, \u001b[1m\u001b[31m::Any\u001b[0m, \u001b[1m\u001b[31m::Any...\u001b[0m) at operators.jl:138\n  +{T}(::Vector2D{T}, \u001b[1m\u001b[31m::Vector2D{T}\u001b[0m) at In[39]:3\u001b[0m",
            ""
          ]
        }
      ],
      "execution_count": 44,
      "metadata": {
        "collapsed": false,
        "deletable": true,
        "editable": true
      }
    },
    {
      "cell_type": "markdown",
      "source": [
        "El error es claro: no hemos definido cómo sumar `Vector2D{Int64}` con `Vector2D{Rational{Int64}}`; únicamente hemos definido la suma de dos `Vector2D{Int64}` o de dos `Vector2D{Rational{Int64}}`, pero ambos deben ser del mismo tipo, incluyendo sus parametrizaciones."
      ],
      "metadata": {
        "deletable": true,
        "editable": true
      }
    },
    {
      "cell_type": "markdown",
      "source": [
        "Uno, de hecho, podría haber definido la misma operación sin incluir la parte paramétrica; esto tiene consecuencias interesantes, que de hecho, a veces son deseables. Así, tenemos:"
      ],
      "metadata": {
        "deletable": true,
        "editable": true
      }
    },
    {
      "cell_type": "code",
      "source": [
        "import Base.-\n",
        "-(a::Vector2D, b::Vector2D) = Vector2D(a.x-b.x, a.y-b.y)"
      ],
      "outputs": [
        {
          "output_type": "stream",
          "name": "stderr",
          "text": [
            "WARNING: Method definition -(Main.Vector2D, Main.Vector2D) in module Main at In[45]:2 overwritten at In[47]:2.\n"
          ]
        },
        {
          "output_type": "execute_result",
          "execution_count": 47,
          "data": {
            "text/plain": [
              "- (generic function with 192 methods)"
            ]
          },
          "metadata": {}
        }
      ],
      "execution_count": 47,
      "metadata": {
        "collapsed": false,
        "deletable": true,
        "editable": true
      }
    },
    {
      "cell_type": "code",
      "source": [
        "Vector2D(1,3) - Vector2D(-1,2)"
      ],
      "outputs": [
        {
          "output_type": "execute_result",
          "execution_count": 48,
          "data": {
            "text/plain": [
              "Vector2D{Int64}(2,1)"
            ]
          },
          "metadata": {}
        }
      ],
      "execution_count": 48,
      "metadata": {
        "collapsed": false,
        "deletable": true,
        "editable": true
      }
    },
    {
      "cell_type": "code",
      "source": [
        "Vector2D(1//1,3//7) - Vector2D(3.0,1.1)"
      ],
      "outputs": [
        {
          "output_type": "execute_result",
          "execution_count": 52,
          "data": {
            "text/plain": [
              "Vector2D{Float64}(-2.0,-0.6714285714285715)"
            ]
          },
          "metadata": {}
        }
      ],
      "execution_count": 52,
      "metadata": {
        "collapsed": false,
        "deletable": true,
        "editable": true
      }
    },
    {
      "cell_type": "code",
      "source": [
        "Vector2D(1,3) - Vector2D(\"Soy\", \"Luis\")"
      ],
      "outputs": [
        {
          "output_type": "error",
          "ename": "LoadError",
          "evalue": "MethodError: no method matching -(::Int64, ::String)\u001b[0m\nClosest candidates are:\n  -(::Union{Int16,Int32,Int64,Int8}, \u001b[1m\u001b[31m::BigInt\u001b[0m) at gmp.jl:329\n  -(::Union{Int16,Int32,Int64,Int8}, \u001b[1m\u001b[31m::BigFloat\u001b[0m) at mpfr.jl:272\n  -{T<:Union{Int128,Int16,Int32,Int64,Int8,UInt128,UInt16,UInt32,UInt64,UInt8}}(::T<:Union{Int128,Int16,Int32,Int64,Int8,UInt128,UInt16,UInt32,UInt64,UInt8}) at int.jl:30\n  ...\u001b[0m",
          "traceback": [
            "MethodError: no method matching -(::Int64, ::String)\u001b[0m\nClosest candidates are:\n  -(::Union{Int16,Int32,Int64,Int8}, \u001b[1m\u001b[31m::BigInt\u001b[0m) at gmp.jl:329\n  -(::Union{Int16,Int32,Int64,Int8}, \u001b[1m\u001b[31m::BigFloat\u001b[0m) at mpfr.jl:272\n  -{T<:Union{Int128,Int16,Int32,Int64,Int8,UInt128,UInt16,UInt32,UInt64,UInt8}}(::T<:Union{Int128,Int16,Int32,Int64,Int8,UInt128,UInt16,UInt32,UInt64,UInt8}) at int.jl:30\n  ...\u001b[0m",
            "",
            " in -(::Vector2D{Int64}, ::Vector2D{String}) at ./In[47]:2"
          ]
        }
      ],
      "execution_count": 51,
      "metadata": {
        "collapsed": false,
        "deletable": true,
        "editable": true
      }
    },
    {
      "cell_type": "markdown",
      "source": [
        "Gracias a que *no* impusimos que `a` y `b` sean *ambos* del tipo `Vector2D{T}`, Julia puede restarlos."
      ],
      "metadata": {
        "deletable": true,
        "editable": true
      }
    },
    {
      "cell_type": "markdown",
      "source": [
        "### Promotion and convertion"
      ],
      "metadata": {
        "deletable": true,
        "editable": true
      }
    },
    {
      "cell_type": "markdown",
      "source": [
        "La pregunta es, cómo conseguir que *no* nos de un error la instrucción `Vector2D(1, 3.2)`. La respuesta tiene que ver con definir reglas de conversión y promoción. (En este caso concreto, como veremos abajo, una regla de promoción es suficiente.)"
      ],
      "metadata": {
        "deletable": true,
        "editable": true
      }
    },
    {
      "cell_type": "markdown",
      "source": [
        "Convertir entre tipos (donde esto tenga sentido) se logra usando `convert`:"
      ],
      "metadata": {
        "deletable": true,
        "editable": true
      }
    },
    {
      "cell_type": "code",
      "source": [
        "convert(Float64, 1//2)"
      ],
      "outputs": [
        {
          "output_type": "execute_result",
          "execution_count": 53,
          "data": {
            "text/plain": [
              "0.5"
            ]
          },
          "metadata": {}
        }
      ],
      "execution_count": 53,
      "metadata": {
        "collapsed": false,
        "deletable": true,
        "editable": true
      }
    },
    {
      "cell_type": "code",
      "source": [
        "convert(Array{Float64,1}, [1//2, 1//3])"
      ],
      "outputs": [
        {
          "output_type": "execute_result",
          "execution_count": 54,
          "data": {
            "text/plain": [
              "2-element Array{Float64,1}:\n",
              " 0.5     \n",
              " 0.333333"
            ]
          },
          "metadata": {}
        }
      ],
      "execution_count": 54,
      "metadata": {
        "collapsed": false,
        "deletable": true,
        "editable": true
      }
    },
    {
      "cell_type": "code",
      "source": [
        "x = convert(Rational{Int128}, 0.5)"
      ],
      "outputs": [
        {
          "output_type": "execute_result",
          "execution_count": 55,
          "data": {
            "text/plain": [
              "1//2"
            ]
          },
          "metadata": {}
        }
      ],
      "execution_count": 55,
      "metadata": {
        "collapsed": false,
        "deletable": true,
        "editable": true
      }
    },
    {
      "cell_type": "code",
      "source": [
        "typeof(x)"
      ],
      "outputs": [
        {
          "output_type": "execute_result",
          "execution_count": 56,
          "data": {
            "text/plain": [
              "Rational{Int128}"
            ]
          },
          "metadata": {}
        }
      ],
      "execution_count": 56,
      "metadata": {
        "collapsed": false,
        "deletable": true,
        "editable": true
      }
    },
    {
      "cell_type": "markdown",
      "source": [
        "La operación de conversión debe tener sentido; por ejemplo, ¿qué esperamos que nos de `convert(Int64, 0.6)`?"
      ],
      "metadata": {
        "deletable": true,
        "editable": true
      }
    },
    {
      "cell_type": "code",
      "source": [
        "convert(Int64, 0.6)"
      ],
      "outputs": [
        {
          "output_type": "error",
          "ename": "LoadError",
          "evalue": "InexactError()",
          "traceback": [
            "InexactError()",
            "",
            " in convert(::Type{Int64}, ::Float64) at ./int.jl:239",
            " in convert(::Type{Int64}, ::Float64) at /usr/local/julia/julia-89a1e8eac0/lib/julia/sys.dylib:?"
          ]
        }
      ],
      "execution_count": 57,
      "metadata": {
        "collapsed": false,
        "deletable": true,
        "editable": true
      }
    },
    {
      "cell_type": "markdown",
      "source": [
        "También, existe la promoción de varios objetos a un tipo común; el resultado de `promotion` es una *tupla* de elementos promovidos a un tipo común."
      ],
      "metadata": {
        "deletable": true,
        "editable": true
      }
    },
    {
      "cell_type": "code",
      "source": [
        "tup = promote(1, 1//2, BigInt(2))"
      ],
      "outputs": [
        {
          "output_type": "execute_result",
          "execution_count": 58,
          "data": {
            "text/plain": [
              "(1//1,1//2,2//1)"
            ]
          },
          "metadata": {}
        }
      ],
      "execution_count": 58,
      "metadata": {
        "collapsed": false,
        "deletable": true,
        "editable": true
      }
    },
    {
      "cell_type": "code",
      "source": [
        "typeof(tup)"
      ],
      "outputs": [
        {
          "output_type": "execute_result",
          "execution_count": 59,
          "data": {
            "text/plain": [
              "Tuple{Rational{BigInt},Rational{BigInt},Rational{BigInt}}"
            ]
          },
          "metadata": {}
        }
      ],
      "execution_count": 59,
      "metadata": {
        "collapsed": false,
        "deletable": true,
        "editable": true
      }
    },
    {
      "cell_type": "markdown",
      "source": [
        "Las reglas de promoción siguen el árbol jerárquico en la organización de los tipos. El punto importante es que, tanto `convert` como `prmotion` son funciones y uno puede añadirles nuevos métodos según convenga."
      ],
      "metadata": {
        "deletable": true,
        "editable": true
      }
    },
    {
      "cell_type": "code",
      "source": [
        "?Int"
      ],
      "outputs": [
        {
          "output_type": "stream",
          "name": "stdout",
          "text": [
            "search: \u001b[1mI\u001b[22m\u001b[1mn\u001b[22m\u001b[1mt\u001b[22m \u001b[1mI\u001b[22m\u001b[1mn\u001b[22m\u001b[1mt\u001b[22m8 \u001b[1mI\u001b[22m\u001b[1mn\u001b[22m\u001b[1mt\u001b[22m64 \u001b[1mI\u001b[22m\u001b[1mn\u001b[22m\u001b[1mt\u001b[22m32 \u001b[1mI\u001b[22m\u001b[1mn\u001b[22m\u001b[1mt\u001b[22m16 \u001b[1mI\u001b[22m\u001b[1mn\u001b[22m\u001b[1mt\u001b[22m128 \u001b[1mI\u001b[22m\u001b[1mn\u001b[22m\u001b[1mt\u001b[22mSet \u001b[1mI\u001b[22m\u001b[1mn\u001b[22m\u001b[1mt\u001b[22meger \u001b[1mi\u001b[22m\u001b[1mn\u001b[22m\u001b[1mt\u001b[22mersect \u001b[1mi\u001b[22m\u001b[1mn\u001b[22m\u001b[1mt\u001b[22merrupt\n",
            "\n"
          ]
        },
        {
          "output_type": "execute_result",
          "execution_count": 63,
          "data": {
            "text/plain": [
              "No documentation found.\n",
              "\n",
              "**Summary:**\n",
              "\n",
              "```\n",
              "immutable Int64 <: Signed\n",
              "```\n"
            ],
            "text/markdown": [
              "No documentation found.\n",
              "\n",
              "**Summary:**\n",
              "\n",
              "```\n",
              "immutable Int64 <: Signed\n",
              "```\n"
            ]
          },
          "metadata": {}
        }
      ],
      "execution_count": 63,
      "metadata": {
        "collapsed": false,
        "outputHidden": false,
        "inputHidden": false
      }
    },
    {
      "cell_type": "code",
      "source": [
        "?Signed"
      ],
      "outputs": [
        {
          "output_type": "stream",
          "name": "stdout",
          "text": [
            "search: \u001b[1mS\u001b[22m\u001b[1mi\u001b[22m\u001b[1mg\u001b[22m\u001b[1mn\u001b[22m\u001b[1me\u001b[22m\u001b[1md\u001b[22m \u001b[1ms\u001b[22m\u001b[1mi\u001b[22m\u001b[1mg\u001b[22m\u001b[1mn\u001b[22m\u001b[1me\u001b[22m\u001b[1md\u001b[22m Un\u001b[1ms\u001b[22m\u001b[1mi\u001b[22m\u001b[1mg\u001b[22m\u001b[1mn\u001b[22m\u001b[1me\u001b[22m\u001b[1md\u001b[22m un\u001b[1ms\u001b[22m\u001b[1mi\u001b[22m\u001b[1mg\u001b[22m\u001b[1mn\u001b[22m\u001b[1me\u001b[22m\u001b[1md\u001b[22m i\u001b[1ms\u001b[22mass\u001b[1mi\u001b[22m\u001b[1mg\u001b[22m\u001b[1mn\u001b[22m\u001b[1me\u001b[22m\u001b[1md\u001b[22m i\u001b[1ms\u001b[22m_ass\u001b[1mi\u001b[22m\u001b[1mg\u001b[22m\u001b[1mn\u001b[22m\u001b[1me\u001b[22m\u001b[1md\u001b[22m_char\n",
            "\n"
          ]
        },
        {
          "output_type": "execute_result",
          "execution_count": 65,
          "data": {
            "text/plain": [
              "No documentation found.\n",
              "\n",
              "**Summary:**\n",
              "\n",
              "```\n",
              "abstract Signed <: Integer\n",
              "```\n",
              "\n",
              "**Subtypes:**\n",
              "\n",
              "```\n",
              "Int128\n",
              "Int16\n",
              "Int32\n",
              "Int64\n",
              "Int8\n",
              "```\n"
            ],
            "text/markdown": [
              "No documentation found.\n",
              "\n",
              "**Summary:**\n",
              "\n",
              "```\n",
              "abstract Signed <: Integer\n",
              "```\n",
              "\n",
              "**Subtypes:**\n",
              "\n",
              "```\n",
              "Int128\n",
              "Int16\n",
              "Int32\n",
              "Int64\n",
              "Int8\n",
              "```\n"
            ]
          },
          "metadata": {}
        }
      ],
      "execution_count": 65,
      "metadata": {
        "collapsed": false,
        "outputHidden": false,
        "inputHidden": false
      }
    },
    {
      "cell_type": "markdown",
      "source": [
        "Lo anterior muestra que hay ciertos tipos *concretos* (como `Int64`, `Float64`) y *otros* que son abstractos; los segundos en algún sentido agrupan varios tipos distintos."
      ],
      "metadata": {
        "deletable": true,
        "editable": true
      }
    },
    {
      "cell_type": "markdown",
      "source": [
        "La instrucción `supertype` permite ver qué tipo está directamente arriba en la estructura del árbol:"
      ],
      "metadata": {
        "deletable": true,
        "editable": true
      }
    },
    {
      "cell_type": "code",
      "source": [
        "supertype(Float64)"
      ],
      "outputs": [
        {
          "output_type": "execute_result",
          "execution_count": 70,
          "data": {
            "text/plain": [
              "AbstractFloat"
            ]
          },
          "metadata": {}
        }
      ],
      "execution_count": 70,
      "metadata": {
        "collapsed": false,
        "deletable": true,
        "editable": true
      }
    },
    {
      "cell_type": "code",
      "source": [
        "supertype(AbstractFloat)"
      ],
      "outputs": [
        {
          "output_type": "execute_result",
          "execution_count": 72,
          "data": {
            "text/plain": [
              "Real"
            ]
          },
          "metadata": {}
        }
      ],
      "execution_count": 72,
      "metadata": {
        "collapsed": false,
        "deletable": true,
        "editable": true
      }
    },
    {
      "cell_type": "code",
      "source": [
        "supertype(Real)"
      ],
      "outputs": [
        {
          "output_type": "execute_result",
          "execution_count": 74,
          "data": {
            "text/plain": [
              "Number"
            ]
          },
          "metadata": {}
        }
      ],
      "execution_count": 74,
      "metadata": {
        "collapsed": false,
        "deletable": true,
        "editable": true
      }
    },
    {
      "cell_type": "markdown",
      "source": [
        "... y la instrucción subtypes, qué está por debajo:"
      ],
      "metadata": {
        "deletable": true,
        "editable": true
      }
    },
    {
      "cell_type": "code",
      "source": [
        "subtypes(Real)"
      ],
      "outputs": [
        {
          "output_type": "execute_result",
          "execution_count": 75,
          "data": {
            "text/plain": [
              "4-element Array{Any,1}:\n",
              " AbstractFloat       \n",
              " Integer             \n",
              " Irrational{sym}     \n",
              " Rational{T<:Integer}"
            ]
          },
          "metadata": {}
        }
      ],
      "execution_count": 75,
      "metadata": {
        "collapsed": false,
        "deletable": true,
        "editable": true
      }
    },
    {
      "cell_type": "code",
      "source": [
        "subtypes(Number)"
      ],
      "outputs": [
        {
          "output_type": "execute_result",
          "execution_count": 76,
          "data": {
            "text/plain": [
              "2-element Array{Any,1}:\n",
              " Complex{T<:Real}\n",
              " Real            "
            ]
          },
          "metadata": {}
        }
      ],
      "execution_count": 76,
      "metadata": {
        "collapsed": false,
        "deletable": true,
        "editable": true
      }
    },
    {
      "cell_type": "markdown",
      "source": [
        "La estructura de árbol tiene un tope *por arriba*, `Any`:"
      ],
      "metadata": {
        "deletable": true,
        "editable": true
      }
    },
    {
      "cell_type": "code",
      "source": [
        "super(Number)"
      ],
      "outputs": [],
      "execution_count": null,
      "metadata": {
        "collapsed": false,
        "deletable": true,
        "editable": true
      }
    },
    {
      "cell_type": "code",
      "source": [
        "super(Any)"
      ],
      "outputs": [],
      "execution_count": null,
      "metadata": {
        "collapsed": false,
        "deletable": true,
        "editable": true
      }
    },
    {
      "cell_type": "code",
      "source": [
        "subtypes(Any)"
      ],
      "outputs": [],
      "execution_count": null,
      "metadata": {
        "collapsed": true,
        "deletable": true,
        "editable": true
      }
    },
    {
      "cell_type": "markdown",
      "source": [
        "Vale la pena notar que existe, entre varias cosas, el tipo `Void` (antes `Nothing`)"
      ],
      "metadata": {
        "deletable": true,
        "editable": true
      }
    },
    {
      "cell_type": "code",
      "source": [
        "? Void"
      ],
      "outputs": [
        {
          "output_type": "stream",
          "name": "stdout",
          "text": [
            "search: \u001b[1mV\u001b[22m\u001b[1mo\u001b[22m\u001b[1mi\u001b[22m\u001b[1md\u001b[22m @\u001b[1mv\u001b[22mect\u001b[1mo\u001b[22mr\u001b[1mi\u001b[22mze_2arg @\u001b[1mv\u001b[22mect\u001b[1mo\u001b[22mr\u001b[1mi\u001b[22mze_1arg \u001b[1mv\u001b[22mersi\u001b[1mo\u001b[22mn\u001b[1mi\u001b[22mnfo\n",
            "\n"
          ]
        },
        {
          "output_type": "execute_result",
          "execution_count": 77,
          "data": {
            "text/plain": [
              "No documentation found.\n",
              "\n",
              "**Summary:**\n",
              "\n",
              "```\n",
              "immutable Void <: Any\n",
              "```\n"
            ],
            "text/markdown": [
              "No documentation found.\n",
              "\n",
              "**Summary:**\n",
              "\n",
              "```\n",
              "immutable Void <: Any\n",
              "```\n"
            ]
          },
          "metadata": {}
        }
      ],
      "execution_count": 77,
      "metadata": {
        "collapsed": false,
        "deletable": true,
        "editable": true
      }
    },
    {
      "cell_type": "markdown",
      "source": [
        "Volviendo al punto de cómo hacer para que `Vector2D{1, 3.2}` funcione, podemos definir un nuevo *método*, para la creación del tipo `Vector2D`, que involucre una promoción de tipos, de la siguiente manera:"
      ],
      "metadata": {
        "deletable": true,
        "editable": true
      }
    },
    {
      "cell_type": "code",
      "source": [
        "Vector2D(a, b) = Vector2D(promote(a,b)...)"
      ],
      "outputs": [
        {
          "output_type": "stream",
          "name": "stderr",
          "text": [
            "WARNING: Method definition (::Type{Main.Vector2D})(Any, Any) in module Main at In[81]:1 overwritten at In[82]:1.\n"
          ]
        },
        {
          "output_type": "execute_result",
          "execution_count": 82,
          "data": {
            "text/plain": [
              "Vector2D{T}"
            ]
          },
          "metadata": {}
        }
      ],
      "execution_count": 82,
      "metadata": {
        "collapsed": false,
        "deletable": true,
        "editable": true
      }
    },
    {
      "cell_type": "code",
      "source": [
        "methods(Vector2D)"
      ],
      "outputs": [
        {
          "output_type": "execute_result",
          "execution_count": 84,
          "data": {
            "text/plain": [
              "# 3 methods for generic function \"(::Type)\":\n",
              "(::Type{Vector2D}){T}(x::T, y::T) at In[31]:2\n",
              "(::Type{Vector2D})(a, b) at In[82]:1\n",
              "(::Type{T}){T}(arg) at sysimg.jl:53"
            ],
            "text/html": [
              "3 methods for generic function <b>Type</b>:<ul><li> (::<b>Type{Vector2D}</b>)<i>{T}</i>(x::<b>T</b>, y::<b>T</b>) at In[31]:2</li> <li> (::<b>Type{Vector2D}</b>)(a, b) at In[82]:1</li> <li> (::<b>Type{T}</b>)<i>{T}</i>(arg) at <a href=\"https://github.com/JuliaLang/julia/tree/89a1e8eac01613a80f9a89e6e86a37038d3e4255/base/sysimg.jl#L53\" target=\"_blank\">sysimg.jl:53</a></li> </ul>"
            ]
          },
          "metadata": {}
        }
      ],
      "execution_count": 84,
      "metadata": {
        "collapsed": false,
        "deletable": true,
        "editable": true
      }
    },
    {
      "cell_type": "code",
      "source": [
        "Vector2D(1, 3.2)"
      ],
      "outputs": [
        {
          "output_type": "execute_result",
          "execution_count": 87,
          "data": {
            "text/plain": [
              "Vector2D{Float64}(1.0,3.2)"
            ]
          },
          "metadata": {}
        }
      ],
      "execution_count": 87,
      "metadata": {
        "collapsed": false,
        "deletable": true,
        "editable": true
      }
    },
    {
      "cell_type": "markdown",
      "source": [
        "Obviamente, esto sólo tendrá sentido cuando la promoción tiene sentido; cuando no la tiene, arrojará un error:"
      ],
      "metadata": {
        "deletable": true,
        "editable": true
      }
    },
    {
      "cell_type": "code",
      "source": [
        "Vector2D(\"Hola\", 3.2)"
      ],
      "outputs": [
        {
          "output_type": "error",
          "ename": "LoadError",
          "evalue": "StackOverflowError:",
          "traceback": [
            "StackOverflowError:",
            "",
            " in Vector2D{T}(::String, ::Float64) at ./In[82]:1 (repeats 80000 times)"
          ]
        }
      ],
      "execution_count": 88,
      "metadata": {
        "collapsed": false,
        "deletable": true,
        "editable": true
      }
    },
    {
      "cell_type": "markdown",
      "source": [
        "Por último, uno puede restringir el tipo de parámetros de una estructura, usando la notación ` T <: R` que significa que el parámetro `T` es subtipo de `R`. Un ejemplo es `T <: Real`."
      ],
      "metadata": {
        "deletable": true,
        "editable": true
      }
    },
    {
      "cell_type": "code",
      "source": [
        "workspace()"
      ],
      "outputs": [],
      "execution_count": 93,
      "metadata": {
        "collapsed": true,
        "deletable": true,
        "editable": true
      }
    },
    {
      "cell_type": "code",
      "source": [
        "type Vector2D{T<:Real}\n",
        "    x :: T\n",
        "    y :: T\n",
        "end"
      ],
      "outputs": [],
      "execution_count": 94,
      "metadata": {
        "collapsed": true,
        "deletable": true,
        "editable": true
      }
    },
    {
      "cell_type": "markdown",
      "source": [
        "Agregamos la promoción de los tipos:"
      ],
      "metadata": {
        "deletable": true,
        "editable": true
      }
    },
    {
      "cell_type": "code",
      "source": [
        "Vector2D(a, b) = Vector2D(promote(a,b)...)"
      ],
      "outputs": [
        {
          "output_type": "execute_result",
          "execution_count": 95,
          "data": {
            "text/plain": [
              "Vector2D{T<:Real}"
            ]
          },
          "metadata": {}
        }
      ],
      "execution_count": 95,
      "metadata": {
        "collapsed": false,
        "deletable": true,
        "editable": true
      }
    },
    {
      "cell_type": "code",
      "source": [
        "Vector2D(1, 3.2)"
      ],
      "outputs": [
        {
          "output_type": "execute_result",
          "execution_count": 96,
          "data": {
            "text/plain": [
              "Vector2D{Float64}(1.0,3.2)"
            ]
          },
          "metadata": {}
        }
      ],
      "execution_count": 96,
      "metadata": {
        "collapsed": false,
        "deletable": true,
        "editable": true
      }
    },
    {
      "cell_type": "code",
      "source": [
        "Vector2D(\"Soy\", \"Luis\")"
      ],
      "outputs": [
        {
          "output_type": "error",
          "ename": "LoadError",
          "evalue": "StackOverflowError:",
          "traceback": [
            "StackOverflowError:",
            "",
            " in Vector2D{T<:Real}(::String, ::String) at ./In[95]:0",
            " in Vector2D{T<:Real}(::String, ::String) at ./In[95]:1 (repeats 79999 times)"
          ]
        }
      ],
      "execution_count": 97,
      "metadata": {
        "collapsed": false,
        "deletable": true,
        "editable": true
      }
    },
    {
      "cell_type": "markdown",
      "source": [
        "La notación `T <: R` de hecho puede ser utilizada para saber si un tipo es subtipo de otro:"
      ],
      "metadata": {
        "deletable": true,
        "editable": true
      }
    },
    {
      "cell_type": "code",
      "source": [
        "Int64 <: Real"
      ],
      "outputs": [
        {
          "output_type": "execute_result",
          "execution_count": 98,
          "data": {
            "text/plain": [
              "true"
            ]
          },
          "metadata": {}
        }
      ],
      "execution_count": 98,
      "metadata": {
        "collapsed": false,
        "deletable": true,
        "editable": true
      }
    },
    {
      "cell_type": "code",
      "source": [
        "Int64 <: Void"
      ],
      "outputs": [
        {
          "output_type": "execute_result",
          "execution_count": 99,
          "data": {
            "text/plain": [
              "false"
            ]
          },
          "metadata": {}
        }
      ],
      "execution_count": 99,
      "metadata": {
        "collapsed": false,
        "deletable": true,
        "editable": true
      }
    },
    {
      "cell_type": "code",
      "source": [
        "Void <: Int64"
      ],
      "outputs": [
        {
          "output_type": "execute_result",
          "execution_count": 100,
          "data": {
            "text/plain": [
              "false"
            ]
          },
          "metadata": {}
        }
      ],
      "execution_count": 100,
      "metadata": {
        "collapsed": false,
        "deletable": true,
        "editable": true
      }
    },
    {
      "cell_type": "markdown",
      "source": [
        "Las dos últimas instrucciones muestran que `Void` e `Int64` pertenecen a dos ramas distintas del árbol jerárquico de tipos; en otras palabras, el tipo superior común entre `Int64` y `Void` es `Any`:"
      ],
      "metadata": {
        "deletable": true,
        "editable": true
      }
    },
    {
      "cell_type": "code",
      "source": [
        "promote_type(Int64, Void)"
      ],
      "outputs": [
        {
          "output_type": "execute_result",
          "execution_count": 101,
          "data": {
            "text/plain": [
              "Any"
            ]
          },
          "metadata": {}
        }
      ],
      "execution_count": 101,
      "metadata": {
        "collapsed": false,
        "deletable": true,
        "editable": true
      }
    },
    {
      "cell_type": "markdown",
      "source": [
        "Finalmente, para definir que algo una estructura específica es un subtipo de algo específico, usamos `<:` nuevamente:"
      ],
      "metadata": {
        "deletable": true,
        "editable": true
      }
    },
    {
      "cell_type": "code",
      "source": [
        "workspace()"
      ],
      "outputs": [],
      "execution_count": 158,
      "metadata": {
        "collapsed": true,
        "deletable": true,
        "editable": true
      }
    },
    {
      "cell_type": "code",
      "source": [
        "type Vector2D{T<:Real} <: Real\n",
        "    x :: T\n",
        "    y :: T\n",
        "end"
      ],
      "outputs": [],
      "execution_count": 159,
      "metadata": {
        "collapsed": true,
        "deletable": true,
        "editable": true
      }
    },
    {
      "cell_type": "code",
      "source": [
        "Vector2D(a, b) = Vector2D(promote(a,b)...)"
      ],
      "outputs": [
        {
          "output_type": "execute_result",
          "execution_count": 160,
          "data": {
            "text/plain": [
              "Vector2D{T<:Real}"
            ]
          },
          "metadata": {}
        }
      ],
      "execution_count": 160,
      "metadata": {
        "collapsed": false,
        "deletable": true,
        "editable": true
      }
    },
    {
      "cell_type": "code",
      "source": [
        "Vector2D(3, 1)"
      ],
      "outputs": [
        {
          "output_type": "execute_result",
          "execution_count": 161,
          "data": {
            "text/plain": [
              "Vector2D{Int64}(3,1)"
            ]
          },
          "metadata": {}
        }
      ],
      "execution_count": 161,
      "metadata": {
        "collapsed": false,
        "outputHidden": false,
        "inputHidden": false
      }
    },
    {
      "cell_type": "markdown",
      "source": [
        "Agregamos otro constructor externo:"
      ],
      "metadata": {
        "deletable": true,
        "editable": true
      }
    },
    {
      "cell_type": "code",
      "source": [
        "Vector2D{T<:Real}(a::T) = Vector2D(a, a)"
      ],
      "outputs": [
        {
          "output_type": "execute_result",
          "execution_count": 162,
          "data": {
            "text/plain": [
              "Vector2D{T<:Real}"
            ]
          },
          "metadata": {}
        }
      ],
      "execution_count": 162,
      "metadata": {
        "collapsed": false,
        "deletable": true,
        "editable": true
      }
    },
    {
      "cell_type": "code",
      "source": [
        "Vector2D(2.1)"
      ],
      "outputs": [
        {
          "output_type": "execute_result",
          "execution_count": 163,
          "data": {
            "text/plain": [
              "Vector2D{Float64}(2.1,2.1)"
            ]
          },
          "metadata": {}
        }
      ],
      "execution_count": 163,
      "metadata": {
        "collapsed": false,
        "deletable": true,
        "editable": true
      }
    },
    {
      "cell_type": "markdown",
      "source": [
        "Lo siguiente sirve para evitar muchas definiciones..."
      ],
      "metadata": {
        "deletable": true,
        "editable": true
      }
    },
    {
      "cell_type": "code",
      "source": [
        "import Base: convert\n",
        "\n",
        "convert(::Type{Vector2D}, b::Real) = Vector2D(b)\n",
        "\n",
        "convert{T<:Real, S<:Real}(::Type{Vector2D{T}}, b::S) = Vector2D(convert(T,b))\n",
        "\n",
        "convert{T<:Real}(::Type{Vector2D{T}}, b::T) = Vector2D(b)\n",
        "\n",
        "convert{T<:Real, S<:Real}(::Type{Vector2D{T}}, b::Vector2D{S}) = Vector2D(convert(T,b.x), convert(T,b.y))\n"
      ],
      "outputs": [
        {
          "output_type": "execute_result",
          "execution_count": 164,
          "data": {
            "text/plain": [
              "convert (generic function with 613 methods)"
            ]
          },
          "metadata": {}
        }
      ],
      "execution_count": 164,
      "metadata": {
        "collapsed": false,
        "deletable": true,
        "editable": true
      }
    },
    {
      "cell_type": "code",
      "source": [
        "convert(Vector2D, 1.2)"
      ],
      "outputs": [
        {
          "output_type": "execute_result",
          "execution_count": 165,
          "data": {
            "text/plain": [
              "Vector2D{Float64}(1.2,1.2)"
            ]
          },
          "metadata": {}
        }
      ],
      "execution_count": 165,
      "metadata": {
        "collapsed": false,
        "deletable": true,
        "editable": true
      }
    },
    {
      "cell_type": "code",
      "source": [
        "convert(Vector2D{Float64},1)"
      ],
      "outputs": [
        {
          "output_type": "execute_result",
          "execution_count": 166,
          "data": {
            "text/plain": [
              "Vector2D{Float64}(1.0,1.0)"
            ]
          },
          "metadata": {}
        }
      ],
      "execution_count": 166,
      "metadata": {
        "collapsed": false,
        "deletable": true,
        "editable": true
      }
    },
    {
      "cell_type": "code",
      "source": [
        "import Base: promote_rule, promote\n",
        "\n",
        "promote_rule{T<:Real}(::Type{Vector2D{T}}, ::Type{T}) = Vector2D{T}\n",
        "promote_rule{T<:Real, S<:Real}(::Type{Vector2D{T}}, ::Type{S}) = Vector2D{promote_type(T, S)}"
      ],
      "outputs": [
        {
          "output_type": "execute_result",
          "execution_count": 167,
          "data": {
            "text/plain": [
              "promote_rule (generic function with 107 methods)"
            ]
          },
          "metadata": {}
        }
      ],
      "execution_count": 167,
      "metadata": {
        "collapsed": false,
        "deletable": true,
        "editable": true
      }
    },
    {
      "cell_type": "code",
      "source": [
        "promote_type(Float64,Vector2D{Float64})"
      ],
      "outputs": [
        {
          "output_type": "execute_result",
          "execution_count": 168,
          "data": {
            "text/plain": [
              "Vector2D{Float64}"
            ]
          },
          "metadata": {}
        }
      ],
      "execution_count": 168,
      "metadata": {
        "collapsed": false,
        "deletable": true,
        "editable": true
      }
    },
    {
      "cell_type": "markdown",
      "source": [
        "Extendemos las operaciones aritméticas"
      ],
      "metadata": {
        "deletable": true,
        "editable": true
      }
    },
    {
      "cell_type": "code",
      "source": [
        "import Base: +, -, *, /, ^\n",
        "\n",
        "+(a::Vector2D, b::Vector2D) = Vector2D(a.x+b.x, a.y+b.y)\n",
        "\n",
        "-(a::Vector2D, b::Vector2D) = Vector2D(a.x-b.x, a.y-b.y)\n",
        "\n",
        "*(a::Vector2D, b::Vector2D) = Vector2D(a.x*b.x, a.y*b.y)\n",
        "\n"
      ],
      "outputs": [
        {
          "output_type": "execute_result",
          "execution_count": 169,
          "data": {
            "text/plain": [
              "* (generic function with 153 methods)"
            ]
          },
          "metadata": {}
        }
      ],
      "execution_count": 169,
      "metadata": {
        "collapsed": false,
        "deletable": true,
        "editable": true
      }
    },
    {
      "cell_type": "code",
      "source": [
        "Vector2D(2,1) + 2"
      ],
      "outputs": [
        {
          "output_type": "execute_result",
          "execution_count": 171,
          "data": {
            "text/plain": [
              "Vector2D{Int64}(4,3)"
            ]
          },
          "metadata": {}
        }
      ],
      "execution_count": 171,
      "metadata": {
        "collapsed": true,
        "deletable": true,
        "editable": true
      }
    },
    {
      "cell_type": "code",
      "source": [],
      "outputs": [],
      "execution_count": null,
      "metadata": {
        "collapsed": true,
        "deletable": true,
        "editable": true
      }
    }
  ],
  "metadata": {
    "kernel_info": {
      "name": "julia-0.5"
    },
    "kernelspec": {
      "name": "julia-0.5",
      "language": "julia",
      "display_name": "Julia 0.5.1-pre"
    },
    "language_info": {
      "file_extension": ".jl",
      "name": "julia",
      "mimetype": "application/julia",
      "version": "0.5.1"
    }
  },
  "nbformat": 4,
  "nbformat_minor": 0
}