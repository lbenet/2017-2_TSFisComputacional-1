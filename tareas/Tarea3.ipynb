{
  "cells": [
    {
      "cell_type": "markdown",
      "source": [
        "# Tarea 3: Derivación automática 1"
      ],
      "metadata": {}
    },
    {
      "cell_type": "markdown",
      "source": [
        "Fecha de envío del PR inicial: **lunes 27 de marzo, antes de la clase**\n",
        "\nFecha de aceptación del PR: **martes 4 de abril, antes de la clase**"
      ],
      "metadata": {}
    },
    {
      "cell_type": "markdown",
      "source": [
        "## Ejercicio 1\n",
        "\n",
        "Implementen una nueva estructura paramétrica (`type`) que llamaremos `Dual` y que defina los duales, donde el parámetro debe ser un subtipo de `Real`; la siguiente celda sirve para empezar. La parte que identifica a $f_0$ será llamada `fun`, y la correspondiente a $f'_0$ será `der`.\n",
        "\n",
        "La definición debe incluir métodos que sean compatibles con las dos propiedades arriba mencionadas, es decir, que el dual de una constante (cualquier número real) sea $(c,0)$, y que el de la variable independiente sea $(x_0,1)$. Para lo segundo definiremos una función `xdual` con la propiedad mencionada.\n",
        "\n---"
      ],
      "metadata": {}
    },
    {
      "cell_type": "code",
      "source": [
        "\"\"\"\n",
        "    Dual{T<:Real}\n",
        "\n",
        "Definición de los duales, donde lo campos son:\n",
        "...\n",
        "\"\"\"\n",
        "type Dual{}\n",
        "    # código: \n",
        "end"
      ],
      "outputs": [],
      "execution_count": null,
      "metadata": {
        "collapsed": true
      }
    },
    {
      "cell_type": "code",
      "source": [
        "#= \n",
        "Definan un método que permita la promoción automática cuando \n",
        "las entradas para definir el dual no son del mismo tipo\n",
        "=#\n"
      ],
      "outputs": [],
      "execution_count": null,
      "metadata": {
        "collapsed": true
      }
    },
    {
      "cell_type": "code",
      "source": [
        "#= \n",
        "Aquí se define un método que garantiza que el dual de una constante \n",
        "(número) cumple lo requerido\n",
        "=#\n"
      ],
      "outputs": [],
      "execution_count": null,
      "metadata": {
        "collapsed": true
      }
    },
    {
      "cell_type": "code",
      "source": [
        "#= \n",
        "Aquí se define la función `xdual`, que se usará para identificar \n",
        "la variable independiente. La función dependerá de x_0, y debe \n",
        "regresar el Dual apropiado a la variable independiente\n",
        "=#\n",
        "\n",
        "\"\"\"\n",
        "    xdual(x0) -> Dual(x0, 1)\n",
        "\n",
        "...\n",
        "\"\"\"\n",
        "function xdual(x0)\n",
        "    # código\n",
        "end"
      ],
      "outputs": [],
      "execution_count": null,
      "metadata": {
        "collapsed": true
      }
    },
    {
      "cell_type": "code",
      "source": [
        "#= \n",
        "Muestren que su código funciona con tests adecuados para crear duales,\n",
        "para promoverlos, y al definir el dual de un número y `xdual`.\n",
        "\n",
        "En esto es útil usar la infraestructura de Julia; ver:\n",
        "https://julia.readthedocs.io/en/stable/stdlib/test/\n",
        "\n",
        "using Base.Test\n",
        "\n",
        "a = Dual(1, 2.0)\n",
        "@test a.fun == 1.0\n",
        "@test a.der == 2.0\n",
        "\n",
        "=#\n",
        "\n"
      ],
      "outputs": [],
      "execution_count": null,
      "metadata": {
        "collapsed": true
      }
    },
    {
      "cell_type": "markdown",
      "source": [
        "---"
      ],
      "metadata": {}
    },
    {
      "cell_type": "markdown",
      "source": [
        "## Ejercicio 2\n",
        "\n",
        "Implementen *todas* las operaciones aritméticas definidas arriba. Estas operaciones deben incluir las operaciones aritméticas que involucran un número cualquiera (`a :: Real`) y un dual (`b::Dual`), como por ejemplo `a+b` o `b+a`, etc. Esto se puede hacer implementando los métodos específicos para estos casos (¡y que sirven en cualquier órden!). \n",
        "\n",
        "Implementen también la comparación entre duales (`==`). \n",
        "\nIncluyan tests que muestren que cada una de ellas está bien definida, y que sus resultados dan valores consistentes."
      ],
      "metadata": {}
    },
    {
      "cell_type": "code",
      "source": [
        "import Base: +, -, *, /, ^, ==\n",
        "\n",
        "#= \n",
        "Aquí se implementan los métodos necesarios para cada función; \n",
        "en el caso de ^ por ahora nos conformaremos con que la potencia \n",
        "sea entera.\n",
        "=#\n",
        "\n"
      ],
      "outputs": [],
      "execution_count": null,
      "metadata": {
        "collapsed": true
      }
    },
    {
      "cell_type": "code",
      "source": [
        "# Aquí se incluyen las pruebas necesarias\n"
      ],
      "outputs": [],
      "execution_count": null,
      "metadata": {
        "collapsed": true
      }
    },
    {
      "cell_type": "markdown",
      "source": [
        "---"
      ],
      "metadata": {}
    },
    {
      "cell_type": "markdown",
      "source": [
        "## Ejercicio 3\n",
        "\n",
        "Para reutilizar el código que han hecho en este notebook, y de hecho seguirlo desarrollando, conviene ponerlo dentro de un módulo. Para hacer esto, deberán copiar todo el código necesario (y que aparece en la resolución de los ejercicios anteriores) en un archivo cuyo nombre será \"AutomDiff.jl\" y cuya estructura será la siguiente\n",
        "\n",
        "```julia\n",
        "#=\n",
        "Aquí viene una explicación de lo que se hace en el módulo, \n",
        "los autores y la fecha\n",
        "=#\n",
        "\n",
        "# La siguiente instrucción sirve para *precompilar* el módulo\n",
        "__precompile__(true)\n",
        "\n",
        "module AD\n",
        "    import Base: +, -, *, /, ^, ==\n",
        "    \n",
        "    export Dual, xdual\n",
        "    \n",
        "    # Aquí viene TODO el código que implementaron.\n",
        "    # Primero uno incluye la definición de Dual y\n",
        "    # después las operaciones con Duales.\n",
        "    # ...\n",
        "\n",
        "end\n",
        "```\n",
        "\n",
        "Todas las pruebas deberán ser incluidas en un archivo separado llamado \"runtest.jl\", y su estructura es:\n",
        "\n",
        "```julia\n",
        "# Este archivo incluye los tests del módulo AD\n",
        "include(\"AutomDiff.jl\")\n",
        "using Base.Test\n",
        "using AD\n",
        "\n",
        "# A continuación vienen los tests que implementaron y que deben \n",
        "# ser suficientemente exhaustivos\n",
        "# ...\n",
        "\n",
        "```\n",
        "\nEstos dos archivos deben incluirlos en el envío de su tarea (además del archivo `Tarea3.ipynb`)."
      ],
      "metadata": {}
    },
    {
      "cell_type": "code",
      "source": [],
      "outputs": [],
      "execution_count": null,
      "metadata": {
        "collapsed": true
      }
    }
  ],
  "metadata": {
    "kernelspec": {
      "name": "julia-0.5",
      "language": "julia",
      "display_name": "Julia 0.5.2-pre"
    },
    "language_info": {
      "file_extension": ".jl",
      "name": "julia",
      "mimetype": "application/julia",
      "version": "0.5.2"
    },
    "kernel_info": {
      "name": "julia-0.5"
    }
  },
  "nbformat": 4,
  "nbformat_minor": 2
}