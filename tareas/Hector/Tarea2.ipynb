{
 "cells": [
  {
   "cell_type": "code",
   "execution_count": null,
   "metadata": {
    "collapsed": true,
    "deletable": true,
    "editable": true
   },
   "outputs": [],
   "source": [
    "# Tarea 2: Derivación numérica"
   ]
  },
  {
   "cell_type": "markdown",
   "metadata": {
    "deletable": true,
    "editable": true
   },
   "source": [
    "Fecha de envío del PR inicial: **martes 14 de marzo**\n",
    "\n",
    "Fecha de aceptación del PR: **lunes 20 de marzo**"
   ]
  },
  {
   "cell_type": "markdown",
   "metadata": {
    "deletable": true,
    "editable": true
   },
   "source": [
    "## Ejercicio 1: Derivada *derecha*\n",
    "\n",
    "(a) Definan una función `derivada_derecha` que calcule *numéricamente* la derivada de una función $f(x)$ en una variable (a priori arbitaria) que se debe introducir como argumento, en un punto $x_0$ arbitrario, pero que por default lo hace en  $x_0=0.0$. \n",
    "\n",
    "Para esto, utilicen la aproximación de la derivada, que se basa en su definición:\n",
    "\n",
    "\\begin{equation}\n",
    "f'(x_0) \\approx \\frac{\\Delta f_+}{\\Delta x} = \\frac{f(x_0+h)-f(x_0)}{h},\n",
    "\\end{equation}\n",
    "\n",
    "lo que requiere la especificación de `h`. (Este método también se conoce por el nombre de *diferencias finitas*.)\n",
    "\n",
    "(b) A fin de simular el $\\lim_{h\\to 0}$, consideren distintos valores de $h$ que precisamente simulen dicho límite. Para cada valor de $h$ calculen el error absoluto del cálculo numérico (respecto al valor *exacto*, que deberán conocer analíticamente). \n",
    "\n",
    "Para ser concretos, prueben su implementación de `derivada_derecha` con la función de prueba $f(x) = 3x^3-2$, en $x_0=1$. Dibujen, como función de $h$, el error de su cálculo; usen escala logarítmica en ambos ejes. A partir de eso, ¿qué conclusión podemos sacar sobre *la convergencia* del cálculo numérico de la derivada, o sea, cómo nos acercamos al valor *exacto* de la deriva al considerar $lim_{h\\to 0}$? \n"
   ]
  },
  {
   "cell_type": "code",
   "execution_count": 1,
   "metadata": {
    "collapsed": false,
    "deletable": true,
    "editable": true
   },
   "outputs": [
    {
     "data": {
      "text/plain": [
       "derivada_derecha"
      ]
     },
     "execution_count": 1,
     "metadata": {},
     "output_type": "execute_result"
    }
   ],
   "source": [
    "doc\"\"\"\n",
    "derivada_derecha(f,h,x0)\n",
    "\n",
    "Esta función calcula la derivada derecha de una función utilizando la expresión:\n",
    "\n",
    "\\$f'(x_0) \\approx \\frac{\\Delta f_+}{\\Delta x} = \\frac{f(x_0+h)-f(x_0)}{h}\\$\n",
    "\n",
    "Su estructura es la siguiente:\n",
    "\n",
    "derivada_derecha([\\$función\\$],[\\$h\\$],[\\$x_0\\$])\n",
    "\n",
    "Por defecto \\$x_0=0.0\\$\n",
    "\n",
    "\"\"\"\n",
    "\n",
    "function derivada_derecha(f,h,x0 = 0.0)\n",
    "    # código\n",
    "    num=f(x0+h)-f(x0) #Numerador\n",
    "    deno=h            #Denominador\n",
    "    \n",
    "    derivada=num/deno\n",
    "    \n",
    "    return derivada \n",
    "    \n",
    "end"
   ]
  },
  {
   "cell_type": "code",
   "execution_count": 2,
   "metadata": {
    "collapsed": false
   },
   "outputs": [
    {
     "data": {
      "text/html": [
       "2 methods for generic function <b>derivada_derecha</b>:<ul><li> derivada_derecha(f, h) at In[1]:18</li> <li> derivada_derecha(f, h, x0) at In[1]:18</li> </ul>"
      ],
      "text/plain": [
       "# 2 methods for generic function \"derivada_derecha\":\n",
       "derivada_derecha(f, h) at In[1]:18\n",
       "derivada_derecha(f, h, x0) at In[1]:18"
      ]
     },
     "execution_count": 2,
     "metadata": {},
     "output_type": "execute_result"
    }
   ],
   "source": [
    "methods(derivada_derecha)"
   ]
  },
  {
   "cell_type": "code",
   "execution_count": 3,
   "metadata": {
    "collapsed": false
   },
   "outputs": [
    {
     "name": "stdout",
     "output_type": "stream",
     "text": [
      "search:\n",
      "\n"
     ]
    },
    {
     "data": {
      "text/markdown": [
       "derivada_derecha($f$,$h$,$x_0$)\n",
       "\n",
       "Esta función calcula la derivada derecha de una función utilizando la expresión:\n",
       "\n",
       "$f'(x_0) \\approx \\frac{\\Delta f_+}{\\Delta x} = \\frac{f(x_0+h)-f(x_0)}{h}$\n",
       "\n",
       "Su estructura es la siguiente:\n",
       "\n",
       "derivada_derecha([$función$],[$h$],[$x_0$])\n",
       "\n",
       "Por defecto $x_0=0.0$\n"
      ],
      "text/plain": [
       "derivada_derecha($f$,$h$,$x_0$)\n",
       "\n",
       "Esta función calcula la derivada derecha de una función utilizando la expresión:\n",
       "\n",
       "$f'(x_0) \\approx \\frac{\\Delta f_+}{\\Delta x} = \\frac{f(x_0+h)-f(x_0)}{h}$\n",
       "\n",
       "Su estructura es la siguiente:\n",
       "\n",
       "derivada_derecha([$función$],[$h$],[$x_0$])\n",
       "\n",
       "Por defecto $x_0=0.0$\n"
      ]
     },
     "execution_count": 3,
     "metadata": {},
     "output_type": "execute_result"
    }
   ],
   "source": [
    "?derivada_derecha"
   ]
  },
  {
   "cell_type": "code",
   "execution_count": 4,
   "metadata": {
    "collapsed": false
   },
   "outputs": [
    {
     "data": {
      "text/plain": [
       "f (generic function with 1 method)"
      ]
     },
     "execution_count": 4,
     "metadata": {},
     "output_type": "execute_result"
    }
   ],
   "source": [
    "#Función a evaluar\n",
    "function f(x)\n",
    "    return 3x^3-2\n",
    "end"
   ]
  },
  {
   "cell_type": "markdown",
   "metadata": {},
   "source": [
    "Cálculo analítico de la derivada"
   ]
  },
  {
   "cell_type": "markdown",
   "metadata": {},
   "source": [
    "Aplicando la fórmula para la derivada a la función $f(x)=3x³-2$ con $x_0=1$ tenemos: $\\lim_{h \\to 0} \\frac{(3(x_0+h)³-2)-(3x_0³-2)}{h} = \\lim_{h \\to 0} \\frac{(3(h³+3h²x_0+3hx_0²+x_0³)-2)-(3x_0³-2)}{h}=\\lim_{h \\to 0}  \\frac{(3h³+9h²x_0+9hx_0²+3x_0³-2)-(3x_0³-2)}{h} = \\lim_{h \\to 0} \\frac{3h³+9h²x_0+9hx_0²+3x_0³-2-3x_0³+2}{h}=\\lim_{h \\to 0}  \\frac{3h³+9h²x_0+9hx_0²}{h}=\\lim_{h \\to 0} \\frac{h(3h²+9hx_0+9x_0²)}{h} =\\lim_{h \\to 0}  (3h²+9hx_0+9x_0²) =9x_0²$ \n",
    "como $x_0=1$ entonces $\\lim_{h \\to 0} \\frac{(3(x_0+h)³-2)-(3x_0³-2)}{h} =9$"
   ]
  },
  {
   "cell_type": "code",
   "execution_count": 5,
   "metadata": {
    "collapsed": false,
    "deletable": true,
    "editable": true,
    "inputHidden": false,
    "outputHidden": false,
    "scrolled": true
   },
   "outputs": [
    {
     "data": {
      "text/plain": [
       "9.000000744663339"
      ]
     },
     "execution_count": 5,
     "metadata": {},
     "output_type": "execute_result"
    }
   ],
   "source": [
    "deri=derivada_derecha(f,0.00000000001,1.0)"
   ]
  },
  {
   "cell_type": "markdown",
   "metadata": {},
   "source": [
    "Cálculo del error absoluto"
   ]
  },
  {
   "cell_type": "code",
   "execution_count": 6,
   "metadata": {
    "collapsed": false
   },
   "outputs": [
    {
     "data": {
      "text/plain": [
       "7.446633389918134e-7"
      ]
     },
     "execution_count": 6,
     "metadata": {},
     "output_type": "execute_result"
    }
   ],
   "source": [
    "Error_absoluto=abs(deri-9)"
   ]
  },
  {
   "cell_type": "markdown",
   "metadata": {},
   "source": [
    "Generamos un vector con los valores de h con valores aleatorios en el intervalo [0,1]. "
   ]
  },
  {
   "cell_type": "code",
   "execution_count": 7,
   "metadata": {
    "collapsed": false,
    "scrolled": true
   },
   "outputs": [
    {
     "data": {
      "text/plain": [
       "1000-element Array{Float64,1}:\n",
       " 1.0e-14    \n",
       " 1.03279e-14\n",
       " 1.06666e-14\n",
       " 1.10165e-14\n",
       " 1.13777e-14\n",
       " 1.17509e-14\n",
       " 1.21362e-14\n",
       " 1.25342e-14\n",
       " 1.29453e-14\n",
       " 1.33698e-14\n",
       " 1.38083e-14\n",
       " 1.42611e-14\n",
       " 1.47288e-14\n",
       " ⋮          \n",
       " 0.701206   \n",
       " 0.724202   \n",
       " 0.747952   \n",
       " 0.772481   \n",
       " 0.797814   \n",
       " 0.823979   \n",
       " 0.851001   \n",
       " 0.878909   \n",
       " 0.907733   \n",
       " 0.937502   \n",
       " 0.968247   \n",
       " 1.0        "
      ]
     },
     "execution_count": 7,
     "metadata": {},
     "output_type": "execute_result"
    }
   ],
   "source": [
    "vector_h=logspace(-14,0,1000)"
   ]
  },
  {
   "cell_type": "code",
   "execution_count": 8,
   "metadata": {
    "collapsed": false,
    "scrolled": true
   },
   "outputs": [],
   "source": [
    "len=length(vector_h) #Cantidad de valores de h\n",
    "error=[] #Vector vacio que será llenado con los valores de error para cada h.\n",
    "#der=[]\n",
    "for i=1:len\n",
    "    \n",
    "   derivadas=derivada_derecha(f,vector_h[i],1.0)#Valor de la derivada para cada h.\n",
    "    \n",
    "    Error_absoluto=abs(derivadas-9)#Valor del error para cada derivada. \n",
    "    #println(i,\"\\t\",Error_absoluto)\n",
    "    #println(i,\"\\t\",derivadas)\n",
    "    #push!(der,derivadas)\n",
    "    push!(error,Error_absoluto)#Agregamos los valores de error obtenidos al vector. \n",
    "    \n",
    "end"
   ]
  },
  {
   "cell_type": "code",
   "execution_count": 10,
   "metadata": {
    "collapsed": false
   },
   "outputs": [
    {
     "data": {
      "text/plain": [
       "1000-element Array{Any,1}:\n",
       "  0.029398 \n",
       "  0.115743 \n",
       "  0.0071791\n",
       "  0.0700712\n",
       "  0.0227773\n",
       "  0.0054983\n",
       "  0.0748158\n",
       "  0.07162  \n",
       "  0.0463809\n",
       "  0.0317468\n",
       "  0.0270699\n",
       "  0.0317325\n",
       "  0.0451461\n",
       "  ⋮        \n",
       "  7.78593  \n",
       "  8.09123  \n",
       "  8.40987  \n",
       "  8.74251  \n",
       "  9.08985  \n",
       "  9.45263  \n",
       "  9.83161  \n",
       " 10.2276   \n",
       " 10.6415   \n",
       " 11.0742   \n",
       " 11.5267   \n",
       " 12.0      "
      ]
     },
     "execution_count": 10,
     "metadata": {},
     "output_type": "execute_result"
    }
   ],
   "source": [
    "error"
   ]
  },
  {
   "cell_type": "code",
   "execution_count": 11,
   "metadata": {
    "collapsed": false
   },
   "outputs": [
    {
     "data": {
      "image/png": "[encoded data removed]",
      "text/plain": [
       "PyPlot.Figure(PyObject <matplotlib.figure.Figure object at 0x7fa6e5972f60>)"
      ]
     },
     "metadata": {},
     "output_type": "display_data"
    }
   ],
   "source": [
    "using PyPlot\n",
    "\n",
    "plot(vector_h,error, color=\"blue\",label= \"d.derecha\")#Vectores a graficar: plot([vector de valores para el eje X],[vector de valores para el eje Y])\n",
    "#plot(vector_h,derivadas)\n",
    "xlabel(\"h\") #Etiqueta para el eje X\n",
    "ylabel(\"Error\")#Etiqueta para el eje Y\n",
    "title(\"Derivada derecha: Error en función de h\")#Título de la gráfica\n",
    "\n",
    "xscale(\"log\")#Escala logarítmica para el eje X\n",
    "yscale(\"log\")#Escala logarítmica para el eje Y\n",
    "\n",
    "legend(loc=\"best\")#Muestra la leyenda y con loc=\"best\" la ubica en una posición adecuada.\n",
    "show()\n",
    "\n",
    "\n"
   ]
  },
  {
   "cell_type": "markdown",
   "metadata": {},
   "source": [
    "Cuando $h$ toma valores mayores a $1X10^-7$ el error disminuye de confome es $h$ más pequeña. Sin embago, cuando toma valores menores a $1x10^-7$, el error aumenta y dismunuye para valores de $h$ muy cercanos. El comportamiento general es un aumento en el error conforme $h$ disminuye. "
   ]
  },
  {
   "cell_type": "markdown",
   "metadata": {
    "deletable": true,
    "editable": true
   },
   "source": [
    "## Ejercicio 2: Derivada simétrica\n",
    "\n",
    "Repitan el ejercicio anterior usando la aproximación que se basa en la versión *simétrica* de la definición de la derivada, es decir:\n",
    "\n",
    "\\begin{equation}\n",
    "f'(x_0) \\approx \\frac{ \\Delta f_{sym}}{\\Delta x} = \\lim_{h\\to 0} \\frac{f(x_0+h)-f(x_0-h)}{2h}.\n",
    "\\end{equation}\n",
    "\n",
    "¿Qué pueden concluir respecto a la convergencia? ¿Cómo se compara este algoritmo con el del ejercicio anterior?"
   ]
  },
  {
   "cell_type": "code",
   "execution_count": 12,
   "metadata": {
    "collapsed": false,
    "deletable": true,
    "editable": true
   },
   "outputs": [
    {
     "data": {
      "text/plain": [
       "derivada_simetrica"
      ]
     },
     "execution_count": 12,
     "metadata": {},
     "output_type": "execute_result"
    }
   ],
   "source": [
    "doc\"\"\"\n",
    "derivada_simetrica(f,h,x_0)\n",
    "\n",
    "Esta función calcula la derivada simetrica de una función utilizando la expresión:\n",
    "\n",
    "\\$f'(x_0) \\approx \\frac{ \\Delta f_{sym}}{\\Delta x} = \\lim_{h\\to 0} \\frac{f(x_0+h)-f(x_0-h)}{2h}\\$\n",
    "\n",
    "Su estructura es la siguiente:\n",
    "\n",
    "derivada_simetrica([\\$función\\$],[\\$h\\$],[\\$x_0\\$])\n",
    "\n",
    "Por defecto \\$x_0=0.0\\$\n",
    "\n",
    "\"\"\"\n",
    "\n",
    "function derivada_simetrica(f,h,x0 = 0.0)\n",
    "    \n",
    "    num=f(x0+h)-f(x0-h)\n",
    "    deno=2*h\n",
    "    \n",
    "    derivada=num/deno\n",
    "    \n",
    "    return derivada \n",
    "    \n",
    "end"
   ]
  },
  {
   "cell_type": "code",
   "execution_count": 25,
   "metadata": {
    "collapsed": false
   },
   "outputs": [
    {
     "name": "stdout",
     "output_type": "stream",
     "text": [
      "search:\n",
      "\n"
     ]
    },
    {
     "data": {
      "text/markdown": [
       "derivada_simetrica(f,h,x0)\n",
       "\n",
       "Esta función calcula la derivada simetrica de una función utilizando la expresión:\n",
       "\n",
       "$f'(x_0) \\approx \\frac{ \\Delta f_{sym}}{\\Delta x} = \\lim_{h\\to 0} \\frac{f(x_0+h)-f(x_0-h)}{2h}$\n",
       "\n",
       "Su estructura es la siguiente:\n",
       "\n",
       "derivada_simetrica([$función$],[$h$],[$x0$])\n",
       "\n",
       "Por defecto $x_0=0.0$\n"
      ],
      "text/plain": [
       "derivada_simetrica(f,h,x0)\n",
       "\n",
       "Esta función calcula la derivada simetrica de una función utilizando la expresión:\n",
       "\n",
       "$f'(x_0) \\approx \\frac{ \\Delta f_{sym}}{\\Delta x} = \\lim_{h\\to 0} \\frac{f(x_0+h)-f(x_0-h)}{2h}$\n",
       "\n",
       "Su estructura es la siguiente:\n",
       "\n",
       "derivada_simetrica([$función$],[$h$],[$x0$])\n",
       "\n",
       "Por defecto $x_0=0.0$\n"
      ]
     },
     "execution_count": 25,
     "metadata": {},
     "output_type": "execute_result"
    }
   ],
   "source": [
    "?derivada_simetrica"
   ]
  },
  {
   "cell_type": "code",
   "execution_count": 13,
   "metadata": {
    "collapsed": false
   },
   "outputs": [
    {
     "data": {
      "text/plain": [
       "9.000000744663339"
      ]
     },
     "execution_count": 13,
     "metadata": {},
     "output_type": "execute_result"
    }
   ],
   "source": [
    "derivada_simetrica(f,0.00000000001,1.0)"
   ]
  },
  {
   "cell_type": "code",
   "execution_count": 15,
   "metadata": {
    "collapsed": true
   },
   "outputs": [],
   "source": [
    "error_2=[]#Vector vacio que será llenado con los valores de error para cada h.\n",
    "\n",
    "for i=1:len\n",
    "    \n",
    "   derivadas_2=derivada_simetrica(f,vector_h[i],1.0)#Valor de la derivada para cada h.\n",
    "    \n",
    "    Error_absoluto_2=abs(derivadas_2-9)#Valor del error para cada derivada. \n",
    "\n",
    "    push!(error_2,Error_absoluto_2)#Agregamos los valores de error obtenidos al vector. \n",
    "    \n",
    "end"
   ]
  },
  {
   "cell_type": "code",
   "execution_count": 16,
   "metadata": {
    "collapsed": false
   },
   "outputs": [
    {
     "data": {
      "text/plain": [
       "1000-element Array{Any,1}:\n",
       " 0.029398 \n",
       " 0.0512447\n",
       " 0.0071791\n",
       " 0.0297598\n",
       " 0.0227773\n",
       " 0.0054983\n",
       " 0.0199278\n",
       " 0.03619  \n",
       " 0.0120758\n",
       " 0.0317468\n",
       " 0.0270699\n",
       " 0.0317325\n",
       " 0.0149951\n",
       " ⋮        \n",
       " 1.47507  \n",
       " 1.57341  \n",
       " 1.6783   \n",
       " 1.79018  \n",
       " 1.90952  \n",
       " 2.03682  \n",
       " 2.17261  \n",
       " 2.31744  \n",
       " 2.47194  \n",
       " 2.63673  \n",
       " 2.8125   \n",
       " 3.0      "
      ]
     },
     "execution_count": 16,
     "metadata": {},
     "output_type": "execute_result"
    }
   ],
   "source": [
    "error_2"
   ]
  },
  {
   "cell_type": "code",
   "execution_count": 17,
   "metadata": {
    "collapsed": false
   },
   "outputs": [
    {
     "data": {
      "image/png": "[encoded data removed]",
      "text/plain": [
       "PyPlot.Figure(PyObject <matplotlib.figure.Figure object at 0x7fa6e1de2390>)"
      ]
     },
     "metadata": {},
     "output_type": "display_data"
    }
   ],
   "source": [
    "using PyPlot\n",
    "\n",
    "plot(vector_h,error_2, color=\"orange\", label = \"d.simétrica\")#Vectores a graficar: plot([vector de valores para el eje X],[vector de valores para el eje Y])\n",
    "#plot(vector_h,derivadas_2)\n",
    "xlabel(\"h\") #Etiqueta para el eje X\n",
    "ylabel(\"Error\") #Etiqueta para el eje Y\n",
    "title(\"Derivada simétrica: Error en función de h\")#Título de la gráfica\n",
    "\n",
    "xscale(\"log\")#Escala logarítmica para el eje X\n",
    "yscale(\"log\")#Escala logarítmica para el eje Y\n",
    "\n",
    "legend(loc=\"best\")#Muestra la leyenda y con loc=\"best\" la ubica en una posición adecuada.\n",
    "show()\n"
   ]
  },
  {
   "cell_type": "markdown",
   "metadata": {},
   "source": [
    "El comportamiento del error depende del intervalo en el que se encuentre $h$. De manera similar al caso de la derivada simétrica, el error disminuye de confome $h$ es más pequeña esto, mientras $h$ tome valores mayores a $1X10^-5$, pues para valores menores a $1x10^-5$ el error aumenta y dismunuye para valores de $h$ muy cercanos. El comportamiento general es un aumento en el error conforme $h$ disminuye. "
   ]
  },
  {
   "cell_type": "markdown",
   "metadata": {
    "deletable": true,
    "editable": true
   },
   "source": [
    "## Ejercicio 3: Derivada *compleja*"
   ]
  },
  {
   "cell_type": "markdown",
   "metadata": {
    "deletable": true,
    "editable": true
   },
   "source": [
    "Repitan el ejercicio anterior considerando ahora que el incremento de la variable independiente es infinitesimal e *imaginario*. Esto es, nos basaremos en la definición de la derivada dada por:\n",
    "\n",
    "\\begin{equation}\n",
    "f'(x_0) \\approx \\frac{\\Delta f_{cmplx}(x_0)}{\\Delta x} = \\Im\\Big(\\frac{f(x_0+ i h)}{h}\\Big).\n",
    "\\end{equation}\n"
   ]
  },
  {
   "cell_type": "code",
   "execution_count": 18,
   "metadata": {
    "collapsed": false,
    "deletable": true,
    "editable": true
   },
   "outputs": [
    {
     "data": {
      "text/plain": [
       "derivada_compleja"
      ]
     },
     "execution_count": 18,
     "metadata": {},
     "output_type": "execute_result"
    }
   ],
   "source": [
    "doc\"\"\"\n",
    "derivada_compleja(f,h,x0)\n",
    "\n",
    "Esta función calcula la derivada compleja de una función utilizando la expresión:\n",
    "\n",
    "\\$f'(x_0) \\approx \\frac{\\Delta f_{cmplx}(x_0)}{\\Delta x} = \\Im\\Big(\\frac{f(x_0+ i h)}{h}\\Big)\\$\n",
    "\n",
    "Su estructura es la siguiente:\n",
    "\n",
    "derivada_compleja([\\$función\\$],[\\$h\\$],[\\$x_0\\$])\n",
    "\n",
    "Por defecto \\$x_0=0.0\\$\n",
    "\n",
    "Sólo se muestra la parte imaginaria del resultado.\n",
    "\"\"\"\n",
    "\n",
    "function derivada_compleja(f,h,x0 = 0.0)\n",
    "    \n",
    "    num=f(x0+h*im)\n",
    "    deno=h\n",
    "    \n",
    "    derivada=num/deno\n",
    "    \n",
    "    return imag(derivada) #Sólo se muestra la parte imaginaria del resultado.\n",
    "    \n",
    "end"
   ]
  },
  {
   "cell_type": "code",
   "execution_count": 19,
   "metadata": {
    "collapsed": false
   },
   "outputs": [
    {
     "name": "stdout",
     "output_type": "stream",
     "text": [
      "search:\n",
      "\n"
     ]
    },
    {
     "data": {
      "text/markdown": [
       "derivada_compleja(f,h,x0)\n",
       "\n",
       "Esta función calcula la derivada compleja de una función utilizando la expresión:\n",
       "\n",
       "$f'(x_0) \\approx \\frac{\\Delta f_{cmplx}(x_0)}{\\Delta x} = \\Im\\Big(\\frac{f(x_0+ i h)}{h}\\Big)$\n",
       "\n",
       "Su estructura es la siguiente:\n",
       "\n",
       "derivada_compleja([$función$],[$h$],[$x_0$])\n",
       "\n",
       "Por defecto $x_0=0.0$\n",
       "\n",
       "Sólo se muestra la parte imaginaria del resultado.\n"
      ],
      "text/plain": [
       "derivada_compleja(f,h,x0)\n",
       "\n",
       "Esta función calcula la derivada compleja de una función utilizando la expresión:\n",
       "\n",
       "$f'(x_0) \\approx \\frac{\\Delta f_{cmplx}(x_0)}{\\Delta x} = \\Im\\Big(\\frac{f(x_0+ i h)}{h}\\Big)$\n",
       "\n",
       "Su estructura es la siguiente:\n",
       "\n",
       "derivada_compleja([$función$],[$h$],[$x_0$])\n",
       "\n",
       "Por defecto $x_0=0.0$\n",
       "\n",
       "Sólo se muestra la parte imaginaria del resultado.\n"
      ]
     },
     "execution_count": 19,
     "metadata": {},
     "output_type": "execute_result"
    }
   ],
   "source": [
    "?derivada_compleja"
   ]
  },
  {
   "cell_type": "code",
   "execution_count": 20,
   "metadata": {
    "collapsed": false
   },
   "outputs": [
    {
     "data": {
      "text/plain": [
       "9.0"
      ]
     },
     "execution_count": 20,
     "metadata": {},
     "output_type": "execute_result"
    }
   ],
   "source": [
    "derivada_compleja(f,0.00000000001,1.0)"
   ]
  },
  {
   "cell_type": "code",
   "execution_count": 21,
   "metadata": {
    "collapsed": false
   },
   "outputs": [],
   "source": [
    "error_3=[]#Vector vacio que será llenado con los valores de error para cada h.\n",
    "\n",
    "for i=1:len\n",
    "    \n",
    "   derivadas_3=derivada_compleja(f,vector_h[i],1.0)#Valor de la derivada para cada h.\n",
    "    \n",
    "    Error_absoluto_3=abs(derivadas_3-9)#Valor del error para cada derivada. \n",
    "\n",
    "    push!(error_3,Error_absoluto_3)#Agregamos los valores de error obtenidos al vector. \n",
    "    \n",
    "end"
   ]
  },
  {
   "cell_type": "code",
   "execution_count": 22,
   "metadata": {
    "collapsed": false
   },
   "outputs": [
    {
     "data": {
      "text/plain": [
       "1000-element Array{Any,1}:\n",
       " 0.0    \n",
       " 0.0    \n",
       " 0.0    \n",
       " 0.0    \n",
       " 0.0    \n",
       " 0.0    \n",
       " 0.0    \n",
       " 0.0    \n",
       " 0.0    \n",
       " 0.0    \n",
       " 0.0    \n",
       " 0.0    \n",
       " 0.0    \n",
       " ⋮      \n",
       " 1.47507\n",
       " 1.57341\n",
       " 1.6783 \n",
       " 1.79018\n",
       " 1.90952\n",
       " 2.03682\n",
       " 2.17261\n",
       " 2.31744\n",
       " 2.47194\n",
       " 2.63673\n",
       " 2.8125 \n",
       " 3.0    "
      ]
     },
     "execution_count": 22,
     "metadata": {},
     "output_type": "execute_result"
    }
   ],
   "source": [
    "error_3"
   ]
  },
  {
   "cell_type": "code",
   "execution_count": 23,
   "metadata": {
    "collapsed": false
   },
   "outputs": [
    {
     "data": {
      "image/png": "[encoded data removed]",
      "text/plain": [
       "PyPlot.Figure(PyObject <matplotlib.figure.Figure object at 0x7fa6e56c6e10>)"
      ]
     },
     "metadata": {},
     "output_type": "display_data"
    }
   ],
   "source": [
    "using PyPlot\n",
    "\n",
    "plot(vector_h,error_3,color=\"green\",label = \"d.compleja\")#Vectores a graficar: plot([vector de valores para el eje X],[vector de valores para el eje Y])\n",
    "#plot(vector_h,derivadas_2)\n",
    "xlabel(\"h\") #Etiqueta para el eje X\n",
    "ylabel(\"Error\") #Etiqueta para el eje Y\n",
    "title(\"Derivada compleja: Error en función de h\")#Título de la gráfica\n",
    "\n",
    "xscale(\"log\")#Escala logarítmica para el eje X\n",
    "yscale(\"log\")#Escala logarítmica para el eje Y\n",
    "\n",
    "legend(loc=\"best\")#Muestra la leyenda y con loc=\"best\" la ubica en una posición adecuada.\n",
    "\n",
    "show()"
   ]
  },
  {
   "cell_type": "markdown",
   "metadata": {
    "deletable": true,
    "editable": true
   },
   "source": [
    "## Ejercicio 4: Preguntas"
   ]
  },
  {
   "cell_type": "markdown",
   "metadata": {
    "deletable": true,
    "editable": true
   },
   "source": [
    "- ¿Cuál de las definiciones anteriores es mejor en términos de dar el valor *más exacto* de la derivada? Den un argumento sólido de su conclusión en términos del tipo de convergencia hacia el valor exacto."
   ]
  },
  {
   "cell_type": "code",
   "execution_count": 24,
   "metadata": {
    "collapsed": false,
    "deletable": true,
    "editable": true
   },
   "outputs": [
    {
     "data": {
      "image/png": "[encoded data removed]",
      "text/plain": [
       "PyPlot.Figure(PyObject <matplotlib.figure.Figure object at 0x7fa6e1b59be0>)"
      ]
     },
     "metadata": {},
     "output_type": "display_data"
    }
   ],
   "source": [
    "using PyPlot\n",
    "plot(vector_h, error, color = \"blue\",label= \"d.derecha\")#Vectores a graficar: plot([vector de valores para el eje X],[vector de valores para el eje Y])\n",
    "plot(vector_h, error_2, color = \"orange\",label= \"d.simétrica\")\n",
    "plot(vector_h, error_3, color = \"green\",label= \"d.compleja\")\n",
    "#plot(vector_h,derivadas_2)\n",
    "xlabel(\"h\") #Etiqueta para el eje X\n",
    "ylabel(\"Error\") #Etiqueta para el eje Y\n",
    "title(\"Error en función de h para la derivada derecha, simétrica y compleja \")#Título de la gráfica\n",
    "\n",
    "xscale(\"log\")#Escala logarítmica para el eje X\n",
    "yscale(\"log\")#Escala logarítmica para el eje Y\n",
    "\n",
    "legend(loc=\"best\")#Muestra la leyenda y con loc=\"best\" la ubica en una posición adecuada.   \n",
    "\n",
    "show()"
   ]
  },
  {
   "cell_type": "markdown",
   "metadata": {},
   "source": [
    "Como podemos ver en la gráfica anterior, la definición de la derivada compleja nos da una mejor aproximación al valor de la derivada, ya que, antes de llegar a $1X10^-7$ el error disminuye con forme $h$ se hace más pequeña. En este aspecto, da un mejor resultado en comparación con la derivada derecha y simétrica pues alcanza valores de error menores. Por otro lado, cuando h es menor a $1X10^-7$, el error no aumenta, sino que se mantiene acotado. Este comportamiento puede atribuirse a que el límite de una sucesión compleja converge a un complejo z, del cual sólo consideramos la parte real y, de este modo, tenemos una sucesión de Cauchy, la cual, tiene la propiedad de ser una sucesión acotada. Podemos considerar esta cota como el valor de la derivada, por lo cual, el valor del error también está acotado. Además la definición de la derivada compleja no implica relaciones de diferencia, la cuales podrían  producir errores de cancelación al restar cantidades muy próximas, provocando la pérdida de cifras significativas correctas en el resultado."
   ]
  },
  {
   "cell_type": "markdown",
   "metadata": {
    "deletable": true,
    "editable": true
   },
   "source": [
    "- ¿Qué comportamiento mostrado por las derivadas en términos de $h$ nos incomoda más? ¿A qué atribuyen esto?"
   ]
  },
  {
   "cell_type": "markdown",
   "metadata": {
    "collapsed": true,
    "deletable": true,
    "editable": true
   },
   "source": [
    "Que el error no disminuya siempre que disminuya h. En el caso de la derivada derecha y la simétrica, esto puede atribuirse al error de cancelación ya que  $f(x+h)\\approx f(x)$ cuando $h$ es muy pequeña, provocando la pérdida de cifras significativas, lo cual se traduce un aumento en el error. "
   ]
  },
  {
   "cell_type": "code",
   "execution_count": null,
   "metadata": {
    "collapsed": true
   },
   "outputs": [],
   "source": []
  }
 ],
 "metadata": {
  "kernel_info": {
   "name": "julia-0.5"
  },
  "kernelspec": {
   "display_name": "Julia 0.5.0",
   "language": "julia",
   "name": "julia-0.5"
  },
  "language_info": {
   "file_extension": ".jl",
   "mimetype": "application/julia",
   "name": "julia",
   "version": "0.5.0"
  }
 },
 "nbformat": 4,
 "nbformat_minor": 0
}
