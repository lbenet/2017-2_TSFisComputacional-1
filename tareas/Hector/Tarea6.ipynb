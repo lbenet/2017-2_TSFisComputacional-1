{
 "cells": [
  {
   "cell_type": "markdown",
   "metadata": {},
   "source": [
    "# Tarea 6: Integración con Taylor"
   ]
  },
  {
   "cell_type": "markdown",
   "metadata": {},
   "source": [
    "Fecha de envío del PR inicial: **viernes 5 de mayo**\n",
    "\n",
    "Fecha de aceptación del PR: **martes 16 de mayo, antes de la clase**"
   ]
  },
  {
   "cell_type": "markdown",
   "metadata": {},
   "source": [
    "---"
   ]
  },
  {
   "cell_type": "markdown",
   "metadata": {},
   "source": [
    "## Ejercicio 1\n",
    "\n",
    "Usando su implementación de polinomios de Taylor, escriban un integrador para la ecuación diferencial que se desarrolló en este ejemplo, esto es, $\\dot{x} = x^2$ con la condición inicial $x(0) = 3$. \n",
    "\n",
    "El integrador debe hacer las operaciones necesarias para obtener automáticamente los coeficientes $x_{[k]}$, *en cada paso de integración*, a partir de la condición inicial local. Un requisito básico para esto es que tengan una implementación de la función $P_\\alpha(x) = [g(x)]^\\alpha$ con $g(x)$ un polinomio de Taylor, que hicieron en la \"Tarea5\", y que funcione bien en particular para `alpha::Int`.\n",
    "\n",
    "La implementación debe consistir de varias funciones: \n",
    "\n",
    "- Una función donde se calculen los coeficientes $x_{[k]}$ de la expansión. Esta función deberá llamar a otra donde se implementan las recurrencias que imponen las ecuaciones de movimiento.\n",
    "\n",
    "- Una función donde se obtenga el paso de integración $h$ como se describió en el notebook 10.\n",
    "\n",
    "- Otra función donde se haga la suma usando el método de Horner.\n",
    "\n",
    "- Finalmente, una función que combine las funciones anteriores para hacer la integración desde un tiempo inicial a uno final. En este punto, *fingiremos ignorancia*, en el sentido de  que el tiempo inicial es cero, y el tiempo final será $0.5$ (que está más allá de donde la solución está definida).\n"
   ]
  },
  {
   "cell_type": "markdown",
   "metadata": {},
   "source": [
    "Dado que conocemos la solución analítica de este problema, grafiquen como función de $t$ el error relativo de su integrador (respecto al valor del resultado analítico)."
   ]
  },
  {
   "cell_type": "code",
   "execution_count": 1,
   "metadata": {
    "collapsed": false
   },
   "outputs": [
    {
     "name": "stdout",
     "output_type": "stream",
     "text": [
      "\u001b[1m\u001b[37mTest Summary:                      | \u001b[0m\u001b[1m\u001b[32mPass  \u001b[0m\u001b[1m\u001b[34mTotal\u001b[0m\n",
      "  pruebas de operaciones para Taylor | \u001b[1m\u001b[32m  19  \u001b[0m\u001b[1m\u001b[34m   19\u001b[0m\n"
     ]
    },
    {
     "data": {
      "text/plain": [
       "Base.Test.DefaultTestSet(\"pruebas de operaciones para Taylor\",Any[],19,false)"
      ]
     },
     "execution_count": 1,
     "metadata": {},
     "output_type": "execute_result"
    }
   ],
   "source": [
    "include(\"runtest_taylor.jl\")"
   ]
  },
  {
   "cell_type": "code",
   "execution_count": 2,
   "metadata": {
    "collapsed": false
   },
   "outputs": [
    {
     "data": {
      "text/plain": [
       "integra_taylor (generic function with 1 method)"
      ]
     },
     "execution_count": 2,
     "metadata": {},
     "output_type": "execute_result"
    }
   ],
   "source": [
    "function integra_taylor(f,x0,epsi)\n",
    "    \n",
    "   #vector de coeficientes x_k \n",
    "    \n",
    "    f1=copy(f.cofun)\n",
    "    \n",
    "    x=zeros(f1)\n",
    "    x[1]=x0\n",
    "    p=length(f1)\n",
    "    \n",
    "    for i=2:p\n",
    "        x[i]=f1[i-1]/p\n",
    "\n",
    "    end\n",
    "  \n",
    "    #Cálculo  de h\n",
    "    \n",
    "    if (epsi/f1[p])^(1/p)<(epsi/f1[p-1])^(1/p)\n",
    "        h=(epsi/f1[p])^(1/p)\n",
    "    else \n",
    "        h=(epsi/f1[p-1])^(1/p)\n",
    "    end\n",
    "    \n",
    "    #Método de Horner. \n",
    "    #Código basado del que aparece en: https://en.wikipedia.org/wiki/Horner%27s_method\n",
    "    \n",
    "     sum = x[end]\n",
    "     for k = length(x)-1:-1:1\n",
    "       sum = x[k] + h*sum\n",
    "     end\n",
    "     \n",
    "    \n",
    "    return sum \n",
    "    \n",
    "end   "
   ]
  },
  {
   "cell_type": "code",
   "execution_count": 3,
   "metadata": {
    "collapsed": false
   },
   "outputs": [
    {
     "data": {
      "text/plain": [
       "Ty.Taylor{Int64}([0,0,1],2)"
      ]
     },
     "execution_count": 3,
     "metadata": {},
     "output_type": "execute_result"
    }
   ],
   "source": [
    "f=Taylor([0,0,1],2)"
   ]
  },
  {
   "cell_type": "code",
   "execution_count": 5,
   "metadata": {
    "collapsed": false
   },
   "outputs": [
    {
     "data": {
      "text/plain": [
       "3.0"
      ]
     },
     "execution_count": 5,
     "metadata": {},
     "output_type": "execute_result"
    }
   ],
   "source": [
    "integra_taylor(f,3,1e-12)"
   ]
  },
  {
   "cell_type": "code",
   "execution_count": null,
   "metadata": {
    "collapsed": true
   },
   "outputs": [],
   "source": []
  },
  {
   "cell_type": "markdown",
   "metadata": {},
   "source": [
    "---"
   ]
  },
  {
   "cell_type": "markdown",
   "metadata": {},
   "source": [
    "## Ejercicio 2\n",
    "\n",
    "Repitan la integración del ejercicio anterior usando el método de Runge-Kutta de 4o orden con paso de integración fijo (que es lo más sofisticado que conocen hasta ahora) y comparen los resultados del error relativo con los obtenidos con el método de Taylor. En particular, finjan ignorancia de la misma manera que en el ejercicio anterior."
   ]
  },
  {
   "cell_type": "markdown",
   "metadata": {
    "collapsed": true
   },
   "source": [
    "Escribimos el método de  Runge-Kutta de 4to orden para el oscilador armónico simple."
   ]
  },
  {
   "cell_type": "code",
   "execution_count": null,
   "metadata": {
    "collapsed": false
   },
   "outputs": [],
   "source": [
    "function rk4(f,x0,t0,tf,h= 0.01)\n",
    "\n",
    "imax = (tf-t0)/h #número máximo de iteraciones del proceso\n",
    "ep=1e-6   # Tolerancia \n",
    "#x1=0    \n",
    "#delta = 1.0 #valor inicial de delta    \n",
    "    \n",
    "\n",
    "#while (delta>e)\n",
    "for i=0:imax\n",
    "    \n",
    "    k1=h*f1(x0,t0) \n",
    "    k2=h*f1(x0+k1/2,t0+h/2)\n",
    "    k3=h*f1(x0+k2/2,t0+h/2)\n",
    "    k4=h*f1(x0+k3/2,t0+h)\n",
    "    \n",
    "    x1=x0+(k1+2*k2+2*k3+k4)/6\n",
    "        \n",
    "   # delta = abs(x1-x0)#Nuevo valor de delta (debe estar antes de la actualización de x0)\n",
    "    x0=x1   #Nuevo valor de la variable\n",
    "    t0=t0+h #Actualización del tiempo\n",
    "       \n",
    "    return x1    \n",
    "        \n",
    "end\n",
    "    \n",
    "end   \n"
   ]
  },
  {
   "cell_type": "code",
   "execution_count": null,
   "metadata": {
    "collapsed": false
   },
   "outputs": [],
   "source": [
    "function f1(x,t)\n",
    "    return x^2\n",
    "end"
   ]
  },
  {
   "cell_type": "code",
   "execution_count": null,
   "metadata": {
    "collapsed": false
   },
   "outputs": [],
   "source": [
    "rk4(f1,3,0,1,1e-15)"
   ]
  },
  {
   "cell_type": "markdown",
   "metadata": {},
   "source": [
    "---"
   ]
  },
  {
   "cell_type": "markdown",
   "metadata": {},
   "source": [
    "## Ejercicio 3\n",
    "\n",
    "Integra la ecuación de movimiento para el oscilador armónico, $\\ddot{x} = -2x$, con $x(0)=2$, $\\dot{x}(0)=0$, durante 10^4 periodos de oscilación (o sea, hasta $t_f = 10^4 \\cdot 2\\pi/\\sqrt{2}$, usando el método de Taylor y el método de Runge-Kutta de 4o orden con paso de integración constante. Compara cómo cambia la energía (respecto al valor al tiempo cero) en función del tiempo en ambos métodos."
   ]
  },
  {
   "cell_type": "code",
   "execution_count": 1,
   "metadata": {
    "collapsed": false
   },
   "outputs": [
    {
     "data": {
      "text/plain": [
       "rk42 (generic function with 2 methods)"
      ]
     },
     "execution_count": 1,
     "metadata": {},
     "output_type": "execute_result"
    }
   ],
   "source": [
    "function rk42(f,g,x0,v0,t0,tf,h= 0.01)\n",
    "    imax = (tf-t0)/h #número máximo de iteraciones del proceso\n",
    "\n",
    "    for i=0:imax\n",
    "    \n",
    "        k11=h*f(x0,v0,t0)\n",
    "        k12=h*g(x0,v0,t0)\n",
    "\n",
    "        k21=h*f(x0+k11/2,v0+k12/2,t0+h/2)\n",
    "        k22=h*g(x0+k11/2,v0+k12/2,t0+h/2)\n",
    "\n",
    "        k31=h*f(x0+k21/2,v0+k22/2,t0+h/2)\n",
    "        k32=h*g(x0+k21/2,v0+k22/2,t0+h/2)\n",
    "\n",
    "        k41=h*f(x0+k31/2,v0+k32/2,t0+h)\n",
    "        k42=h*g(x0+k31/2,v0+k32/2,t0+h)\n",
    "\n",
    "\n",
    "        x1=x0+(k11+2*k21+2*k31+k41)/6\n",
    "        v1=v0+(k12+2*k22+2*k32+k42)/6\n",
    "\n",
    "        t0=t0+h#actualización del tiempo\n",
    "        x0=x1 #actualización de las variables\n",
    "        v0=v1\n",
    "        \n",
    "         return x0,v0\n",
    "    end  \n",
    "    \n",
    "   \n",
    "end   "
   ]
  },
  {
   "cell_type": "code",
   "execution_count": 2,
   "metadata": {
    "collapsed": false
   },
   "outputs": [
    {
     "data": {
      "text/plain": [
       "ff (generic function with 1 method)"
      ]
     },
     "execution_count": 2,
     "metadata": {},
     "output_type": "execute_result"
    }
   ],
   "source": [
    "function ff(x,v,t)\n",
    "    return v\n",
    "end"
   ]
  },
  {
   "cell_type": "code",
   "execution_count": 3,
   "metadata": {
    "collapsed": false
   },
   "outputs": [
    {
     "data": {
      "text/plain": [
       "gg (generic function with 1 method)"
      ]
     },
     "execution_count": 3,
     "metadata": {},
     "output_type": "execute_result"
    }
   ],
   "source": [
    "function gg(x,v,t)\n",
    "    return -2*x\n",
    "end"
   ]
  },
  {
   "cell_type": "code",
   "execution_count": 4,
   "metadata": {
    "collapsed": false
   },
   "outputs": [
    {
     "data": {
      "text/plain": [
       "(1.999833335,-0.039999)"
      ]
     },
     "execution_count": 4,
     "metadata": {},
     "output_type": "execute_result"
    }
   ],
   "source": [
    "rk42(ff,gg,2,0,0,1)"
   ]
  },
  {
   "cell_type": "code",
   "execution_count": null,
   "metadata": {
    "collapsed": true
   },
   "outputs": [],
   "source": []
  }
 ],
 "metadata": {
  "kernel_info": {
   "name": "julia-0.5"
  },
  "kernelspec": {
   "display_name": "Julia 0.5.0",
   "language": "julia",
   "name": "julia-0.5"
  },
  "language_info": {
   "file_extension": ".jl",
   "mimetype": "application/julia",
   "name": "julia",
   "version": "0.5.1"
  }
 },
 "nbformat": 4,
 "nbformat_minor": 2
}
