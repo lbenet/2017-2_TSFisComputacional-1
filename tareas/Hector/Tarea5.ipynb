{
 "cells": [
  {
   "cell_type": "markdown",
   "metadata": {},
   "source": [
    "# Tarea5: Series de Taylor"
   ]
  },
  {
   "cell_type": "markdown",
   "metadata": {},
   "source": [
    "Fecha de envío del PR inicial: **viernes 21 de abril**\n",
    "\n",
    "Fecha de aceptación del PR: **martes 25 de abril, antes de la clase**"
   ]
  },
  {
   "cell_type": "markdown",
   "metadata": {},
   "source": [
    "---"
   ]
  },
  {
   "cell_type": "markdown",
   "metadata": {},
   "source": [
    "## Ejercicio 1\n",
    "\n",
    "Implementen una nueva estructura paramétrica (`type`) que defina el tipo `Taylor`, donde el parámetro debe ser un subtipo de `Number`. Definan métodos que implementen las operaciones aritméticas básicas (`+`, `-`, `*`, `/`) y la igualdad (`==`). Esto deberá ser incluido en un módulo.\n",
    "\n",
    "Incluyan pruebas (en el archivo \"runtests_taylor.jl\") para cada uno de los métodos que implementen.\n"
   ]
  },
  {
   "cell_type": "code",
   "execution_count": 1,
   "metadata": {
    "collapsed": false
   },
   "outputs": [
    {
     "data": {
      "text/plain": [
       "Taylor"
      ]
     },
     "execution_count": 1,
     "metadata": {},
     "output_type": "execute_result"
    }
   ],
   "source": [
    "\"\"\"\n",
    "Definición de polinomios de Taylor, donde\n",
    "...\n",
    "\"\"\"\n",
    "type Taylor{T<:Number}\n",
    "    # código: \n",
    "    cofun::Array{T,1} #Array{Float64,1} arreglo de los coeficientes de la función f.\n",
    "    grado::Int64 #grado de la función\n",
    "end"
   ]
  },
  {
   "cell_type": "code",
   "execution_count": 2,
   "metadata": {
    "collapsed": false
   },
   "outputs": [
    {
     "data": {
      "text/plain": [
       "Taylor{T<:Number}"
      ]
     },
     "execution_count": 2,
     "metadata": {},
     "output_type": "execute_result"
    }
   ],
   "source": [
    "Taylor(cofun,grado)= Taylor(promote(cofun,grado)...)#Taylor(cofun)= Taylor(promote(cofun)...)"
   ]
  },
  {
   "cell_type": "code",
   "execution_count": 3,
   "metadata": {
    "collapsed": false
   },
   "outputs": [
    {
     "data": {
      "text/plain": [
       "3-element Array{Float64,1}:\n",
       " 0.0\n",
       " 1.0\n",
       " 3.0"
      ]
     },
     "execution_count": 3,
     "metadata": {},
     "output_type": "execute_result"
    }
   ],
   "source": [
    "v=[0.0,1.0,3.0]"
   ]
  },
  {
   "cell_type": "code",
   "execution_count": 4,
   "metadata": {
    "collapsed": false
   },
   "outputs": [
    {
     "data": {
      "text/plain": [
       "Int64"
      ]
     },
     "execution_count": 4,
     "metadata": {},
     "output_type": "execute_result"
    }
   ],
   "source": [
    "typeof(9)"
   ]
  },
  {
   "cell_type": "code",
   "execution_count": 5,
   "metadata": {
    "collapsed": false
   },
   "outputs": [
    {
     "data": {
      "text/plain": [
       "Taylor{Float64}([0.0,1.0,3.0],9)"
      ]
     },
     "execution_count": 5,
     "metadata": {},
     "output_type": "execute_result"
    }
   ],
   "source": [
    "Taylor(v,9)"
   ]
  },
  {
   "cell_type": "markdown",
   "metadata": {},
   "source": [
    "Aplicando la serie de Taylor a una función $f(x)$ obtenemos: \n",
    "\n",
    "\\begin{eqnarray}\n",
    "f(x) & = & f_{[0]} + f_{[1]} (x-x_0) + f_{[2]} (x-x_0)^2 + \\dots + f_{[k]} (x-x_0)^k + \\dots,  ...(1)\\\\\n",
    "\\end{eqnarray}\n",
    "\n",
    "Donde cada $f_{[i]}$ es un coeficiente de la serie.\n",
    "\n",
    "Si truncamos la serie anterior se tiene:\n",
    "\n",
    "\\begin{eqnarray}\n",
    "f(x) & = & f_{[0]} + f_{[1]} (x-x_0) + f_{[2]} (x-x_0)^2 + \\dots + f_{[k]} (x-x_0)^k  ...(2) \\\\\\end{eqnarray}\n",
    "\n",
    "A partir de (2) podemos representar los coeficientes en un arreglo como el siguiente:\n",
    "\n",
    "\\begin{eqnarray}\n",
    "Taylor[f_{[0]},f_{[1]},f_{[2]},...f_{[k]}]  ...(3)\\end{eqnarray}\n",
    "\n",
    "En (3) tenemos una estructura que nos recuerda a la forma del dual: \n",
    "\n",
    "\\begin{eqnarray}\n",
    "Dual(f,df) ...(4)\n",
    "\\end{eqnarray}\n",
    "\n",
    ",la cual, podemos representar ahora como:\n",
    "\n",
    "\\begin{eqnarray}\n",
    "Taylor[f_{[0]},f_{[1]}]  ...(5)\n",
    "\\end{eqnarray}\n",
    "\n",
    "En un inicio, tuvimos que asegurar que el dual cumpliera con las siguientes propiedades:\n",
    "\\begin{eqnarray}\n",
    "\\\\\n",
    "Dual(c,0)  ...(a)\n",
    "\\\\\n",
    "Dual(x,1)          ...(b)\n",
    "\\\\\n",
    "\\end{eqnarray}\n",
    "\n",
    "(Donde c es una constante y en b) se utiliza la función $f(x)=x$)\n",
    "\n",
    "\n",
    "Aplicando estos casos a (3):\n",
    "\\begin{eqnarray}\n",
    "\\\\\n",
    "Taylor[c,0,0,...,0]  ...(c)\n",
    "\\\\\n",
    "Taylor[x,1,0,...,0]  ...(d)\n",
    "\\\\\n",
    "\\end{eqnarray}\n",
    "\n",
    "Notemos que en el caso de una constante la primera entrada es justo la constante y la segunda es 0 (su primera derivada). Por otro lado, para la variable x la primera entrada es x y la segunda es 1 (su primera derivada). . "
   ]
  },
  {
   "cell_type": "code",
   "execution_count": 7,
   "metadata": {
    "collapsed": false
   },
   "outputs": [
    {
     "data": {
      "text/plain": [
       "taylor (generic function with 1 method)"
      ]
     },
     "execution_count": 7,
     "metadata": {},
     "output_type": "execute_result"
    }
   ],
   "source": [
    "function taylor(x,k)\n",
    "    \n",
    "#Caso c) \n",
    "    \n",
    "    if k==0 #Esto es, si f(x)=constante\n",
    "        v=[x]\n",
    "        v1 = zeros(k+1) #Genera un array con k+1 ceros\n",
    "        \n",
    "        for i in v1\n",
    "            v = push!(v,i) # Agregamos uno por uno los elementos de v1 a v. \n",
    "        end\n",
    "        \n",
    "#Caso d)\n",
    "        \n",
    "    else\n",
    "        v=[x,1]#Tal vez qui deba incluirse un ciclo for que agregue 1's \n",
    "               # para ordenes superiores\n",
    "        v1 = zeros(k-1) #Genera un array con k-1 ceros\n",
    "        \n",
    "        for i in v1\n",
    "            v = push!(v,i) # Agregamos uno por uno los elementos de v1 a v. \n",
    "        end\n",
    "        \n",
    "    end\n",
    "    \n",
    "    return Taylor(v,k)\n",
    "    \n",
    "end"
   ]
  },
  {
   "cell_type": "code",
   "execution_count": 8,
   "metadata": {
    "collapsed": false
   },
   "outputs": [
    {
     "data": {
      "text/plain": [
       "Taylor{Int64}([7,0],0)"
      ]
     },
     "execution_count": 8,
     "metadata": {},
     "output_type": "execute_result"
    }
   ],
   "source": [
    "taylor(7,0)"
   ]
  },
  {
   "cell_type": "code",
   "execution_count": 9,
   "metadata": {
    "collapsed": false
   },
   "outputs": [
    {
     "data": {
      "text/plain": [
       "2-element Array{Int64,1}:\n",
       " 7\n",
       " 0"
      ]
     },
     "execution_count": 9,
     "metadata": {},
     "output_type": "execute_result"
    }
   ],
   "source": [
    "taylor(7,0).cofun"
   ]
  },
  {
   "cell_type": "code",
   "execution_count": 10,
   "metadata": {
    "collapsed": false
   },
   "outputs": [
    {
     "data": {
      "text/plain": [
       "Taylor{Int64}([7,1],1)"
      ]
     },
     "execution_count": 10,
     "metadata": {},
     "output_type": "execute_result"
    }
   ],
   "source": [
    "taylor(7,1)"
   ]
  },
  {
   "cell_type": "code",
   "execution_count": 11,
   "metadata": {
    "collapsed": false
   },
   "outputs": [
    {
     "data": {
      "text/plain": [
       "- (generic function with 191 methods)"
      ]
     },
     "execution_count": 11,
     "metadata": {},
     "output_type": "execute_result"
    }
   ],
   "source": [
    "import Base: +, -, *, /, ==\n",
    "\n",
    "# Aqui se implementan los métodos necesarios para cada función\n",
    "+(f::Taylor, g::Taylor) = Taylor(f.cofun+g.cofun)\n",
    "-(f::Taylor, g::Taylor) = Taylor(f.cofun-g.cofun)"
   ]
  },
  {
   "cell_type": "code",
   "execution_count": 12,
   "metadata": {
    "collapsed": false
   },
   "outputs": [
    {
     "ename": "LoadError",
     "evalue": "MethodError: Cannot `convert` an object of type Array{Int64,1} to an object of type Taylor{T<:Number}\nThis may have arisen from a call to the constructor Taylor{T<:Number}(...),\nsince type constructors fall back to convert methods.",
     "output_type": "error",
     "traceback": [
      "MethodError: Cannot `convert` an object of type Array{Int64,1} to an object of type Taylor{T<:Number}\nThis may have arisen from a call to the constructor Taylor{T<:Number}(...),\nsince type constructors fall back to convert methods.",
      "",
      " in +(::Taylor{Int64}, ::Taylor{Int64}) at ./In[11]:4"
     ]
    }
   ],
   "source": [
    "taylor(9,1)+taylor(3,1)"
   ]
  },
  {
   "cell_type": "code",
   "execution_count": null,
   "metadata": {
    "collapsed": false
   },
   "outputs": [],
   "source": [
    "# Muestren que su código funciona con tests adecuados\n",
    "\n",
    "using Base.Test\n",
    "include(\"runtest_taylor.jl\")"
   ]
  },
  {
   "cell_type": "markdown",
   "metadata": {},
   "source": [
    "---"
   ]
  },
  {
   "cell_type": "markdown",
   "metadata": {},
   "source": [
    "## Ejercicio 2\n",
    "\n",
    "Obtengan las relaciones de recurrencia para las funciones $L(x) = \\log\\big(g(x)\\big)$, $P_\\alpha(x) = \\big(g(x)\\big)^\\alpha$, $S(x) = \\sin\\big(g(x)\\big)$, $C(x) = \\cos\\big(g(x)\\big)$ usando el mismo procedimiento que arriba. Implementen métodos adecuados para estas funciones en el módulo, actuando sobre estructuras `Taylor` e incluyan pruebas necesarias en `runtest_taylor.jl`."
   ]
  },
  {
   "cell_type": "code",
   "execution_count": null,
   "metadata": {
    "collapsed": true
   },
   "outputs": [],
   "source": []
  }
 ],
 "metadata": {
  "kernelspec": {
   "display_name": "Julia 0.5.0",
   "language": "julia",
   "name": "julia-0.5"
  },
  "language_info": {
   "file_extension": ".jl",
   "mimetype": "application/julia",
   "name": "julia",
   "version": "0.5.1"
  }
 },
 "nbformat": 4,
 "nbformat_minor": 2
}
