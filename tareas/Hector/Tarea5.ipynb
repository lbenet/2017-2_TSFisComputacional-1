{
 "cells": [
  {
   "cell_type": "markdown",
   "metadata": {},
   "source": [
    "# Tarea5: Series de Taylor"
   ]
  },
  {
   "cell_type": "markdown",
   "metadata": {},
   "source": [
    "Fecha de envío del PR inicial: **viernes 21 de abril**\n",
    "\n",
    "Fecha de aceptación del PR: **martes 25 de abril, antes de la clase**"
   ]
  },
  {
   "cell_type": "markdown",
   "metadata": {},
   "source": [
    "---"
   ]
  },
  {
   "cell_type": "markdown",
   "metadata": {},
   "source": [
    "## Ejercicio 1\n",
    "\n",
    "Implementen una nueva estructura paramétrica (`type`) que defina el tipo `Taylor`, donde el parámetro debe ser un subtipo de `Number`. Definan métodos que implementen las operaciones aritméticas básicas (`+`, `-`, `*`, `/`) y la igualdad (`==`). Esto deberá ser incluido en un módulo.\n",
    "\n",
    "Incluyan pruebas (en el archivo \"runtests_taylor.jl\") para cada uno de los métodos que implementen.\n"
   ]
  },
  {
   "cell_type": "markdown",
   "metadata": {},
   "source": [
    "Aplicando la serie de Taylor a una función $f(x)$ obtenemos: \n",
    "\n",
    "\\begin{eqnarray}\n",
    "f(x) & = & f_{[0]} + f_{[1]} (x-x_0) + f_{[2]} (x-x_0)^2 + \\dots + f_{[k]} (x-x_0)^k + \\dots,  ...(1)\\\\\n",
    "\\end{eqnarray}\n",
    "\n",
    "Donde cada $f_{[i]}$ es un coeficiente de la serie.\n",
    "\n",
    "Si truncamos la serie anterior se tiene:\n",
    "\n",
    "\\begin{eqnarray}\n",
    "f(x) & = & f_{[0]} + f_{[1]} (x-x_0) + f_{[2]} (x-x_0)^2 + \\dots + f_{[k]} (x-x_0)^k  ...(2) \\\\\\end{eqnarray}\n",
    "\n",
    "A partir de (2) podemos representar los coeficientes en un arreglo como el siguiente:\n",
    "\n",
    "\\begin{eqnarray}\n",
    "Taylor[f_{[0]},f_{[1]},f_{[2]},...f_{[k]}]  ...(3)\\end{eqnarray}\n",
    "\n",
    "En (3) tenemos una estructura que nos recuerda a la forma del dual: \n",
    "\n",
    "\\begin{eqnarray}\n",
    "Dual(f,df) ...(4)\n",
    "\\end{eqnarray}\n",
    "\n",
    ",la cual, podemos representar ahora como:\n",
    "\n",
    "\\begin{eqnarray}\n",
    "Taylor[f_{[0]},f_{[1]}]  ...(5)\n",
    "\\end{eqnarray}\n",
    "\n",
    "En un inicio, tuvimos que asegurar que el dual cumpliera con las siguientes propiedades:\n",
    "\\begin{eqnarray}\n",
    "\\\\\n",
    "Dual(c,0)  ...(a)\n",
    "\\\\\n",
    "Dual(x,1)          ...(b)\n",
    "\\\\\n",
    "\\end{eqnarray}\n",
    "\n",
    "(Donde c es una constante y en b) se utiliza la función $f(x)=x$)\n",
    "\n",
    "\n",
    "Aplicando estos casos a (3):\n",
    "\\begin{eqnarray}\n",
    "\\\\\n",
    "Taylor[c,0,0,...,0]  ...(c)\n",
    "\\\\\n",
    "Taylor[x,1,0,...,0]  ...(d)\n",
    "\\\\\n",
    "\\end{eqnarray}\n",
    "\n",
    "Notemos que en el caso de una constante la primera entrada es justo la constante y la segunda es 0 (su primera derivada). Por otro lado, para la variable x la primera entrada es x y la segunda es 1 (su primera derivada). . "
   ]
  },
  {
   "cell_type": "code",
   "execution_count": 2,
   "metadata": {
    "collapsed": false
   },
   "outputs": [
    {
     "name": "stderr",
     "output_type": "stream",
     "text": [
      "WARNING: imported binding for Taylor overwritten in module Main\n"
     ]
    },
    {
     "data": {
      "text/plain": [
       "Taylor"
      ]
     },
     "execution_count": 2,
     "metadata": {},
     "output_type": "execute_result"
    }
   ],
   "source": [
    "\"\"\"\n",
    "Definición de polinomios de Taylor, donde\n",
    "\n",
    "cofun::Array{T,1} es el arreglo de los coeficientes de la función f.\n",
    "grado::Int64 es el grado de la función\n",
    "...\n",
    "\"\"\"\n",
    "type Taylor{T<:Number}\n",
    "    # código: \n",
    "    cofun::Array{T,1} #Arreglo de los coeficientes de la función f.\n",
    "    grado::Int64 #Grado de la función\n",
    "    \n",
    "    function Taylor(v::Vector{T},n::Int) \n",
    "        len = length(v) #Longitud del vector\n",
    "        \n",
    "        if len-1==n \n",
    "            return new{T}(v,n) #Si el grado ingresado es igual a los coeficientes del vector, \n",
    "                               #el grado y el vector se quedan igual.\n",
    "            \n",
    "        elseif len-1<n #Si el grado ingresado es mayor a los coeficientes del vector, \n",
    "                           #se completa con ceros.\n",
    "            \n",
    "            cv=copy(v) #Hacemos una copia del vector de entrada v, con el fin\n",
    "                       #de no modificar su logitud original.  \n",
    "            \n",
    "            return new{T}(append!(cv,zeros(T,n-len+1)),n)\n",
    "        else               #Si el grado ingresado es menor a los coeficientes del vector, \n",
    "                           #se resta un grado.\n",
    "            return new{T}(v,len-1)\n",
    "        end\n",
    "    end\n",
    "       \n",
    "end"
   ]
  },
  {
   "cell_type": "code",
   "execution_count": 3,
   "metadata": {
    "collapsed": false
   },
   "outputs": [
    {
     "data": {
      "text/html": [
       "1 method for generic function <b>Type</b>:<ul><li> (::<b>Type{T}</b>)<i>{T}</i>(arg) at <a href=\"https://github.com/JuliaLang/julia/tree/6445c82d0060dbe82b88436f0f4371a4ee64d918/base/sysimg.jl#L53\" target=\"_blank\">sysimg.jl:53</a></li> </ul>"
      ],
      "text/plain": [
       "# 1 method for generic function \"(::Type)\":\n",
       "(::Type{T}){T}(arg) at sysimg.jl:53"
      ]
     },
     "execution_count": 3,
     "metadata": {},
     "output_type": "execute_result"
    }
   ],
   "source": [
    "methods(Taylor)"
   ]
  },
  {
   "cell_type": "code",
   "execution_count": 4,
   "metadata": {
    "collapsed": false
   },
   "outputs": [
    {
     "ename": "LoadError",
     "evalue": "MethodError: no method matching Taylor{T<:Number}(::Array{Int64,1}, ::Int64)\u001b[0m\nClosest candidates are:\n  Taylor{T<:Number}{T}(::Any) at sysimg.jl:53\u001b[0m",
     "output_type": "error",
     "traceback": [
      "MethodError: no method matching Taylor{T<:Number}(::Array{Int64,1}, ::Int64)\u001b[0m\nClosest candidates are:\n  Taylor{T<:Number}{T}(::Any) at sysimg.jl:53\u001b[0m",
      ""
     ]
    }
   ],
   "source": [
    "Taylor([1,2,3,4],6)"
   ]
  },
  {
   "cell_type": "code",
   "execution_count": 5,
   "metadata": {
    "collapsed": false
   },
   "outputs": [
    {
     "data": {
      "text/plain": [
       "Taylor{Int64}([1,2,3,4,0,0,0],6)"
      ]
     },
     "execution_count": 5,
     "metadata": {},
     "output_type": "execute_result"
    }
   ],
   "source": [
    "#Para que lo anterior funcione debemos especificar el tipo\n",
    "Taylor{Int64}([1,2,3,4],6)"
   ]
  },
  {
   "cell_type": "code",
   "execution_count": 6,
   "metadata": {
    "collapsed": false
   },
   "outputs": [
    {
     "data": {
      "text/plain": [
       "Taylor{T<:Number}"
      ]
     },
     "execution_count": 6,
     "metadata": {},
     "output_type": "execute_result"
    }
   ],
   "source": [
    "#Con esto evitamos escribir el tipo cada vez.\n",
    "Taylor{T<:Number}(v::Array{T,1},n::Int)=Taylor{T}(v,n)"
   ]
  },
  {
   "cell_type": "code",
   "execution_count": 7,
   "metadata": {
    "collapsed": false
   },
   "outputs": [
    {
     "data": {
      "text/plain": [
       "Taylor{Int64}([0,1,2],2)"
      ]
     },
     "execution_count": 7,
     "metadata": {},
     "output_type": "execute_result"
    }
   ],
   "source": [
    "Taylor([0,1,2],2) #caso lenght(v)=grado"
   ]
  },
  {
   "cell_type": "code",
   "execution_count": 8,
   "metadata": {
    "collapsed": false
   },
   "outputs": [
    {
     "data": {
      "text/plain": [
       "Taylor{Int64}([0,1,2,0],3)"
      ]
     },
     "execution_count": 8,
     "metadata": {},
     "output_type": "execute_result"
    }
   ],
   "source": [
    "Taylor([0,1,2],3) #caso lenght(v)<grado"
   ]
  },
  {
   "cell_type": "code",
   "execution_count": 9,
   "metadata": {
    "collapsed": false
   },
   "outputs": [
    {
     "data": {
      "text/plain": [
       "Taylor{Int64}([0,1,2],2)"
      ]
     },
     "execution_count": 9,
     "metadata": {},
     "output_type": "execute_result"
    }
   ],
   "source": [
    "Taylor([0,1,2],1) #caso lenght(v)>grado"
   ]
  },
  {
   "cell_type": "code",
   "execution_count": 10,
   "metadata": {
    "collapsed": false
   },
   "outputs": [
    {
     "data": {
      "text/plain": [
       "Taylor{Float64}([1.0,2.3,5.9,4.0,0.0,0.0],5)"
      ]
     },
     "execution_count": 10,
     "metadata": {},
     "output_type": "execute_result"
    }
   ],
   "source": [
    "#Notemos que no fue necesario hacer un promote\n",
    "Taylor([1.0,2.3,5.9,4],5)"
   ]
  },
  {
   "cell_type": "code",
   "execution_count": 11,
   "metadata": {
    "collapsed": false
   },
   "outputs": [
    {
     "ename": "LoadError",
     "evalue": "MethodError: no method matching +(::Taylor{Int64}, ::Taylor{Int64})\u001b[0m\nClosest candidates are:\n  +(::Any, ::Any, \u001b[1m\u001b[31m::Any\u001b[0m, \u001b[1m\u001b[31m::Any...\u001b[0m) at operators.jl:138\u001b[0m",
     "output_type": "error",
     "traceback": [
      "MethodError: no method matching +(::Taylor{Int64}, ::Taylor{Int64})\u001b[0m\nClosest candidates are:\n  +(::Any, ::Any, \u001b[1m\u001b[31m::Any\u001b[0m, \u001b[1m\u001b[31m::Any...\u001b[0m) at operators.jl:138\u001b[0m",
      ""
     ]
    }
   ],
   "source": [
    "#Ahora necesitamos un método para que la suma entre objetos de tipo taylor tenga sentido.\n",
    "\n",
    "Taylor([1,2,3,4],3)+Taylor([9,8,7,6],3) #mismo grado\n",
    "Taylor([1,2,3,4],7)+Taylor([9,8],2)     #diferente grado"
   ]
  },
  {
   "cell_type": "markdown",
   "metadata": {
    "collapsed": false
   },
   "source": [
    "Veamos cómo separar los elementos de un objeto tipo taylor"
   ]
  },
  {
   "cell_type": "code",
   "execution_count": 12,
   "metadata": {
    "collapsed": false
   },
   "outputs": [
    {
     "data": {
      "text/plain": [
       "Taylor{Int64}([0,1,2,3,0,0],5)"
      ]
     },
     "execution_count": 12,
     "metadata": {},
     "output_type": "execute_result"
    }
   ],
   "source": [
    "alfa = Taylor([0,1,2,3],5)"
   ]
  },
  {
   "cell_type": "code",
   "execution_count": 13,
   "metadata": {
    "collapsed": false
   },
   "outputs": [
    {
     "data": {
      "text/plain": [
       "6-element Array{Int64,1}:\n",
       " 0\n",
       " 1\n",
       " 2\n",
       " 3\n",
       " 0\n",
       " 0"
      ]
     },
     "execution_count": 13,
     "metadata": {},
     "output_type": "execute_result"
    }
   ],
   "source": [
    "alfa.cofun #Obtenemos solo el vector"
   ]
  },
  {
   "cell_type": "code",
   "execution_count": 14,
   "metadata": {
    "collapsed": false
   },
   "outputs": [
    {
     "data": {
      "text/plain": [
       "3"
      ]
     },
     "execution_count": 14,
     "metadata": {},
     "output_type": "execute_result"
    }
   ],
   "source": [
    "alfa.cofun[4] # Obtenemos un elemento del vector"
   ]
  },
  {
   "cell_type": "code",
   "execution_count": 15,
   "metadata": {
    "collapsed": false
   },
   "outputs": [
    {
     "data": {
      "text/plain": [
       "5"
      ]
     },
     "execution_count": 15,
     "metadata": {},
     "output_type": "execute_result"
    }
   ],
   "source": [
    "alfa.grado #Obtenemos solo el grado"
   ]
  },
  {
   "cell_type": "markdown",
   "metadata": {
    "collapsed": false
   },
   "source": [
    "# Operaciones"
   ]
  },
  {
   "cell_type": "markdown",
   "metadata": {
    "collapsed": false
   },
   "source": [
    "A continuación creamos los métodos necesarios para poder operar con los objetos tipo Taylor. La siguiente línea nos permite introducir las operaciones básicas de suma,resta,multiplicación,división y comparación."
   ]
  },
  {
   "cell_type": "code",
   "execution_count": 16,
   "metadata": {
    "collapsed": false
   },
   "outputs": [],
   "source": [
    "import Base: +, -, *, /, ==,^"
   ]
  },
  {
   "cell_type": "code",
   "execution_count": 17,
   "metadata": {
    "collapsed": false
   },
   "outputs": [
    {
     "data": {
      "text/plain": [
       "Taylor{Int64}([9,8,7,6],3)"
      ]
     },
     "execution_count": 17,
     "metadata": {},
     "output_type": "execute_result"
    }
   ],
   "source": [
    "a1=Taylor([1,2,3],3);b1=Taylor([9,8,7,6],3)"
   ]
  },
  {
   "cell_type": "code",
   "execution_count": 18,
   "metadata": {
    "collapsed": false
   },
   "outputs": [
    {
     "data": {
      "text/plain": [
       "Taylor{Int64}([9,8,0,0,0,0,0,0],7)"
      ]
     },
     "execution_count": 18,
     "metadata": {},
     "output_type": "execute_result"
    }
   ],
   "source": [
    "c1=Taylor([1,2,3,4],2);d1=Taylor([9,8],7)"
   ]
  },
  {
   "cell_type": "markdown",
   "metadata": {},
   "source": [
    "### Suma"
   ]
  },
  {
   "cell_type": "markdown",
   "metadata": {},
   "source": [
    "\\begin{eqnarray}\n",
    "(f+g)_{[k]} & = & f_{[k]} + g_{[k]}\n",
    "\\end{eqnarray}"
   ]
  },
  {
   "cell_type": "code",
   "execution_count": 19,
   "metadata": {
    "collapsed": false
   },
   "outputs": [
    {
     "data": {
      "text/plain": [
       "tsuma (generic function with 1 method)"
      ]
     },
     "execution_count": 19,
     "metadata": {},
     "output_type": "execute_result"
    }
   ],
   "source": [
    "function tsuma(a,b)\n",
    "    #Comparamos la longitud de los vectores\n",
    "    \n",
    "    la=length(a.cofun)\n",
    "    lb=length(b.cofun)\n",
    " \n",
    "    if a.grado==b.grado #Si los grados son iguales\n",
    "        \n",
    "            grado_principal=a.grado\n",
    "\n",
    "            suma=a.cofun+b.cofun\n",
    "        \n",
    "    elseif a.grado>b.grado\n",
    "        \n",
    "            grado_principal=a.grado #El grado pricipal es el mayor de los grados\n",
    "        \n",
    "            ceros=zeros(la-lb)\n",
    "            b=copy(b.cofun)  \n",
    "            for i=1:length(ceros)\n",
    "                b=push!(b,ceros[i])\n",
    "            end\n",
    "            \n",
    "            suma=a.cofun+b\n",
    "        \n",
    "    else \n",
    "       \n",
    "            grado_principal=b.grado #El grado pricipal es el mayor de los grados\n",
    "        \n",
    "            ceros=zeros(lb-la) #Creamos un vector con ceros para igualar en tamaño\n",
    "            a=copy(a.cofun)                   #al vector más chico.\n",
    "           \n",
    "            for i=1:length(ceros) #Agragamos los ceros al vector chico\n",
    "                a=push!(a,ceros[i])\n",
    "            end\n",
    "            \n",
    "            suma=a+b.cofun \n",
    "               \n",
    "    end   \n",
    "                                              \n",
    "    return Taylor(suma,grado_principal)\n",
    "    \n",
    "end"
   ]
  },
  {
   "cell_type": "code",
   "execution_count": 20,
   "metadata": {
    "collapsed": false
   },
   "outputs": [
    {
     "data": {
      "text/plain": [
       "Taylor{Int64}([10,10,10,6],3)"
      ]
     },
     "execution_count": 20,
     "metadata": {},
     "output_type": "execute_result"
    }
   ],
   "source": [
    "tsuma(a1,b1)"
   ]
  },
  {
   "cell_type": "code",
   "execution_count": 21,
   "metadata": {
    "collapsed": false
   },
   "outputs": [
    {
     "data": {
      "text/plain": [
       "Taylor{Int64}([10,10,3,4,0,0,0,0],7)"
      ]
     },
     "execution_count": 21,
     "metadata": {},
     "output_type": "execute_result"
    }
   ],
   "source": [
    "tsuma(c1,d1)"
   ]
  },
  {
   "cell_type": "code",
   "execution_count": 22,
   "metadata": {
    "collapsed": false
   },
   "outputs": [
    {
     "data": {
      "text/plain": [
       "Taylor{Int64}([10,10,3,4,0,0,0,0],7)"
      ]
     },
     "execution_count": 22,
     "metadata": {},
     "output_type": "execute_result"
    }
   ],
   "source": [
    "tsuma(d1,c1)"
   ]
  },
  {
   "cell_type": "markdown",
   "metadata": {},
   "source": [
    "Para tener la implementación de la suma,falta hacer que la siguiente línea tenga sentido:"
   ]
  },
  {
   "cell_type": "code",
   "execution_count": 23,
   "metadata": {
    "collapsed": false
   },
   "outputs": [
    {
     "ename": "LoadError",
     "evalue": "MethodError: no method matching +(::Taylor{Int64}, ::Taylor{Int64})\u001b[0m\nClosest candidates are:\n  +(::Any, ::Any, \u001b[1m\u001b[31m::Any\u001b[0m, \u001b[1m\u001b[31m::Any...\u001b[0m) at operators.jl:138\u001b[0m",
     "output_type": "error",
     "traceback": [
      "MethodError: no method matching +(::Taylor{Int64}, ::Taylor{Int64})\u001b[0m\nClosest candidates are:\n  +(::Any, ::Any, \u001b[1m\u001b[31m::Any\u001b[0m, \u001b[1m\u001b[31m::Any...\u001b[0m) at operators.jl:138\u001b[0m",
      ""
     ]
    }
   ],
   "source": [
    "c1+d1"
   ]
  },
  {
   "cell_type": "markdown",
   "metadata": {},
   "source": [
    "Lo cual, logramos con lo siguiente:"
   ]
  },
  {
   "cell_type": "code",
   "execution_count": 24,
   "metadata": {
    "collapsed": false
   },
   "outputs": [
    {
     "data": {
      "text/plain": [
       "+ (generic function with 165 methods)"
      ]
     },
     "execution_count": 24,
     "metadata": {},
     "output_type": "execute_result"
    }
   ],
   "source": [
    "+(f::Taylor, g::Taylor) = tsuma(f,g)"
   ]
  },
  {
   "cell_type": "code",
   "execution_count": 25,
   "metadata": {
    "collapsed": false
   },
   "outputs": [
    {
     "data": {
      "text/plain": [
       "Taylor{Int64}([10,10,3,4,0,0,0,0],7)"
      ]
     },
     "execution_count": 25,
     "metadata": {},
     "output_type": "execute_result"
    }
   ],
   "source": [
    "c1+d1"
   ]
  },
  {
   "cell_type": "markdown",
   "metadata": {},
   "source": [
    "### Resta"
   ]
  },
  {
   "cell_type": "markdown",
   "metadata": {},
   "source": [
    "\n",
    "\\begin{eqnarray}\n",
    "(f-g)_{[k]} & = & f_{[k]} - g_{[k]}\n",
    "\\end{eqnarray}"
   ]
  },
  {
   "cell_type": "code",
   "execution_count": 26,
   "metadata": {
    "collapsed": false
   },
   "outputs": [
    {
     "data": {
      "text/plain": [
       "tresta (generic function with 1 method)"
      ]
     },
     "execution_count": 26,
     "metadata": {},
     "output_type": "execute_result"
    }
   ],
   "source": [
    "function tresta(a,b)\n",
    "    #Comparamos la longitud de los vectores\n",
    "    \n",
    "    la=length(a.cofun)\n",
    "    lb=length(b.cofun)\n",
    " \n",
    "    if a.grado==b.grado #Si los grados son iguales\n",
    "        \n",
    "            grado_principal=a.grado\n",
    "\n",
    "            resta=a.cofun-b.cofun\n",
    "        \n",
    "    elseif a.grado>b.grado\n",
    "        \n",
    "            grado_principal=a.grado #El grado pricipal es el mayor de los grados\n",
    "        \n",
    "            ceros=zeros(la-lb)\n",
    "            b=copy(b.cofun)  \n",
    "            for i=1:length(ceros)\n",
    "                b=push!(b,ceros[i])\n",
    "            end\n",
    "            \n",
    "            resta=a.cofun-b\n",
    "        \n",
    "    else \n",
    "       \n",
    "            grado_principal=b.grado #El grado pricipal es el mayor de los grados\n",
    "        \n",
    "            ceros=zeros(lb-la) #Creamos un vector con ceros para igualar en tamaño\n",
    "            a=copy(a.cofun)                   #al vector más chico.\n",
    "           \n",
    "            for i=1:length(ceros) #Agragamos los ceros al vector chico\n",
    "                a=push!(a,ceros[i])\n",
    "            end\n",
    "            \n",
    "            resta=a-b.cofun \n",
    "               \n",
    "    end   \n",
    "                                              \n",
    "    return Taylor(resta,grado_principal)\n",
    "    \n",
    "end"
   ]
  },
  {
   "cell_type": "code",
   "execution_count": 27,
   "metadata": {
    "collapsed": false
   },
   "outputs": [
    {
     "data": {
      "text/plain": [
       "Taylor{Int64}([-8,-6,-4,-6],3)"
      ]
     },
     "execution_count": 27,
     "metadata": {},
     "output_type": "execute_result"
    }
   ],
   "source": [
    "tresta(a1,b1)"
   ]
  },
  {
   "cell_type": "code",
   "execution_count": 28,
   "metadata": {
    "collapsed": false
   },
   "outputs": [
    {
     "data": {
      "text/plain": [
       "Taylor{Int64}([-8,-6,-4,-2],3)"
      ]
     },
     "execution_count": 28,
     "metadata": {},
     "output_type": "execute_result"
    }
   ],
   "source": [
    "tresta(c1,b1)"
   ]
  },
  {
   "cell_type": "code",
   "execution_count": 29,
   "metadata": {
    "collapsed": false
   },
   "outputs": [
    {
     "data": {
      "text/plain": [
       "Taylor{Int64}([8,6,4,2],3)"
      ]
     },
     "execution_count": 29,
     "metadata": {},
     "output_type": "execute_result"
    }
   ],
   "source": [
    "tresta(b1,c1)"
   ]
  },
  {
   "cell_type": "markdown",
   "metadata": {},
   "source": [
    "Resta de objetos tipo Taylor:"
   ]
  },
  {
   "cell_type": "code",
   "execution_count": 30,
   "metadata": {
    "collapsed": false
   },
   "outputs": [
    {
     "data": {
      "text/plain": [
       "- (generic function with 192 methods)"
      ]
     },
     "execution_count": 30,
     "metadata": {},
     "output_type": "execute_result"
    }
   ],
   "source": [
    "-(f::Taylor, g::Taylor) = tresta(f,g)"
   ]
  },
  {
   "cell_type": "code",
   "execution_count": 31,
   "metadata": {
    "collapsed": false
   },
   "outputs": [
    {
     "data": {
      "text/plain": [
       "Taylor{Int64}([8,6,4,2],3)"
      ]
     },
     "execution_count": 31,
     "metadata": {},
     "output_type": "execute_result"
    }
   ],
   "source": [
    "b1-c1"
   ]
  },
  {
   "cell_type": "code",
   "execution_count": 32,
   "metadata": {
    "collapsed": false
   },
   "outputs": [
    {
     "data": {
      "text/plain": [
       "Taylor{Int64}([0,0,0,0],3)"
      ]
     },
     "execution_count": 32,
     "metadata": {},
     "output_type": "execute_result"
    }
   ],
   "source": [
    "Taylor([1,2,3],3)-Taylor([1,2,3],3)"
   ]
  },
  {
   "cell_type": "markdown",
   "metadata": {},
   "source": [
    "### Multiplicación"
   ]
  },
  {
   "cell_type": "markdown",
   "metadata": {},
   "source": [
    "\\begin{eqnarray}\n",
    "(f \\cdot g)_{[k]} & = & \\sum_{i=0}^k f_{[i]} \\,g_{[k-i]}\n",
    "\\end{eqnarray}"
   ]
  },
  {
   "cell_type": "markdown",
   "metadata": {},
   "source": [
    "Debemos notar que, dado un vector $v$, la entrada $v[0]$ no está definida, por lo que la suma no podrá iniciar en cero. Por ello cambiaremos los índices de la expresión anterior de modo tal que la suma inicie con $i=1$ "
   ]
  },
  {
   "cell_type": "markdown",
   "metadata": {},
   "source": [
    "\\begin{eqnarray}\n",
    "(f \\cdot g)_{[k]} & = & \\sum_{i=1}^k f_{[i]} \\,g_{[k+1-i]}\n",
    "\\end{eqnarray}"
   ]
  },
  {
   "cell_type": "code",
   "execution_count": 33,
   "metadata": {
    "collapsed": false
   },
   "outputs": [
    {
     "data": {
      "text/plain": [
       "tmulti (generic function with 1 method)"
      ]
     },
     "execution_count": 33,
     "metadata": {},
     "output_type": "execute_result"
    }
   ],
   "source": [
    "function tmulti(a,b)\n",
    "    \n",
    "#=---------------------Multiplicación de los vectores-------------------------=#\n",
    "        \n",
    "        grado_principal=a.grado+b.grado #obtenemos el grado  principal\n",
    "    \n",
    "        #Copiamos los vectores para no modificar los originales\n",
    "        a=copy(a.cofun)\n",
    "        b=copy(b.cofun)\n",
    "        \n",
    "        #Para los polinomios p = [1,1] y q = [1-1]\n",
    "        #Si creamos las entradas extra a[3]=b[3]=0 , de la siguiente forma:\n",
    "                     #a=push!(a,0)\n",
    "                     #b=push!(b,0)\n",
    "        #De este modo, el método nos da todas las entradas del polinomio resultante.\n",
    "        #Sin embargo, esto no funciona para otros polinomios.\n",
    "       \n",
    "        \n",
    "        #Obtenemos la longitud de los vectores\n",
    "        la=length(a)\n",
    "        lb=length(b)\n",
    "    \n",
    "        suma=zeros(la) #Aquí estamos truncando la multiplicación, \n",
    "                       #pues el arreglo del resultado\n",
    "                       #puede ser mayor que el de los vectores de entrada. \n",
    "#************************************************************************************* \n",
    "    if la==lb\n",
    "        \n",
    "            for k=1:la\n",
    "                for i=1:k\n",
    "                    suma[k]+=a[i]*b[k+1-i]\n",
    "                end\n",
    "            end \n",
    "        \n",
    "    elseif la<lb  \n",
    "                #-------------Ajuste de logitud--------------\n",
    "\n",
    "            lc=lb-la #Calculamos la diferencia de las longitudes\n",
    "            ceros=zeros(lc) #Creamos un vector con ceros para igualar en tamaño\n",
    "                            #al vector más chico.\n",
    "\n",
    "            for i=1:length(ceros) #Agregamos los ceros al vector chico\n",
    "                a=push!(a,ceros[i])\n",
    "            end\n",
    "                #---------------------------------------------\n",
    "            for k=1:la\n",
    "                for i=1:k\n",
    "                    suma[k]+=a[i]*b[k+1-i]\n",
    "                end\n",
    "            end \n",
    "        \n",
    "     else\n",
    "             #-------------Ajuste de logitud---------------\n",
    "            lc=la-lb\n",
    "            ceros=zeros(lc)       \n",
    "\n",
    "            for i=1:length(ceros)\n",
    "                b=push!(b,ceros[i])\n",
    "            end\n",
    "             #---------------------------------------------  \n",
    "            for k=1:la\n",
    "                for i=1:k\n",
    "                    suma[k]+=a[i]*b[k+1-i]\n",
    "                end\n",
    "            end \n",
    "        \n",
    "    end  \n",
    "        \n",
    "    return Taylor(suma,grado_principal)\n",
    "    \n",
    "end   "
   ]
  },
  {
   "cell_type": "code",
   "execution_count": 34,
   "metadata": {
    "collapsed": false
   },
   "outputs": [
    {
     "data": {
      "text/plain": [
       "Taylor{Int64}([1,-1],1)"
      ]
     },
     "execution_count": 34,
     "metadata": {},
     "output_type": "execute_result"
    }
   ],
   "source": [
    "e1=Taylor([1,1],1);e2=Taylor([1,-1],1)"
   ]
  },
  {
   "cell_type": "code",
   "execution_count": 35,
   "metadata": {
    "collapsed": false
   },
   "outputs": [
    {
     "data": {
      "text/plain": [
       "Taylor{Float64}([1.0,0.0,0.0],2)"
      ]
     },
     "execution_count": 35,
     "metadata": {},
     "output_type": "execute_result"
    }
   ],
   "source": [
    "tmulti(e1,e2)"
   ]
  },
  {
   "cell_type": "code",
   "execution_count": 36,
   "metadata": {
    "collapsed": false
   },
   "outputs": [
    {
     "data": {
      "text/plain": [
       "Taylor{Int64}([1,0,0,-1],3)"
      ]
     },
     "execution_count": 36,
     "metadata": {},
     "output_type": "execute_result"
    }
   ],
   "source": [
    "d1=Taylor([1,0,0,-1],3)"
   ]
  },
  {
   "cell_type": "code",
   "execution_count": 37,
   "metadata": {
    "collapsed": false
   },
   "outputs": [
    {
     "data": {
      "text/plain": [
       "Taylor{Float64}([1.0,0.0,0.0,-2.0,0.0,0.0,0.0],6)"
      ]
     },
     "execution_count": 37,
     "metadata": {},
     "output_type": "execute_result"
    }
   ],
   "source": [
    "tmulti(d1,d1)"
   ]
  },
  {
   "cell_type": "code",
   "execution_count": 38,
   "metadata": {
    "collapsed": false
   },
   "outputs": [
    {
     "data": {
      "text/plain": [
       "Taylor{Float64}([1.0,1.0,0.0,0.0,0.0],4)"
      ]
     },
     "execution_count": 38,
     "metadata": {},
     "output_type": "execute_result"
    }
   ],
   "source": [
    "tmulti(e1,d1)"
   ]
  },
  {
   "cell_type": "code",
   "execution_count": 39,
   "metadata": {
    "collapsed": false
   },
   "outputs": [
    {
     "data": {
      "text/plain": [
       "Taylor{Float64}([1.0,1.0,0.0,-1.0,0.0],4)"
      ]
     },
     "execution_count": 39,
     "metadata": {},
     "output_type": "execute_result"
    }
   ],
   "source": [
    "tmulti(d1,e1)"
   ]
  },
  {
   "cell_type": "code",
   "execution_count": 40,
   "metadata": {
    "collapsed": false
   },
   "outputs": [
    {
     "data": {
      "text/plain": [
       "Taylor{Int64}([1,1],1)"
      ]
     },
     "execution_count": 40,
     "metadata": {},
     "output_type": "execute_result"
    }
   ],
   "source": [
    "e2=Taylor([1,1],1)"
   ]
  },
  {
   "cell_type": "code",
   "execution_count": 41,
   "metadata": {
    "collapsed": false
   },
   "outputs": [
    {
     "data": {
      "text/plain": [
       "Taylor{Float64}([1.0,2.0,0.0],2)"
      ]
     },
     "execution_count": 41,
     "metadata": {},
     "output_type": "execute_result"
    }
   ],
   "source": [
    "tmulti(e2,e2)"
   ]
  },
  {
   "cell_type": "markdown",
   "metadata": {},
   "source": [
    "Multiplicación de objetos tipo Taylor:"
   ]
  },
  {
   "cell_type": "code",
   "execution_count": 42,
   "metadata": {
    "collapsed": false
   },
   "outputs": [
    {
     "data": {
      "text/plain": [
       "* (generic function with 151 methods)"
      ]
     },
     "execution_count": 42,
     "metadata": {},
     "output_type": "execute_result"
    }
   ],
   "source": [
    "*(f::Taylor, g::Taylor) = tmulti(f,g)"
   ]
  },
  {
   "cell_type": "code",
   "execution_count": 43,
   "metadata": {
    "collapsed": false
   },
   "outputs": [
    {
     "data": {
      "text/plain": [
       "Taylor{Float64}([8.0,16.0,24.0,32.0,0.0,0.0,0.0],6)"
      ]
     },
     "execution_count": 43,
     "metadata": {},
     "output_type": "execute_result"
    }
   ],
   "source": [
    "Taylor([1,1,1,1],1)*Taylor([8,8,8,8],3)"
   ]
  },
  {
   "cell_type": "code",
   "execution_count": 44,
   "metadata": {
    "collapsed": false
   },
   "outputs": [
    {
     "data": {
      "text/plain": [
       "Taylor{Float64}([8.0,16.0,24.0,32.0,0.0,0.0,0.0],6)"
      ]
     },
     "execution_count": 44,
     "metadata": {},
     "output_type": "execute_result"
    }
   ],
   "source": [
    "Taylor([8,8,8,8],3)*Taylor([1,1,1,1],1)"
   ]
  },
  {
   "cell_type": "code",
   "execution_count": 45,
   "metadata": {
    "collapsed": false
   },
   "outputs": [
    {
     "data": {
      "text/plain": [
       "Taylor{Float64}([8.0,16.0,24.0,32.0,24.0,0.0,0.0,0.0],7)"
      ]
     },
     "execution_count": 45,
     "metadata": {},
     "output_type": "execute_result"
    }
   ],
   "source": [
    "Taylor([8,8,8,8],4)*Taylor([1,1,1,1],3)"
   ]
  },
  {
   "cell_type": "markdown",
   "metadata": {},
   "source": [
    "### División"
   ]
  },
  {
   "cell_type": "markdown",
   "metadata": {},
   "source": [
    "\n",
    "\\begin{eqnarray}\n",
    "\\Big(\\frac{f}{g}\\Big)_{[k]} & = & \\frac{1}{g_{[0]}}\n",
    "\\Big( f_{[k]} - \\sum_{i=0}^{k-1} \\big(\\frac{f}{g}\\big)_{[i]} \\, g_{[k-i]} \\Big) \n",
    "\\end{eqnarray}"
   ]
  },
  {
   "cell_type": "markdown",
   "metadata": {},
   "source": [
    "Al igual que en el caso de la multiplicación,la suma no podrá iniciar en cero. Por ello cambiaremos los índices de la expresión anterior de modo tal que la suma inicie con $i=1$ "
   ]
  },
  {
   "cell_type": "markdown",
   "metadata": {},
   "source": [
    "\\begin{eqnarray}\n",
    "\\Big(\\frac{f}{g}\\Big)_{[k]} & = & \\frac{1}{g_{[1]}}\n",
    "\\Big( f_{[k]} - \\sum_{i=1}^{k} \\big(\\frac{f}{g}\\big)_{[i]} \\, g_{[k+1-i]} \\Big) \n",
    "\\end{eqnarray}"
   ]
  },
  {
   "cell_type": "code",
   "execution_count": 46,
   "metadata": {
    "collapsed": false
   },
   "outputs": [
    {
     "data": {
      "text/plain": [
       "tdiv (generic function with 1 method)"
      ]
     },
     "execution_count": 46,
     "metadata": {},
     "output_type": "execute_result"
    }
   ],
   "source": [
    "function tdiv(a,b)\n",
    "  #=---------------------División de los vectores-------------------------=#  \n",
    "       \n",
    "        grado_principal=a.grado-b.grado #obtenemos el grado  principal\n",
    "    \n",
    "if grado_principal<0\n",
    "        return println(\"grado negativo\")\n",
    "end\n",
    "\n",
    "\n",
    "        #Copiamos los vectores para no modificar los originales\n",
    "        f=copy(a.cofun)\n",
    "        g=copy(b.cofun)\n",
    "        \n",
    "        #Obtenemos la longitud de los vectores\n",
    "        lenf=length(f)\n",
    "        leng=length(g)\n",
    "   #=------------------Ajuste de la longitud------------------------------=#     \n",
    "    if lenf<leng\n",
    "\n",
    "            lenc=leng-lenf #Calculamos la diferencia de las longitudes\n",
    "            ceros=zeros(lenc) #Creamos un vector con ceros para igualar en tamaño\n",
    "                            #al vector más chico.\n",
    "\n",
    "            for i=1:length(ceros) #Agregamos los ceros al vector chico\n",
    "                f=push!(f,ceros[i])\n",
    "            end\n",
    "    \n",
    "    elseif lenf<leng\n",
    "\n",
    "            lenc=lenf-leng\n",
    "            ceros=zeros(lenc)       \n",
    "\n",
    "            for i=1:length(ceros)\n",
    "                g=push!(g,ceros[i])\n",
    "            end\n",
    "            \n",
    "    end\n",
    " #************************************************************************************* \n",
    "divi = zeros(lenf)  \n",
    "\n",
    "    for k=1:length(divi) #(era -1)\n",
    "        suma=0 #Valor inicial de la suma\n",
    "        for i=1:k-1\n",
    "            suma+=(divi[i])*g[k+1-i]\n",
    "        end\n",
    "        divi[k]=(1/g[1])*(f[k]-suma)\n",
    "    end\n",
    "    for i=1:grado_principal+2:length(lenf)\n",
    "        if divi[i]==0\n",
    "            deleteat!(cociente,i)\n",
    "    end\n",
    "        end    \n",
    "    return Taylor(divi,grado_principal)\n",
    "end"
   ]
  },
  {
   "cell_type": "code",
   "execution_count": 47,
   "metadata": {
    "collapsed": false
   },
   "outputs": [
    {
     "data": {
      "text/plain": [
       "Taylor{Int64}([1,1],1)"
      ]
     },
     "execution_count": 47,
     "metadata": {},
     "output_type": "execute_result"
    }
   ],
   "source": [
    "m1=Taylor([1,1,1,1],3);m2=Taylor([1,1],1)"
   ]
  },
  {
   "cell_type": "code",
   "execution_count": 48,
   "metadata": {
    "collapsed": false
   },
   "outputs": [
    {
     "data": {
      "text/plain": [
       "Taylor{Int64}([1,2,3,4,5],4)"
      ]
     },
     "execution_count": 48,
     "metadata": {},
     "output_type": "execute_result"
    }
   ],
   "source": [
    "m4=Taylor([1,2,3,4,5],4)"
   ]
  },
  {
   "cell_type": "code",
   "execution_count": 49,
   "metadata": {
    "collapsed": false
   },
   "outputs": [
    {
     "ename": "LoadError",
     "evalue": "BoundsError: attempt to access 4-element Array{Int64,1} at index [5]",
     "output_type": "error",
     "traceback": [
      "BoundsError: attempt to access 4-element Array{Int64,1} at index [5]",
      "",
      " in tdiv(::Taylor{Int64}, ::Taylor{Int64}) at ./In[46]:45"
     ]
    }
   ],
   "source": [
    "tdiv(m4,m1)"
   ]
  },
  {
   "cell_type": "markdown",
   "metadata": {},
   "source": [
    "División de objetos tipo Taylor"
   ]
  },
  {
   "cell_type": "code",
   "execution_count": 50,
   "metadata": {
    "collapsed": false
   },
   "outputs": [
    {
     "data": {
      "text/plain": [
       "/ (generic function with 55 methods)"
      ]
     },
     "execution_count": 50,
     "metadata": {},
     "output_type": "execute_result"
    }
   ],
   "source": [
    "/(f::Taylor, g::Taylor) = tdiv(f,g)"
   ]
  },
  {
   "cell_type": "code",
   "execution_count": 51,
   "metadata": {
    "collapsed": false
   },
   "outputs": [
    {
     "data": {
      "text/plain": [
       "Taylor{Float64}([0.25,0.3125,0.390625,0.488281],3)"
      ]
     },
     "execution_count": 51,
     "metadata": {},
     "output_type": "execute_result"
    }
   ],
   "source": [
    "Taylor([1,2,3,4],3)/Taylor([4,3,2,1],3)"
   ]
  },
  {
   "cell_type": "code",
   "execution_count": 52,
   "metadata": {
    "collapsed": false
   },
   "outputs": [
    {
     "name": "stdout",
     "output_type": "stream",
     "text": [
      "grado negativo\n"
     ]
    }
   ],
   "source": [
    "Taylor([1,2,3,1],3)/Taylor([1,2,2,1],7)"
   ]
  },
  {
   "cell_type": "code",
   "execution_count": 53,
   "metadata": {
    "collapsed": false
   },
   "outputs": [
    {
     "data": {
      "text/plain": [
       "Taylor{Float64}([1.0,0.0,0.0,0.0],3)"
      ]
     },
     "execution_count": 53,
     "metadata": {},
     "output_type": "execute_result"
    }
   ],
   "source": [
    "Taylor([1,1,1,1],3)/Taylor([1,1,1,1],3)"
   ]
  },
  {
   "cell_type": "code",
   "execution_count": 54,
   "metadata": {
    "collapsed": false
   },
   "outputs": [
    {
     "data": {
      "text/plain": [
       "Taylor{Int64}([1,2,3,0],3)"
      ]
     },
     "execution_count": 54,
     "metadata": {},
     "output_type": "execute_result"
    }
   ],
   "source": [
    "a1"
   ]
  },
  {
   "cell_type": "code",
   "execution_count": 55,
   "metadata": {
    "collapsed": false
   },
   "outputs": [
    {
     "data": {
      "text/plain": [
       "Taylor{Int64}([9,8,7,6],3)"
      ]
     },
     "execution_count": 55,
     "metadata": {},
     "output_type": "execute_result"
    }
   ],
   "source": [
    "b1"
   ]
  },
  {
   "cell_type": "code",
   "execution_count": 56,
   "metadata": {
    "collapsed": false
   },
   "outputs": [
    {
     "data": {
      "text/plain": [
       "Taylor{Float64}([0.111111,0.123457,0.137174,-0.292029],3)"
      ]
     },
     "execution_count": 56,
     "metadata": {},
     "output_type": "execute_result"
    }
   ],
   "source": [
    "a1/b1"
   ]
  },
  {
   "cell_type": "code",
   "execution_count": 57,
   "metadata": {
    "collapsed": false
   },
   "outputs": [
    {
     "data": {
      "text/plain": [
       "Taylor{Int64}([9,8,7,6],3)"
      ]
     },
     "execution_count": 57,
     "metadata": {},
     "output_type": "execute_result"
    }
   ],
   "source": [
    "b1"
   ]
  },
  {
   "cell_type": "code",
   "execution_count": 58,
   "metadata": {
    "collapsed": false
   },
   "outputs": [
    {
     "data": {
      "text/plain": [
       "Taylor{Int64}([1,0,0,-1],3)"
      ]
     },
     "execution_count": 58,
     "metadata": {},
     "output_type": "execute_result"
    }
   ],
   "source": [
    "d1"
   ]
  },
  {
   "cell_type": "code",
   "execution_count": 59,
   "metadata": {
    "collapsed": false
   },
   "outputs": [
    {
     "data": {
      "text/plain": [
       "Taylor{Float64}([9.0,8.0,7.0,15.0],3)"
      ]
     },
     "execution_count": 59,
     "metadata": {},
     "output_type": "execute_result"
    }
   ],
   "source": [
    "b1/d1"
   ]
  },
  {
   "cell_type": "code",
   "execution_count": 60,
   "metadata": {
    "collapsed": false
   },
   "outputs": [
    {
     "data": {
      "text/plain": [
       "Taylor{Int64}([1,0,0,0,0],4)"
      ]
     },
     "execution_count": 60,
     "metadata": {},
     "output_type": "execute_result"
    }
   ],
   "source": [
    "uno = Taylor([1], 4)"
   ]
  },
  {
   "cell_type": "code",
   "execution_count": 61,
   "metadata": {
    "collapsed": false
   },
   "outputs": [
    {
     "data": {
      "text/plain": [
       "Taylor{Int64}([0,1,0,0,0],4)"
      ]
     },
     "execution_count": 61,
     "metadata": {},
     "output_type": "execute_result"
    }
   ],
   "source": [
    "x = Taylor([0,1], 4)"
   ]
  },
  {
   "cell_type": "code",
   "execution_count": 62,
   "metadata": {
    "collapsed": false
   },
   "outputs": [
    {
     "data": {
      "text/plain": [
       "Taylor{Float64}([1.0,1.0,1.0,1.0,1.0],4)"
      ]
     },
     "execution_count": 62,
     "metadata": {},
     "output_type": "execute_result"
    }
   ],
   "source": [
    "uno / (uno - x)"
   ]
  },
  {
   "cell_type": "markdown",
   "metadata": {},
   "source": [
    "### Comparación"
   ]
  },
  {
   "cell_type": "code",
   "execution_count": 63,
   "metadata": {
    "collapsed": false
   },
   "outputs": [
    {
     "data": {
      "text/plain": [
       "tcomp (generic function with 1 method)"
      ]
     },
     "execution_count": 63,
     "metadata": {},
     "output_type": "execute_result"
    }
   ],
   "source": [
    "function tcomp(a,b)\n",
    "    if a.cofun==b.cofun\n",
    "        return true\n",
    "    else\n",
    "        return false\n",
    "    end    \n",
    "end    "
   ]
  },
  {
   "cell_type": "code",
   "execution_count": 64,
   "metadata": {
    "collapsed": false
   },
   "outputs": [
    {
     "data": {
      "text/plain": [
       "Taylor{Int64}([1,2,3,0],3)"
      ]
     },
     "execution_count": 64,
     "metadata": {},
     "output_type": "execute_result"
    }
   ],
   "source": [
    "a1"
   ]
  },
  {
   "cell_type": "code",
   "execution_count": 65,
   "metadata": {
    "collapsed": false
   },
   "outputs": [
    {
     "data": {
      "text/plain": [
       "Taylor{Float64}([1.0,2.0,3.0,0.0],3)"
      ]
     },
     "execution_count": 65,
     "metadata": {},
     "output_type": "execute_result"
    }
   ],
   "source": [
    "a11 = Taylor([1.0,2.0,3.0,0.0],3)"
   ]
  },
  {
   "cell_type": "code",
   "execution_count": 66,
   "metadata": {
    "collapsed": false
   },
   "outputs": [
    {
     "data": {
      "text/plain": [
       "Taylor{Int64}([1,0,0,-1],3)"
      ]
     },
     "execution_count": 66,
     "metadata": {},
     "output_type": "execute_result"
    }
   ],
   "source": [
    "d1"
   ]
  },
  {
   "cell_type": "code",
   "execution_count": 67,
   "metadata": {
    "collapsed": false
   },
   "outputs": [
    {
     "data": {
      "text/plain": [
       "true"
      ]
     },
     "execution_count": 67,
     "metadata": {},
     "output_type": "execute_result"
    }
   ],
   "source": [
    "tcomp(a1,a1)"
   ]
  },
  {
   "cell_type": "code",
   "execution_count": 68,
   "metadata": {
    "collapsed": false
   },
   "outputs": [
    {
     "data": {
      "text/plain": [
       "false"
      ]
     },
     "execution_count": 68,
     "metadata": {},
     "output_type": "execute_result"
    }
   ],
   "source": [
    "tcomp(a1,d1)"
   ]
  },
  {
   "cell_type": "code",
   "execution_count": 69,
   "metadata": {
    "collapsed": false
   },
   "outputs": [
    {
     "data": {
      "text/plain": [
       "true"
      ]
     },
     "execution_count": 69,
     "metadata": {},
     "output_type": "execute_result"
    }
   ],
   "source": [
    "tcomp(a1,a11)"
   ]
  },
  {
   "cell_type": "code",
   "execution_count": 70,
   "metadata": {
    "collapsed": false
   },
   "outputs": [
    {
     "data": {
      "text/plain": [
       "== (generic function with 120 methods)"
      ]
     },
     "execution_count": 70,
     "metadata": {},
     "output_type": "execute_result"
    }
   ],
   "source": [
    "==(f::Taylor, g::Taylor) = tcomp(f,g)"
   ]
  },
  {
   "cell_type": "code",
   "execution_count": 71,
   "metadata": {
    "collapsed": false
   },
   "outputs": [
    {
     "data": {
      "text/plain": [
       "true"
      ]
     },
     "execution_count": 71,
     "metadata": {},
     "output_type": "execute_result"
    }
   ],
   "source": [
    "a1==a1"
   ]
  },
  {
   "cell_type": "code",
   "execution_count": 72,
   "metadata": {
    "collapsed": false
   },
   "outputs": [
    {
     "data": {
      "text/plain": [
       "Taylor{Int64}([0,1,0,0],3)"
      ]
     },
     "execution_count": 72,
     "metadata": {},
     "output_type": "execute_result"
    }
   ],
   "source": [
    "a = Taylor([0,1], 3)"
   ]
  },
  {
   "cell_type": "code",
   "execution_count": 73,
   "metadata": {
    "collapsed": false
   },
   "outputs": [
    {
     "data": {
      "text/plain": [
       "Taylor{Int64}([0,1,0,0],3)"
      ]
     },
     "execution_count": 73,
     "metadata": {},
     "output_type": "execute_result"
    }
   ],
   "source": [
    "b = Taylor([0,1], 3)"
   ]
  },
  {
   "cell_type": "code",
   "execution_count": 74,
   "metadata": {
    "collapsed": false
   },
   "outputs": [
    {
     "data": {
      "text/plain": [
       "true"
      ]
     },
     "execution_count": 74,
     "metadata": {},
     "output_type": "execute_result"
    }
   ],
   "source": [
    "a==b"
   ]
  },
  {
   "cell_type": "code",
   "execution_count": 75,
   "metadata": {
    "collapsed": false
   },
   "outputs": [],
   "source": [
    "#=import Base: +, -, *, /, ==\n",
    "\n",
    "# Aqui se implementan los métodos necesarios para cada función\n",
    "+(f::Taylor, g::Taylor) = Taylor(f.cofun+g.cofun)\n",
    "-(f::Taylor, g::Taylor) = Taylor(f.cofun-g.cofun)=#"
   ]
  },
  {
   "cell_type": "code",
   "execution_count": 1,
   "metadata": {
    "collapsed": false
   },
   "outputs": [
    {
     "name": "stdout",
     "output_type": "stream",
     "text": [
      "\u001b[1m\u001b[37mTest Summary:                      | \u001b[0m\u001b[1m\u001b[32mPass  \u001b[0m\u001b[1m\u001b[34mTotal\u001b[0m\n",
      "  pruebas de operaciones para Taylor | \u001b[1m\u001b[32m  19  \u001b[0m\u001b[1m\u001b[34m   19\u001b[0m\n"
     ]
    },
    {
     "data": {
      "text/plain": [
       "Base.Test.DefaultTestSet(\"pruebas de operaciones para Taylor\",Any[],19,false)"
      ]
     },
     "execution_count": 1,
     "metadata": {},
     "output_type": "execute_result"
    }
   ],
   "source": [
    "# Muestren que su código funciona con tests adecuados\n",
    "\n",
    "using Base.Test\n",
    "include(\"taylor.jl\")\n",
    "\n",
    "using Ty\n",
    "\n",
    "@testset \"pruebas de operaciones para Taylor\" begin\n",
    "    \n",
    "    @test Taylor([1,2,3],3)+Taylor([9,8,7,6],3)==Taylor([10,10,10,6],3)\n",
    "    @test Taylor([10,10,10,6],3)+Taylor([1,2,3,4,5],6)==Taylor([11,12,13,10,5,0,0],6)\n",
    "    @test Taylor([1,2,3,4,5],6)+Taylor([1.0,2.0,3.0,4.0,5.0],4)==Taylor([2.0,4.0,6.0,8.0,10.0,0.0,0.0],6)\n",
    "    @test Taylor([1,2,3,4,5],6)+Taylor([-1,-2,-3,-4,5],6)==Taylor([0,0,0,0,10,0,0],6)\n",
    "    @test Taylor([1,2,3],3)-Taylor([9,8,7,6],3)==Taylor([-8,-6,-4,-6],3)\n",
    "    @test Taylor([10,10,10,6],3)-Taylor([1,2,3,4,5],6)==Taylor([9,8,7,2,-5,0,0],6)\n",
    "    @test Taylor([1,2,3,4,5],6)-Taylor([1.0,2.0,3.0,4.0,5.0],4)==Taylor([0.0,0.0,0.0,0.0,0.0,0.0,0.0],6)\n",
    "    @test Taylor([1,2,3,4,5],6)-Taylor([-1,-2,-3,-4,5],6)==Taylor([2,4,6,8,0,0,0],6)\n",
    "    @test Taylor([1,1,1,1],1)*Taylor([8,8,8,8],3)==Taylor([8.0,16.0,24.0,32.0,0.0,0.0,0.0],6)\n",
    "    @test Taylor([8,8,8,8],4)*Taylor([1,1,1,1],3)==Taylor([8.0,16.0,24.0,32.0,24.0,0.0,0.0,0.0],7)\n",
    "    @test Taylor([8,7,6,5],4)*Taylor([1.0,2.0,3.0,1],3)==Taylor([8.0,23.0,44.0,46.0,35.0,0.0,0.0,0.0],7)\n",
    "    @test Taylor([8,7,-6,-5],4)*Taylor([1.0,-2.0,3.0,-1],3)==Taylor([8.0,-9.0,4.0,20.0,-15.0,0.0,0.0,0.0],7)\n",
    "    @test Taylor([1,1,3,4],3)/Taylor([1,3,2,1],3)==Taylor([1.0,-2.0,7.0,-14.0],3)\n",
    "    @test Taylor([1,1,1,1],3)/Taylor([1,1,1,1],3)==Taylor([1.0,0.0,0.0,0.0],3)\n",
    "    @test Taylor([1,0,3,0],3)/Taylor([1,0,0,6],3)==Taylor{Float64}([1.0,0.0,3.0,-6.0],3)\n",
    "    @test Taylor([9,8,7,6],3)/Taylor{Int64}([1,0,0,-1],3)==Taylor([9.0,8.0,7.0,15.0],3)\n",
    "    @test Taylor([1,1],2)^3==Taylor{Int64}([1,3,3,1,0,0,0],6)\n",
    "    @test Taylor([1,2,3,4],3)^3==Taylor([1,6,21,56,111,0,0,0,0,0],9)\n",
    "    @test Taylor([1,2],1)^8==Taylor{Int64}([1,16,112,0,0,0,0,0,0],8)\n",
    "end\n",
    "\n"
   ]
  },
  {
   "cell_type": "markdown",
   "metadata": {},
   "source": [
    "---"
   ]
  },
  {
   "cell_type": "markdown",
   "metadata": {},
   "source": [
    "## Ejercicio 2\n",
    "\n",
    "Obtengan las relaciones de recurrencia para las funciones $L(x) = \\log\\big(g(x)\\big)$, $P_\\alpha(x) = \\big(g(x)\\big)^\\alpha$, $S(x) = \\sin\\big(g(x)\\big)$, $C(x) = \\cos\\big(g(x)\\big)$ usando el mismo procedimiento que arriba. Implementen métodos adecuados para estas funciones en el módulo, actuando sobre estructuras `Taylor` e incluyan pruebas necesarias en `runtest_taylor.jl`."
   ]
  },
  {
   "cell_type": "code",
   "execution_count": 76,
   "metadata": {
    "collapsed": false
   },
   "outputs": [
    {
     "data": {
      "text/plain": [
       "elevar (generic function with 1 method)"
      ]
     },
     "execution_count": 76,
     "metadata": {},
     "output_type": "execute_result"
    }
   ],
   "source": [
    "function elevar(pol,expo)\n",
    "    grado_principal = expo*pol.grado #El grado principal es el producto del grado y el exponente.\n",
    "    poly=copy(pol.cofun) #Hacemos una copia del vector del polinomio\n",
    "    \n",
    "    lp=length(grado_principal+1)\n",
    "   # ceros=zeros(lp+(grado_principal-4))       \n",
    "    ceros=zeros(lp) #Creamos un arreglo de ceros cuya longitud es determinada por el grado_principal \n",
    "    for i=1:length(ceros)\n",
    "        poly=push!(poly,ceros[i]) #Agregamos ceros al arreglo para que tenga la longitud \n",
    "                                  #ideal para el resultado\n",
    "    end\n",
    "        \n",
    "    p=zeros(poly) #Creamos un arreglo de ceros de la longitud del vector anterior\n",
    "\n",
    "    p[1]=(poly[1])^expo #Primer valor del vector resultado.\n",
    "    \n",
    "    for k=1:length(poly)-1\n",
    "        suma=0 #Valor inicial de la suma\n",
    "        for i in 1:k-1\n",
    "            suma+=(expo*k-(expo+1)*i)*poly[k+1-i]*p[i+1]\n",
    "        end\n",
    "        \n",
    "        p[k+1]=p[1]*expo*(poly[k+1]/poly[1])+(1/(k*poly[1]))*suma\n",
    "    end\n",
    "    \n",
    "    return Taylor(p,grado_principal)\n",
    "end"
   ]
  },
  {
   "cell_type": "code",
   "execution_count": 77,
   "metadata": {
    "collapsed": false
   },
   "outputs": [
    {
     "data": {
      "text/plain": [
       "Taylor{Int64}([1,2,3,4],3)"
      ]
     },
     "execution_count": 77,
     "metadata": {},
     "output_type": "execute_result"
    }
   ],
   "source": [
    "h1=Taylor([1,2,3,4],3)"
   ]
  },
  {
   "cell_type": "code",
   "execution_count": 78,
   "metadata": {
    "collapsed": false
   },
   "outputs": [
    {
     "data": {
      "text/plain": [
       "Taylor{Int64}([1,6,21,56,111,0,0,0,0,0],9)"
      ]
     },
     "execution_count": 78,
     "metadata": {},
     "output_type": "execute_result"
    }
   ],
   "source": [
    "elevar(h1,3) #El resultado completo se obtiene con ceros=zeros(lp+(grado_principal-4))"
   ]
  },
  {
   "cell_type": "code",
   "execution_count": 79,
   "metadata": {
    "collapsed": false
   },
   "outputs": [
    {
     "data": {
      "text/plain": [
       "Taylor{Int64}([1,6,21,56,111,0,0,0,0,0],9)"
      ]
     },
     "execution_count": 79,
     "metadata": {},
     "output_type": "execute_result"
    }
   ],
   "source": [
    "elevar(h1,3) #El resultado completo se obtiene con ceros=zeros(lp+(grado_principal-4))"
   ]
  },
  {
   "cell_type": "code",
   "execution_count": 80,
   "metadata": {
    "collapsed": false
   },
   "outputs": [
    {
     "data": {
      "text/plain": [
       "Taylor{Int64}([1,2],1)"
      ]
     },
     "execution_count": 80,
     "metadata": {},
     "output_type": "execute_result"
    }
   ],
   "source": [
    "h2=Taylor([1,2],1)"
   ]
  },
  {
   "cell_type": "code",
   "execution_count": 81,
   "metadata": {
    "collapsed": false
   },
   "outputs": [
    {
     "data": {
      "text/plain": [
       "Taylor{Int64}([1,16,112,0,0,0,0,0,0],8)"
      ]
     },
     "execution_count": 81,
     "metadata": {},
     "output_type": "execute_result"
    }
   ],
   "source": [
    "elevar(h2,8)"
   ]
  },
  {
   "cell_type": "code",
   "execution_count": 82,
   "metadata": {
    "collapsed": false
   },
   "outputs": [
    {
     "data": {
      "text/plain": [
       "Taylor{Int64}([1,1,0],2)"
      ]
     },
     "execution_count": 82,
     "metadata": {},
     "output_type": "execute_result"
    }
   ],
   "source": [
    "a = Taylor([1,1],2)"
   ]
  },
  {
   "cell_type": "code",
   "execution_count": 83,
   "metadata": {
    "collapsed": false
   },
   "outputs": [
    {
     "data": {
      "text/plain": [
       "Taylor{Float64}([1.0,3.0,3.0,0.0,0.0,0.0,0.0],6)"
      ]
     },
     "execution_count": 83,
     "metadata": {},
     "output_type": "execute_result"
    }
   ],
   "source": [
    "a^3"
   ]
  },
  {
   "cell_type": "code",
   "execution_count": 84,
   "metadata": {
    "collapsed": false
   },
   "outputs": [
    {
     "data": {
      "text/plain": [
       "Taylor{Int64}([1,3,3,1,0,0,0],6)"
      ]
     },
     "execution_count": 84,
     "metadata": {},
     "output_type": "execute_result"
    }
   ],
   "source": [
    "elevar(a,3)"
   ]
  },
  {
   "cell_type": "code",
   "execution_count": 85,
   "metadata": {
    "collapsed": false
   },
   "outputs": [
    {
     "data": {
      "text/plain": [
       "^ (generic function with 49 methods)"
      ]
     },
     "execution_count": 85,
     "metadata": {},
     "output_type": "execute_result"
    }
   ],
   "source": [
    "^(f::Taylor, exp::Int) = elevar(f,exp)"
   ]
  },
  {
   "cell_type": "code",
   "execution_count": 86,
   "metadata": {
    "collapsed": false
   },
   "outputs": [
    {
     "data": {
      "text/plain": [
       "Taylor{Int64}([1,3,3,1,0,0,0],6)"
      ]
     },
     "execution_count": 86,
     "metadata": {},
     "output_type": "execute_result"
    }
   ],
   "source": [
    "a^3"
   ]
  },
  {
   "cell_type": "code",
   "execution_count": null,
   "metadata": {
    "collapsed": true
   },
   "outputs": [],
   "source": []
  },
  {
   "cell_type": "code",
   "execution_count": null,
   "metadata": {
    "collapsed": true
   },
   "outputs": [],
   "source": []
  }
 ],
 "metadata": {
  "kernelspec": {
   "display_name": "Julia 0.5.0",
   "language": "julia",
   "name": "julia-0.5"
  },
  "language_info": {
   "file_extension": ".jl",
   "mimetype": "application/julia",
   "name": "julia",
   "version": "0.5.1"
  }
 },
 "nbformat": 4,
 "nbformat_minor": 2
}
