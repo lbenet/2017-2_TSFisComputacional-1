{
 "cells": [
  {
   "cell_type": "markdown",
   "metadata": {
    "deletable": true,
    "editable": true
   },
   "source": [
    "# Tarea 1"
   ]
  },
  {
   "cell_type": "markdown",
   "metadata": {
    "deletable": true,
    "editable": true
   },
   "source": [
    "Fecha de envío del PR inicial: **26 de febrero**\n",
    "\n",
    "Fecha de aceptación del PR: **12 de marzo**\n"
   ]
  },
  {
   "cell_type": "markdown",
   "metadata": {
    "deletable": true,
    "editable": true
   },
   "source": [
    "## 1. Raíces de una ecuación de segundo grado\n",
    "\n",
    "Implementen en julia una función que devuelva las raíces de una ecuación de segundo grado general con coeficientes reales. La función debe ser estable según el tipo ([type-stable](http://docs.julialang.org/en/release-0.5/manual/faq/?highlight=type%20stability#what-does-type-stable-mean)), lo que significa que el tipo del resultado sólamente depende del tipo de las entradas. En particular, muestren que su función devuelve raíces consistentes para $a=1$, $b=1$, $c=10^{-17}$.\n",
    "\n",
    "La función debe estar documentada de manera apropiada, lo que significa que, al correr el Jupyter notebook de su tarea, la instrucción\n",
    "```julia\n",
    "? nombre_funcion\n",
    "```\n",
    "debe dar información apropiada.\n",
    "\n",
    "Incluyan cualquier comentario prudente del algoritmo que usan, ya sea en el notebook (usando markdown) o en la propia función incluyendo comentarios.\n"
   ]
  },
  {
   "cell_type": "code",
   "execution_count": null,
   "metadata": {
    "collapsed": false
   },
   "outputs": [],
   "source": [
    "function raices(a,b,c)\n",
    "    det = b^2 - 4 * a * c\n",
    "    \n",
    "    if det < 0\n",
    "        println(det)\n",
    "        println(\"La funcion no tiene raices reales\")\n",
    "    elseif det == 0\n",
    "        println(\"pepe\")\n",
    "        println(det)\n",
    "        return -b / 2 * a\n",
    "    else\n",
    "        println(\"pollo\")\n",
    "        println(det)\n",
    "        return (-b + sqrt(b ^ 2 - 4 * a* c)) / (2 * a), (-b - sqrt(b ^ 2 - 4 * a* c)) / (2 * a)\n",
    "\n",
    "    end\n",
    "end"
   ]
  },
  {
   "cell_type": "code",
   "execution_count": null,
   "metadata": {
    "collapsed": false
   },
   "outputs": [],
   "source": [
    "raices(1,1,0.000001)"
   ]
  },
  {
   "cell_type": "markdown",
   "metadata": {
    "deletable": true,
    "editable": true
   },
   "source": [
    "## 2. Promedio y varianza\n",
    "\n",
    "(a) Escriban dos funciones (`promedio` y `varianza`) que calculen el promedio y la varianza de un vector de datos. \n",
    "    \n",
    "(b) Comparen su resultado con lo que se obtiene al utilizar `mean` y `var`, que son las funciones nativas de Julia que hacen eso. En particular, consideren el siguiente vector de datos\n",
    "```julia\n",
    "v = 1.0e7 + randn(10^8)\n",
    "```\n",
    "¿Qué hace la función `randn(10^8)`?\n",
    "\n",
    "(c) Implementen el [algoritmo recursivo](https://en.wikipedia.org/wiki/Algorithms_for_calculating_variance#Online_algorithm), ampliamente desconocido, que  calcula el promedio (`promedio_rec`) y la varianza (`varianza_rec`) con una sóla lectura de los datos. Usen sus fuciones en el vector anterior y comparen sus resultados con los obtenidos en (a).\n",
    "\n",
    "(d) ¿Cuál de todos los algoritmos es el más rápido? (Pueden usar `@time` o `@elapsed`.) Usen vectores de varias longitudes, que cubran varios órdenes de magnitud."
   ]
  },
  {
   "cell_type": "markdown",
   "metadata": {},
   "source": [
    "v es un arreglo con 10^8 entradas con un valor aleatorio alrrededor de 1.0e7"
   ]
  },
  {
   "cell_type": "code",
   "execution_count": 6,
   "metadata": {
    "collapsed": false
   },
   "outputs": [
    {
     "name": "stderr",
     "output_type": "stream",
     "text": [
      "WARNING: Method definition promedio(Any) in module Main at In[4]:2 overwritten at In[6]:2.\n"
     ]
    },
    {
     "data": {
      "text/plain": [
       "promedio (generic function with 1 method)"
      ]
     },
     "execution_count": 6,
     "metadata": {},
     "output_type": "execute_result"
    }
   ],
   "source": [
    "function promedio(vector)\n",
    "    n = length(vector)\n",
    "    \n",
    "    num = sum(vector)\n",
    "    \n",
    "    return num / n\n",
    "    \n",
    "end"
   ]
  },
  {
   "cell_type": "code",
   "execution_count": 91,
   "metadata": {
    "collapsed": false
   },
   "outputs": [
    {
     "data": {
      "text/plain": [
       "9.999999992861398e6"
      ]
     },
     "execution_count": 91,
     "metadata": {},
     "output_type": "execute_result"
    }
   ],
   "source": [
    "v = 1.0e7 + randn(10^4)\n",
    "p = promedio(v)"
   ]
  },
  {
   "cell_type": "code",
   "execution_count": 80,
   "metadata": {
    "collapsed": false
   },
   "outputs": [
    {
     "name": "stderr",
     "output_type": "stream",
     "text": [
      "WARNING: Method definition varianza(Any, Any) in module Main at In[71]:2 overwritten at In[80]:2.\n"
     ]
    },
    {
     "data": {
      "text/plain": [
       "varianza (generic function with 1 method)"
      ]
     },
     "execution_count": 80,
     "metadata": {},
     "output_type": "execute_result"
    }
   ],
   "source": [
    "function varianza(vector, promedio)\n",
    "    n = length(vector)\n",
    "    for i = vector\n",
    "        sum = (i - promedio)^2\n",
    "    end\n",
    "    sum = sum / n\n",
    "    \n",
    "    return sqrt(sum)\n",
    "        \n",
    "end"
   ]
  },
  {
   "cell_type": "code",
   "execution_count": 92,
   "metadata": {
    "collapsed": false
   },
   "outputs": [
    {
     "data": {
      "text/plain": [
       "0.01978055587038398"
      ]
     },
     "execution_count": 92,
     "metadata": {},
     "output_type": "execute_result"
    }
   ],
   "source": [
    "varianza(v, p)"
   ]
  },
  {
   "cell_type": "markdown",
   "metadata": {
    "deletable": true,
    "editable": true
   },
   "source": [
    "## 3. Método de Simpson para integrar $f(x)$ en un intervalo dado\n",
    "\n",
    "Implementen el método de Simpson para integrar una función arbitraria $f(x)$."
   ]
  },
  {
   "cell_type": "code",
   "execution_count": null,
   "metadata": {
    "collapsed": true,
    "deletable": true,
    "editable": true
   },
   "outputs": [],
   "source": []
  }
 ],
 "metadata": {
  "kernelspec": {
   "display_name": "Julia 0.5.0",
   "language": "julia",
   "name": "julia-0.5"
  },
  "language_info": {
   "file_extension": ".jl",
   "mimetype": "application/julia",
   "name": "julia",
   "version": "0.5.0"
  }
 },
 "nbformat": 4,
 "nbformat_minor": 2
}
