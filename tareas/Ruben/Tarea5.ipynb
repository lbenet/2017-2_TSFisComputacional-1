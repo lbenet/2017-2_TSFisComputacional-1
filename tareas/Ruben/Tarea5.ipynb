{
 "cells": [
  {
   "cell_type": "code",
   "execution_count": 1,
   "metadata": {
    "collapsed": false
   },
   "outputs": [
    {
     "data": {
      "text/html": [
       "<div id=\"interact-js-shim\">\n",
       "    <script charset=\"utf-8\">\n",
       "(function (IPython, $, _, MathJax) {\n",
       "    $.event.special.destroyed = {\n",
       "\tremove: function(o) {\n",
       "\t    if (o.handler) {\n",
       "\t\to.handler.apply(this, arguments)\n",
       "\t    }\n",
       "\t}\n",
       "    }\n",
       "\n",
       "    var OutputArea = IPython.version >= \"4.0.0\" ? require(\"notebook/js/outputarea\").OutputArea : IPython.OutputArea;\n",
       "\n",
       "    var redrawValue = function (container, type, val) {\n",
       "\tvar selector = $(\"<div/>\");\n",
       "\tvar oa = new OutputArea(_.extend(selector, {\n",
       "\t    selector: selector,\n",
       "\t    prompt_area: true,\n",
       "\t    events: IPython.events,\n",
       "\t    keyboard_manager: IPython.keyboard_manager\n",
       "\t})); // Hack to work with IPython 2.1.0\n",
       "\n",
       "\tswitch (type) {\n",
       "\tcase \"image/png\":\n",
       "            var _src = 'data:' + type + ';base64,' + val;\n",
       "\t    $(container).find(\"img\").attr('src', _src);\n",
       "\t    break;\n",
       "\tcase \"text/latex\":\n",
       "\t\tif (MathJax){\n",
       "\t\t\tvar math = MathJax.Hub.getAllJax(container)[0];\n",
       "\t\t\tMathJax.Hub.Queue([\"Text\", math, val.replace(/^\\${1,2}|\\${1,2}$/g, '')]);\n",
       "\t\t\tbreak;\n",
       "\t\t}\n",
       "\tdefault:\n",
       "\t    var toinsert = OutputArea.append_map[type].apply(\n",
       "\t\toa, [val, {}, selector]\n",
       "\t    );\n",
       "\t    $(container).empty().append(toinsert.contents());\n",
       "\t    selector.remove();\n",
       "\t}\n",
       "    }\n",
       "\n",
       "\n",
       "    $(document).ready(function() {\n",
       "\tfunction initComm(evt, data) {\n",
       "\t    var comm_manager = data.kernel.comm_manager;\n",
       "        //_.extend(comm_manager.targets, require(\"widgets/js/widget\"))\n",
       "\t    comm_manager.register_target(\"Signal\", function (comm) {\n",
       "            comm.on_msg(function (msg) {\n",
       "                var val = msg.content.data.value;\n",
       "                $(\".signal-\" + comm.comm_id).each(function() {\n",
       "                var type = $(this).data(\"type\");\n",
       "                if (typeof(val[type]) !== \"undefined\" && val[type] !== null) {\n",
       "                    redrawValue(this, type, val[type], type);\n",
       "                }\n",
       "                });\n",
       "                delete val;\n",
       "                delete msg.content.data.value;\n",
       "            });\n",
       "\t    });\n",
       "\n",
       "\t    // coordingate with Comm and redraw Signals\n",
       "\t    // XXX: Test using Reactive here to improve performance\n",
       "\t    $([IPython.events]).on(\n",
       "\t\t'output_appended.OutputArea', function (event, type, value, md, toinsert) {\n",
       "\t\t    if (md && md.reactive) {\n",
       "                // console.log(md.comm_id);\n",
       "                toinsert.addClass(\"signal-\" + md.comm_id);\n",
       "                toinsert.data(\"type\", type);\n",
       "                // Signal back indicating the mimetype required\n",
       "                var comm_manager = IPython.notebook.kernel.comm_manager;\n",
       "                var comm = comm_manager.comms[md.comm_id];\n",
       "                comm.then(function (c) {\n",
       "                    c.send({action: \"subscribe_mime\",\n",
       "                       mime: type});\n",
       "                    toinsert.bind(\"destroyed\", function() {\n",
       "                        c.send({action: \"unsubscribe_mime\",\n",
       "                               mime: type});\n",
       "                    });\n",
       "                })\n",
       "\t\t    }\n",
       "\t    });\n",
       "\t}\n",
       "\n",
       "\ttry {\n",
       "\t    // try to initialize right away. otherwise, wait on the status_started event.\n",
       "\t    initComm(undefined, IPython.notebook);\n",
       "\t} catch (e) {\n",
       "\t    $([IPython.events]).on('kernel_created.Kernel kernel_created.Session', initComm);\n",
       "\t}\n",
       "    });\n",
       "})(IPython, jQuery, _, MathJax);\n",
       "</script>\n",
       "    <script>\n",
       "        window.interactLoadedFlag = true\n",
       "       $(\"#interact-js-shim\").bind(\"destroyed\", function () {\n",
       "           if (window.interactLoadedFlag) {\n",
       "               console.warn(\"JavaScript required by Interact will be removed if you remove this cell or run using Interact more than once.\")\n",
       "           }\n",
       "       })\n",
       "       $([IPython.events]).on(\"kernel_starting.Kernel kernel_restarting.Kernel\", function () { window.interactLoadedFlag = false })\n",
       "   </script>\n",
       "</div>"
      ]
     },
     "metadata": {},
     "output_type": "display_data"
    }
   ],
   "source": [
    "using PyPlot\n",
    "using Interact\n",
    "\n",
    "col = [\"b\", \"g\", \"r\", \"c\", \"m\", \"y\"];  ## Arreglo de colores para llamar desde plot()"
   ]
  },
  {
   "cell_type": "markdown",
   "metadata": {},
   "source": [
    "# Tarea5: Series de Taylor"
   ]
  },
  {
   "cell_type": "markdown",
   "metadata": {},
   "source": [
    "Fecha de envío del PR inicial: **viernes 21 de abril**\n",
    "\n",
    "Fecha de aceptación del PR: **martes 25 de abril, antes de la clase**"
   ]
  },
  {
   "cell_type": "markdown",
   "metadata": {},
   "source": [
    "---"
   ]
  },
  {
   "cell_type": "markdown",
   "metadata": {},
   "source": [
    "## Ejercicio 1\n",
    "\n",
    "Implementen una nueva estructura paramétrica (`type`) que defina el tipo `Taylor`, donde el parámetro debe ser un subtipo de `Number`. Definan métodos que implementen las operaciones aritméticas básicas (`+`, `-`, `*`, `/`) y la igualdad (`==`). Esto deberá ser incluido en un módulo.\n",
    "\n",
    "Incluyan pruebas (en el archivo \"runtests_taylor.jl\") para cada uno de los métodos que implementen.\n"
   ]
  },
  {
   "cell_type": "markdown",
   "metadata": {},
   "source": [
    "Definimos la estructura como un vector, esto nos va a permitir cambiar el tamaño de manera dinámica."
   ]
  },
  {
   "cell_type": "code",
   "execution_count": 2,
   "metadata": {
    "collapsed": false
   },
   "outputs": [
    {
     "data": {
      "text/plain": [
       "Taylor"
      ]
     },
     "execution_count": 2,
     "metadata": {},
     "output_type": "execute_result"
    }
   ],
   "source": [
    "doc\"\"\"\n",
    "Definición de polinomios de Taylor, donde coef es el arreglo que contiene al polinomio de taylor \n",
    "...\n",
    "\"\"\"\n",
    "type Taylor{T<:Number}\n",
    "    coef::Array{T}\n",
    "end"
   ]
  },
  {
   "cell_type": "markdown",
   "metadata": {},
   "source": [
    "Creamos una función constructora."
   ]
  },
  {
   "cell_type": "code",
   "execution_count": 3,
   "metadata": {
    "collapsed": false
   },
   "outputs": [
    {
     "data": {
      "text/plain": [
       "Taylor"
      ]
     },
     "execution_count": 3,
     "metadata": {},
     "output_type": "execute_result"
    }
   ],
   "source": [
    "doc\"\"\"\n",
    "función constructora, inicia una variable de tipo Taylor de grado 1.\n",
    "\"\"\"\n",
    "\n",
    "function Taylor(a::Number)\n",
    "    return Taylor([a])\n",
    "end"
   ]
  },
  {
   "cell_type": "markdown",
   "metadata": {},
   "source": [
    "Para poder operar con este nuevo tipo de variables, necesitamos que sean consistentes en longitud, para esto utilizamos la función gradomax() y la función prom()."
   ]
  },
  {
   "cell_type": "code",
   "execution_count": 4,
   "metadata": {
    "collapsed": false
   },
   "outputs": [
    {
     "name": "stderr",
     "output_type": "stream",
     "text": [
      "WARNING: Method definition gradomax(Main.Taylor) in module Main at In[4]:6 overwritten at In[4]:10.\n"
     ]
    },
    {
     "data": {
      "text/plain": [
       "gradomax (generic function with 2 methods)"
      ]
     },
     "execution_count": 4,
     "metadata": {},
     "output_type": "execute_result"
    }
   ],
   "source": [
    "doc\"\"\"\n",
    "Función que regresa la longitud maxima entre dos polinomios de Taylor. Al ingresar solo un polinomio, regresa el grado de este.\n",
    "El grado de los polinomios esta dado por gradomax(x) - 1.\n",
    "\"\"\"\n",
    "function gradomax(a::Taylor, b::Taylor = a)\n",
    "    return max(length(a.coef), length(b.coef))\n",
    "end\n",
    "\n",
    "function gradomax(a::Taylor)\n",
    "    return length(a.coef)\n",
    "end"
   ]
  },
  {
   "cell_type": "code",
   "execution_count": 5,
   "metadata": {
    "collapsed": false
   },
   "outputs": [
    {
     "data": {
      "text/plain": [
       "prom (generic function with 2 methods)"
      ]
     },
     "execution_count": 5,
     "metadata": {},
     "output_type": "execute_result"
    }
   ],
   "source": [
    "doc\"\"\"\n",
    "Función que promueve el grado del polinomio a a al del polinomio b.\n",
    "Si en lugar de un segundo polinomio se le da un entero, esta promueve el primer polinomio al grado que se le dio.\n",
    "\"\"\"\n",
    "\n",
    "function prom(a::Taylor, b::Taylor)\n",
    "    return Taylor([a.coef; fill(0, gradomax(a,b) - gradomax(a))])\n",
    "end\n",
    "\n",
    "function prom(a::Taylor, N::Integer)\n",
    "    return Taylor([a.coef; fill(0, N - gradomax(a))])\n",
    "end"
   ]
  },
  {
   "cell_type": "code",
   "execution_count": 6,
   "metadata": {
    "collapsed": false
   },
   "outputs": [
    {
     "data": {
      "text/plain": [
       "evaluacion"
      ]
     },
     "execution_count": 6,
     "metadata": {},
     "output_type": "execute_result"
    }
   ],
   "source": [
    "doc\"\"\"\n",
    "Función que utiliza metaprogramación para evaluar un polinomio de Taylor\n",
    "\"\"\"\n",
    "\n",
    "function evaluacion(a::Taylor, x0::Number)\n",
    "    polinomio = :(0)  ## Ok, usemos algo de meta programacion\n",
    "    for k in 1:gradomax(a)\n",
    "        polinomio = :($polinomio + $a.coef[$k] * $x0 ^ $(k - 1))\n",
    "    end      # Esta conformado por las iteraciones anteriores + el coeficiente por x0 ^ k-1\n",
    "    return eval(polinomio)\n",
    "end"
   ]
  },
  {
   "cell_type": "markdown",
   "metadata": {},
   "source": [
    "Utilizando las reglas determinadas en clase\n",
    "\n",
    "\\begin{eqnarray}\n",
    "(f+g)_{[k]} & = & f_{[k]} + g_{[k]} ,\\\\\n",
    "(f-g)_{[k]} & = & f_{[k]} - g_{[k]} ,\\\\\n",
    "(f \\cdot g)_{[k]} & = & \\sum_{i=0}^k f_{[i]} \\,g_{[k-i]} \\, ,\\\\\n",
    "\\Big(\\frac{f}{g}\\Big)_{[k]} & = & \\frac{1}{g_{[0]}}\n",
    "\\Big( f_{[k]} - \\sum_{i=0}^{k-1} \\big(\\frac{f}{g}\\big)_{[i]} \\, g_{[k-i]} \\Big) . \\\\\n",
    "\\end{eqnarray}\n",
    "\n",
    "Definimos las siguientes operaciones."
   ]
  },
  {
   "cell_type": "code",
   "execution_count": 7,
   "metadata": {
    "collapsed": false
   },
   "outputs": [
    {
     "data": {
      "text/plain": [
       "== (generic function with 162 methods)"
      ]
     },
     "execution_count": 7,
     "metadata": {},
     "output_type": "execute_result"
    }
   ],
   "source": [
    "import Base: +, -, *, /, ==\n",
    "\n",
    "# Aqui se implementan los métodos necesarios para cada función\n",
    "+(a::Taylor, b::Taylor) = Taylor(prom(a, gradomax(a, b)).coef + prom(b, gradomax(a, b)).coef)\n",
    "+(a::Taylor, b::Number) = a + Taylor(b)\n",
    "+(a::Number, b::Taylor) = b + Taylor(a)\n",
    "+(a::Taylor) = Taylor(a.coef)\n",
    "\n",
    " ## Tanto la suma como la resta de polinomios promueven el resultado a el grado mayor entre los sumandos.\n",
    "-(a::Taylor, b::Taylor) = Taylor(prom(a, gradomax(a, b)).coef - prom(b, gradomax(a, b)).coef)\n",
    "-(a::Taylor, b::Number) = a - Taylor(b)\n",
    "-(a::Number, b::Taylor) = Taylor(a) - b\n",
    "-(a::Taylor) = Taylor(-a.coef)\n",
    "\n",
    "function *(a::Taylor, b::Taylor)\n",
    "    n = gradomax(a, b)\n",
    "    A = prom(a,n)\n",
    "    B = prom(b,n)\n",
    "    producto = Taylor(zeros(n)) ## Inicializamos un polinomio de Taylor de grado n.\n",
    "    \n",
    "    for k = 0:(n - 1)\n",
    "        suma = 0\n",
    "        for j = 0:k\n",
    "            suma += A.coef[j + 1] * B.coef[k - j + 1]\n",
    "        end\n",
    "        producto.coef[k + 1] = suma\n",
    "\n",
    "    end\n",
    "    \n",
    "    return producto\n",
    "end\n",
    "*(a::Taylor, b::Number) = Taylor(b * a.coef)\n",
    "*(a::Number, b::Taylor) = Taylor(a * b.coef)\n",
    "\n",
    "function /(a::Taylor, b::Taylor)\n",
    "    n = gradomax(a, b)\n",
    "    A = prom(a, n)\n",
    "    B = prom(b, n)\n",
    "\n",
    "    div = Taylor(zeros(n))\n",
    "    ## Checamos por coeficientes nulos\n",
    "    p = 1\n",
    "    while b.coef[p] == 0\n",
    "        p += 1;\n",
    "    end\n",
    "\n",
    "    div.coef[1] = A.coef[p] / B.coef[p] ## Agregamos el primer elemento\n",
    "\n",
    "    for k = (p + 1):n\n",
    "        suma = 0\n",
    "        \n",
    "        for j = 0:(k - 1)\n",
    "            suma += div.coef[j + 1] * B.coef[k - j]\n",
    "        end\n",
    "\n",
    "        div.coef[k - p + 1] = (A.coef[k] - suma) / B.coef[p]\n",
    "    end\n",
    "    \n",
    "    return div\n",
    "end\n",
    "\n",
    "/(a::Taylor, k::Number) = Taylor(a.coef / k)\n",
    "/(k::Number, a::Taylor) = Taylor(k) / a\n",
    "\n",
    "## La función == promueve los polinomios y despues los compara, asi podemos ver si los coeficientes son iguales\n",
    "## sin considerar la diferencia en el grado, asi Taylor([1,1]) == Taylor([1,1,0])\n",
    "==(a::Taylor, b::Taylor) = prom(a, b).coef == prom(b, a).coef"
   ]
  },
  {
   "cell_type": "markdown",
   "metadata": {},
   "source": [
    "Se agregan archivos runtest_Taylor.jl y Taylor.jl"
   ]
  },
  {
   "cell_type": "markdown",
   "metadata": {},
   "source": [
    "---"
   ]
  },
  {
   "cell_type": "markdown",
   "metadata": {},
   "source": [
    "## Ejercicio 2\n",
    "\n",
    "Obtengan las relaciones de recurrencia para las funciones $L(x) = \\log\\big(g(x)\\big)$, $P_\\alpha(x) = \\big(g(x)\\big)^\\alpha$, $S(x) = \\sin\\big(g(x)\\big)$, $C(x) = \\cos\\big(g(x)\\big)$ usando el mismo procedimiento que arriba. Implementen métodos adecuados para estas funciones en el módulo, actuando sobre estructuras `Taylor` e incluyan pruebas necesarias en `runtest_taylor.jl`."
   ]
  },
  {
   "cell_type": "markdown",
   "metadata": {},
   "source": [
    "Planteando la función \n",
    "\n",
    "$$ E(x) = \\exp{(g(x))} $$\n",
    "$$ \\frac{dE}{dx}(x) = \\frac{dg}{dx}(x) \\exp{(g(x))} = \\frac{dg}{dx}(x) E(x)$$\n",
    "\n",
    "Ahora si expresamos a $E(x)$ y a $\\frac{dg}{dx}(x)$ como polinomios de Taylor tenemos que\n",
    "\n",
    "$$ E(x) = \\sum_{k = 0}^{\\infty} E_{[k]}(x - x_0)^k$$\n",
    "$$ \\frac{dE}{dx}(x) = \\sum_{k = 0}^{\\infty} kE_{[k]}(x - x_0)^{(k - 1)}$$\n",
    "$$ \\frac{dg}{dx}(x) = \\sum_{k = 0}^{\\infty} kg_{[k]}(x - x_0)^{(k - 1)}$$\n",
    "\n",
    "Por lo tanto \n",
    "\n",
    "$$ \\sum_{k = 0}^{\\infty} kE_{[k]}(x - x_0)^{(k - 1)} = (\\sum_{k = 0}^{\\infty} E_{[k]}(x - x_0)^k) (\\sum_{k = 0}^{\\infty} kg_{[k]}(x - x_0)^{(k - 1)})$$\n",
    "\n",
    "donde el lado derecho de la ecuacion es un producto de polinomios, por lo tanto podemos utilizar la regla de producto antes vista. Jugando con los indices de las sumas podemos llegar a\n",
    "\n",
    "$$ \\sum_{k = 0}^{\\infty} kE_{[k]}(x - x_0)^{(k - 1)} = \\sum_{k = 0}^{\\infty} (\\sum_{j = 0}^{k} (k - j)g_{[k -j]} E_{[j]})(x - x_0)^{(k - 1)}$$\n",
    "\n",
    "por lo tanto\n",
    "\n",
    "$$ E_{[k]} = \\frac{1}{k} (\\sum_{j = 0}^{k} (k - j)g_{[k -j]} E_{[j]}) $$"
   ]
  },
  {
   "cell_type": "code",
   "execution_count": 8,
   "metadata": {
    "collapsed": false
   },
   "outputs": [
    {
     "data": {
      "text/plain": [
       "exp (generic function with 13 methods)"
      ]
     },
     "execution_count": 8,
     "metadata": {},
     "output_type": "execute_result"
    }
   ],
   "source": [
    "import Base: exp\n",
    "\n",
    "function exp(a::Taylor)\n",
    "    n = gradomax(a)\n",
    "    \n",
    "    expo = Taylor(exp(a.coef[1]))\n",
    "    expo = prom(expo, n)\n",
    "    \n",
    "    for k = 2:n\n",
    "        suma = 0\n",
    "        for j = 1:k\n",
    "            suma += (k - j) * a.coef[k - j + 1] * expo.coef[j]\n",
    "        end\n",
    "        expo.coef[k] = suma * (1 / (k - 1))\n",
    "    end\n",
    "    \n",
    "    return expo\n",
    "end\n",
    "\n",
    "exp(a::Taylor, n::Integer) = exp(prom(a, n))"
   ]
  },
  {
   "cell_type": "code",
   "execution_count": 9,
   "metadata": {
    "collapsed": false
   },
   "outputs": [
    {
     "data": {
      "text/html": [],
      "text/plain": [
       "Interact.Options{:SelectionSlider,Int64}(input: Signal{Int64}(11, nactions=1),\"k\",11,\"11\",Interact.OptionDict(DataStructures.OrderedDict(\"1\"=>1,\"2\"=>2,\"3\"=>3,\"4\"=>4,\"5\"=>5,\"6\"=>6,\"7\"=>7,\"8\"=>8,\"9\"=>9,\"10\"=>10…),Dict(18=>\"18\",2=>\"2\",16=>\"16\",11=>\"11\",21=>\"21\",7=>\"7\",9=>\"9\",10=>\"10\",19=>\"19\",17=>\"17\"…)),Any[],Any[],true,\"horizontal\")"
      ]
     },
     "metadata": {},
     "output_type": "display_data"
    },
    {
     "data": {
      "image/png": "[encoded data removed]",
      "text/plain": [
       "PyPlot.Figure(PyObject <matplotlib.figure.Figure object at 0x7fe560f083c8>)"
      ]
     },
     "execution_count": 9,
     "metadata": {
      "comm_id": "f541fd52-356a-4bbe-841a-2df1fc53c790",
      "reactive": true
     },
     "output_type": "execute_result"
    }
   ],
   "source": [
    "f_exp = figure()\n",
    "x_exp = linspace(-10, 2, 100)\n",
    "y_exp = zeros(x_exp)\n",
    "\n",
    "@manipulate for k = 1:1:(22); withfig(f_exp) do\n",
    "       \n",
    "        ec = exp(Taylor([0.0, 1.0]), k + 1)       \n",
    "        for (i, j) = enumerate(x_exp)\n",
    "            y_exp[i] = evaluacion(ec, j)\n",
    "        end  \n",
    "\n",
    "        PyPlot.plot(x_exp, y_exp, label = \"k = $k\", color = col[rand(1:6)])\n",
    "        PyPlot.plot(x_exp, exp(x_exp), \"--\", color = \"black\", label = \"exp(x)\")\n",
    "        legend()\n",
    "        grid()\n",
    "        xlim(-10.5,2.5); ylim(-1,8)\n",
    "        xlabel(\"x\"); ylabel(\"y\")\n",
    "    end\n",
    "end"
   ]
  },
  {
   "cell_type": "markdown",
   "metadata": {},
   "source": [
    "Para el logaritmo realizamos el mismo procedimiento\n",
    "\n",
    "$$ L(x) = log(g(x)) $$\n",
    "$$ \\frac{dL}{dx}(x) =  \\frac{1}{g(x)} \\frac{dg}{dx}(x) $$\n",
    "\n",
    "Aqui si vemos a $ \\frac{1}{g(x)} \\frac{dg}{dx}(x) $ como\n",
    "$$ \\frac{g'}{g} = \\sum_{k = 0}^{\\infty} (\\frac{g'}{g})_{[k]} (x - x_0)^k$$\n",
    "\n",
    "Entonces tenemos\n",
    "\n",
    "$$ \\frac{dL}{dx}(x) = \\sum_{k = 0}^{\\infty} kL (x - x_0) ^{k - 1} = \\sum_{k = 0}^{\\infty} (\\frac{g'}{g})_{[k]} (x - x_0)^k$$\n",
    "\n",
    "por lo tanto\n",
    "\n",
    "$$ L_{[k]} = \\frac{1}{k} (\\frac{g'}{g})_{[k]}$$\n",
    "$$ L_{[k]} =  (\\frac{g_{[k]}}{g_{[0]}} - \\frac{1}{k} \\sum_{i = 0}^{k - 1} k g_{[k - i]})$$"
   ]
  },
  {
   "cell_type": "code",
   "execution_count": 10,
   "metadata": {
    "collapsed": false
   },
   "outputs": [
    {
     "data": {
      "text/plain": [
       "log (generic function with 20 methods)"
      ]
     },
     "execution_count": 10,
     "metadata": {},
     "output_type": "execute_result"
    }
   ],
   "source": [
    "import Base: log\n",
    "\n",
    "function log(a::Taylor)\n",
    "    n = gradomax(a); # grado máximo\n",
    "\n",
    "    Loga = Taylor(zeros(n));\n",
    "    Loga.coef[1] = log(a.coef[1]);\n",
    "    \n",
    "    for k = 2:n\n",
    "        suma = 0;\n",
    "        \n",
    "        for j = 2: k\n",
    "            suma += (j - 1) * Loga.coef[j] * a.coef[k - j + 1];\n",
    "        end\n",
    "        Loga.coef[k] = (1 / a.coef[1]) * (a.coef[k] - suma / (k - 1))\n",
    "    end\n",
    "    \n",
    "    return Loga\n",
    "end\n",
    "\n",
    "log(a::Taylor, n::Integer) = log(prom(a, n)) "
   ]
  },
  {
   "cell_type": "code",
   "execution_count": 11,
   "metadata": {
    "collapsed": false
   },
   "outputs": [
    {
     "data": {
      "text/html": [],
      "text/plain": [
       "Interact.Options{:SelectionSlider,Int64}(input-2: Signal{Int64}(5, nactions=1),\"k\",5,\"5\",Interact.OptionDict(DataStructures.OrderedDict(\"1\"=>1,\"2\"=>2,\"3\"=>3,\"4\"=>4,\"5\"=>5,\"6\"=>6,\"7\"=>7,\"8\"=>8,\"9\"=>9,\"10\"=>10…),Dict(7=>\"7\",4=>\"4\",9=>\"9\",10=>\"10\",2=>\"2\",3=>\"3\",5=>\"5\",8=>\"8\",6=>\"6\",1=>\"1\"…)),Any[],Any[],true,\"horizontal\")"
      ]
     },
     "metadata": {},
     "output_type": "display_data"
    },
    {
     "data": {
      "image/png": "[encoded data removed]",
      "text/plain": [
       "PyPlot.Figure(PyObject <matplotlib.figure.Figure object at 0x7fe545dfd160>)"
      ]
     },
     "execution_count": 11,
     "metadata": {
      "comm_id": "98d84502-a64f-42b4-9a99-c7f25dc6af37",
      "reactive": true
     },
     "output_type": "execute_result"
    }
   ],
   "source": [
    "f_log = figure()\n",
    "x_log = linspace(-1, 2, 100)\n",
    "y_log = zeros(x_log)\n",
    "\n",
    "@manipulate for k = 1:1:(10); withfig(f_log) do\n",
    "        \n",
    "        x_ = prom(Taylor([1.0, 1.0]), k + 1)\n",
    "        \n",
    "        ec = log(x_)\n",
    "        \n",
    "        for (i, j) = enumerate(x_log)\n",
    "            y_log[i] = evaluacion(ec, j)\n",
    "        end  \n",
    "\n",
    "        PyPlot.plot(x_log, y_log, label = \"k = $k\", color = col[rand(1:6)])\n",
    "        PyPlot.plot(x_log, log(x_log + 1), \"--\", color = \"black\", label = \"log(x)\")\n",
    "        legend()\n",
    "        grid()\n",
    "        xlim(-1, 2); ylim(-4,3)\n",
    "        xlabel(\"x\"); ylabel(\"y\")\n",
    "\n",
    "    end\n",
    "end"
   ]
  },
  {
   "cell_type": "markdown",
   "metadata": {},
   "source": [
    "Utilizando las definiciones anteriores podemos definir la funcion $P_{a}(x) = (g(x))^a$ como\n",
    "\n",
    "$$ (g(x))^a = e^{a\\log{(g(x))}}$$"
   ]
  },
  {
   "cell_type": "code",
   "execution_count": 12,
   "metadata": {
    "collapsed": false
   },
   "outputs": [
    {
     "data": {
      "text/plain": [
       "^ (generic function with 51 methods)"
      ]
     },
     "execution_count": 12,
     "metadata": {},
     "output_type": "execute_result"
    }
   ],
   "source": [
    "import Base: ^\n",
    "\n",
    "^(a::Taylor, N::Number) = exp(N * log(a))\n",
    "\n",
    "function ^(a::Taylor, n::Integer)\n",
    "    if n != 0\n",
    "        pot = a\n",
    "        for i = 2:n\n",
    "            pot *= a\n",
    "        end\n",
    "        return pot\n",
    "    else\n",
    "        return Taylor([1])\n",
    "    end\n",
    "end"
   ]
  },
  {
   "cell_type": "code",
   "execution_count": 13,
   "metadata": {
    "collapsed": false,
    "scrolled": true
   },
   "outputs": [
    {
     "data": {
      "text/plain": [
       "cos (generic function with 12 methods)"
      ]
     },
     "execution_count": 13,
     "metadata": {},
     "output_type": "execute_result"
    }
   ],
   "source": [
    "import Base: sin, cos\n",
    "\n",
    "function sin(a::Taylor)\n",
    "    A = exp(a * 1im)\n",
    "    return Taylor(imag(A.coef))\n",
    "end\n",
    "\n",
    "sin(a::Taylor, n::Integer) = sin(prom(a, n))\n",
    "\n",
    "function cos(a::Taylor)\n",
    "    A = exp(a * 1im)\n",
    "    return Taylor(real(A.coef))\n",
    "end\n",
    "\n",
    "cos(a::Taylor, n::Integer) = cos(prom(a, n))"
   ]
  },
  {
   "cell_type": "code",
   "execution_count": 14,
   "metadata": {
    "collapsed": false
   },
   "outputs": [
    {
     "data": {
      "text/html": [],
      "text/plain": [
       "Interact.Options{:SelectionSlider,Int64}(input-3: Signal{Int64}(10, nactions=1),\"k\",10,\"10\",Interact.OptionDict(DataStructures.OrderedDict(\"1\"=>1,\"2\"=>2,\"3\"=>3,\"4\"=>4,\"5\"=>5,\"6\"=>6,\"7\"=>7,\"8\"=>8,\"9\"=>9,\"10\"=>10…),Dict(18=>\"18\",2=>\"2\",16=>\"16\",11=>\"11\",7=>\"7\",9=>\"9\",10=>\"10\",19=>\"19\",17=>\"17\",8=>\"8\"…)),Any[],Any[],true,\"horizontal\")"
      ]
     },
     "metadata": {},
     "output_type": "display_data"
    },
    {
     "data": {
      "image/png": "[encoded data removed]",
      "text/plain": [
       "PyPlot.Figure(PyObject <matplotlib.figure.Figure object at 0x7fe545db6ba8>)"
      ]
     },
     "execution_count": 14,
     "metadata": {
      "comm_id": "fab2184b-84a1-40b0-81a9-07f53ddf9179",
      "reactive": true
     },
     "output_type": "execute_result"
    }
   ],
   "source": [
    "fig = figure(figsize = (10, 4))\n",
    "\n",
    "ax = subplot(121)\n",
    "bx = subplot(122)\n",
    "\n",
    "x_sc = linspace(-12, 12, 200)\n",
    "y_s = zeros(x_sc)\n",
    "y_c = zeros(x_sc)\n",
    "\n",
    "@manipulate for k  = 1:1:20\n",
    "    \n",
    "    withfig(fig, clear = false) do\n",
    "\n",
    "        ecs = sin(Taylor([0.0, 1.0]), 2 * k + 1)       \n",
    "        ecc = cos(Taylor([0.0, 1.0]), 2 * k)\n",
    "\n",
    "        for (i, j) = enumerate(x_sc)\n",
    "            y_s[i] = evaluacion(ecs, j)\n",
    "            y_c[i] = evaluacion(ecc, j)\n",
    "        end\n",
    "        \n",
    "        ax[:cla](); bx[:cla]()\n",
    "\n",
    "        ax[:set_xlim](-12, 12); ax[:set_ylim](-2, 2)\n",
    "        bx[:set_xlim](-12, 12); bx[:set_ylim](-2, 2)\n",
    "\n",
    "        ax[:plot](x_sc, y_s, label = \"k = $(2 * k - 1)\", color = col[rand(1:6)])\n",
    "        bx[:plot](x_sc, y_c, label = \"k = $(2 * (k - 1))\", color = col[rand(1:6)])      \n",
    "        \n",
    "        ax[:plot](x_sc, sin(x_sc), \"--\", color = \"black\", label = \"sin(x)\")\n",
    "        bx[:plot](x_sc, cos(x_sc), \"--\", color = \"black\", label = \"cos(x)\")\n",
    "        ax[:legend](); ax[:grid]()\n",
    "        bx[:legend](); bx[:grid]()\n",
    "\n",
    "    end\n",
    "end"
   ]
  }
 ],
 "metadata": {
  "kernelspec": {
   "display_name": "Julia 0.5.2-pre",
   "language": "julia",
   "name": "julia-0.5"
  },
  "language_info": {
   "file_extension": ".jl",
   "mimetype": "application/julia",
   "name": "julia",
   "version": "0.5.2"
  },
  "widgets": {
   "state": {
    "658aba40-2f30-4298-bd51-88fe08c4e1b6": {
     "views": [
      {
       "cell_index": 27
      }
     ]
    },
    "aaaf51c9-0b08-4e55-9f61-c879ae95d927": {
     "views": [
      {
       "cell_index": 20
      }
     ]
    },
    "e4fda286-f16b-4cb6-bb20-39890b56463b": {
     "views": [
      {
       "cell_index": 23
      }
     ]
    }
   },
   "version": "1.2.0"
  }
 },
 "nbformat": 4,
 "nbformat_minor": 2
}
