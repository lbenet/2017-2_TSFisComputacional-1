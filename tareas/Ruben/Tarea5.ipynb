{
 "cells": [
  {
   "cell_type": "markdown",
   "metadata": {},
   "source": [
    "# Tarea5: Series de Taylor"
   ]
  },
  {
   "cell_type": "markdown",
   "metadata": {},
   "source": [
    "Fecha de envío del PR inicial: **viernes 21 de abril**\n",
    "\n",
    "Fecha de aceptación del PR: **martes 25 de abril, antes de la clase**"
   ]
  },
  {
   "cell_type": "markdown",
   "metadata": {},
   "source": [
    "---"
   ]
  },
  {
   "cell_type": "markdown",
   "metadata": {},
   "source": [
    "## Ejercicio 1\n",
    "\n",
    "Implementen una nueva estructura paramétrica (`type`) que defina el tipo `Taylor`, donde el parámetro debe ser un subtipo de `Number`. Definan métodos que implementen las operaciones aritméticas básicas (`+`, `-`, `*`, `/`) y la igualdad (`==`). Esto deberá ser incluido en un módulo.\n",
    "\n",
    "Incluyan pruebas (en el archivo \"runtests_taylor.jl\") para cada uno de los métodos que implementen.\n"
   ]
  },
  {
   "cell_type": "markdown",
   "metadata": {},
   "source": [
    "Definimos la estructura como un vector, esto nos va a permitir cambiar el tamaño de manera dinámica."
   ]
  },
  {
   "cell_type": "code",
   "execution_count": 1,
   "metadata": {
    "collapsed": false
   },
   "outputs": [
    {
     "data": {
      "text/plain": [
       "Taylor"
      ]
     },
     "execution_count": 1,
     "metadata": {},
     "output_type": "execute_result"
    }
   ],
   "source": [
    "doc\"\"\"\n",
    "Definición de polinomios de Taylor, donde coef es el arreglo que contiene al polinomio de taylor \n",
    "...\n",
    "\"\"\"\n",
    "type Taylor{T<:Number}\n",
    "    coef::Array{T}\n",
    "end"
   ]
  },
  {
   "cell_type": "markdown",
   "metadata": {},
   "source": [
    "Creamos una función constructora."
   ]
  },
  {
   "cell_type": "code",
   "execution_count": 2,
   "metadata": {
    "collapsed": false
   },
   "outputs": [
    {
     "data": {
      "text/plain": [
       "Taylor"
      ]
     },
     "execution_count": 2,
     "metadata": {},
     "output_type": "execute_result"
    }
   ],
   "source": [
    "doc\"\"\"\n",
    "función constructora, inicia una variable de tipo Taylor de grado 1.\n",
    "\"\"\"\n",
    "\n",
    "function Taylor(a::Number)\n",
    "    return Taylor([a])\n",
    "end"
   ]
  },
  {
   "cell_type": "markdown",
   "metadata": {},
   "source": [
    "Para poder operar con este nuevo tipo de variables, necesitamos que sean consistentes en longitud, para esto utilizamos la función gradomax() y la función prom()."
   ]
  },
  {
   "cell_type": "code",
   "execution_count": 3,
   "metadata": {
    "collapsed": false
   },
   "outputs": [
    {
     "name": "stderr",
     "output_type": "stream",
     "text": [
      "WARNING: Method definition gradomax(Main.Taylor) in module Main at In[3]:6 overwritten at In[3]:10.\n"
     ]
    },
    {
     "data": {
      "text/plain": [
       "gradomax (generic function with 2 methods)"
      ]
     },
     "execution_count": 3,
     "metadata": {},
     "output_type": "execute_result"
    }
   ],
   "source": [
    "doc\"\"\"\n",
    "Función que regresa la longitud maxima entre dos polinomios de Taylor. Al ingresar solo un polinomio, regresa el grado de este.\n",
    "El grado de los polinomios esta dado por gradomax(x) - 1.\n",
    "\"\"\"\n",
    "function gradomax(a::Taylor, b::Taylor = a)\n",
    "    return max(length(a.coef), length(b.coef))\n",
    "end\n",
    "\n",
    "function gradomax(a::Taylor)\n",
    "    return length(a.coef)\n",
    "end"
   ]
  },
  {
   "cell_type": "code",
   "execution_count": 4,
   "metadata": {
    "collapsed": false
   },
   "outputs": [
    {
     "data": {
      "text/plain": [
       "prom (generic function with 2 methods)"
      ]
     },
     "execution_count": 4,
     "metadata": {},
     "output_type": "execute_result"
    }
   ],
   "source": [
    "doc\"\"\"\n",
    "Función que promueve el grado del polinomio a a al del polinomio b.\n",
    "Si en lugar de un segundo polinomio se le da un entero, esta promueve el primer polinomio al grado que se le dio.\n",
    "\"\"\"\n",
    "\n",
    "function prom(a::Taylor, b::Taylor)\n",
    "    return Taylor([a.coef; fill(0, gradomax(a,b) - gradomax(a))])\n",
    "end\n",
    "\n",
    "function prom(a::Taylor, N::Integer)\n",
    "    return Taylor([a.coef; fill(0, N - gradomax(a))])\n",
    "end"
   ]
  },
  {
   "cell_type": "code",
   "execution_count": 5,
   "metadata": {
    "collapsed": false
   },
   "outputs": [
    {
     "data": {
      "text/plain": [
       "evaluacion"
      ]
     },
     "execution_count": 5,
     "metadata": {},
     "output_type": "execute_result"
    }
   ],
   "source": [
    "doc\"\"\"\n",
    "Función que utiliza metaprogramación para evaluar un polinomio de Taylor\n",
    "\"\"\"\n",
    "\n",
    "function evaluacion(a::Taylor, x0::Number)\n",
    "    polinomio = :(0)  ## Ok, usemos algo de meta programacion\n",
    "    for k in 1:gradomax(a)\n",
    "        polinomio = :($polinomio + $a.coef[$k] * $x0 ^ $(k - 1))\n",
    "    end      # Esta conformado por las iteraciones anteriores + el coeficiente por x0 ^ k-1\n",
    "    return eval(polinomio)\n",
    "end"
   ]
  },
  {
   "cell_type": "markdown",
   "metadata": {},
   "source": [
    "Utilizando las reglas determinadas en clase\n",
    "\n",
    "\\begin{eqnarray}\n",
    "(f+g)_{[k]} & = & f_{[k]} + g_{[k]} ,\\\\\n",
    "(f-g)_{[k]} & = & f_{[k]} - g_{[k]} ,\\\\\n",
    "(f \\cdot g)_{[k]} & = & \\sum_{i=0}^k f_{[i]} \\,g_{[k-i]} \\, ,\\\\\n",
    "\\Big(\\frac{f}{g}\\Big)_{[k]} & = & \\frac{1}{g_{[0]}}\n",
    "\\Big( f_{[k]} - \\sum_{i=0}^{k-1} \\big(\\frac{f}{g}\\big)_{[i]} \\, g_{[k-i]} \\Big) . \\\\\n",
    "\\end{eqnarray}\n",
    "\n",
    "Definimos las siguientes operaciones."
   ]
  },
  {
   "cell_type": "code",
   "execution_count": 6,
   "metadata": {
    "collapsed": false
   },
   "outputs": [
    {
     "data": {
      "text/plain": [
       "== (generic function with 119 methods)"
      ]
     },
     "execution_count": 6,
     "metadata": {},
     "output_type": "execute_result"
    }
   ],
   "source": [
    "import Base: +, -, *, /, ==\n",
    "\n",
    "# Aqui se implementan los métodos necesarios para cada función\n",
    "+(a::Taylor, b::Taylor) = Taylor(prom(a, gradomax(a, b)).coef + prom(b, gradomax(a, b)).coef)\n",
    "+(a::Taylor, b::Number) = a + Taylor(b)\n",
    "+(a::Number, b::Taylor) = b + Taylor(a)\n",
    "+(a::Taylor) = Taylor(a.coef)\n",
    " ## Tanto la suma como la resta de polinomios promueven el resultado a el grado mayor entre los sumandos.\n",
    "-(a::Taylor, b::Taylor) = Taylor(prom(a, gradomax(a, b)).coef - prom(b, gradomax(a, b)).coef)\n",
    "-(a::Taylor, b::Number) = a - Taylor(b)\n",
    "-(a::Number, b::Taylor) = Taylor(a) - b\n",
    "-(a::Taylor) = Taylor(-a.coef)\n",
    "\n",
    "function *(a::Taylor, b::Taylor)\n",
    "    n = gradomax(a, b)\n",
    "    A = prom(a,n)\n",
    "    B = prom(b,n)\n",
    "    producto = Taylor(zeros(n)) ## Inicializamos un polinomio de Taylor de grado n.\n",
    "    \n",
    "    for k = 0:(n - 1)\n",
    "        suma = 0\n",
    "        for j = 0:k\n",
    "            suma += A.coef[j + 1] * B.coef[k - j + 1]\n",
    "        end\n",
    "        producto.coef[k + 1] = suma\n",
    "\n",
    "    end\n",
    "    \n",
    "    return producto\n",
    "end\n",
    "*(a::Taylor, b::Number) = Taylor(b * a.coef)\n",
    "*(a::Number, b::Taylor) = Taylor(a * b.coef)\n",
    "\n",
    "function /(a::Taylor, b::Taylor)\n",
    "    n = gradomax(a, b)\n",
    "    A = prom(a, n)\n",
    "    B = prom(b, n)\n",
    "\n",
    "    div = Taylor(zeros(n))\n",
    "    ## Checamos por coeficientes nulos\n",
    "    p = 1\n",
    "    while b.coef[p] == 0\n",
    "        p += 1;\n",
    "    end\n",
    "\n",
    "    div.coef[1] = A.coef[p] / B.coef[p] ## Agregamos el primer elemento\n",
    "\n",
    "    for k = (p + 1):n\n",
    "        suma = 0\n",
    "        \n",
    "        for j = 0:(k - 1)\n",
    "            suma += div.coef[j + 1] * B.coef[k - j]\n",
    "        end\n",
    "\n",
    "        div.coef[k - p + 1] = (A.coef[k] - suma) / B.coef[p]\n",
    "    end\n",
    "    \n",
    "    return div\n",
    "end\n",
    "\n",
    "/(a::Taylor, k::Number) = Taylor(a.coef / k)\n",
    "/(k::Number, a::Taylor) = Taylor(k) / a\n",
    "\n",
    "## La función == promueve los polinomios y despues los compara, asi podemos ver si los coeficientes son iguales\n",
    "## sin considerar la diferencia en el grado, asi Taylor([1,1]) == Taylor([1,1,0])\n",
    "==(a::Taylor, b::Taylor) = prom(a, b).coef == prom(b, a).coef"
   ]
  },
  {
   "cell_type": "code",
   "execution_count": 7,
   "metadata": {
    "collapsed": false
   },
   "outputs": [
    {
     "data": {
      "text/plain": [
       "Taylor{Float64}([1.0,1.0])"
      ]
     },
     "execution_count": 7,
     "metadata": {},
     "output_type": "execute_result"
    }
   ],
   "source": [
    "x = Taylor([1.0, 1.0])"
   ]
  },
  {
   "cell_type": "code",
   "execution_count": 8,
   "metadata": {
    "collapsed": false
   },
   "outputs": [
    {
     "data": {
      "text/plain": [
       "Taylor{Float64}([1.0,2.0])"
      ]
     },
     "execution_count": 8,
     "metadata": {},
     "output_type": "execute_result"
    }
   ],
   "source": [
    "x2 = x * x"
   ]
  },
  {
   "cell_type": "markdown",
   "metadata": {},
   "source": [
    "Se agregan archivos runtest_Taylor.jl y Taylor.jl"
   ]
  },
  {
   "cell_type": "markdown",
   "metadata": {},
   "source": [
    "---"
   ]
  },
  {
   "cell_type": "markdown",
   "metadata": {},
   "source": [
    "## Ejercicio 2\n",
    "\n",
    "Obtengan las relaciones de recurrencia para las funciones $L(x) = \\log\\big(g(x)\\big)$, $P_\\alpha(x) = \\big(g(x)\\big)^\\alpha$, $S(x) = \\sin\\big(g(x)\\big)$, $C(x) = \\cos\\big(g(x)\\big)$ usando el mismo procedimiento que arriba. Implementen métodos adecuados para estas funciones en el módulo, actuando sobre estructuras `Taylor` e incluyan pruebas necesarias en `runtest_taylor.jl`."
   ]
  },
  {
   "cell_type": "markdown",
   "metadata": {},
   "source": [
    "Planteando la función \n",
    "\n",
    "$$ E(x) = \\exp{(g(x))} $$\n",
    "$$ \\frac{dE}{dx}(x) = \\frac{dg}{dx}(x) \\exp{(g(x))} = \\frac{dg}{dx}(x) E(x)$$\n",
    "\n",
    "Ahora si expresamos a $E(x)$ y a $\\frac{dg}{dx}(x)$ como polinomios de Taylor tenemos que\n",
    "\n",
    "$$ E(x) = \\sum_{k = 0}^{\\infty} E_{[k]}(x - x_0)^k$$\n",
    "$$ \\frac{dE}{dx}(x) = \\sum_{k = 0}^{\\infty} kE_{[k]}(x - x_0)^{(k - 1)}$$\n",
    "$$ \\frac{dg}{dx}(x) = \\sum_{k = 0}^{\\infty} kg_{[k]}(x - x_0)^{(k - 1)}$$\n",
    "\n",
    "Por lo tanto \n",
    "\n",
    "$$ \\sum_{k = 0}^{\\infty} kE_{[k]}(x - x_0)^{(k - 1)} = (\\sum_{k = 0}^{\\infty} E_{[k]}(x - x_0)^k) (\\sum_{k = 0}^{\\infty} kg_{[k]}(x - x_0)^{(k - 1)})$$\n",
    "\n",
    "donde el lado derecho de la ecuacion es un producto de polinomios, por lo tanto podemos utilizar la regla de producto antes vista. Jugando con los indices de las sumas podemos llegar a\n",
    "\n",
    "$$ \\sum_{k = 0}^{\\infty} kE_{[k]}(x - x_0)^{(k - 1)} = \\sum_{k = 0}^{\\infty} (\\sum_{j = 0}^{k} (k - j)g_{[k -j]} E_{[j]})(x - x_0)^{(k - 1)}$$\n",
    "\n",
    "por lo tanto\n",
    "\n",
    "$$ E_{[k]} = \\frac{1}{k} (\\sum_{j = 0}^{k} (k - j)g_{[k -j]} E_{[j]}) $$"
   ]
  },
  {
   "cell_type": "code",
   "execution_count": null,
   "metadata": {
    "collapsed": false
   },
   "outputs": [],
   "source": [
    "import Base: exp\n",
    "\n",
    "function exp(a::Taylor)\n",
    "    n = gradomax(a)\n",
    "    \n",
    "    expo = Taylor(exp(a.coef[1]))\n",
    "    expo = prom(expo, n)\n",
    "    \n",
    "    for k = 2:n\n",
    "        suma = 0\n",
    "        for j = 1:k\n",
    "            suma += (k - j) * a.coef[k - j + 1] * expo.coef[j]\n",
    "        end\n",
    "        expo.coef[k] = suma * (1 / (k - 1))\n",
    "    end\n",
    "    \n",
    "    return expo\n",
    "end"
   ]
  },
  {
   "cell_type": "code",
   "execution_count": null,
   "metadata": {
    "collapsed": true
   },
   "outputs": [],
   "source": [
    "using PyPlot"
   ]
  },
  {
   "cell_type": "code",
   "execution_count": null,
   "metadata": {
    "collapsed": false
   },
   "outputs": [],
   "source": [
    "x = linspace(-1.5, 1.5, 100)\n",
    "y = zeros(x)\n",
    "x_ = Taylor([0.0, 0.0, -1.0])\n",
    "\n",
    "for k = gradomax(x_):10\n",
    "    x_ = prom(x_, k)\n",
    "    ec = exp(x_)\n",
    "    for (i, j) = enumerate(x)\n",
    "        y[i] = evaluacion(ec, j)\n",
    "    end\n",
    "    plot(x, y, label = \"k = $(k)\")\n",
    "end\n",
    "plot(x, exp(-x.*x), label = \"analitica\")\n",
    "legend()"
   ]
  },
  {
   "cell_type": "markdown",
   "metadata": {},
   "source": [
    "Para el logaritmo realizamos el mismo procedimiento\n",
    "\n",
    "$$ L(x) = log(g(x)) $$\n",
    "$$ \\frac{dL}{dx}(x) =  \\frac{1}{g(x)} \\frac{dg}{dx}(x) $$\n",
    "\n",
    "Aqui si vemos a $ \\frac{1}{g(x)} \\frac{dg}{dx}(x) $ como\n",
    "$$ \\frac{g'}{g} = \\sum_{k = 0}^{\\infty} (\\frac{g'}{g})_{[k]} (x - x_0)^k$$\n",
    "\n",
    "Entonces tenemos\n",
    "\n",
    "$$ \\frac{dL}{dx}(x) = \\sum_{k = 0}^{\\infty} kL (x - x_0) ^{k - 1} = \\sum_{k = 0}^{\\infty} (\\frac{g'}{g})_{[k]} (x - x_0)^k$$\n",
    "\n",
    "por lo tanto\n",
    "\n",
    "$$ L_{[k]} = \\frac{1}{k} (\\frac{g'}{g})_{[k]}$$"
   ]
  },
  {
   "cell_type": "code",
   "execution_count": null,
   "metadata": {
    "collapsed": false
   },
   "outputs": [],
   "source": [
    "import Base: log\n",
    "\n",
    "function log(a::Taylor)\n",
    "    n = gradomax(a)\n",
    "\n",
    "    loga = Taylor(log(a.coef[1]))\n",
    "    loga = prom(loga, n)\n",
    "\n",
    "    p = 1\n",
    "    while a.coef[p] == 0\n",
    "        p += 1\n",
    "    end\n",
    "    \n",
    "    for k = (p + 1):n\n",
    "        suma = 0\n",
    "        \n",
    "        for j = (p + 1):k\n",
    "            suma += (j - 1) * loga.coef[j] * a.coef[k - j + 1]\n",
    "        end\n",
    "        loga.coef[k] = (1 / a.coef[p]) * (a.coef[k] - suma / (k - p))\n",
    "    end\n",
    "    \n",
    "    return loga\n",
    "end"
   ]
  },
  {
   "cell_type": "code",
   "execution_count": null,
   "metadata": {
    "collapsed": false
   },
   "outputs": [],
   "source": [
    "x = linspace(1, 100, 100)\n",
    "y = zeros(x)\n",
    "x_ = Taylor([0.0, 1.0])\n",
    "\n",
    "for k = 2:5\n",
    "    x_ = prom(x_, k)\n",
    "    ec = log(x_)\n",
    "    for (i, j) = enumerate(x)\n",
    "        y[i] = evaluacion(ec, j)\n",
    "    end\n",
    "    plot(x, y, label = \"k = $(k)\")\n",
    "end\n",
    "# plot(x, log(x), label = \"analitica\")\n",
    "legend()"
   ]
  },
  {
   "cell_type": "code",
   "execution_count": null,
   "metadata": {
    "collapsed": false
   },
   "outputs": [],
   "source": [
    "import Base: ^\n",
    "\n",
    "function ^(a::Taylor, n::Integer)\n",
    "    if n != 0\n",
    "        pot = a\n",
    "        for i = 2:n\n",
    "            pot *= a\n",
    "        end\n",
    "        return pot\n",
    "    else\n",
    "        return Taylor([1])\n",
    "    end\n",
    "end\n",
    "\n",
    "\n",
    "\n",
    "^(a::Taylor, N::Number) = exp(N * log(a))"
   ]
  },
  {
   "cell_type": "code",
   "execution_count": null,
   "metadata": {
    "collapsed": true
   },
   "outputs": [],
   "source": []
  }
 ],
 "metadata": {
  "kernelspec": {
   "display_name": "Julia 0.5.2-pre",
   "language": "julia",
   "name": "julia-0.5"
  },
  "language_info": {
   "file_extension": ".jl",
   "mimetype": "application/julia",
   "name": "julia",
   "version": "0.5.2"
  }
 },
 "nbformat": 4,
 "nbformat_minor": 2
}
