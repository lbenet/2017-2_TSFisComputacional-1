{
 "cells": [
  {
   "cell_type": "markdown",
   "metadata": {},
   "source": [
    "# Tarea 3: Derivación automática 1"
   ]
  },
  {
   "cell_type": "markdown",
   "metadata": {},
   "source": [
    "Fecha de envío del PR inicial: **lunes 27 de marzo, antes de la clase**\n",
    "\n",
    "Fecha de aceptación del PR: **martes 4 de abril, antes de la clase**"
   ]
  },
  {
   "cell_type": "markdown",
   "metadata": {},
   "source": [
    "## Ejercicio 1\n",
    "\n",
    "Implementen una nueva estructura paramétrica (`type`) que llamaremos `Dual` y que defina los duales, donde el parámetro debe ser un subtipo de `Real`; la siguiente celda sirve para empezar. La parte que identifica a $f_0$ será llamada `fun`, y la correspondiente a $f'_0$ será `der`.\n",
    "\n",
    "La definición debe incluir métodos que sean compatibles con las dos propiedades arriba mencionadas, es decir, que el dual de una constante (cualquier número real) sea $(c,0)$, y que el de la variable independiente sea $(x_0,1)$. Para lo segundo definiremos una función `xdual` con la propiedad mencionada.\n",
    "\n",
    "---"
   ]
  },
  {
   "cell_type": "code",
   "execution_count": 1,
   "metadata": {
    "collapsed": false
   },
   "outputs": [
    {
     "data": {
      "text/plain": [
       "Dual"
      ]
     },
     "execution_count": 1,
     "metadata": {},
     "output_type": "execute_result"
    }
   ],
   "source": [
    "\"\"\"\n",
    "    Dual{T<:Real}\n",
    "\n",
    "Definición de los duales, donde lo campos son:\n",
    "...\n",
    "\"\"\"\n",
    "type Dual{T<:Real}\n",
    "    fun :: T\n",
    "    der :: T\n",
    "end"
   ]
  },
  {
   "cell_type": "code",
   "execution_count": 2,
   "metadata": {
    "collapsed": false
   },
   "outputs": [
    {
     "data": {
      "text/plain": [
       "Dual{T<:Real}"
      ]
     },
     "execution_count": 2,
     "metadata": {},
     "output_type": "execute_result"
    }
   ],
   "source": [
    "#= \n",
    "Definan un método que permita la promoción automática cuando \n",
    "las entradas para definir el dual no son del mismo tipo\n",
    "=#\n",
    "function Dual(f, d)\n",
    "    return Dual(promote(f, d)...)\n",
    "end"
   ]
  },
  {
   "cell_type": "code",
   "execution_count": 3,
   "metadata": {
    "collapsed": false
   },
   "outputs": [
    {
     "data": {
      "text/plain": [
       "Dual{T<:Real}"
      ]
     },
     "execution_count": 3,
     "metadata": {},
     "output_type": "execute_result"
    }
   ],
   "source": [
    "#= \n",
    "Aquí se define un método que garantiza que el dual de una constante \n",
    "(número) cumple lo requerido\n",
    "=#\n",
    "\n",
    "function Dual(a::Real)\n",
    "    return Dual(a, 0)\n",
    "end"
   ]
  },
  {
   "cell_type": "code",
   "execution_count": 4,
   "metadata": {
    "collapsed": false
   },
   "outputs": [
    {
     "data": {
      "text/plain": [
       "xdual"
      ]
     },
     "execution_count": 4,
     "metadata": {},
     "output_type": "execute_result"
    }
   ],
   "source": [
    "#= \n",
    "Aquí se define la función `xdual`, que se usará para identificar \n",
    "la variable independiente. La función dependerá de x_0, y debe \n",
    "regresar el Dual apropiado a la variable independiente\n",
    "=#\n",
    "\n",
    "\"\"\"\n",
    "    xdual(x0) -> Dual(x0, 1)\n",
    "\n",
    "...\n",
    "\"\"\"\n",
    "function xdual(x0)\n",
    "        return Dual(x0,1)\n",
    "end"
   ]
  },
  {
   "cell_type": "code",
   "execution_count": 5,
   "metadata": {
    "collapsed": false
   },
   "outputs": [
    {
     "data": {
      "text/html": [
       "4 methods for generic function <b>Type</b>:<ul><li> (::<b>Type{Dual}</b>)(a::<b>Real</b>) at In[3]:7</li> <li> (::<b>Type{Dual}</b>)<i>{T<:Real}</i>(fun::<b>T</b>, der::<b>T</b>) at In[1]:8</li> <li> (::<b>Type{Dual}</b>)(f, d) at In[2]:6</li> <li> (::<b>Type{T}</b>)<i>{T}</i>(arg) at <a href=\"https://github.com/JuliaLang/julia/tree/a6c55c5e5032f23b7c09118929295d16c40505e3/base/sysimg.jl#L53\" target=\"_blank\">sysimg.jl:53</a></li> </ul>"
      ],
      "text/plain": [
       "# 4 methods for generic function \"(::Type)\":\n",
       "(::Type{Dual})(a::Real) at In[3]:7\n",
       "(::Type{Dual}){T<:Real}(fun::T, der::T) at In[1]:8\n",
       "(::Type{Dual})(f, d) at In[2]:6\n",
       "(::Type{T}){T}(arg) at sysimg.jl:53"
      ]
     },
     "execution_count": 5,
     "metadata": {},
     "output_type": "execute_result"
    }
   ],
   "source": [
    "methods(Dual)"
   ]
  },
  {
   "cell_type": "code",
   "execution_count": 6,
   "metadata": {
    "collapsed": false
   },
   "outputs": [
    {
     "data": {
      "text/plain": [
       "\u001b[1m\u001b[32mTest Passed\n",
       "\u001b[0m  Expression: c.der == 1\n",
       "   Evaluated: 1 == 1"
      ]
     },
     "execution_count": 6,
     "metadata": {},
     "output_type": "execute_result"
    }
   ],
   "source": [
    "#= \n",
    "Muestren que su código funciona con tests adecuados para crear duales,\n",
    "para promoverlos, y al definir el dual de un número y `xdual`.\n",
    "\n",
    "En esto es útil usar la infraestructura de Julia; ver:\n",
    "https://julia.readthedocs.io/en/stable/stdlib/test/\n",
    "\n",
    "using Base.Test\n",
    "\n",
    "a = Dual(1, 2.0)\n",
    "@test a.fun == 1.0\n",
    "@test a.der == 2.0\n",
    "\n",
    "=#\n",
    "using Base.Test\n",
    "\n",
    "a = Dual(1, 2.0) # Tes de funcion promote\n",
    "@test a.fun == 1.0\n",
    "@test a.der == 2.0\n",
    "\n",
    "b = Dual(3)\n",
    "\n",
    "@test b.fun == 3\n",
    "@test b.der == 0\n",
    "\n",
    "\n",
    "x0 = 10\n",
    "\n",
    "c = xdual(x0)\n",
    "\n",
    "@test c.fun == 10\n",
    "@test c.der == 1"
   ]
  },
  {
   "cell_type": "markdown",
   "metadata": {},
   "source": [
    "# Aritmética de duales\n",
    "\n",
    "De la definición, y recordando el significado de cada una de las componentes del par doble, tenemos que las operaciones aritméticas quedan definidas por:\n",
    "\n",
    "\\begin{eqnarray}\n",
    "    \\vec{u} \\pm \\vec{w} &=& \\big( u_0 \\pm w_0, \\, u'_0\\pm w'_0 \\big),\\\\\n",
    "    \\vec{u} \\times \\vec{w} &=& \\big( u_0 \\cdot w_0,\\, u_0 w'_0 +  w_0 u'_0 \\big),\\\\\n",
    "    \\frac{\\vec{u}}{\\vec{w}} &=& \\big( \\frac{u_0}{w_0},\\, \\frac{ u'_0 - (u_0/w_0)w'_0}{w_0}\\big),\\\\\n",
    "    {\\vec{u}}^\\alpha &=& \\big( u_0^\\alpha,\\, \\alpha u_0^{\\alpha-1} u'_0 \\big).\\\\\n",
    "\\end{eqnarray}    \n",
    "\n",
    "Noten que las dos últimas operaciones son compatibles con $\\hat{\\mathbf{h}}^2=0$.\n",
    "\n",
    "Además, están los operadores unitarios, que satisfacen:\n",
    "\\begin{equation}\n",
    "    \\pm \\vec{u} = \\big(\\pm u_0, \\pm u'_0 \\big).\n",
    "\\end{equation}    "
   ]
  },
  {
   "cell_type": "markdown",
   "metadata": {},
   "source": [
    "## Ejercicio 2\n",
    "\n",
    "Implementen *todas* las operaciones aritméticas definidas arriba. Estas operaciones deben incluir las operaciones aritméticas que involucran un número cualquiera (`a :: Real`) y un dual (`b::Dual`), como por ejemplo `a+b` o `b+a`, etc. Esto se puede hacer implementando los métodos específicos para estos casos (¡y que sirven en cualquier órden!). \n",
    "\n",
    "Implementen también la comparación entre duales (`==`). \n",
    "\n",
    "Incluyan tests que muestren que cada una de ellas está bien definida, y que sus resultados dan valores consistentes."
   ]
  },
  {
   "cell_type": "code",
   "execution_count": 7,
   "metadata": {
    "collapsed": false
   },
   "outputs": [
    {
     "data": {
      "text/plain": [
       "-3"
      ]
     },
     "execution_count": 7,
     "metadata": {},
     "output_type": "execute_result"
    }
   ],
   "source": [
    "-(3)"
   ]
  },
  {
   "cell_type": "code",
   "execution_count": 29,
   "metadata": {
    "collapsed": false
   },
   "outputs": [
    {
     "name": "stderr",
     "output_type": "stream",
     "text": [
      "WARNING: Method definition +(Main.Dual, Main.Dual) in module Main at In[20]:9 overwritten at In[29]:9.\n",
      "WARNING: Method definition +(Main.Dual, Real) in module Main at In[20]:10 overwritten at In[29]:10.\n",
      "WARNING: Method definition +(Real, Main.Dual) in module Main at In[20]:11 overwritten at In[29]:11.\n",
      "WARNING: Method definition -(Main.Dual, Main.Dual) in module Main at In[20]:13 overwritten at In[29]:13.\n",
      "WARNING: Method definition -(Main.Dual, Real) in module Main at In[20]:14 overwritten at In[29]:14.\n",
      "WARNING: Method definition -(Real, Main.Dual) in module Main at In[20]:15 overwritten at In[29]:15.\n",
      "WARNING: Method definition *(Main.Dual, Main.Dual) in module Main at In[20]:17 overwritten at In[29]:17.\n",
      "WARNING: Method definition *(Main.Dual, Real) in module Main at In[20]:18 overwritten at In[29]:18.\n",
      "WARNING: Method definition *(Real, Main.Dual) in module Main at In[20]:19 overwritten at In[29]:19.\n",
      "WARNING: Method definition /(Main.Dual, Main.Dual) in module Main at In[20]:21 overwritten at In[29]:21.\n",
      "WARNING: Method definition /(Main.Dual, Real) in module Main at In[20]:22 overwritten at In[29]:22.\n",
      "WARNING: Method definition /(Real, Main.Dual) in module Main at In[20]:23 overwritten at In[29]:23.\n",
      "WARNING: Method definition ^(Main.Dual, Int64) in module Main at In[20]:25 overwritten at In[29]:25.\n",
      "WARNING: Method definition +(Main.Dual) in module Main at In[20]:27 overwritten at In[29]:27.\n",
      "WARNING: Method definition -(Main.Dual) in module Main at In[20]:28 overwritten at In[29]:28.\n",
      "WARNING: Method definition ==(Main.Dual, Main.Dual) in module Main at In[20]:30 overwritten at In[29]:30.\n"
     ]
    },
    {
     "data": {
      "text/plain": [
       "== (generic function with 119 methods)"
      ]
     },
     "execution_count": 29,
     "metadata": {},
     "output_type": "execute_result"
    }
   ],
   "source": [
    "import Base: +, -, *, /, ^, ==\n",
    "\n",
    "#= \n",
    "Aquí se implementan los métodos necesarios para cada función; \n",
    "en el caso de ^ por ahora nos conformaremos con que la potencia \n",
    "sea entera.\n",
    "=#\n",
    "\n",
    "+(a::Dual, b::Dual) = Dual(a.fun + b.fun, a.der + b.der)\n",
    "+(a::Dual, b::Real) = Dual(a.fun + b, a.der) #se agregan las operaciones respecto a reales.\n",
    "+(b::Real, a::Dual) = Dual(a.fun + b, a.der)\n",
    "\n",
    "-(a::Dual, b::Dual) = Dual(a.fun - b.fun, a.der - b.der)  \n",
    "-(a::Dual, b::Real) = Dual(a.fun - b, a.der)\n",
    "-(b::Real, a::Dual) = Dual(a.fun - b, a.der)\n",
    "\n",
    "*(a::Dual, b::Dual) = Dual(a.fun * b.fun, a.fun * b.der + b.fun * a.der) # Aplicando regla del producto d(f*g) = df * g + dg * f\n",
    "*(a::Dual, b::Real) = Dual(a.fun * b, a.der * b)\n",
    "*(a::Real, b::Dual) = Dual(a * b.fun, a * b.der)\n",
    "\n",
    "/(a::Dual, b::Dual) = Dual(a.fun / b.fun, (a.der - (a.fun / b.fun) * b.der) / b.fun)\n",
    "/(a::Dual, b::Real) = Dual(a.fun / b, a.der / b)\n",
    "/(a::Real, b::Dual) = Dual(a / b.fun, -a * b.der / b.fun^2)\n",
    "\n",
    "^(a::Dual, b::Int) = Dual(a.fun^b, b * a.der * a.fun^(b - 1))\n",
    "\n",
    "+(a::Dual) = Dual(+a.fun, +a.der) # Operador unitario +, +(Dual) = Dual(+, +)\n",
    "-(a::Dual) = Dual(-a.fun, -a.der) # Operador unitario +, -(Dual) = Dual(-, -)\n",
    "\n",
    "==(a::Dual, b::Dual) = (a.fun == b.fun) && (a.der == b.der)"
   ]
  },
  {
   "cell_type": "code",
   "execution_count": 56,
   "metadata": {
    "collapsed": false
   },
   "outputs": [
    {
     "data": {
      "text/plain": [
       "Dual{Int64}(4096,8192)"
      ]
     },
     "execution_count": 56,
     "metadata": {},
     "output_type": "execute_result"
    }
   ],
   "source": [
    "# Aquí se incluyen las pruebas necesarias\n",
    "\n",
    "a = Dual(8, 4) # Utilizo estos 3 duales porque creo que cubren todos los casos de uso.\n",
    "b = Dual(3)    # (3, 0)\n",
    "c = xdual(27)  # (27, 1)\n",
    "d = 4          # Real.\n",
    "\n",
    "s1 = a + b     # (8, 4) + (3,  0) = (11, 4)\n",
    "s2 = a + c     # (8, 4) + (27, 1) = (35, 5)\n",
    "s3 = b + c     # (3, 0) + (27, 1) = (30, 1)\n",
    "s4 = a + d     # (8, 4) + 4       = (12, 4)\n",
    "s5 = + a       #        + (8,  4) = (+8, +4)\n",
    "\n",
    "r1 = a - b     # (8, 4) - (3,  0) = (5, 4)\n",
    "r2 = a - c     # (8, 4) - (27, 1) = (-19, 3)\n",
    "r3 = b - c     # (3, 0) - (27, 1) = (-24, -1)\n",
    "r4 = a - d     # (8, 4) - 4       = (4, 4)\n",
    "r5 = - a       #        - (8, 4)  = (-8, -4)\n",
    "\n",
    "p1 = a * b     # (8, 4) * (3,  0) = (24, 12)\n",
    "p2 = a * c     # (8, 4) * (27, 1) = (216, 116)\n",
    "p3 = b * c     # (3, 0) * (27, 1) = (81, 3)\n",
    "p4 = a * d     # (8, 4) * 4       = (32, 16)\n",
    "\n",
    "d1 = a / b     # (8, 4) / (3,  0) = (8 / 3, 4 / 3)\n",
    "d2 = a / c     # (8, 4) / (27, 1) = (8 / 27, (4 * 27 - 8) / 27^2)\n",
    "d3 = b / c     # (3, 0) / (27, 1) = (3 / 27, -3 / 27^2)\n",
    "d4 = a / d     # (8, 4) / 4       = (2, 1)\n",
    "\n",
    "pot1 = a^d     # (8, 4) ^ 4 = (4096, 256)"
   ]
  },
  {
   "cell_type": "code",
   "execution_count": 57,
   "metadata": {
    "collapsed": false
   },
   "outputs": [
    {
     "data": {
      "text/plain": [
       "\u001b[1m\u001b[32mTest Passed\n",
       "\u001b[0m  Expression: pot1.der == 8192\n",
       "   Evaluated: 8192 == 8192"
      ]
     },
     "execution_count": 57,
     "metadata": {},
     "output_type": "execute_result"
    }
   ],
   "source": [
    "# Test de suma\n",
    "\n",
    "@test s1.fun == 11\n",
    "@test s1.der == 4\n",
    "\n",
    "@test s2.fun == 35\n",
    "@test s2.der == 5\n",
    "\n",
    "@test s3.fun == 30\n",
    "@test s3.der == 1\n",
    "\n",
    "@test s4.fun == 12\n",
    "@test s4.der == 4\n",
    "\n",
    "@test s5.fun == 8\n",
    "@test s5.der == 4\n",
    "\n",
    "# Test de resta\n",
    "\n",
    "@test r1.fun == 5\n",
    "@test r1.der == 4\n",
    "\n",
    "@test r2.fun == -19\n",
    "@test r2.der == 3\n",
    "\n",
    "@test r3.fun == -24\n",
    "@test r3.der == -1\n",
    "\n",
    "@test r4.fun == 4\n",
    "@test r4.der == 4\n",
    "\n",
    "@test r5.fun == -8\n",
    "@test r5.der == -4\n",
    "\n",
    "# Test de producto\n",
    "\n",
    "@test p1.fun == 24\n",
    "@test p1.der == 12\n",
    "\n",
    "@test p2.fun == 216\n",
    "@test p2.der == 116\n",
    "\n",
    "@test p3.fun == 81\n",
    "@test p3.der == 3\n",
    "\n",
    "@test p4.fun == 32\n",
    "@test p4.der == 16\n",
    "\n",
    "# Test de division\n",
    "\n",
    "@test d1.fun == 2.6666666666666665\n",
    "@test d1.der == 1.3333333333333333\n",
    "\n",
    "@test d2.fun == 0.2962962962962963\n",
    "@test d2.der == 0.13717421124828533\n",
    "\n",
    "@test d3.fun == 0.1111111111111111\n",
    "@test d3.der == -0.004115226337448559\n",
    "\n",
    "@test d4.fun == 2\n",
    "@test d4.der == 1\n",
    "\n",
    "# Test de potencia\n",
    "\n",
    "@test pot1.fun == 4096\n",
    "@test pot1.der == 8192\n"
   ]
  },
  {
   "cell_type": "markdown",
   "metadata": {},
   "source": [
    "## Ejercicio 3\n",
    "\n",
    "Para reutilizar el código que han hecho en este notebook, y de hecho seguirlo desarrollando, conviene ponerlo dentro de un módulo. Para hacer esto, deberán copiar todo el código necesario (y que aparece en la resolución de los ejercicios anteriores) en un archivo cuyo nombre será \"AutomDiff.jl\" y cuya estructura será la siguiente\n",
    "\n",
    "```julia\n",
    "#=\n",
    "Aquí viene una explicación de lo que se hace en el módulo, \n",
    "los autores y la fecha\n",
    "=#\n",
    "\n",
    "# La siguiente instrucción sirve para *precompilar* el módulo\n",
    "__precompile__(true)\n",
    "\n",
    "module AD\n",
    "    import Base: +, -, *, /, ^, ==\n",
    "    \n",
    "    export Dual, xdual\n",
    "    \n",
    "    # Aquí viene TODO el código que implementaron.\n",
    "    # Primero uno incluye la definición de Dual y\n",
    "    # después las operaciones con Duales.\n",
    "    ...\n",
    "\n",
    "end\n",
    "```\n",
    "\n",
    "Todas las pruebas deberán ser incluidas en un archivo separado llamado \"runtest.jl\", y su estructura es:\n",
    "\n",
    "```julia\n",
    "# Este archivo incluye los tests del módulo AD\n",
    "include(\"AutomDiff.jl\")\n",
    "using Base.test\n",
    "using AD\n",
    "\n",
    "# A continuación vienen los tests que implementaron y que deben \n",
    "# ser suficientemente exhaustivos\n",
    "...\n",
    "\n",
    "```\n",
    "\n",
    "Estos dos archivos deben incluirlos en el envío de su tarea (además del archivo `Tarea3.ipynb`)."
   ]
  },
  {
   "cell_type": "code",
   "execution_count": 58,
   "metadata": {
    "collapsed": false
   },
   "outputs": [
    {
     "name": "stdout",
     "output_type": "stream",
     "text": [
      "search: \u001b[1mB\u001b[22m\u001b[1ma\u001b[22m\u001b[1ms\u001b[22m\u001b[1me\u001b[22m \u001b[1mb\u001b[22m\u001b[1ma\u001b[22m\u001b[1ms\u001b[22m\u001b[1me\u001b[22m \u001b[1mb\u001b[22m\u001b[1ma\u001b[22m\u001b[1ms\u001b[22m\u001b[1me\u001b[22mname \u001b[1mb\u001b[22m\u001b[1ma\u001b[22m\u001b[1ms\u001b[22m\u001b[1me\u001b[22m64encode \u001b[1mb\u001b[22m\u001b[1ma\u001b[22m\u001b[1ms\u001b[22m\u001b[1me\u001b[22m64decode \u001b[1mB\u001b[22m\u001b[1ma\u001b[22m\u001b[1ms\u001b[22m\u001b[1me\u001b[22m64EncodePipe\n",
      "\n"
     ]
    },
    {
     "data": {
      "text/markdown": [
       "No documentation found.\n",
       "\n",
       "No `README.md` found for module `Base`.\n"
      ],
      "text/plain": [
       "No documentation found.\n",
       "\n",
       "No `README.md` found for module `Base`.\n"
      ]
     },
     "execution_count": 58,
     "metadata": {},
     "output_type": "execute_result"
    }
   ],
   "source": [
    "?Base"
   ]
  }
 ],
 "metadata": {
  "kernelspec": {
   "display_name": "Julia 0.5.2-pre",
   "language": "julia",
   "name": "julia-0.5"
  },
  "language_info": {
   "file_extension": ".jl",
   "mimetype": "application/julia",
   "name": "julia",
   "version": "0.5.2"
  }
 },
 "nbformat": 4,
 "nbformat_minor": 2
}
