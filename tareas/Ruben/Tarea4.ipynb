{
 "cells": [
  {
   "cell_type": "code",
   "execution_count": 1,
   "metadata": {
    "collapsed": true
   },
   "outputs": [],
   "source": [
    "include(\"AutomDiff.jl\")\n",
    "using AD"
   ]
  },
  {
   "cell_type": "markdown",
   "metadata": {},
   "source": [
    "# Tarea4: Derivación automática 2"
   ]
  },
  {
   "cell_type": "markdown",
   "metadata": {},
   "source": [
    "Fecha de envío del PR inicial: **viernes 7 de abril**\n",
    "\n",
    "Fecha de aceptación del PR: **martes 18 de abril, antes de la clase**"
   ]
  },
  {
   "cell_type": "markdown",
   "metadata": {},
   "source": [
    "---\n",
    "\n",
    "## Ejercicio 1\n",
    "\n",
    "Implementen las funciones relacionadas con potencias, exponenciales, logarítmos, las funciones trigonométricas y las hiperbólicas que tiene Julia definidas (ver la [documentación](http://julia.readthedocs.io/en/stable/manual/mathematical-operations/#trigonometric-and-hyperbolic-functions)). La implementación debe incluir los tests adecuados. La manera en que implementen las cosas debe estar clara en el notebook \"Tarea4.ipynb\", pero toda la funcionalidad debe ser incluida en \"AutomDiff.jl\" al igual que en \"runtests.jl\"\n",
    "\n",
    "**Hint:** Pueden aprovechar las capacidades de Julia en metaprogramming."
   ]
  },
  {
   "cell_type": "code",
   "execution_count": 2,
   "metadata": {
    "collapsed": false
   },
   "outputs": [
    {
     "data": {
      "text/plain": [
       "cbrt (generic function with 7 methods)"
      ]
     },
     "execution_count": 2,
     "metadata": {},
     "output_type": "execute_result"
    }
   ],
   "source": [
    "import Base: sqrt, cbrt\n",
    "\n",
    "sqrt(a::Dual) = Dual(sqrt(a.fun), 0.5 * a.der / sqrt(a.fun))\n",
    "cbrt(a::Dual) = Dual(cbrt(a.fun), (1/3) * a.der / cbrt(a.fun^2))"
   ]
  },
  {
   "cell_type": "code",
   "execution_count": 3,
   "metadata": {
    "collapsed": false
   },
   "outputs": [
    {
     "data": {
      "text/plain": [
       "log (generic function with 19 methods)"
      ]
     },
     "execution_count": 3,
     "metadata": {},
     "output_type": "execute_result"
    }
   ],
   "source": [
    "import Base: exp, log\n",
    "\n",
    "exp(a::Dual) = Dual(exp(a.fun), a.der * exp(a.fun))\n",
    "log(a::Dual) = Dual(log(a.fun), a.der / a.fun)"
   ]
  },
  {
   "cell_type": "code",
   "execution_count": 4,
   "metadata": {
    "collapsed": false
   },
   "outputs": [
    {
     "data": {
      "text/plain": [
       "tan (generic function with 11 methods)"
      ]
     },
     "execution_count": 4,
     "metadata": {},
     "output_type": "execute_result"
    }
   ],
   "source": [
    "import Base: sin, cos, tan\n",
    "\n",
    "sin(a::Dual) = Dual(sin(a.fun), a.der * cos(a.fun))\n",
    "cos(a::Dual) = Dual(cos(a.fun), -a.der * sin(a.fun))\n",
    "tan(a::Dual) = Dual(tan(a.fun), a.der * sec(a.fun)^2)"
   ]
  },
  {
   "cell_type": "code",
   "execution_count": 5,
   "metadata": {
    "collapsed": false
   },
   "outputs": [
    {
     "data": {
      "text/plain": [
       "cot (generic function with 5 methods)"
      ]
     },
     "execution_count": 5,
     "metadata": {},
     "output_type": "execute_result"
    }
   ],
   "source": [
    "import Base: sec, csc, cot\n",
    "\n",
    "sec(a::Dual) = Dual(sec(a.fun), a.der * tan(a.fun) * sec(a.fun))\n",
    "csc(a::Dual) = Dual(csc(a.fun), -a.der * cot(a.fun) * csc(a.fun))\n",
    "cot(a::Dual) = Dual(cot(a.fun), -a.der * csc(a.fun)^2)"
   ]
  },
  {
   "cell_type": "code",
   "execution_count": 6,
   "metadata": {
    "collapsed": false
   },
   "outputs": [
    {
     "data": {
      "text/plain": [
       "tanh (generic function with 13 methods)"
      ]
     },
     "execution_count": 6,
     "metadata": {},
     "output_type": "execute_result"
    }
   ],
   "source": [
    "import Base: sinh, cosh, tanh\n",
    "\n",
    "sinh(a::Dual) = Dual(sinh(a.fun), a.der * cosh(a.fun))\n",
    "cosh(a::Dual) = Dual(cosh(a.fun), a.der * sinh(a.fun))\n",
    "tanh(a::Dual) = Dual(tanh(a.fun), a.der * sech(a.fun)^2)"
   ]
  },
  {
   "cell_type": "code",
   "execution_count": 7,
   "metadata": {
    "collapsed": false
   },
   "outputs": [
    {
     "data": {
      "text/plain": [
       "coth (generic function with 6 methods)"
      ]
     },
     "execution_count": 7,
     "metadata": {},
     "output_type": "execute_result"
    }
   ],
   "source": [
    "import Base: sech, csch, coth\n",
    "\n",
    "sech(a::Dual) = Dual(sech(a.fun), -a.der * tanh(a.fun) * sech(a.fun))\n",
    "csch(a::Dual) = Dual(csch(a.fun), -a.der * coth(a.fun) * csch(a.fun))\n",
    "coth(a::Dual) = Dual(coth(a.fun), -a.der * csch(a.fun)^2)"
   ]
  },
  {
   "cell_type": "markdown",
   "metadata": {},
   "source": [
    "---\n",
    "\n",
    "## Ejercicio 2\n",
    "\n",
    "Prueben su implementación calculando la derivada de $f(x) = \\sin\\Big(x^3 - \\frac{2}{x^6}\\Big)$\n",
    "en $x_0 = 2$.\n",
    "\n",
    "Dibujen, para $x_0 \\in [1,5]$ la función $f'(x)$."
   ]
  },
  {
   "cell_type": "code",
   "execution_count": 8,
   "metadata": {
    "collapsed": false
   },
   "outputs": [
    {
     "data": {
      "text/plain": [
       "AD.Dual{Int64}(2,1)"
      ]
     },
     "execution_count": 8,
     "metadata": {},
     "output_type": "execute_result"
    }
   ],
   "source": [
    "x_0 = xdual(2)"
   ]
  },
  {
   "cell_type": "code",
   "execution_count": 9,
   "metadata": {
    "collapsed": false
   },
   "outputs": [
    {
     "data": {
      "text/plain": [
       "f (generic function with 1 method)"
      ]
     },
     "execution_count": 9,
     "metadata": {},
     "output_type": "execute_result"
    }
   ],
   "source": [
    "f(x) = sin(x^3 - 2 / x^6)"
   ]
  },
  {
   "cell_type": "code",
   "execution_count": 10,
   "metadata": {
    "collapsed": false,
    "scrolled": true
   },
   "outputs": [
    {
     "data": {
      "text/plain": [
       "AD.Dual{Float64}(0.9934213368955197,-1.384934905523464)"
      ]
     },
     "execution_count": 10,
     "metadata": {},
     "output_type": "execute_result"
    }
   ],
   "source": [
    "f(x_0)"
   ]
  },
  {
   "cell_type": "code",
   "execution_count": 15,
   "metadata": {
    "collapsed": false
   },
   "outputs": [
    {
     "data": {
      "image/png": "[encoded data removed]",
      "text/plain": [
       "PyPlot.Figure(PyObject <matplotlib.figure.Figure object at 0x7f4a1011bd90>)"
      ]
     },
     "metadata": {},
     "output_type": "display_data"
    },
    {
     "data": {
      "text/plain": [
       "1-element Array{Any,1}:\n",
       " PyObject <matplotlib.lines.Line2D object at 0x7f4a1008b510>"
      ]
     },
     "execution_count": 15,
     "metadata": {},
     "output_type": "execute_result"
    }
   ],
   "source": [
    "using PyPlot\n",
    "\n",
    "x = linspace(1, 5, 10000)\n",
    "y = ones(x)\n",
    "\n",
    "for i = 1:length(x)\n",
    "    x_0 = xdual(x[i])\n",
    "    y[i] = f(x_0).der\n",
    "end\n",
    "\n",
    "plot(x, y)"
   ]
  },
  {
   "cell_type": "code",
   "execution_count": 17,
   "metadata": {
    "collapsed": false
   },
   "outputs": [
    {
     "data": {
      "text/plain": [
       "10-element Array{AD.Dual{Float64},1}:\n",
       " AD.Dual{Float64}(1.0,1.0)    \n",
       " AD.Dual{Float64}(1.44444,1.0)\n",
       " AD.Dual{Float64}(1.88889,1.0)\n",
       " AD.Dual{Float64}(2.33333,1.0)\n",
       " AD.Dual{Float64}(2.77778,1.0)\n",
       " AD.Dual{Float64}(3.22222,1.0)\n",
       " AD.Dual{Float64}(3.66667,1.0)\n",
       " AD.Dual{Float64}(4.11111,1.0)\n",
       " AD.Dual{Float64}(4.55556,1.0)\n",
       " AD.Dual{Float64}(5.0,1.0)    "
      ]
     },
     "execution_count": 17,
     "metadata": {},
     "output_type": "execute_result"
    }
   ],
   "source": [
    "x = linspace(1, 5, 10)\n",
    "y = ones(x)\n",
    "\n",
    "X_0 = xdual.(x)"
   ]
  },
  {
   "cell_type": "markdown",
   "metadata": {},
   "source": [
    "---\n",
    "\n",
    "## Ejercicio 3\n",
    "\n",
    "Implementen el método de Newton para una función arbitraria $f(x)$ en una variable (la función `newton1D` debe tener un argumento que es una función) a fin de encontrar un cero de la función, i.e., $f(x^*)=0$. El método de Newton requiere la derivada evaluada en diversos puntos, cosa que obtendrán usando el módulo de derivación automática.\n",
    "\n",
    "- Obtengan, usando su función del método de Newton, las raices del polinomio de Wilkinson $W_{6}(x)$, usando como iterados iniciales $x_0=2.2$ y $x_0=2.45$.\n",
    "    \n",
    "- Hagan lo mismo que en el inciso anterior para $g(x) = x \\sin(2x)$, con $x_0=0.7$."
   ]
  },
  {
   "cell_type": "code",
   "execution_count": null,
   "metadata": {
    "collapsed": true
   },
   "outputs": [],
   "source": []
  },
  {
   "cell_type": "markdown",
   "metadata": {},
   "source": [
    "---\n",
    "\n",
    "## Pregunta\n",
    "\n",
    "¿Qué hacer si se requieren derivadas de orden superior, es decir, la segunda, tercera, etc, derivada? Argumenten.\n",
    "\n",
    "**NOTA:** Esta pregunta debe ser contestada pero **no** será considerada para aceptar la tarea, aunque sí se les dará retroalimentación respecto a lo que escriben. La idea es empezar a pensar en esto."
   ]
  },
  {
   "cell_type": "code",
   "execution_count": null,
   "metadata": {
    "collapsed": true
   },
   "outputs": [],
   "source": []
  }
 ],
 "metadata": {
  "kernelspec": {
   "display_name": "Julia 0.5.2-pre",
   "language": "julia",
   "name": "julia-0.5"
  },
  "language_info": {
   "file_extension": ".jl",
   "mimetype": "application/julia",
   "name": "julia",
   "version": "0.5.2"
  }
 },
 "nbformat": 4,
 "nbformat_minor": 2
}
