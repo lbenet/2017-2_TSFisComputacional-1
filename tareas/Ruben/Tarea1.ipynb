{
 "cells": [
  {
   "cell_type": "code",
   "execution_count": 1,
   "metadata": {
    "collapsed": true
   },
   "outputs": [],
   "source": [
    "using PyPlot"
   ]
  },
  {
   "cell_type": "markdown",
   "metadata": {
    "deletable": true,
    "editable": true
   },
   "source": [
    "# Tarea 1"
   ]
  },
  {
   "cell_type": "markdown",
   "metadata": {
    "deletable": true,
    "editable": true
   },
   "source": [
    "Fecha de envío del PR inicial: **26 de febrero**\n",
    "\n",
    "Fecha de aceptación del PR: **12 de marzo**\n"
   ]
  },
  {
   "cell_type": "markdown",
   "metadata": {
    "deletable": true,
    "editable": true
   },
   "source": [
    "## 1. Raíces de una ecuación de segundo grado\n",
    "\n",
    "Implementen en julia una función que devuelva las raíces de una ecuación de segundo grado general con coeficientes reales. La función debe ser estable según el tipo ([type-stable](http://docs.julialang.org/en/release-0.5/manual/faq/?highlight=type%20stability#what-does-type-stable-mean)), lo que significa que el tipo del resultado sólamente depende del tipo de las entradas. En particular, muestren que su función devuelve raíces consistentes para $a=1$, $b=1$, $c=10^{-17}$.\n",
    "\n",
    "La función debe estar documentada de manera apropiada, lo que significa que, al correr el Jupyter notebook de su tarea, la instrucción\n",
    "```julia\n",
    "? nombre_funcion\n",
    "```\n",
    "debe dar información apropiada.\n",
    "\n",
    "Incluyan cualquier comentario prudente del algoritmo que usan, ya sea en el notebook (usando markdown) o en la propia función incluyendo comentarios.\n"
   ]
  },
  {
   "cell_type": "code",
   "execution_count": 2,
   "metadata": {
    "collapsed": false,
    "scrolled": true
   },
   "outputs": [
    {
     "data": {
      "text/plain": [
       "raices"
      ]
     },
     "execution_count": 2,
     "metadata": {},
     "output_type": "execute_result"
    }
   ],
   "source": [
    "doc\"\"\"\n",
    "raices(a,b,c)\n",
    "\n",
    "Esta funcion calcula las raices de un polinomio de segundo grado de la forma\n",
    "\n",
    "\\$ax^2 + bx + c = 0\\$\n",
    "\n",
    "con a, b y c reales utilizando\n",
    "\n",
    "\\$ x_{+-} = \\frac{-b \\pm \\sqrt{b^2-4ac}}{2a}\\$\n",
    "\n",
    "\n",
    "El algoritmo evalua el discriminante $\\Delta = b^2-4ac$ y hace los calculos necesarios:\n",
    "1. si $\\Delta = 0$ la funcion regresa $\\frac{-b}{2a}$\n",
    "2. si $\\Delta < 0$ la funcion regresa el comentario \"La funcion no tiene raices reales\"\n",
    "3. si $\\Delta > 0$ la funcion regresa $X_{+}, X_{-}$\n",
    "\"\"\"\n",
    "\n",
    "function raices(a,b,c)\n",
    "    \n",
    "    if a == 0\n",
    "        \n",
    "        println(\"El polinomio no es de segundo grado.\")\n",
    "        return\n",
    "        \n",
    "    end\n",
    "    \n",
    "    det = b^2 - 4 * a * c\n",
    "    \n",
    "    if det < 0\n",
    "        println(typeof(det))\n",
    "        println(\"El polinomio no tiene raices reales.\")\n",
    "        return\n",
    "        \n",
    "    elseif det == 0\n",
    "        println(typeof(det))\n",
    "        return /(-b , (2 * a)), /(-b , (2 * a))\n",
    "    \n",
    "    else\n",
    "        println(typeof(det))\n",
    "        return /(-b + sqrt(det), 2 * a), /(-b - sqrt(det), 2 * a)\n",
    "   \n",
    "    end\n",
    "end"
   ]
  },
  {
   "cell_type": "code",
   "execution_count": 3,
   "metadata": {
    "collapsed": false
   },
   "outputs": [
    {
     "name": "stdout",
     "output_type": "stream",
     "text": [
      "Variables:\n",
      "  #self#::#raices\n",
      "  a::Int64\n",
      "  b::Int64\n",
      "  c::Int64\n",
      "  det::Int64\n",
      "\n",
      "Body:\n",
      "  begin \n",
      "      NewvarNode(:(det::Int64))\n",
      "      unless (a::Int64 === 0)::Bool goto 10 # line 23:\n",
      "      # meta: location coreio.jl println 5\n",
      "      SSAValue(0) = (Core.typeassert)(Base.STDOUT,Base.IO)\u001b[1m\u001b[31m::IO\u001b[0m\n",
      "      # meta: pop location\n",
      "      (Base.print)(SSAValue(0),\"El polinomio no es de segundo grado.\",'\\n')::Void # line 24:\n",
      "      return\n",
      "      10:  # line 28:\n",
      "      det::Int64 = (Base.box)(Int64,(Base.sub_int)((Base.box)(Int64,(Base.mul_int)(b::Int64,b::Int64)),(Base.box)(Int64,(Base.mul_int)((Base.box)(Int64,(Base.mul_int)(4,a::Int64)),c::Int64)))) # line 30:\n",
      "      unless (Base.slt_int)(det::Int64,0)::Bool goto 27 # line 31:\n",
      "      # meta: location coreio.jl println 5\n",
      "      SSAValue(1) = (Core.typeassert)(Base.STDOUT,Base.IO)\u001b[1m\u001b[31m::IO\u001b[0m\n",
      "      # meta: pop location\n",
      "      (Base.print)(SSAValue(1),Int64,'\\n')::Void # line 32:\n",
      "      # meta: location coreio.jl println 5\n",
      "      SSAValue(2) = (Core.typeassert)(Base.STDOUT,Base.IO)\u001b[1m\u001b[31m::IO\u001b[0m\n",
      "      # meta: pop location\n",
      "      (Base.print)(SSAValue(2),\"El polinomio no tiene raices reales.\",'\\n')::Void # line 33:\n",
      "      return\n",
      "      27:  # line 35:\n",
      "      unless (det::Int64 === 0)::Bool goto 37 # line 36:\n",
      "      # meta: location coreio.jl println 5\n",
      "      SSAValue(3) = (Core.typeassert)(Base.STDOUT,Base.IO)\u001b[1m\u001b[31m::IO\u001b[0m\n",
      "      # meta: pop location\n",
      "      (Base.print)(SSAValue(3),Int64,'\\n')::Void # line 37:\n",
      "      return (Core.tuple)((Base.box)(Base.Float64,(Base.div_float)((Base.box)(Float64,(Base.sitofp)(Float64,(Base.box)(Int64,(Base.neg_int)(b::Int64)))),(Base.box)(Float64,(Base.sitofp)(Float64,(Base.box)(Int64,(Base.mul_int)(2,a::Int64)))))),(Base.box)(Base.Float64,(Base.div_float)((Base.box)(Float64,(Base.sitofp)(Float64,(Base.box)(Int64,(Base.neg_int)(b::Int64)))),(Base.box)(Float64,(Base.sitofp)(Float64,(Base.box)(Int64,(Base.mul_int)(2,a::Int64)))))))::Tuple{Float64,Float64}\n",
      "      37:  # line 40:\n",
      "      # meta: location coreio.jl println 5\n",
      "      SSAValue(4) = (Core.typeassert)(Base.STDOUT,Base.IO)\u001b[1m\u001b[31m::IO\u001b[0m\n",
      "      # meta: pop location\n",
      "      (Base.print)(SSAValue(4),Int64,'\\n')::Void # line 41:\n",
      "      return (Core.tuple)((Base.box)(Base.Float64,(Base.div_float)((Base.box)(Base.Float64,(Base.add_float)((Base.box)(Float64,(Base.sitofp)(Float64,(Base.box)(Int64,(Base.neg_int)(b::Int64)))),(Base.Math.box)(Base.Math.Float64,(Base.Math.sqrt_llvm)((Base.box)(Float64,(Base.sitofp)(Float64,det::Int64))))::Float64)),(Base.box)(Float64,(Base.sitofp)(Float64,(Base.box)(Int64,(Base.mul_int)(2,a::Int64)))))),(Base.box)(Base.Float64,(Base.div_float)((Base.box)(Base.Float64,(Base.sub_float)((Base.box)(Float64,(Base.sitofp)(Float64,(Base.box)(Int64,(Base.neg_int)(b::Int64)))),(Base.Math.box)(Base.Math.Float64,(Base.Math.sqrt_llvm)((Base.box)(Float64,(Base.sitofp)(Float64,det::Int64))))::Float64)),(Base.box)(Float64,(Base.sitofp)(Float64,(Base.box)(Int64,(Base.mul_int)(2,a::Int64)))))))::Tuple{Float64,Float64}\n",
      "  end\u001b[1m\u001b[31m::Union{Tuple{Float64,Float64},Void}\u001b[0m\n"
     ]
    }
   ],
   "source": [
    "@code_warntype(raices(1,2,1))"
   ]
  },
  {
   "cell_type": "code",
   "execution_count": 4,
   "metadata": {
    "collapsed": false,
    "scrolled": true
   },
   "outputs": [
    {
     "name": "stdout",
     "output_type": "stream",
     "text": [
      "search: \u001b[1mR\u001b[22m\u001b[1ma\u001b[22mndomDev\u001b[1mi\u001b[22m\u001b[1mc\u001b[22m\u001b[1me\u001b[22m\n",
      "\n"
     ]
    },
    {
     "data": {
      "text/markdown": [
       "raices(a,b,c)\n",
       "\n",
       "Esta funcion calcula las raices de un polinomio de segundo grado de la forma\n",
       "\n",
       "$ax^2 + bx + c = 0$\n",
       "\n",
       "con a, b y c reales utilizando\n",
       "\n",
       "$ x_{+-} = \\frac{-b \\pm \\sqrt{b^2-4ac}}{2a}$\n",
       "\n",
       "El algoritmo evalua el discriminante $\\Delta = b^2-4ac$ y hace los calculos necesarios:\n",
       "\n",
       "1. si $\\Delta = 0$ la funcion regresa $\\frac{-b}{2a}$\n",
       "2. si $\\Delta < 0$ la funcion regresa el comentario \"La funcion no tiene raices reales\"\n",
       "3. si $\\Delta > 0$ la funcion regresa $X_{+}, X_{-}$\n"
      ],
      "text/plain": [
       "raices(a,b,c)\n",
       "\n",
       "Esta funcion calcula las raices de un polinomio de segundo grado de la forma\n",
       "\n",
       "$ax^2 + bx + c = 0$\n",
       "\n",
       "con a, b y c reales utilizando\n",
       "\n",
       "$ x_{+-} = \\frac{-b \\pm \\sqrt{b^2-4ac}}{2a}$\n",
       "\n",
       "El algoritmo evalua el discriminante $\\Delta = b^2-4ac$ y hace los calculos necesarios:\n",
       "\n",
       "1. si $\\Delta = 0$ la funcion regresa $\\frac{-b}{2a}$\n",
       "2. si $\\Delta < 0$ la funcion regresa el comentario \"La funcion no tiene raices reales\"\n",
       "3. si $\\Delta > 0$ la funcion regresa $X_{+}, X_{-}$\n"
      ]
     },
     "execution_count": 4,
     "metadata": {},
     "output_type": "execute_result"
    }
   ],
   "source": [
    "? raices"
   ]
  },
  {
   "cell_type": "code",
   "execution_count": 5,
   "metadata": {
    "collapsed": false,
    "scrolled": true
   },
   "outputs": [
    {
     "name": "stdout",
     "output_type": "stream",
     "text": [
      "Int64\n",
      "(-1.0,-1.0)\n",
      "Array{Int64,1}\n",
      "Tuple{Float64,Float64}\n"
     ]
    }
   ],
   "source": [
    "ints = [1,2,1]\n",
    "x = raices(ints...)\n",
    "println(x)\n",
    "println(typeof(ints))\n",
    "println(typeof(x))"
   ]
  },
  {
   "cell_type": "code",
   "execution_count": 6,
   "metadata": {
    "collapsed": false
   },
   "outputs": [
    {
     "name": "stdout",
     "output_type": "stream",
     "text": [
      "Float64\n",
      "(0.0,-1.0)\n",
      "Tuple{Float64,Float64}\n",
      "Tuple{Int64,Int64,Float64}\n"
     ]
    }
   ],
   "source": [
    "abc = (1,1,1e-17)\n",
    "x = raices(abc...)\n",
    "println(x)\n",
    "println(typeof(x))\n",
    "println(typeof(abc))"
   ]
  },
  {
   "cell_type": "markdown",
   "metadata": {
    "deletable": true,
    "editable": true
   },
   "source": [
    "## 2. Promedio y varianza\n",
    "\n",
    "(a) Escriban dos funciones (`promedio` y `varianza`) que calculen el promedio y la varianza de un vector de datos."
   ]
  },
  {
   "cell_type": "code",
   "execution_count": 7,
   "metadata": {
    "collapsed": false
   },
   "outputs": [
    {
     "data": {
      "text/plain": [
       "0.4996311731083297"
      ]
     },
     "execution_count": 7,
     "metadata": {},
     "output_type": "execute_result"
    }
   ],
   "source": [
    "doc\"\"\"\n",
    "promedio(arreglo)\n",
    "\n",
    "Funcion que calcula el promedio aritmetico de los elementos de un arreglo utilizando\n",
    "\n",
    "$\\bar{x} = \\frac{1}{n} \\sum_{1}^{n} x_i$\n",
    "\n",
    "\"\"\"\n",
    "\n",
    "function promedio(arreglo)\n",
    "\n",
    "    n = length(arreglo)\n",
    "    promedio = 0.0\n",
    "    \n",
    "    for num = arreglo\n",
    "        promedio += num\n",
    "    end\n",
    "    \n",
    "    promedio /= n \n",
    "    \n",
    "    return promedio\n",
    "end\n",
    "\n",
    "promedio(rand(2^20))  # llamamos a la funcion para que la compile."
   ]
  },
  {
   "cell_type": "code",
   "execution_count": 8,
   "metadata": {
    "collapsed": false,
    "scrolled": false
   },
   "outputs": [
    {
     "data": {
      "text/plain": [
       "1.0534954068502114"
      ]
     },
     "execution_count": 8,
     "metadata": {},
     "output_type": "execute_result"
    }
   ],
   "source": [
    "doc\"\"\"\n",
    "varianza(arreglo)\n",
    "\n",
    "Funcion que calcula la varianza de los elementos de un arreglo utilizando\n",
    "\n",
    "$ \\sigma = (\\frac{1}{n} \\sum_{1}^{n} x_{i}^{2}) - \\bar{x}^{2} $\n",
    "\n",
    "\"\"\"\n",
    "\n",
    "function varianza(arreglo)\n",
    "    n = length(arreglo)\n",
    "    p = promedio(arreglo)\n",
    "    σ = 0.0\n",
    "    \n",
    "    for num = arreglo\n",
    "        σ += (num - p)^2 \n",
    "    end\n",
    "    \n",
    "    σ /= n\n",
    "    return σ\n",
    "end\n",
    "\n",
    "varianza(randn(1000))  # llamamos a la funcion para que la compile."
   ]
  },
  {
   "cell_type": "markdown",
   "metadata": {},
   "source": [
    "(b) Comparen su resultado con lo que se obtiene al utilizar `mean` y `var`, que son las funciones nativas de Julia que hacen eso. En particular, consideren el siguiente vector de datos\n",
    "```julia\n",
    "v = 1.0e7 + randn(10^8)\n",
    "```\n",
    "¿Qué hace la función `randn(10^8)`?"
   ]
  },
  {
   "cell_type": "markdown",
   "metadata": {},
   "source": [
    "La funcion randn(n) genera un arreglo de longitud n de valores aleatorios con distribucion normal de varianza 1."
   ]
  },
  {
   "cell_type": "code",
   "execution_count": 9,
   "metadata": {
    "collapsed": false
   },
   "outputs": [],
   "source": [
    "v = 1.0e7 + randn(10^6);"
   ]
  },
  {
   "cell_type": "code",
   "execution_count": 10,
   "metadata": {
    "collapsed": false
   },
   "outputs": [
    {
     "data": {
      "text/plain": [
       "(1.0000000002297128e7,1.0000000002296923e7)"
      ]
     },
     "execution_count": 10,
     "metadata": {},
     "output_type": "execute_result"
    }
   ],
   "source": [
    "p, m = promedio(v), mean(v)"
   ]
  },
  {
   "cell_type": "code",
   "execution_count": 11,
   "metadata": {
    "collapsed": false
   },
   "outputs": [
    {
     "name": "stdout",
     "output_type": "stream",
     "text": [
      "timepo de promedio = 0.001346922\n",
      "timepo de mean = 0.000675608\n",
      "199.36442434074195% mas lento\n"
     ]
    }
   ],
   "source": [
    "t_mine_prom = @elapsed promedio(v)\n",
    "t_native_prom = @elapsed mean(v)\n",
    "\n",
    "println(\"timepo de promedio = \", t_mine_prom)\n",
    "println(\"timepo de mean = \", t_native_prom)\n",
    "println(100 * t_mine_prom / t_native_prom, \"% mas lento\")"
   ]
  },
  {
   "cell_type": "code",
   "execution_count": 12,
   "metadata": {
    "collapsed": false
   },
   "outputs": [
    {
     "data": {
      "text/plain": [
       "(0.9992159121194417,0.9992169113362976)"
      ]
     },
     "execution_count": 12,
     "metadata": {},
     "output_type": "execute_result"
    }
   ],
   "source": [
    "vf, vn = varianza(v), var(v)"
   ]
  },
  {
   "cell_type": "code",
   "execution_count": 13,
   "metadata": {
    "collapsed": false
   },
   "outputs": [
    {
     "name": "stdout",
     "output_type": "stream",
     "text": [
      "timepo de varianza = 0.002356832\n",
      "timepo de var = 0.00073112\n",
      "322.3591202538571% mas lento\n"
     ]
    }
   ],
   "source": [
    "t_mine_vari = @elapsed varianza(v)\n",
    "t_native_vari = @elapsed var(v)\n",
    "\n",
    "println(\"timepo de varianza = \", t_mine_vari)\n",
    "println(\"timepo de var = \", t_native_vari)\n",
    "println(100 * t_mine_vari / t_native_vari, \"% mas lento\")"
   ]
  },
  {
   "cell_type": "markdown",
   "metadata": {},
   "source": [
    "(c) Implementen el [algoritmo recursivo](https://en.wikipedia.org/wiki/Algorithms_for_calculating_variance#Online_algorithm), ampliamente desconocido, que  calcula el promedio (`promedio_rec`) y la varianza (`varianza_rec`) con una sóla lectura de los datos. Usen sus fuciones en el vector anterior y comparen sus resultados con los obtenidos en (a)."
   ]
  },
  {
   "cell_type": "code",
   "execution_count": 46,
   "metadata": {
    "collapsed": false
   },
   "outputs": [
    {
     "name": "stderr",
     "output_type": "stream",
     "text": [
      "WARNING: Method definition prom_var_rec(Any) in module Main at In[45]:10 overwritten at In[46]:10.\n",
      "\u001b[1m\u001b[31mWARNING: replacing docs for 'prom_var_rec :: Tuple{Any}' in module 'Main'.\u001b[0m\n"
     ]
    },
    {
     "data": {
      "text/plain": [
       "(4.362979791020066e-5,0.9986510154682767)"
      ]
     },
     "execution_count": 46,
     "metadata": {},
     "output_type": "execute_result"
    }
   ],
   "source": [
    "doc\"\"\"\n",
    "prom_var_rec(arreglo)\n",
    "\n",
    "regresa un arreglo con (promedio, varianza)\n",
    "\n",
    "Funcion que calcula el promedio y la varianza con una sola lectura de los datos implementando el algoritmo recursivo encontrado [aqui](https://en.wikipedia.org/wiki/Algorithms_for_calculating_variance#Online_algorithm).\n",
    "\"\"\"\n",
    "\n",
    "function prom_var_rec(arreglo)\n",
    "    n = 0.0\n",
    "    promedio = 0.0\n",
    "    M2 = 0.0\n",
    "    varianza = 0.0\n",
    "    \n",
    "    for x = arreglo\n",
    "        n += 1.0\n",
    "        delta = x - promedio\n",
    "        promedio += delta / n\n",
    "        delta2 = x - promedio\n",
    "        M2 += delta * delta2\n",
    "    end   \n",
    "    \n",
    "    varianza = M2 / (n-1.0)\n",
    "     \n",
    "    return promedio, varianza \n",
    "end\n",
    "\n",
    "prom_var_rec(randn(1000000)) # llamamos a la funcion para que la compile."
   ]
  },
  {
   "cell_type": "code",
   "execution_count": 15,
   "metadata": {
    "collapsed": false
   },
   "outputs": [
    {
     "name": "stdout",
     "output_type": "stream",
     "text": [
      "search:\n",
      "\n"
     ]
    },
    {
     "data": {
      "text/markdown": [
       "prom_var_rec(arreglo)\n",
       "\n",
       "regresa un arreglo con (promedio, varianza)\n",
       "\n",
       "Funcion que calcula el promedio y la varianza con una sola lectura de los datos implementando el algoritmo recursivo encontrado [aqui](https://en.wikipedia.org/wiki/Algorithms_for_calculating_variance#Online_algorithm).\n"
      ],
      "text/plain": [
       "prom_var_rec(arreglo)\n",
       "\n",
       "regresa un arreglo con (promedio, varianza)\n",
       "\n",
       "Funcion que calcula el promedio y la varianza con una sola lectura de los datos implementando el algoritmo recursivo encontrado [aqui](https://en.wikipedia.org/wiki/Algorithms_for_calculating_variance#Online_algorithm).\n"
      ]
     },
     "execution_count": 15,
     "metadata": {},
     "output_type": "execute_result"
    }
   ],
   "source": [
    "?prom_var_rec"
   ]
  },
  {
   "cell_type": "code",
   "execution_count": 16,
   "metadata": {
    "collapsed": false
   },
   "outputs": [
    {
     "data": {
      "text/plain": [
       "0.007968492"
      ]
     },
     "execution_count": 16,
     "metadata": {},
     "output_type": "execute_result"
    }
   ],
   "source": [
    "t_rec = @elapsed prom_var_rec(v)"
   ]
  },
  {
   "cell_type": "code",
   "execution_count": 17,
   "metadata": {
    "collapsed": false
   },
   "outputs": [
    {
     "data": {
      "text/plain": [
       "(1.000000000229688e7,0.9992169118365067)"
      ]
     },
     "execution_count": 17,
     "metadata": {},
     "output_type": "execute_result"
    }
   ],
   "source": [
    "prom_rec, var_rec = prom_var_rec(v)"
   ]
  },
  {
   "cell_type": "code",
   "execution_count": 18,
   "metadata": {
    "collapsed": false,
    "scrolled": true
   },
   "outputs": [
    {
     "name": "stdout",
     "output_type": "stream",
     "text": [
      "funcion promedio 1.0000000002297128e7\n",
      "funcion mean     1.0000000002296923e7\n",
      "funcion prom_rec 1.000000000229688e7\n"
     ]
    }
   ],
   "source": [
    "println(\"funcion promedio \", p)\n",
    "println(\"funcion mean     \", m)\n",
    "println(\"funcion prom_rec \", prom_rec)"
   ]
  },
  {
   "cell_type": "code",
   "execution_count": 19,
   "metadata": {
    "collapsed": false
   },
   "outputs": [
    {
     "name": "stdout",
     "output_type": "stream",
     "text": [
      "funcion varianza 0.9992159121194417\n",
      "funcion var      0.9992169113362976\n",
      "funcion var_rec  0.9992169118365067\n"
     ]
    }
   ],
   "source": [
    "println(\"funcion varianza \", vf)\n",
    "println(\"funcion var      \", vn)\n",
    "println(\"funcion var_rec  \", var_rec)"
   ]
  },
  {
   "cell_type": "markdown",
   "metadata": {},
   "source": [
    "(d) ¿Cuál de todos los algoritmos es el más rápido? (Pueden usar `@time` o `@elapsed`.) Usen vectores de varias longitudes, que cubran varios órdenes de magnitud."
   ]
  },
  {
   "cell_type": "code",
   "execution_count": 72,
   "metadata": {
    "collapsed": false
   },
   "outputs": [],
   "source": [
    "n = 27\n",
    "tiempos_pro = zeros(n)\n",
    "tiempos_nat = zeros(n)\n",
    "tiempos_rec = zeros(n)\n",
    "\n",
    "for i = 1:n\n",
    "    l = 1e4 + randn(2^i)\n",
    "    \n",
    "    tiempos_rec[i] = @elapsed prom_var_rec(l)\n",
    "    tiempos_pro[i] = @elapsed promedio(l), varianza(l)\n",
    "    tiempos_nat[i] = @elapsed mean(l), var(l)\n",
    "    \n",
    "#     println(prom_var_rec(l)[1])\n",
    "#     println(promedio(l))\n",
    "#     println(mean(l))\n",
    "end\n",
    "\n",
    "log_rec = log(tiempos_rec)\n",
    "log_pro = log(tiempos_pro)\n",
    "log_nat = log(tiempos_nat);"
   ]
  },
  {
   "cell_type": "code",
   "execution_count": 73,
   "metadata": {
    "collapsed": false
   },
   "outputs": [
    {
     "data": {
      "image/png": "[encoded data removed]",
      "text/plain": [
       "PyPlot.Figure(PyObject <matplotlib.figure.Figure object at 0x7f21bf531e10>)"
      ]
     },
     "metadata": {},
     "output_type": "display_data"
    },
    {
     "data": {
      "text/plain": [
       "PyObject <matplotlib.legend.Legend object at 0x7f21bf0d8950>"
      ]
     },
     "execution_count": 73,
     "metadata": {},
     "output_type": "execute_result"
    }
   ],
   "source": [
    "plot(1:n, log_rec,  linestyle = \"-\",  label = \"recursivo\")\n",
    "plot(1:n, log_nat,  linestyle = \"--\", label = \"nativo\")\n",
    "plot(1:n, log_pro,  linestyle = \"-.\", label = \"promedio\")\n",
    "legend(loc=\"best\")"
   ]
  },
  {
   "cell_type": "code",
   "execution_count": 74,
   "metadata": {
    "collapsed": false
   },
   "outputs": [
    {
     "data": {
      "image/png": "[encoded data removed]",
      "text/plain": [
       "PyPlot.Figure(PyObject <matplotlib.figure.Figure object at 0x7f21bf027a50>)"
      ]
     },
     "metadata": {},
     "output_type": "display_data"
    },
    {
     "data": {
      "text/plain": [
       "PyObject <matplotlib.legend.Legend object at 0x7f21befbad10>"
      ]
     },
     "execution_count": 74,
     "metadata": {},
     "output_type": "execute_result"
    }
   ],
   "source": [
    "plot(1:n, tiempos_rec,   linestyle = \"-\", label = \"recursivo\")\n",
    "plot(1:n, tiempos_nat,  linestyle = \"--\", label = \"nativo\")\n",
    "plot(1:n, tiempos_pro,  linestyle = \"-.\", label = \"promedio\")\n",
    "legend(loc=\"best\")"
   ]
  },
  {
   "cell_type": "markdown",
   "metadata": {
    "deletable": true,
    "editable": true
   },
   "source": [
    "## 3. Método de Simpson para integrar $f(x)$ en un intervalo dado\n",
    "\n",
    "Implementen el método de Simpson para integrar una función arbitraria $f(x)$."
   ]
  },
  {
   "cell_type": "code",
   "execution_count": null,
   "metadata": {
    "collapsed": true,
    "deletable": true,
    "editable": true
   },
   "outputs": [],
   "source": []
  }
 ],
 "metadata": {
  "kernelspec": {
   "display_name": "Julia 0.5.0",
   "language": "julia",
   "name": "julia-0.5"
  },
  "language_info": {
   "file_extension": ".jl",
   "mimetype": "application/julia",
   "name": "julia",
   "version": "0.5.0"
  }
 },
 "nbformat": 4,
 "nbformat_minor": 2
}
