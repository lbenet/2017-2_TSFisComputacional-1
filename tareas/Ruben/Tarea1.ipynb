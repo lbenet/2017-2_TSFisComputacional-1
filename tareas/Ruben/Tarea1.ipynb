{
 "cells": [
  {
   "cell_type": "markdown",
   "metadata": {
    "deletable": true,
    "editable": true
   },
   "source": [
    "# Tarea 1"
   ]
  },
  {
   "cell_type": "markdown",
   "metadata": {
    "deletable": true,
    "editable": true
   },
   "source": [
    "Fecha de envío del PR inicial: **26 de febrero**\n",
    "\n",
    "Fecha de aceptación del PR: **12 de marzo**\n"
   ]
  },
  {
   "cell_type": "markdown",
   "metadata": {
    "deletable": true,
    "editable": true
   },
   "source": [
    "## 1. Raíces de una ecuación de segundo grado\n",
    "\n",
    "Implementen en julia una función que devuelva las raíces de una ecuación de segundo grado general con coeficientes reales. La función debe ser estable según el tipo ([type-stable](http://docs.julialang.org/en/release-0.5/manual/faq/?highlight=type%20stability#what-does-type-stable-mean)), lo que significa que el tipo del resultado sólamente depende del tipo de las entradas. En particular, muestren que su función devuelve raíces consistentes para $a=1$, $b=1$, $c=10^{-17}$.\n",
    "\n",
    "La función debe estar documentada de manera apropiada, lo que significa que, al correr el Jupyter notebook de su tarea, la instrucción\n",
    "```julia\n",
    "? nombre_funcion\n",
    "```\n",
    "debe dar información apropiada.\n",
    "\n",
    "Incluyan cualquier comentario prudente del algoritmo que usan, ya sea en el notebook (usando markdown) o en la propia función incluyendo comentarios.\n"
   ]
  },
  {
   "cell_type": "code",
   "execution_count": null,
   "metadata": {
    "collapsed": false,
    "scrolled": true
   },
   "outputs": [],
   "source": [
    "doc\"\"\"\n",
    "raices(a,b,c)\n",
    "\n",
    "Esta funcion calcula las raices de un polinomio de segundo grado de la forma\n",
    "\n",
    "\\$ax^2 + bx + c = 0\\$\n",
    "\n",
    "con a, b y c reales utilizando\n",
    "\n",
    "\\$ x_{+-} = \\frac{-b \\pm \\sqrt{b^2-4ac}}{2a}\\$\n",
    "\n",
    "\n",
    "El algoritmo evalua el discriminante $\\Delta = b^2-4ac$ y hace los calculos necesarios:\n",
    "1. si $\\Delta = 0$ la funcion regresa $\\frac{-b}{2a}$\n",
    "2. si $\\Delta < 0$ la funcion regresa el comentario \"La funcion no tiene raices reales\"\n",
    "3. si $\\Delta > 0$ la funcion regresa $X_{+}, X_{-}$\n",
    "\"\"\"\n",
    "\n",
    "function raices(a,b,c)\n",
    "    \n",
    "    if a == 0\n",
    "        \n",
    "        println(\"El polinomio no es de segundo grado.\")\n",
    "        return NaN,NaN\n",
    "    \n",
    "    end\n",
    "    \n",
    "    det = b^2 - 4 * a * c\n",
    "    \n",
    "    if det < 0\n",
    "        println(typeof(det))\n",
    "        println(\"El polinomio no tiene raices reales.\")\n",
    "        return NaN, NaN\n",
    "        \n",
    "    elseif det == 0\n",
    "        println(typeof(det))\n",
    "        return div(-b , (2 * a)),div(-b , (2 * a))\n",
    "    \n",
    "    else\n",
    "        println(typeof(det))\n",
    "        return div(-b + sqrt(det), 2 * a), div(-b - sqrt(det), 2 * a)\n",
    "   \n",
    "    end\n",
    "end"
   ]
  },
  {
   "cell_type": "code",
   "execution_count": null,
   "metadata": {
    "collapsed": false
   },
   "outputs": [],
   "source": [
    "? raices"
   ]
  },
  {
   "cell_type": "code",
   "execution_count": null,
   "metadata": {
    "collapsed": false,
    "scrolled": true
   },
   "outputs": [],
   "source": [
    "@time raices(1, 0, -1)"
   ]
  },
  {
   "cell_type": "code",
   "execution_count": null,
   "metadata": {
    "collapsed": false,
    "scrolled": false
   },
   "outputs": [],
   "source": [
    "@time raices(1, 0, -1)"
   ]
  },
  {
   "cell_type": "code",
   "execution_count": null,
   "metadata": {
    "collapsed": false,
    "scrolled": true
   },
   "outputs": [],
   "source": [
    "ints = (1,2,0)\n",
    "x = raices(ints...)\n",
    "println(x)\n",
    "println(typeof(x))\n",
    "println(typeof(ints))"
   ]
  },
  {
   "cell_type": "markdown",
   "metadata": {
    "deletable": true,
    "editable": true
   },
   "source": [
    "## 2. Promedio y varianza\n",
    "\n",
    "(a) Escriban dos funciones (`promedio` y `varianza`) que calculen el promedio y la varianza de un vector de datos. \n",
    "    \n",
    "(b) Comparen su resultado con lo que se obtiene al utilizar `mean` y `var`, que son las funciones nativas de Julia que hacen eso. En particular, consideren el siguiente vector de datos\n",
    "```julia\n",
    "v = 1.0e7 + randn(10^8)\n",
    "```\n",
    "¿Qué hace la función `randn(10^8)`?\n",
    "\n",
    "(c) Implementen el [algoritmo recursivo](https://en.wikipedia.org/wiki/Algorithms_for_calculating_variance#Online_algorithm), ampliamente desconocido, que  calcula el promedio (`promedio_rec`) y la varianza (`varianza_rec`) con una sóla lectura de los datos. Usen sus fuciones en el vector anterior y comparen sus resultados con los obtenidos en (a).\n",
    "\n",
    "(d) ¿Cuál de todos los algoritmos es el más rápido? (Pueden usar `@time` o `@elapsed`.) Usen vectores de varias longitudes, que cubran varios órdenes de magnitud."
   ]
  },
  {
   "cell_type": "code",
   "execution_count": null,
   "metadata": {
    "collapsed": false
   },
   "outputs": [],
   "source": [
    "function promedio(vector)\n",
    "    n = length(vector)\n",
    "    promedio = +(vector...) / n\n",
    "    \n",
    "    return promedio\n",
    "end\n",
    "\n",
    "\n",
    "function varianza(vector)\n",
    "    n = length(vector)\n",
    "    vector = \n",
    "    σ = sum(vector)"
   ]
  },
  {
   "cell_type": "code",
   "execution_count": null,
   "metadata": {
    "collapsed": false
   },
   "outputs": [],
   "source": [
    "a = (21,2,43,1)"
   ]
  },
  {
   "cell_type": "code",
   "execution_count": null,
   "metadata": {
    "collapsed": false
   },
   "outputs": [],
   "source": []
  },
  {
   "cell_type": "code",
   "execution_count": null,
   "metadata": {
    "collapsed": false
   },
   "outputs": [],
   "source": [
    "promedio(a)"
   ]
  },
  {
   "cell_type": "markdown",
   "metadata": {
    "deletable": true,
    "editable": true
   },
   "source": [
    "## 3. Método de Simpson para integrar $f(x)$ en un intervalo dado\n",
    "\n",
    "Implementen el método de Simpson para integrar una función arbitraria $f(x)$."
   ]
  },
  {
   "cell_type": "code",
   "execution_count": null,
   "metadata": {
    "collapsed": true,
    "deletable": true,
    "editable": true
   },
   "outputs": [],
   "source": []
  }
 ],
 "metadata": {
  "kernelspec": {
   "display_name": "Julia 0.5.0",
   "language": "julia",
   "name": "julia-0.5"
  },
  "language_info": {
   "file_extension": ".jl",
   "mimetype": "application/julia",
   "name": "julia",
   "version": "0.5.0"
  }
 },
 "nbformat": 4,
 "nbformat_minor": 2
}
