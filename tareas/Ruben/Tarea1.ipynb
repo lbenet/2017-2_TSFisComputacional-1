{
 "cells": [
  {
   "cell_type": "markdown",
   "metadata": {
    "deletable": true,
    "editable": true
   },
   "source": [
    "# Tarea 1"
   ]
  },
  {
   "cell_type": "markdown",
   "metadata": {
    "deletable": true,
    "editable": true
   },
   "source": [
    "Fecha de envío del PR inicial: **26 de febrero**\n",
    "\n",
    "Fecha de aceptación del PR: **12 de marzo**\n"
   ]
  },
  {
   "cell_type": "markdown",
   "metadata": {
    "deletable": true,
    "editable": true
   },
   "source": [
    "## 1. Raíces de una ecuación de segundo grado\n",
    "\n",
    "Implementen en julia una función que devuelva las raíces de una ecuación de segundo grado general con coeficientes reales. La función debe ser estable según el tipo ([type-stable](http://docs.julialang.org/en/release-0.5/manual/faq/?highlight=type%20stability#what-does-type-stable-mean)), lo que significa que el tipo del resultado sólamente depende del tipo de las entradas. En particular, muestren que su función devuelve raíces consistentes para $a=1$, $b=1$, $c=10^{-17}$.\n",
    "\n",
    "La función debe estar documentada de manera apropiada, lo que significa que, al correr el Jupyter notebook de su tarea, la instrucción\n",
    "```julia\n",
    "? nombre_funcion\n",
    "```\n",
    "debe dar información apropiada.\n",
    "\n",
    "Incluyan cualquier comentario prudente del algoritmo que usan, ya sea en el notebook (usando markdown) o en la propia función incluyendo comentarios.\n"
   ]
  },
  {
   "cell_type": "code",
   "execution_count": 1,
   "metadata": {
    "collapsed": false,
    "scrolled": true
   },
   "outputs": [
    {
     "data": {
      "text/plain": [
       "raices"
      ]
     },
     "execution_count": 1,
     "metadata": {},
     "output_type": "execute_result"
    }
   ],
   "source": [
    "doc\"\"\"\n",
    "raices(a,b,c)\n",
    "\n",
    "Esta función calcula las raíces de un polinomio de segundo grado de la forma\n",
    "\n",
    "\\$ax^2 + bx + c = 0\\$\n",
    "\n",
    "con **a**, **b** y **c** reales utilizando\n",
    "\n",
    "\\$ x_{+-} = \\frac{-b \\pm \\sqrt{b^2-4ac}}{2a}\\$\n",
    "\n",
    "Para estabilidad numérica se utiliza la ecuacion\n",
    "\n",
    "\n",
    "\\$ x_{1} = \\frac{-b - sign(b) \\sqrt{b^2-4ac}}{2a}\\$\n",
    "\\$ x_{2} = \\frac{2c}{-b - sign(b) \\sqrt{b^2-4ac}}\\$\n",
    "\n",
    "Esto permite corregir los errores por redondeo cuando $ac << 1$.\n",
    "\n",
    "[Referencia 1](https://people.csail.mit.edu/bkph/articles/Quadratics.pdf)\n",
    "\n",
    "[Referencia 2](http://math.stackexchange.com/questions/866331/numerically-stable-algorithm-for-solving-the-quadratic-equation-when-a-is-very)\n",
    "\n",
    "El algoritmo evalúa el discriminante $\\Delta = b^2-4ac$ y hace los cálculos necesarios:\n",
    "1. si $\\Delta = 0$ la función regresa $\\frac{-b}{2a}$\n",
    "2. si $\\Delta < 0$ la función regresa el comentario \"La función no tiene raíces reales\"\n",
    "3. si $\\Delta > 0$ la función regresa $X_{+}, X_{-}$\n",
    "\"\"\"\n",
    "\n",
    "function raices(a,b,c)\n",
    "    \n",
    "    if a == 0    \n",
    "        println(\"El polinomio no es de segundo grado.\")\n",
    "        return\n",
    "        \n",
    "    elseif imag(a) != 0 || imag(b) != 0 || imag(c) != 0\n",
    "        println(\"El polinomio no tiene coeficientes reales.\")\n",
    "        return\n",
    "        \n",
    "    end\n",
    "    \n",
    "    det = b^2. - 4. * a * c\n",
    "\n",
    "    if det < 0\n",
    "        println(typeof(det))\n",
    "        println(\"El polinomio no tiene raíces reales.\")\n",
    "        return\n",
    "        \n",
    "    elseif det == 0\n",
    "        return /(-b , (2 * a)), /(-b , (2 * a))\n",
    "        \n",
    "    else\n",
    "#         return /(-b + sqrt(det), 2 * a), /(-b - sqrt(det), 2 * a)   \n",
    "        return /(- b - sign(b) * sqrt(det), 2 * a), /(2 * c, - b - sign(b) * sqrt(det))   \n",
    "    end\n",
    "end"
   ]
  },
  {
   "cell_type": "code",
   "execution_count": 2,
   "metadata": {
    "collapsed": false
   },
   "outputs": [
    {
     "name": "stdout",
     "output_type": "stream",
     "text": [
      "Variables:\n",
      "  #self#::#raices\n",
      "  a::Int64\n",
      "  b::Int64\n",
      "  c::Int64\n",
      "  det::Float64\n",
      "  #temp#@_6::Bool\n",
      "  #temp#@_7::Bool\n",
      "  fy@_8::Float64\n",
      "  fy@_9::Float64\n",
      "\n",
      "Body:\n",
      "  begin \n",
      "      NewvarNode(:(det::Float64))\n",
      "      unless (a::Int64 === 0)::Bool goto 10 # line 33:\n",
      "      # meta: location coreio.jl println 5\n",
      "      SSAValue(2) = (Core.typeassert)(Base.STDOUT,Base.IO)\u001b[1m\u001b[31m::IO\u001b[0m\n",
      "      # meta: pop location\n",
      "      (Base.print)(SSAValue(2),\"El polinomio no es de segundo grado.\",'\\n')::Void # line 34:\n",
      "      return\n",
      "      10:  # line 36:\n",
      "      SSAValue(0) = (Base.box)(Base.Bool,(Base.not_int)((0 === 0)::Bool))\n",
      "      unless SSAValue(0) goto 16\n",
      "      #temp#@_6::Bool = SSAValue(0)\n",
      "      goto 25\n",
      "      16: \n",
      "      SSAValue(1) = (Base.box)(Base.Bool,(Base.not_int)((0 === 0)::Bool))\n",
      "      unless SSAValue(1) goto 21\n",
      "      #temp#@_7::Bool = SSAValue(1)\n",
      "      goto 23\n",
      "      21: \n",
      "      #temp#@_7::Bool = (Base.box)(Base.Bool,(Base.not_int)((0 === 0)::Bool))\n",
      "      23: \n",
      "      #temp#@_6::Bool = #temp#@_7::Bool\n",
      "      25: \n",
      "      unless #temp#@_6::Bool goto 34 # line 37:\n",
      "      # meta: location coreio.jl println 5\n",
      "      SSAValue(3) = (Core.typeassert)(Base.STDOUT,Base.IO)\u001b[1m\u001b[31m::IO\u001b[0m\n",
      "      # meta: pop location\n",
      "      (Base.print)(SSAValue(3),\"El polinomio no tiene coeficientes reales.\",'\\n')::Void # line 38:\n",
      "      return\n",
      "      34:  # line 42:\n",
      "      SSAValue(4) = $(Expr(:invoke, LambdaInfo for ^(::Float64, ::Float64), :(Base.^), :((Base.box)(Float64,(Base.sitofp)(Float64,b))), 2.0))\n",
      "      det::Float64 = (Base.box)(Base.Float64,(Base.sub_float)(SSAValue(4),(Base.box)(Base.Float64,(Base.mul_float)((Base.box)(Base.Float64,(Base.mul_float)(4.0,(Base.box)(Float64,(Base.sitofp)(Float64,a::Int64)))),(Base.box)(Float64,(Base.sitofp)(Float64,c::Int64)))))) # line 44:\n",
      "      # meta: location float.jl < 332\n",
      "      fy@_8::Float64 = (Base.box)(Float64,(Base.sitofp)(Float64,0))\n",
      "      # meta: pop location\n",
      "      unless (Base.box)(Base.Bool,(Base.or_int)((Base.lt_float)(det::Float64,fy@_8::Float64)::Bool,(Base.box)(Base.Bool,(Base.and_int)((Base.box)(Base.Bool,(Base.and_int)((Base.eq_float)(det::Float64,fy@_8::Float64)::Bool,(Base.lt_float)(fy@_8::Float64,9.223372036854776e18)::Bool)),(Base.slt_int)((Base.box)(Int64,(Base.fptosi)(Int64,fy@_8::Float64)),0)::Bool)))) goto 55 # line 45:\n",
      "      # meta: location coreio.jl println 5\n",
      "      SSAValue(5) = (Core.typeassert)(Base.STDOUT,Base.IO)\u001b[1m\u001b[31m::IO\u001b[0m\n",
      "      # meta: pop location\n",
      "      (Base.print)(SSAValue(5),Float64,'\\n')::Void # line 46:\n",
      "      # meta: location coreio.jl println 5\n",
      "      SSAValue(6) = (Core.typeassert)(Base.STDOUT,Base.IO)\u001b[1m\u001b[31m::IO\u001b[0m\n",
      "      # meta: pop location\n",
      "      (Base.print)(SSAValue(6),\"El polinomio no tiene raíces reales.\",'\\n')::Void # line 47:\n",
      "      return\n",
      "      55:  # line 49:\n",
      "      # meta: location float.jl == 317\n",
      "      fy@_9::Float64 = (Base.box)(Float64,(Base.sitofp)(Float64,0))\n",
      "      # meta: pop location\n",
      "      unless (Base.box)(Base.Bool,(Base.and_int)((Base.box)(Base.Bool,(Base.and_int)((Base.eq_float)(det::Float64,fy@_9::Float64)::Bool,(Base.ne_float)(fy@_9::Float64,9.223372036854776e18)::Bool)),(0 === (Base.box)(Int64,(Base.fptosi)(Int64,fy@_9::Float64)))::Bool)) goto 63 # line 50:\n",
      "      return (Core.tuple)((Base.box)(Base.Float64,(Base.div_float)((Base.box)(Float64,(Base.sitofp)(Float64,(Base.box)(Int64,(Base.neg_int)(b::Int64)))),(Base.box)(Float64,(Base.sitofp)(Float64,(Base.box)(Int64,(Base.mul_int)(2,a::Int64)))))),(Base.box)(Base.Float64,(Base.div_float)((Base.box)(Float64,(Base.sitofp)(Float64,(Base.box)(Int64,(Base.neg_int)(b::Int64)))),(Base.box)(Float64,(Base.sitofp)(Float64,(Base.box)(Int64,(Base.mul_int)(2,a::Int64)))))))::Tuple{Float64,Float64}\n",
      "      63:  # line 54:\n",
      "      return (Core.tuple)((Base.box)(Base.Float64,(Base.div_float)((Base.box)(Base.Float64,(Base.sub_float)((Base.box)(Float64,(Base.sitofp)(Float64,(Base.box)(Int64,(Base.neg_int)(b::Int64)))),(Base.box)(Base.Float64,(Base.mul_float)((Base.box)(Float64,(Base.sitofp)(Float64,(Base.select_value)((Base.slt_int)(b::Int64,0)::Bool,-1,(Base.select_value)((Base.slt_int)(0,b::Int64)::Bool,1,b::Int64)::Int64)::Int64)),(Base.Math.box)(Base.Math.Float64,(Base.Math.sqrt_llvm)(det::Float64))::Float64)))),(Base.box)(Float64,(Base.sitofp)(Float64,(Base.box)(Int64,(Base.mul_int)(2,a::Int64)))))),(Base.box)(Base.Float64,(Base.div_float)((Base.box)(Float64,(Base.sitofp)(Float64,(Base.box)(Int64,(Base.mul_int)(2,c::Int64)))),(Base.box)(Base.Float64,(Base.sub_float)((Base.box)(Float64,(Base.sitofp)(Float64,(Base.box)(Int64,(Base.neg_int)(b::Int64)))),(Base.box)(Base.Float64,(Base.mul_float)((Base.box)(Float64,(Base.sitofp)(Float64,(Base.select_value)((Base.slt_int)(b::Int64,0)::Bool,-1,(Base.select_value)((Base.slt_int)(0,b::Int64)::Bool,1,b::Int64)::Int64)::Int64)),(Base.Math.box)(Base.Math.Float64,(Base.Math.sqrt_llvm)(det::Float64))::Float64)))))))::Tuple{Float64,Float64}\n",
      "  end\u001b[1m\u001b[31m::Union{Tuple{Float64,Float64},Void}\u001b[0m\n"
     ]
    }
   ],
   "source": [
    "@code_warntype(raices(1,2,1))"
   ]
  },
  {
   "cell_type": "code",
   "execution_count": 3,
   "metadata": {
    "collapsed": false,
    "scrolled": false
   },
   "outputs": [
    {
     "name": "stdout",
     "output_type": "stream",
     "text": [
      "search: \u001b[1mR\u001b[22m\u001b[1ma\u001b[22mndomDev\u001b[1mi\u001b[22m\u001b[1mc\u001b[22m\u001b[1me\u001b[22m\n",
      "\n"
     ]
    },
    {
     "data": {
      "text/markdown": [
       "raices(a,b,c)\n",
       "\n",
       "Esta función calcula las raíces de un polinomio de segundo grado de la forma\n",
       "\n",
       "$ax^2 + bx + c = 0$\n",
       "\n",
       "con **a**, **b** y **c** reales utilizando\n",
       "\n",
       "$ x_{+-} = \\frac{-b \\pm \\sqrt{b^2-4ac}}{2a}$\n",
       "\n",
       "Para estabilidad numérica se utiliza la ecuacion\n",
       "\n",
       "$ x_{1} = \\frac{-b - sign(b) \\sqrt{b^2-4ac}}{2a}$ $ x_{2} = \\frac{2c}{-b - sign(b) \\sqrt{b^2-4ac}}$\n",
       "\n",
       "Esto permite corregir los errores por redondeo cuando $ac << 1$.\n",
       "\n",
       "[Referencia 1](https://people.csail.mit.edu/bkph/articles/Quadratics.pdf)\n",
       "\n",
       "[Referencia 2](http://math.stackexchange.com/questions/866331/numerically-stable-algorithm-for-solving-the-quadratic-equation-when-a-is-very)\n",
       "\n",
       "El algoritmo evalúa el discriminante $\\Delta = b^2-4ac$ y hace los cálculos necesarios:\n",
       "\n",
       "1. si $\\Delta = 0$ la función regresa $\\frac{-b}{2a}$\n",
       "2. si $\\Delta < 0$ la función regresa el comentario \"La función no tiene raíces reales\"\n",
       "3. si $\\Delta > 0$ la función regresa $X_{+}, X_{-}$\n"
      ],
      "text/plain": [
       "raices(a,b,c)\n",
       "\n",
       "Esta función calcula las raíces de un polinomio de segundo grado de la forma\n",
       "\n",
       "$ax^2 + bx + c = 0$\n",
       "\n",
       "con **a**, **b** y **c** reales utilizando\n",
       "\n",
       "$ x_{+-} = \\frac{-b \\pm \\sqrt{b^2-4ac}}{2a}$\n",
       "\n",
       "Para estabilidad numérica se utiliza la ecuacion\n",
       "\n",
       "$ x_{1} = \\frac{-b - sign(b) \\sqrt{b^2-4ac}}{2a}$ $ x_{2} = \\frac{2c}{-b - sign(b) \\sqrt{b^2-4ac}}$\n",
       "\n",
       "Esto permite corregir los errores por redondeo cuando $ac << 1$.\n",
       "\n",
       "[Referencia 1](https://people.csail.mit.edu/bkph/articles/Quadratics.pdf)\n",
       "\n",
       "[Referencia 2](http://math.stackexchange.com/questions/866331/numerically-stable-algorithm-for-solving-the-quadratic-equation-when-a-is-very)\n",
       "\n",
       "El algoritmo evalúa el discriminante $\\Delta = b^2-4ac$ y hace los cálculos necesarios:\n",
       "\n",
       "1. si $\\Delta = 0$ la función regresa $\\frac{-b}{2a}$\n",
       "2. si $\\Delta < 0$ la función regresa el comentario \"La función no tiene raíces reales\"\n",
       "3. si $\\Delta > 0$ la función regresa $X_{+}, X_{-}$\n"
      ]
     },
     "execution_count": 3,
     "metadata": {},
     "output_type": "execute_result"
    }
   ],
   "source": [
    "? raices"
   ]
  },
  {
   "cell_type": "code",
   "execution_count": 4,
   "metadata": {
    "collapsed": false,
    "scrolled": true
   },
   "outputs": [
    {
     "name": "stdout",
     "output_type": "stream",
     "text": [
      "(-1.0,-1.0)\n",
      "Array{Int64,1}\n",
      "Tuple{Float64,Float64}\n"
     ]
    }
   ],
   "source": [
    "ints = [1,2,1]\n",
    "x = raices(ints...)\n",
    "println(x)\n",
    "println(typeof(ints))\n",
    "println(typeof(x))"
   ]
  },
  {
   "cell_type": "code",
   "execution_count": 5,
   "metadata": {
    "collapsed": false
   },
   "outputs": [
    {
     "name": "stdout",
     "output_type": "stream",
     "text": [
      "(-1.0,-1.0e-17)\n",
      "Tuple{Float64,Float64}\n",
      "Array{Float64,1}\n"
     ]
    }
   ],
   "source": [
    "abc = [1., 1., 1e-17]\n",
    "x = raices(abc...)\n",
    "println(x)\n",
    "println(typeof(x))\n",
    "println(typeof(abc))"
   ]
  },
  {
   "cell_type": "markdown",
   "metadata": {
    "deletable": true,
    "editable": true
   },
   "source": [
    "## 2. Promedio y varianza\n",
    "\n",
    "(a) Escriban dos funciones (`promedio` y `varianza`) que calculen el promedio y la varianza de un vector de datos."
   ]
  },
  {
   "cell_type": "code",
   "execution_count": 6,
   "metadata": {
    "collapsed": false
   },
   "outputs": [
    {
     "data": {
      "text/plain": [
       "0.49995935623955134"
      ]
     },
     "execution_count": 6,
     "metadata": {},
     "output_type": "execute_result"
    }
   ],
   "source": [
    "doc\"\"\"\n",
    "promedio(arreglo)\n",
    "\n",
    "Función que calcula el promedio aritmético de los elementos de un arreglo utilizando\n",
    "\n",
    "$\\bar{x} = \\frac{1}{n} \\sum_{1}^{n} x_i$\n",
    "\"\"\"\n",
    "\n",
    "function promedio(arreglo)\n",
    "\n",
    "    n = length(arreglo)     # Obtenemos la longitud del arreglo.\n",
    "    promedio = 0.0          # Declaramos la variable promedio.\n",
    "    \n",
    "    for num = arreglo       # Hacemos la suma de todos los elementos del arreglo.\n",
    "        promedio += num\n",
    "    end\n",
    "    \n",
    "    promedio /= n           # Se calcula el promedio.\n",
    "    \n",
    "    return promedio\n",
    "end\n",
    "\n",
    "promedio(rand(2^20));  # llamamos a la función para que la compile."
   ]
  },
  {
   "cell_type": "code",
   "execution_count": 7,
   "metadata": {
    "collapsed": false,
    "scrolled": false
   },
   "outputs": [
    {
     "data": {
      "text/plain": [
       "0.9826670307300082"
      ]
     },
     "execution_count": 7,
     "metadata": {},
     "output_type": "execute_result"
    }
   ],
   "source": [
    "doc\"\"\"\n",
    "varianza(arreglo)\n",
    "\n",
    "Función que calcula la varianza de los elementos de un arreglo utilizando\n",
    "\n",
    "$ \\sigma = (\\frac{1}{n} \\sum_{1}^{n} x_{i}^{2}) - \\bar{x}^{2} $\n",
    "\"\"\"\n",
    "\n",
    "function varianza(arreglo)\n",
    "    n = length(arreglo)      # Se calcula la longitud del arreglo.    \n",
    "    p = promedio(arreglo)    # Se calcula el promedio para ser utilizado en el calculo de la varianza.\n",
    "    σ = 0.0                  # Se declara la variable que guardara el valor de la varianza.\n",
    "    \n",
    "    for num = arreglo        # Se itera una suma respecto a todo el arreglo.\n",
    "        σ += (num - p)^2 \n",
    "    end\n",
    "    \n",
    "    σ /= n                   # Se calcula la varianza.\n",
    "    return σ\n",
    "end\n",
    "\n",
    "varianza(randn(1000));  # llamamos a la función para que la compile."
   ]
  },
  {
   "cell_type": "markdown",
   "metadata": {},
   "source": [
    "(b) Comparen su resultado con lo que se obtiene al utilizar `mean` y `var`, que son las funciones nativas de Julia que hacen eso. En particular, consideren el siguiente vector de datos\n",
    "```julia\n",
    "v = 1.0e7 + randn(10^8)\n",
    "```\n",
    "¿Qué hace la función `randn(10^8)`?"
   ]
  },
  {
   "cell_type": "markdown",
   "metadata": {},
   "source": [
    "La función randn(n) genera un arreglo de longitud n de valores aleatorios con distribución normal de varianza 1."
   ]
  },
  {
   "cell_type": "markdown",
   "metadata": {},
   "source": [
    "Por alguna razón ni mi maquina ni juliabox me dejan usar randn(10^8), cuando trato de utilizarlo se muere el kernel."
   ]
  },
  {
   "cell_type": "code",
   "execution_count": 8,
   "metadata": {
    "collapsed": false
   },
   "outputs": [],
   "source": [
    "v = 1.0e7 + randn(10^6);"
   ]
  },
  {
   "cell_type": "code",
   "execution_count": 9,
   "metadata": {
    "collapsed": false
   },
   "outputs": [
    {
     "data": {
      "text/plain": [
       "(1.000000000022244e7,1.000000000022228e7)"
      ]
     },
     "execution_count": 9,
     "metadata": {},
     "output_type": "execute_result"
    }
   ],
   "source": [
    "p, m = promedio(v), mean(v)"
   ]
  },
  {
   "cell_type": "code",
   "execution_count": 10,
   "metadata": {
    "collapsed": false
   },
   "outputs": [
    {
     "name": "stdout",
     "output_type": "stream",
     "text": [
      "tiempo de promedio = 0.001287818\n",
      "tiempo de mean = 0.000855096\n",
      "150.60507826021873% mas lento\n"
     ]
    }
   ],
   "source": [
    "t_mine_prom = @elapsed promedio(v)\n",
    "t_native_prom = @elapsed mean(v)\n",
    "\n",
    "println(\"tiempo de promedio = \", t_mine_prom)\n",
    "println(\"tiempo de mean = \", t_native_prom)\n",
    "println(100 * t_mine_prom / t_native_prom, \"% mas lento\")"
   ]
  },
  {
   "cell_type": "code",
   "execution_count": 11,
   "metadata": {
    "collapsed": false
   },
   "outputs": [
    {
     "data": {
      "text/plain": [
       "(0.9996697362379683,0.9996707359086905)"
      ]
     },
     "execution_count": 11,
     "metadata": {},
     "output_type": "execute_result"
    }
   ],
   "source": [
    "vf, vn = varianza(v), var(v)"
   ]
  },
  {
   "cell_type": "code",
   "execution_count": 12,
   "metadata": {
    "collapsed": false
   },
   "outputs": [
    {
     "name": "stdout",
     "output_type": "stream",
     "text": [
      "tiempo de varianza = 0.00224974\n",
      "tiempo de var = 0.000730977\n",
      "307.771653554079% más lento\n"
     ]
    }
   ],
   "source": [
    "t_mine_vari = @elapsed varianza(v)\n",
    "t_native_vari = @elapsed var(v)\n",
    "\n",
    "println(\"tiempo de varianza = \", t_mine_vari)\n",
    "println(\"tiempo de var = \", t_native_vari)\n",
    "println(100 * t_mine_vari / t_native_vari, \"% más lento\")"
   ]
  },
  {
   "cell_type": "markdown",
   "metadata": {},
   "source": [
    "(c) Implementen el [algoritmo recursivo](https://en.wikipedia.org/wiki/Algorithms_for_calculating_variance#Online_algorithm), ampliamente desconocido, que  calcula el promedio (`promedio_rec`) y la varianza (`varianza_rec`) con una sóla lectura de los datos. Usen sus fuciones en el vector anterior y comparen sus resultados con los obtenidos en (a)."
   ]
  },
  {
   "cell_type": "code",
   "execution_count": 13,
   "metadata": {
    "collapsed": false
   },
   "outputs": [
    {
     "data": {
      "text/plain": [
       "(0.002144951615933668,0.9988531007396582)"
      ]
     },
     "execution_count": 13,
     "metadata": {},
     "output_type": "execute_result"
    }
   ],
   "source": [
    "doc\"\"\"\n",
    "prom_var_rec(arreglo)\n",
    "\n",
    "regresa un arreglo con (promedio, varianza)\n",
    "\n",
    "Función que calcula el promedio y la varianza con una sola lectura de los datos implementando el algoritmo recursivo encontrado [aqui](https://en.wikipedia.org/wiki/Algorithms_for_calculating_variance#Online_algorithm).\n",
    "\"\"\"\n",
    "\n",
    "function prom_var_rec(arreglo)\n",
    "    n = 0.0\n",
    "    promedio = 0.0\n",
    "    M2 = 0.0\n",
    "    \n",
    "    for x = arreglo\n",
    "        n += 1.0                                     # Contador de iteraciones\n",
    "        promedio += (x - promedio) / n               # Actualizo el promedio\n",
    "        M2 += (1.0 - 1.0 / n) * (x - promedio)^2.0   # Actualizo la varianza\n",
    "    end   \n",
    "    \n",
    "    M2 /= (n - 1.0)\n",
    "     \n",
    "    return promedio, M2 \n",
    "end\n",
    "\n",
    "prom_var_rec(randn(1000000)); # llamamos a la función para que la compile."
   ]
  },
  {
   "cell_type": "code",
   "execution_count": 14,
   "metadata": {
    "collapsed": false
   },
   "outputs": [
    {
     "name": "stdout",
     "output_type": "stream",
     "text": [
      "search:\n",
      "\n"
     ]
    }
   ],
   "source": [
    "?prom_var_rec"
   ]
  },
  {
   "cell_type": "code",
   "execution_count": 15,
   "metadata": {
    "collapsed": false
   },
   "outputs": [
    {
     "data": {
      "text/plain": [
       "0.019638812"
      ]
     },
     "execution_count": 15,
     "metadata": {},
     "output_type": "execute_result"
    }
   ],
   "source": [
    "t_rec = @elapsed prom_var_rec(v)"
   ]
  },
  {
   "cell_type": "code",
   "execution_count": 16,
   "metadata": {
    "collapsed": false
   },
   "outputs": [
    {
     "data": {
      "text/plain": [
       "(1.0000000000221841e7,0.99964493624255)"
      ]
     },
     "execution_count": 16,
     "metadata": {},
     "output_type": "execute_result"
    }
   ],
   "source": [
    "prom_rec, var_rec = prom_var_rec(v)"
   ]
  },
  {
   "cell_type": "code",
   "execution_count": 17,
   "metadata": {
    "collapsed": false,
    "scrolled": true
   },
   "outputs": [
    {
     "name": "stdout",
     "output_type": "stream",
     "text": [
      "función promedio 1.000000000022244e7\n",
      "función mean     1.000000000022228e7\n",
      "función prom_rec 1.0000000000221841e7\n"
     ]
    }
   ],
   "source": [
    "println(\"función promedio \", p)\n",
    "println(\"función mean     \", m)\n",
    "println(\"función prom_rec \", prom_rec)"
   ]
  },
  {
   "cell_type": "code",
   "execution_count": 18,
   "metadata": {
    "collapsed": false
   },
   "outputs": [
    {
     "name": "stdout",
     "output_type": "stream",
     "text": [
      "función varianza 0.9996697362379683\n",
      "función var      0.9996707359086905\n",
      "función var_rec  0.99964493624255\n"
     ]
    }
   ],
   "source": [
    "println(\"función varianza \", vf)\n",
    "println(\"función var      \", vn)\n",
    "println(\"función var_rec  \", var_rec)"
   ]
  },
  {
   "cell_type": "markdown",
   "metadata": {},
   "source": [
    "(d) ¿Cuál de todos los algoritmos es el más rápido? (Pueden usar `@time` o `@elapsed`.) Usen vectores de varias longitudes, que cubran varios órdenes de magnitud."
   ]
  },
  {
   "cell_type": "code",
   "execution_count": 19,
   "metadata": {
    "collapsed": false
   },
   "outputs": [],
   "source": [
    "n = 25\n",
    "tiempos_pro = zeros(n)\n",
    "tiempos_nat = zeros(n)\n",
    "tiempos_rec = zeros(n)\n",
    "\n",
    "for i = 1:n\n",
    "    l = 1e6 + randn(2^i)\n",
    "    \n",
    "    tiempos_rec[i] = @elapsed prom_var_rec(l)\n",
    "    tiempos_pro[i] = @elapsed promedio(l), varianza(l)\n",
    "    tiempos_nat[i] = @elapsed mean(l), var(l)\n",
    "end\n",
    "\n",
    "log_rec = log.(tiempos_rec)\n",
    "log_pro = log.(tiempos_pro)\n",
    "log_nat = log.(tiempos_nat);"
   ]
  },
  {
   "cell_type": "code",
   "execution_count": 20,
   "metadata": {
    "collapsed": false,
    "scrolled": false
   },
   "outputs": [
    {
     "data": {
      "image/png": "[encoded data removed]",
      "text/plain": [
       "PyPlot.Figure(PyObject <matplotlib.figure.Figure object at 0x7f248f2fa590>)"
      ]
     },
     "metadata": {},
     "output_type": "display_data"
    }
   ],
   "source": [
    "using PyPlot\n",
    "\n",
    "fig = figure(\"pyplot_subplot_mixed\",figsize=(10,4))\n",
    "suptitle(\"Comparacion del tiempo de ejecución de cada algoritmo.\", fontsize=14)\n",
    "\n",
    "ax = subplot(121)\n",
    "grid(\"on\")\n",
    "plot(1:n, tiempos_rec,  linestyle = \"-\",  label = \"recursivo\")\n",
    "plot(1:n, tiempos_nat,  linestyle = \"--\", label = \"nativo\")\n",
    "plot(1:n, tiempos_pro,  linestyle = \"-.\", label = \"promedio\")\n",
    "legend(loc = \"upper left\", fontsize=12)\n",
    "ylabel(\"tiempo\")\n",
    "xlabel(\"2^n elementos en el arreglo\")\n",
    "\n",
    "bx = subplot(122)\n",
    "grid(\"on\")\n",
    "plot(1:n, log_rec,  linestyle = \"-\",  label = \"recursivo\")\n",
    "plot(1:n, log_nat,  linestyle = \"--\", label = \"nativo\")\n",
    "plot(1:n, log_pro,  linestyle = \"-.\", label = \"promedio\")\n",
    "legend(loc=\"best\", fontsize=12)\n",
    "ylabel(\"ln(tiempo)\")\n",
    "xlabel(\"2^n elementos en el arreglo\");"
   ]
  },
  {
   "cell_type": "markdown",
   "metadata": {
    "collapsed": true
   },
   "source": [
    "Podemos ver que hay un rango de $2^1$ a $2^6$ donde tanto el algoritmo recursivo como el no recursivo son más rápidos que el nativo, pero para longitudes mayores del arreglo, el algoritmo nativo es más rápido."
   ]
  },
  {
   "cell_type": "markdown",
   "metadata": {
    "deletable": true,
    "editable": true
   },
   "source": [
    "## 3. Método de Simpson para integrar $f(x)$ en un intervalo dado\n",
    "\n",
    "Implementen el método de Simpson para integrar una función arbitraria $f(x)$."
   ]
  },
  {
   "cell_type": "markdown",
   "metadata": {
    "collapsed": true,
    "deletable": true,
    "editable": true
   },
   "source": [
    "En análisis numérico, la regla o método de Simpson (nombrada así en honor de Thomas Simpson) y a veces llamada regla de Kepler es un método de integración numérica que se utiliza para obtener la aproximación de la integral:\n",
    "\n",
    "\n",
    "\n",
    "$ \\int_{a}^{b} f(x) dx \\approx \\frac{b-a}{6}[f(a) + 4f(\\frac{a+b}{2})+f(b)]$\n"
   ]
  },
  {
   "cell_type": "code",
   "execution_count": 21,
   "metadata": {
    "collapsed": false,
    "scrolled": true
   },
   "outputs": [
    {
     "data": {
      "text/plain": [
       "(-1.6659994998331682,1.7777768888890556e-16)"
      ]
     },
     "execution_count": 21,
     "metadata": {},
     "output_type": "execute_result"
    }
   ],
   "source": [
    "doc\"\"\"\n",
    "integrador(f, a, b, n)\n",
    "\n",
    "f función a integrar\n",
    "a, b los límites de integración\n",
    "n el número de elementos de la partición\n",
    "\n",
    "Función que calcula el área bajo la función **f** de **a** a **b** utilizando el algoritmo de Simpson de la forma\n",
    "\n",
    "$ \\int_{a}^{b} f(x) dx \\approx \\frac{b-a}{6}[f(a) + 4f(\\frac{a+b}{2})+f(b)]$\n",
    "\n",
    "este realiza la aproximación para cada paso de la partición\n",
    "\n",
    "$ \\int_{a}^{b} f(x) dx = \\sum_{i=1}^{n-1} \\int_{h_{i}}^{h_{i+1}} f(x) dx \\approx \\sum_{i=1}^{n-1} \\frac{\\Delta}{6}[f(h_{i}) + 4f(h_{i} + \\frac{\\Delta}{2})+f(h_{i + 1})]$\n",
    "\n",
    "El error es calculado de acuerdo a \n",
    "\n",
    "$ \\delta A = \\frac{\\Delta ^5}{90} |f^{4}(h_{i} + \\Delta)|$\n",
    "\n",
    "regresa una tupla con (area, error)\n",
    "\n",
    "\"\"\"\n",
    "\n",
    "\n",
    "function integrador(f, a, b, n = 1000)\n",
    "\n",
    "    h = linspace(a, b, n)                          # Se define la particion.\n",
    "    Δ = (b - a) / n                                # Se define el tamaño del paso de integracion.\n",
    "    \n",
    "    err_max = 0.0                                  # Se declaran variables para guardar el area y el error.\n",
    "    area = 0.0\n",
    "    \n",
    "    for i = h\n",
    "        area += Δ * (f(i) + 4 * f(i + 0.5 * Δ) + f(i + Δ)) / 6\n",
    "        \n",
    "        err = Δ^5 * abs(f(i + 0.5 * Δ))^4 / 90     # Se calcula el error del paso, el error reportado sera el mayor\n",
    "        if (err > err_max)                         # calculado para el intervalo de integracion.\n",
    "            err_max = err\n",
    "        end\n",
    "    end\n",
    "    \n",
    "    return area, err_max\n",
    "end\n",
    "\n",
    "integrador(x->x^2-2, 0, 1);  # Compilamos la funcion"
   ]
  },
  {
   "cell_type": "code",
   "execution_count": 22,
   "metadata": {
    "collapsed": false
   },
   "outputs": [
    {
     "name": "stdout",
     "output_type": "stream",
     "text": [
      "search:\n",
      "\n"
     ]
    },
    {
     "data": {
      "text/markdown": [
       "integrador(f, a, b, n)\n",
       "\n",
       "f función a integrar a, b los límites de integración n el número de elementos de la partición\n",
       "\n",
       "Función que calcula el área bajo la función **f** de **a** a **b** utilizando el algoritmo de Simpson de la forma\n",
       "\n",
       "$ \\int_{a}^{b} f(x) dx \\approx \\frac{b-a}{6}[f(a) + 4f(\\frac{a+b}{2})+f(b)]$\n",
       "\n",
       "este realiza la aproximación para cada paso de la partición\n",
       "\n",
       "$ \\int_{a}^{b} f(x) dx = \\sum_{i=1}^{n-1} \\int_{h_{i}}^{h_{i+1}} f(x) dx \\approx \\sum_{i=1}^{n-1} \\frac{\\Delta}{6}[f(h_{i}) + 4f(h_{i} + \\frac{\\Delta}{2})+f(h_{i + 1})]$\n",
       "\n",
       "El error es calculado de acuerdo a \n",
       "\n",
       "$ \\delta A = \\frac{\\Delta ^5}{90} |f^{4}(h_{i} + \\Delta)|$\n",
       "\n",
       "regresa una tupla con (area, error)\n"
      ],
      "text/plain": [
       "integrador(f, a, b, n)\n",
       "\n",
       "f función a integrar a, b los límites de integración n el número de elementos de la partición\n",
       "\n",
       "Función que calcula el área bajo la función **f** de **a** a **b** utilizando el algoritmo de Simpson de la forma\n",
       "\n",
       "$ \\int_{a}^{b} f(x) dx \\approx \\frac{b-a}{6}[f(a) + 4f(\\frac{a+b}{2})+f(b)]$\n",
       "\n",
       "este realiza la aproximación para cada paso de la partición\n",
       "\n",
       "$ \\int_{a}^{b} f(x) dx = \\sum_{i=1}^{n-1} \\int_{h_{i}}^{h_{i+1}} f(x) dx \\approx \\sum_{i=1}^{n-1} \\frac{\\Delta}{6}[f(h_{i}) + 4f(h_{i} + \\frac{\\Delta}{2})+f(h_{i + 1})]$\n",
       "\n",
       "El error es calculado de acuerdo a \n",
       "\n",
       "$ \\delta A = \\frac{\\Delta ^5}{90} |f^{4}(h_{i} + \\Delta)|$\n",
       "\n",
       "regresa una tupla con (area, error)\n"
      ]
     },
     "execution_count": 22,
     "metadata": {},
     "output_type": "execute_result"
    }
   ],
   "source": [
    "?integrador"
   ]
  },
  {
   "cell_type": "markdown",
   "metadata": {},
   "source": [
    "Para mostrar el comportamiento del integrador realizaremos la siguiente integral\n",
    "\n",
    "$ \\int_0^x \\sin(x)dx = 1 - cos(x)$ "
   ]
  },
  {
   "cell_type": "code",
   "execution_count": 23,
   "metadata": {
    "collapsed": false
   },
   "outputs": [
    {
     "data": {
      "text/plain": [
       "int_f (generic function with 1 method)"
      ]
     },
     "execution_count": 23,
     "metadata": {},
     "output_type": "execute_result"
    }
   ],
   "source": [
    "f(x) = sin(x)\n",
    "int_f(x) = 1 - cos(x)"
   ]
  },
  {
   "cell_type": "code",
   "execution_count": 24,
   "metadata": {
    "collapsed": false
   },
   "outputs": [
    {
     "data": {
      "image/png": "[encoded data removed]",
      "text/plain": [
       "PyPlot.Figure(PyObject <matplotlib.figure.Figure object at 0x7f248f028c50>)"
      ]
     },
     "metadata": {},
     "output_type": "display_data"
    }
   ],
   "source": [
    "rango = 0.0:0.01:(20 * pi)\n",
    "func = int_f(rango)\n",
    "int = similar(rango)\n",
    "er = similar(rango)\n",
    "\n",
    "for (i, j) = enumerate(rango)\n",
    "    int[i], er[i] = integrador(f, 0.0, j)\n",
    "    \n",
    "end\n",
    "\n",
    "plot(rango, func, linestyle = \"--\", label = \"analitica\")\n",
    "plot(rango, int,  linestyle = \"-.\", label = \"numerica\")\n",
    "\n",
    "legend()\n",
    "ylim(-0.5,2.5);"
   ]
  },
  {
   "cell_type": "markdown",
   "metadata": {},
   "source": [
    "$\\int_0^x (3x^2 - 1) dx = x^3 - x$"
   ]
  },
  {
   "cell_type": "code",
   "execution_count": 25,
   "metadata": {
    "collapsed": false
   },
   "outputs": [
    {
     "data": {
      "text/plain": [
       "int_g (generic function with 1 method)"
      ]
     },
     "execution_count": 25,
     "metadata": {},
     "output_type": "execute_result"
    }
   ],
   "source": [
    "g(x) = 3 * x.^2 - 1\n",
    "int_g(x) = x.^3 - x"
   ]
  },
  {
   "cell_type": "code",
   "execution_count": 26,
   "metadata": {
    "collapsed": false
   },
   "outputs": [
    {
     "data": {
      "image/png": "[encoded data removed]",
      "text/plain": [
       "PyPlot.Figure(PyObject <matplotlib.figure.Figure object at 0x7f248f166b10>)"
      ]
     },
     "metadata": {},
     "output_type": "display_data"
    }
   ],
   "source": [
    "rango = -2:0.01:2\n",
    "func = int_g(rango)\n",
    "int = similar(rango)\n",
    "er = similar(rango)\n",
    "\n",
    "for (i, j) = enumerate(rango)\n",
    "    int[i], er[i] = integrador(g, 0, j)\n",
    "end\n",
    "\n",
    "plot(rango, func, linestyle = \"--\", label = \"analitica\")\n",
    "plot(rango, int,  linestyle = \"-.\",label = \"numerica\")\n",
    "legend()\n",
    "ylim(-2,2)\n",
    "xlim(-2,2);"
   ]
  }
 ],
 "metadata": {
  "kernelspec": {
   "display_name": "Julia 0.5.0",
   "language": "julia",
   "name": "julia-0.5"
  },
  "language_info": {
   "file_extension": ".jl",
   "mimetype": "application/julia",
   "name": "julia",
   "version": "0.5.0"
  }
 },
 "nbformat": 4,
 "nbformat_minor": 2
}
