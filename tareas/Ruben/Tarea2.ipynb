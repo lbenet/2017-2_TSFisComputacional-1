{
 "cells": [
  {
   "cell_type": "code",
   "execution_count": 1,
   "metadata": {
    "collapsed": true
   },
   "outputs": [],
   "source": [
    "using PyPlot"
   ]
  },
  {
   "cell_type": "markdown",
   "metadata": {
    "deletable": true,
    "editable": true
   },
   "source": [
    "# Tarea 2: Derivación numérica"
   ]
  },
  {
   "cell_type": "markdown",
   "metadata": {
    "deletable": true,
    "editable": true
   },
   "source": [
    "Fecha de envío del PR inicial: **martes 14 de marzo**\n",
    "\n",
    "Fecha de aceptación del PR: **lunes 20 de marzo**"
   ]
  },
  {
   "cell_type": "markdown",
   "metadata": {
    "deletable": true,
    "editable": true
   },
   "source": [
    "## Ejercicio 1: Derivada *derecha*\n",
    "\n",
    "(a) Definan una función `derivada_derecha` que calcule *numéricamente* la derivada de una función $f(x)$ en una variable (a priori arbitaria) que se debe introducir como argumento, en un punto $x_0$ arbitrario, pero que por default lo hace en  $x_0=0.0$. \n",
    "\n",
    "Para esto, utilicen la aproximación de la derivada, que se basa en su definición:\n",
    "\n",
    "\\begin{equation}\n",
    "f'(x_0) \\approx \\frac{\\Delta f_+}{\\Delta x} = \\frac{f(x_0+h)-f(x_0)}{h},\n",
    "\\end{equation}\n",
    "\n",
    "lo que requiere la especificación de `h`. (Este método también se conoce por el nombre de *diferencias finitas*.)\n",
    "\n",
    "(b) A fin de simular el $\\lim_{h\\to 0}$, consideren distintos valores de $h$ que precisamente simulen dicho límite. Para cada valor de $h$ calculen el error absoluto del cálculo numérico (respecto al valor *exacto*, que deberán conocer analíticamente). \n",
    "\n",
    "Para ser concretos, prueben su implementación de `derivada_derecha` con la función de prueba $f(x) = 3x^3-2$, en $x_0=1$. Dibujen, como función de $h$, el error de su cálculo; usen escala logarítmica en ambos ejes. A partir de eso, ¿qué conclusión podemos sacar sobre *la convergencia* del cálculo numérico de la derivada, o sea, cómo nos acercamos al valor *exacto* de la deriva al considerar $lim_{h\\to 0}$? \n"
   ]
  },
  {
   "cell_type": "code",
   "execution_count": 2,
   "metadata": {
    "collapsed": false
   },
   "outputs": [
    {
     "data": {
      "text/plain": [
       "f (generic function with 1 method)"
      ]
     },
     "execution_count": 2,
     "metadata": {},
     "output_type": "execute_result"
    }
   ],
   "source": [
    "f(x) = 3 * x^3 - 2"
   ]
  },
  {
   "cell_type": "markdown",
   "metadata": {},
   "source": [
    "Analiticamente tenemos que la derivada de $f(x)=3x^3-2$ es $f'(x)=9x^2$, por lo tanto $f'(1) = 9$"
   ]
  },
  {
   "cell_type": "code",
   "execution_count": 3,
   "metadata": {
    "collapsed": false,
    "deletable": true,
    "editable": true
   },
   "outputs": [
    {
     "data": {
      "text/plain": [
       "derivada_derecha"
      ]
     },
     "execution_count": 3,
     "metadata": {},
     "output_type": "execute_result"
    }
   ],
   "source": [
    "doc\"\"\" \n",
    "derivada_derecha(funcion, punto, intervalo)\n",
    "\n",
    "Función que calcula una aproximación numérica de la derivada en el\n",
    "punto dado utilizando el método de diferencias finitas.\n",
    "\n",
    "$ f'(x_0) \\approx \\frac{f(x_0 - h) - f(x_0)}{h} $\n",
    "\n",
    "Cuando $ h << 1$.\n",
    "\"\"\"\n",
    "\n",
    "function derivada_derecha(f::Function, x0 = 0.0, h = 0.01)\n",
    "    derivada = (f(x0 + h) - f(x0)) / h\n",
    "    return derivada\n",
    "end"
   ]
  },
  {
   "cell_type": "code",
   "execution_count": 4,
   "metadata": {
    "collapsed": false
   },
   "outputs": [
    {
     "name": "stdout",
     "output_type": "stream",
     "text": [
      "search:\n",
      "\n"
     ]
    },
    {
     "data": {
      "text/markdown": [
       "derivada_derecha(funcion, punto, intervalo)\n",
       "\n",
       "Función que calcula una aproximación numérica de la derivada en el punto dado utilizando el método de diferencias finitas.\n",
       "\n",
       "$ f'(x_0) \\approx \\frac{f(x_0 - h) - f(x_0)}{h} $\n",
       "\n",
       "Cuando $ h << 1$.\n"
      ],
      "text/plain": [
       "derivada_derecha(funcion, punto, intervalo)\n",
       "\n",
       "Función que calcula una aproximación numérica de la derivada en el punto dado utilizando el método de diferencias finitas.\n",
       "\n",
       "$ f'(x_0) \\approx \\frac{f(x_0 - h) - f(x_0)}{h} $\n",
       "\n",
       "Cuando $ h << 1$.\n"
      ]
     },
     "execution_count": 4,
     "metadata": {},
     "output_type": "execute_result"
    }
   ],
   "source": [
    "?derivada_derecha"
   ]
  },
  {
   "cell_type": "markdown",
   "metadata": {
    "deletable": true,
    "editable": true
   },
   "source": [
    "## Ejercicio 2: Derivada simétrica\n",
    "\n",
    "Repitan el ejercicio anterior usando la aproximación que se basa en la versión *simétrica* de la definición de la derivada, es decir:\n",
    "\n",
    "\\begin{equation}\n",
    "f'(x_0) \\approx \\frac{ \\Delta f_{sym}}{\\Delta x} = \\lim_{h\\to 0} \\frac{f(x_0+h)-f(x_0-h)}{2h}.\n",
    "\\end{equation}\n",
    "\n",
    "¿Qué pueden concluir respecto a la convergencia? ¿Cómo se compara este algoritmo con el del ejercicio anterior?"
   ]
  },
  {
   "cell_type": "code",
   "execution_count": 5,
   "metadata": {
    "collapsed": false,
    "deletable": true,
    "editable": true
   },
   "outputs": [
    {
     "data": {
      "text/plain": [
       "derivada_simetrica"
      ]
     },
     "execution_count": 5,
     "metadata": {},
     "output_type": "execute_result"
    }
   ],
   "source": [
    "doc\"\"\" \n",
    "derivada_simetrica(funcion, punto, intervalo)\n",
    "\n",
    "Función que calcula una aproximación numérica de la derivada en el\n",
    "punto dado utilizando el método de diferencias finitas de manera simetrica.\n",
    "\n",
    "$ f'(x_0) \\approx \\frac{f(x_0 + h) - f(x_0 -h)}{2h} $\n",
    "\n",
    "Cuando $ h << 1$.\n",
    "\"\"\"\n",
    "\n",
    "function derivada_simetrica(f::Function, x0::Real = 0.0, h::Real = 0.01)\n",
    "    derivada = (f(x0 + h) - f(x0 - h)) / (2 * h)\n",
    "    return derivada\n",
    "end"
   ]
  },
  {
   "cell_type": "markdown",
   "metadata": {
    "deletable": true,
    "editable": true
   },
   "source": [
    "## Ejercicio 3: Derivada *compleja*"
   ]
  },
  {
   "cell_type": "markdown",
   "metadata": {
    "deletable": true,
    "editable": true
   },
   "source": [
    "Repitan el ejercicio anterior considerando ahora que el incremento de la variable independiente es infinitesimal e *imaginario*. Esto es, nos basaremos en la definición de la derivada dada por:\n",
    "\n",
    "\\begin{equation}\n",
    "f'(x_0) \\approx \\frac{\\Delta f_{cmplx}(x_0)}{\\Delta x} = Im\\Big(\\frac{f(x_0+ i h)}{h}\\Big).\n",
    "\\end{equation}\n"
   ]
  },
  {
   "cell_type": "code",
   "execution_count": 6,
   "metadata": {
    "collapsed": false,
    "deletable": true,
    "editable": true
   },
   "outputs": [
    {
     "data": {
      "text/plain": [
       "derivada_compleja"
      ]
     },
     "execution_count": 6,
     "metadata": {},
     "output_type": "execute_result"
    }
   ],
   "source": [
    "doc\"\"\" \n",
    "derivada_compleja(funcion, punto, intervalo)\n",
    "\n",
    "Función que calcula una aproximación numérica de la derivada en el\n",
    "punto dado utilizando el método de diferencias finitas de manera compleja.\n",
    "\n",
    "$ f'(x_0) \\approx Im\\Big(\\frac{f(x_0+ i h)}{h}\\Big) $\n",
    ".\n",
    "Cuando $ h << 1$.\n",
    "\"\"\"\n",
    "\n",
    "function derivada_compleja(f::Function, x0 = 0.0, h::Real = 0.01)\n",
    "    derivada = (f(x0 + im * h) - f(x0)) / h\n",
    "    return imag(derivada)\n",
    "end\n",
    "\n"
   ]
  },
  {
   "cell_type": "code",
   "execution_count": 7,
   "metadata": {
    "collapsed": false
   },
   "outputs": [
    {
     "name": "stdout",
     "output_type": "stream",
     "text": [
      "search:\n",
      "\n"
     ]
    },
    {
     "data": {
      "text/markdown": [
       "derivada_compleja(funcion, punto, intervalo)\n",
       "\n",
       "Función que calcula una aproximación numérica de la derivada en el punto dado utilizando el método de diferencias finitas de manera compleja.\n",
       "\n",
       "$ f'(x_0) \\approx Im\\Big(\\frac{f(x_0+ i h)}{h}\\Big) $ . Cuando $ h << 1$.\n"
      ],
      "text/plain": [
       "derivada_compleja(funcion, punto, intervalo)\n",
       "\n",
       "Función que calcula una aproximación numérica de la derivada en el punto dado utilizando el método de diferencias finitas de manera compleja.\n",
       "\n",
       "$ f'(x_0) \\approx Im\\Big(\\frac{f(x_0+ i h)}{h}\\Big) $ . Cuando $ h << 1$.\n"
      ]
     },
     "execution_count": 7,
     "metadata": {},
     "output_type": "execute_result"
    }
   ],
   "source": [
    "?derivada_compleja"
   ]
  },
  {
   "cell_type": "markdown",
   "metadata": {
    "deletable": true,
    "editable": true
   },
   "source": [
    "## Ejercicio 4: Preguntas"
   ]
  },
  {
   "cell_type": "markdown",
   "metadata": {
    "deletable": true,
    "editable": true
   },
   "source": [
    "- ¿Cuál de las definiciones anteriores es mejor en términos de dar el valor *más exacto* de la derivada? Den un argumento sólido de su conclusión en términos del tipo de convergencia hacia el valor exacto."
   ]
  },
  {
   "cell_type": "code",
   "execution_count": 15,
   "metadata": {
    "collapsed": false,
    "deletable": true,
    "editable": true
   },
   "outputs": [
    {
     "data": {
      "image/png": "[encoded data removed]",
      "text/plain": [
       "PyPlot.Figure(PyObject <matplotlib.figure.Figure object at 0x7f6c7f8d6790>)"
      ]
     },
     "metadata": {},
     "output_type": "display_data"
    }
   ],
   "source": [
    "fig = figure(\"pyplot_subplot_mixed\",figsize=(10,4))\n",
    "suptitle(\"Comparación del error de cada algoritmo.\", fontsize=14)\n",
    "\n",
    "hs1 = logspace(-17, 3, 1000000)\n",
    "n1 = length(hs1)\n",
    "err1 = ones(n1) * 9.0\n",
    "\n",
    "for i = 1:n1\n",
    "    err1[i] = abs(err1[i] - derivada_derecha(f, 1.0, hs1[i]))\n",
    "end\n",
    "\n",
    "hs2 = logspace(-17, 3, 1000000)\n",
    "n2 = length(hs2)\n",
    "err2 = ones(n2) * 9.0\n",
    "\n",
    "for i = 1:n2\n",
    "    err2[i] = abs(err2[i] - derivada_simetrica(f, 1.0, hs2[i]))\n",
    "end\n",
    "\n",
    "hs3 = logspace(-17, 3, 1000000)\n",
    "n3 = length(hs3)\n",
    "err3 = ones(n3) * 9\n",
    "\n",
    "for i = 1:n3\n",
    "    err3[i] = abs(err3[i] - derivada_compleja(f, 1.0, hs3[i]))\n",
    "end\n",
    "\n",
    "xlabel(\"log(h's)\")\n",
    "ylabel(\"log(error)\")\n",
    "\n",
    "loglog(hs2, err2, \"-\", label = \"Simetrica\")\n",
    "loglog(hs1, err1, \"-\", label = \"Derecha\")\n",
    "\n",
    "loglog(hs3, err3, \"-\", label = \"Compleja\")\n",
    "grid()\n",
    "legend(loc = \"lower right\");"
   ]
  },
  {
   "cell_type": "markdown",
   "metadata": {},
   "source": [
    "Tenemos que el método que más se acerca al valor real (analitico) es el de la derivada compleja, después tenemos al de derivada simétrica y al final el de derivada derecha. Algo a tomar en cuenta es que el que alcanza más rápido el mínimo es el de derivada derecha, pero sufre de mucho error de redondeo. La derivada compleja sufre de error de redondeo cerca de su punto de convergencia pero se vuelve constante  a partir de ese punto."
   ]
  },
  {
   "cell_type": "markdown",
   "metadata": {
    "deletable": true,
    "editable": true
   },
   "source": [
    "- ¿Qué comportamiento mostrado por las derivadas en términos de $h$ nos incomoda más? ¿A qué atribuyen esto?"
   ]
  },
  {
   "cell_type": "markdown",
   "metadata": {
    "collapsed": true,
    "deletable": true,
    "editable": true
   },
   "source": [
    "Que se espera que el error disminuya mientras h disminuye, cosa que a partir de cierta h no ocurre con la derivada simétrica ni la derivada derecha.\n",
    "\n",
    "Es posible que este comportamiento se deba a que en los algoritmos de derivada derecha y simétrica se realiza una resta, esto genera un error de redondeo que se hace cada vez más pequeña mientras h disminuye."
   ]
  }
 ],
 "metadata": {
  "kernel_info": {
   "name": "julia-0.5"
  },
  "kernelspec": {
   "display_name": "Julia 0.5.0",
   "language": "julia",
   "name": "julia-0.5"
  },
  "language_info": {
   "file_extension": ".jl",
   "mimetype": "application/julia",
   "name": "julia",
   "version": "0.5.0"
  }
 },
 "nbformat": 4,
 "nbformat_minor": 0
}
