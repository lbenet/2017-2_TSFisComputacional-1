{
 "cells": [
  {
   "cell_type": "markdown",
   "metadata": {
    "slideshow": {
     "slide_type": "slide"
    }
   },
   "source": [
    "# Tarea 6: Integración con Taylor"
   ]
  },
  {
   "cell_type": "markdown",
   "metadata": {
    "slideshow": {
     "slide_type": "slide"
    }
   },
   "source": [
    "Fecha de envío del PR inicial: **viernes 5 de mayo**\n",
    "\n",
    "Fecha de aceptación del PR: **martes 16 de mayo, antes de la clase**"
   ]
  },
  {
   "cell_type": "markdown",
   "metadata": {
    "slideshow": {
     "slide_type": "skip"
    }
   },
   "source": [
    "---"
   ]
  },
  {
   "cell_type": "markdown",
   "metadata": {
    "slideshow": {
     "slide_type": "slide"
    }
   },
   "source": [
    "## Ejercicio 1\n",
    "\n",
    "Usando su implementación de polinomios de Taylor, escriban un integrador para la ecuación diferencial que se desarrolló en este ejemplo, esto es, $\\dot{x} = x^2$ con la condición inicial $x(0) = 3$. \n",
    "\n",
    "El integrador debe hacer las operaciones necesarias para obtener automáticamente los coeficientes $x_{[k]}$, *en cada paso de integración*, a partir de la condición inicial local. Un requisito básico para esto es que tengan una implementación de la función $P_\\alpha(x) = [g(x)]^\\alpha$ con $g(x)$ un polinomio de Taylor, que hicieron en la \"Tarea5\", y que funcione bien en particular para `alpha::Int`.\n",
    "\n",
    "La implementación debe consistir de varias funciones: \n",
    "\n",
    "1. Una función donde se calculen los coeficientes $x_{[k]}$ de la expansión. Esta función deberá llamar a otra donde se implementan las recurrencias que imponen las ecuaciones de movimiento.\n",
    "\n",
    "2. Una función donde se obtenga el paso de integración $h$ como se describió en el notebook 10.\n",
    "\n",
    "- Otra función donde se haga la suma usando el método de Horner.\n",
    "\n",
    "- Finalmente, una función que combine las funciones anteriores para hacer la integración desde un tiempo inicial a uno final. En este punto, *fingiremos ignorancia*, en el sentido de  que el tiempo inicial es cero, y el tiempo final será $0.5$ (que está más allá de donde la solución está definida).\n"
   ]
  },
  {
   "cell_type": "markdown",
   "metadata": {},
   "source": [
    "Dado que conocemos la solución analítica de este problema, grafiquen como función de $t$ el error relativo de su integrador (respecto al valor del resultado analítico)."
   ]
  },
  {
   "cell_type": "code",
   "execution_count": 1,
   "metadata": {
    "collapsed": false
   },
   "outputs": [],
   "source": [
    "include(\"Taylor.jl\")\n",
    "using ADT\n",
    "using PyPlot"
   ]
  },
  {
   "cell_type": "markdown",
   "metadata": {},
   "source": [
    "1. Utilizando que \n",
    "\n",
    "\\begin{equation}\n",
    "x_{[k]} = \\frac{f_{[k-1]}}{k},\n",
    "\\end{equation}\n",
    "   podemos definir una funcion que encuentre de manera iterativa los coeficientes de $x(t)$"
   ]
  },
  {
   "cell_type": "code",
   "execution_count": null,
   "metadata": {
    "collapsed": false
   },
   "outputs": [],
   "source": [
    "function coeficientes(x0::Number, f::Function, n = 10)\n",
    "    \n",
    "    a = [x0]\n",
    "    \n",
    "    for k = 1:n\n",
    "        iter = f(Taylor(a))\n",
    "        push!(a, iter.coef[k]/(k))\n",
    "    end\n",
    "    return Taylor(a)\n",
    "end"
   ]
  },
  {
   "cell_type": "code",
   "execution_count": null,
   "metadata": {
    "collapsed": false
   },
   "outputs": [],
   "source": [
    "x_t = sol(3.0, x -> x^2)"
   ]
  },
  {
   "cell_type": "markdown",
   "metadata": {},
   "source": [
    "Como vemos la solucion cumple con lo obtenido analiticamente, esto es\n",
    "$x_0 = 3^1$, $x_1 = 3^2$, $x_2 = 3^3$, ... , $x_n = 3^{n+1}$, "
   ]
  },
  {
   "cell_type": "markdown",
   "metadata": {},
   "source": [
    "Ahora necesitamos una funcion que determine el paso de integracion adaptativo\n",
    "\n",
    "Utilizamos\n",
    "\n",
    "\\begin{equation}\n",
    "h = t-t_0 \\leq \\Big(\\frac{\\epsilon}{\\big| x_{[p]}(t_0)\\big|}\\Big)^{1/p}.\n",
    "\\end{equation}\n",
    "\n",
    "Condicion que brinda la convergencia de la serie de potencia $p$"
   ]
  },
  {
   "cell_type": "code",
   "execution_count": null,
   "metadata": {
    "collapsed": false
   },
   "outputs": [],
   "source": [
    "function adaptive_step(a::Taylor, epsi = 1e-30)\n",
    "    p = gradomax(a)\n",
    "    while p != 0 && a.coef[p] == 0 ## Asi utilizamos el ultimo termino no nulo\n",
    "        p -= 1\n",
    "    end\n",
    "    h = 0.5 * (epsi / abs(a.coef[p]))^(1/p) ## Multiplicar por 0.5 nos garantiza que es menor que la cota\n",
    "    return h\n",
    "end"
   ]
  },
  {
   "cell_type": "code",
   "execution_count": null,
   "metadata": {
    "collapsed": false,
    "scrolled": false
   },
   "outputs": [],
   "source": [
    "adaptive_step(x_t)"
   ]
  },
  {
   "cell_type": "markdown",
   "metadata": {},
   "source": [
    "Ahora definimos una funcion que utilice el metodo de Horner para valuar el polinomio."
   ]
  },
  {
   "cell_type": "code",
   "execution_count": null,
   "metadata": {
    "collapsed": false
   },
   "outputs": [],
   "source": [
    "function horner(a::Taylor, x0::Number)\n",
    "    n = gradomax(a)\n",
    "    y = a.coef[n]\n",
    "    \n",
    "    for i = 1:(n - 1)\n",
    "        y = a.coef[n - i] + y * x0\n",
    "    end\n",
    "    \n",
    "    return y\n",
    "end"
   ]
  },
  {
   "cell_type": "code",
   "execution_count": null,
   "metadata": {
    "collapsed": false,
    "scrolled": false
   },
   "outputs": [],
   "source": [
    "x = linspace(-5, 5)\n",
    "y_1 = zeros(x)\n",
    "y_2 = zeros(x)\n",
    "Tay = Taylor([1.0, -2.0, 1.0, 1.0])\n",
    "\n",
    "for (i, j) = enumerate(x)\n",
    "    y_1[i] = horner(Tay, j)\n",
    "    y_2[i] = evaluacion(Tay, j)\n",
    "end\n",
    "\n",
    "plot(x, y_1 - y_2)"
   ]
  },
  {
   "cell_type": "markdown",
   "metadata": {},
   "source": [
    "Por ultimo definimos una funcion que combina las funciones anteriores de manera que haga la integracion de un tiempo $t_0$ a un $t_f$"
   ]
  },
  {
   "cell_type": "code",
   "execution_count": null,
   "metadata": {
    "collapsed": false
   },
   "outputs": [],
   "source": [
    "function integradorT(f::Function, t0::Number, tf::Number, x0::Number)\n",
    "    max = 1000 ## Iteraciones maximas del while\n",
    "    tiempos = [t0]\n",
    "    solucion = [x0]\n",
    "    n = 0 ## Contador\n",
    "    \n",
    "    while t0 < tf && n < max\n",
    "        \n",
    "        solu = sol(x0, f)\n",
    "        h = adaptive_step(solu)\n",
    "        t0 += h\n",
    "        \n",
    "        s = horner(solu, h)\n",
    "        \n",
    "        \n",
    "        push!(tiempos, t0)\n",
    "        push!(solucion, s)\n",
    "        n += 1\n",
    "    end\n",
    "    \n",
    "    return tiempos, solucion\n",
    "end"
   ]
  },
  {
   "cell_type": "code",
   "execution_count": null,
   "metadata": {
    "collapsed": false
   },
   "outputs": [],
   "source": [
    "y = integradorT(x -> x^2, 0, 0.2, 3)"
   ]
  },
  {
   "cell_type": "markdown",
   "metadata": {},
   "source": [
    "---"
   ]
  },
  {
   "cell_type": "markdown",
   "metadata": {},
   "source": [
    "## Ejercicio 2\n",
    "\n",
    "Repitan la integración del ejercicio anterior usando el método de Runge-Kutta de 4o orden con paso de integración fijo (que es lo más sofisticado que conocen hasta ahora) y comparen los resultados del error relativo con los obtenidos con el método de Taylor. En particular, finjan ignorancia de la misma manera que en el ejercicio anterior."
   ]
  },
  {
   "cell_type": "code",
   "execution_count": null,
   "metadata": {
    "collapsed": true
   },
   "outputs": [],
   "source": []
  },
  {
   "cell_type": "markdown",
   "metadata": {},
   "source": [
    "---"
   ]
  },
  {
   "cell_type": "markdown",
   "metadata": {},
   "source": [
    "## Ejercicio 3\n",
    "\n",
    "Integra la ecuación de movimiento para el oscilador armónico, $\\ddot{x} = -2x$, con $x(0)=2$, $\\dot{x}(0)=0$, durante 10^4 periodos de oscilación (o sea, hasta $t_f = 10^4 \\cdot 2\\pi/\\sqrt{2}$, usando el método de Taylor y el método de Runge-Kutta de 4o orden con paso de integración constante. Compara cómo cambia la energía (respecto al valor al tiempo cero) en función del tiempo en ambos métodos."
   ]
  },
  {
   "cell_type": "code",
   "execution_count": null,
   "metadata": {
    "collapsed": true
   },
   "outputs": [],
   "source": []
  }
 ],
 "metadata": {
  "kernel_info": {
   "name": "julia-0.5"
  },
  "kernelspec": {
   "display_name": "Julia 0.5.2-pre",
   "language": "julia",
   "name": "julia-0.5"
  },
  "language_info": {
   "file_extension": ".jl",
   "mimetype": "application/julia",
   "name": "julia",
   "version": "0.5.2"
  }
 },
 "nbformat": 4,
 "nbformat_minor": 2
}
