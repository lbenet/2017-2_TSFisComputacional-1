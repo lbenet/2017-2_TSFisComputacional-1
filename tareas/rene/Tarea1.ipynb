{
 "cells": [
  {
   "cell_type": "markdown",
   "metadata": {},
   "source": [
    "# Tarea 1"
   ]
  },
  {
   "cell_type": "markdown",
   "metadata": {},
   "source": [
    "Fecha de envío del PR inicial: **26 de febrero**\n",
    "\n",
    "Fecha de aceptación del PR: **10 de marzo**\n"
   ]
  },
  {
   "cell_type": "markdown",
   "metadata": {},
   "source": [
    "## 1. Raíces de una ecuación de segundo grado\n",
    "\n",
    "Implementen en julia una función que devuelva las raíces de una ecuación de segundo grado general con coeficientes reales. La función debe ser estable según el tipo ([type-stable](http://docs.julialang.org/en/release-0.5/manual/faq/?highlight=type%20stability#what-does-type-stable-mean)), lo que significa que el tipo del resultado sólamente depende del tipo de las entradas. En particular, muestren que su función devuelve raíces consistentes para $a=1$, $b=1$, $c=10^{-17}$.\n",
    "\n",
    "La función debe estar documentada de manera apropiada, lo que significa que, al correr el Jupyter notebook de su tarea, la instrucción\n",
    "```julia\n",
    "? nombre_funcion\n",
    "```\n",
    "debe dar información apropiada.\n",
    "\n",
    "Incluyan cualquier comentario prudente del algoritmo que usan, ya sea en el notebook (usando markdown) o en la propia función incluyendo comentarios.\n"
   ]
  },
  {
   "cell_type": "markdown",
   "metadata": {},
   "source": [
    "## Ecuación de segundo grado\n",
    "La ecuación de 2 orden está dadá como\n",
    "$$ax^2+bx+c=0$$$$\\rightarrow x^2+\\frac{b}{a}x+\\frac{c}{a}=0\n",
    "$$$$\\rightarrow x^2+\\frac{b}{a}x+\\frac{b^2}{4a^2}=\\frac{b^2}{4a^2}-\\frac{c}{a}$$$$\n",
    "\\hspace{.3cm}\\rightarrow \\left(x+\\frac{b}{2a}\\right)^2=\\frac{b^2}{4a^2}-\\frac{4ac}{4a^2}$$\n",
    "\n",
    "$$\\rightarrow x+\\frac{b}{2a}=\\pm\\sqrt{\\frac{b^2-4ac}{4a^2}}=\\pm\\frac{\\sqrt{b^2-4ac}}{2a}$$\n",
    "$$\\therefore \\;\\;x=\\frac{-b\\pm\\sqrt{b^2-4ac}}{2a}$$\n",
    "$$\\left(x-\\frac{-b+\\sqrt{b^2-4ac}}{2a}\\right)\\left(x-\\frac{-b-\\sqrt{b^2-4ac}}{2a}\\right)=0$$\n",
    "\n",
    "Por otro lado\n",
    "$$x_1=\\frac{-b+\\sqrt{b^2-4ac}}{2a}\\left(\\frac{b+\\sqrt{b^2-4ac}}{b+\\sqrt{b^2-4ac}}\\right)\n",
    "=-\\frac{2c}{b+\\sqrt{b^2-4ac}}$$\n",
    "$$x_2=\\frac{-b-\\sqrt{b^2-4ac}}{2a}$$"
   ]
  },
  {
   "cell_type": "code",
   "execution_count": null,
   "metadata": {
    "collapsed": true
   },
   "outputs": [],
   "source": [
    "\"\"\"\n",
    "    r_p2orden()\n",
    "\n",
    "Esta función calcula las raices de una ecuación de segundo grado \\$ax^2+bx+c=0\\$.\n",
    "Para obtener un número con la precision deseada tiene que declarar las entradas de la \n",
    "función como r_p2orden(BigFloat(a),BigFloat(b),BigFloat(c))\n",
    "\n",
    "\"\"\"\n",
    "\n",
    "function r_p2orden(a,b,c)\n",
    "    x0=b^2.-4.*a*c\n",
    "    if x0>0\n",
    "       x_1=(-b-sqrt(b^2-4.*a*c))/(2.*a)\n",
    "       x_2= -2c/(b+sqrt(b^2-4.*a*c))#(-(b)^2+sqrt(b^2-4.*a*c))/(2.*a)\n",
    "       println(x_1)\n",
    "       println(x_2)\n",
    "        elseif x0==0\n",
    "        x=-(b^2)/(2.*a)\n",
    "        else println(\"ERROR, la función no calcula raíces complejas\")\n",
    "    end\n",
    "end"
   ]
  },
  {
   "cell_type": "code",
   "execution_count": null,
   "metadata": {
    "collapsed": true
   },
   "outputs": [],
   "source": [
    "?r_p2orden()"
   ]
  },
  {
   "cell_type": "code",
   "execution_count": null,
   "metadata": {
    "collapsed": true
   },
   "outputs": [],
   "source": [
    "r_p2orden(1.,1.,1/10^17)"
   ]
  },
  {
   "cell_type": "code",
   "execution_count": null,
   "metadata": {
    "collapsed": true
   },
   "outputs": [],
   "source": [
    "r_p2orden(BigFloat(1.0),BigFloat(1.0),BigFloat(1/10^17))"
   ]
  },
  {
   "cell_type": "code",
   "execution_count": null,
   "metadata": {
    "collapsed": true
   },
   "outputs": [],
   "source": [
    "r_p2orden(parse(BigFloat, \"1.0\"),parse(BigFloat, \"1.0\"),parse(BigFloat, \"1e-17\"))"
   ]
  },
  {
   "cell_type": "markdown",
   "metadata": {},
   "source": [
    "## 2. Promedio y varianza\n",
    "\n",
    "(a) Escriban dos funciones (`promedio` y `varianza`) que calculen el promedio y la varianza de un vector de datos. \n",
    "    \n",
    "(b) Comparen su resultado con lo que se obtiene al utilizar `mean` y `var`, que son las funciones nativas de Julia que hacen eso. En particular, consideren el siguiente vector de datos\n",
    "```julia\n",
    "v = 1.0e7 + randn(10^8)\n",
    "```\n",
    "¿Qué hace la función `randn(10^8)`?\n",
    "\n",
    "(c) Implementen el [algoritmo recursivo](https://en.wikipedia.org/wiki/Algorithms_for_calculating_variance#Online_algorithm), ampliamente desconocido, que  calcula el promedio (`promedio_rec`) y la varianza (`varianza_rec`) con una sóla lectura de los datos. Usen sus fuciones en el vector anterior y comparen sus resultados con los obtenidos en (a).\n",
    "\n",
    "(d) ¿Cuál de todos los algoritmos es el más rápido? (Pueden usar `@time` o `@elapsed`.) Usen vectores de varias longitudes, que cubran varios órdenes de magnitud."
   ]
  },
  {
   "cell_type": "markdown",
   "metadata": {},
   "source": [
    "### INCISO (a)\n",
    "El [**promedio**](https://en.wikipedia.org/wiki/Mean#Arithmetic_mean_.28AM.29) de un conjunto de valores esta expresado como\n",
    "$$\\bar{x}=\\frac{\\sum_{i=0}^{n}x_i}{n}$$\n",
    "\n",
    "La [**varianza**](https://en.wikipedia.org/wiki/Algorithms_for_calculating_variance#Two-pass_algorithm) cálcula la suma de los cuadrados de las diferencias entre los valores $x_i$ y su promedio $\\bar{x}$\n",
    "$$\\sigma=\\frac{\\sum_{i=0}^{n}\\left(x_i-\\bar{x}\\right)^2}{n-1}$$"
   ]
  },
  {
   "cell_type": "code",
   "execution_count": null,
   "metadata": {
    "collapsed": true
   },
   "outputs": [],
   "source": [
    "\"\"\"\n",
    "promedio()\n",
    "Esta función calcula el promedio de los valores de las entradas de un vector cualquiera.\n",
    "\"\"\"\n",
    "function promedio(v)\n",
    "    P0=zero(eltype(v))#P0=0.\n",
    "    n=length(v)\n",
    "    for i in 1:n\n",
    "        P0=P0+v[i]\n",
    "    end\n",
    "    P=P0/n\n",
    "    return P\n",
    "end"
   ]
  },
  {
   "cell_type": "code",
   "execution_count": null,
   "metadata": {
    "collapsed": true
   },
   "outputs": [],
   "source": [
    "\"\"\"\n",
    "varianza(v)\n",
    "Esta función calcula la varianza de las entradas de un vector.\n",
    "\"\"\"\n",
    "\n",
    "function varianza(v)\n",
    "    h=promedio(v)\n",
    "    P0=zero(eltype(v))#P0=0.\n",
    "    n=length(v)\n",
    "    for i in 1:n\n",
    "        P0=P0+(v[i]-h)^2\n",
    "    end\n",
    "    P=P0/(n-1)#\n",
    "    return P\n",
    "end"
   ]
  },
  {
   "cell_type": "code",
   "execution_count": null,
   "metadata": {
    "collapsed": true
   },
   "outputs": [],
   "source": [
    "?promedio()"
   ]
  },
  {
   "cell_type": "code",
   "execution_count": null,
   "metadata": {
    "collapsed": true
   },
   "outputs": [],
   "source": [
    "?varianza()"
   ]
  },
  {
   "cell_type": "markdown",
   "metadata": {},
   "source": [
    "### INCISO (b)"
   ]
  },
  {
   "cell_type": "code",
   "execution_count": null,
   "metadata": {
    "collapsed": true
   },
   "outputs": [],
   "source": [
    "?randn(10^8)"
   ]
  },
  {
   "cell_type": "markdown",
   "metadata": {},
   "source": [
    "*Esta función genera un arreglo de números uniformemente distribuidos*"
   ]
  },
  {
   "cell_type": "code",
   "execution_count": null,
   "metadata": {
    "collapsed": true
   },
   "outputs": [],
   "source": [
    "v = 1.0e7 + randn(10^8)"
   ]
  },
  {
   "cell_type": "code",
   "execution_count": null,
   "metadata": {
    "collapsed": true
   },
   "outputs": [],
   "source": [
    "promedio(v)"
   ]
  },
  {
   "cell_type": "code",
   "execution_count": null,
   "metadata": {
    "collapsed": true
   },
   "outputs": [],
   "source": [
    "mean(v)"
   ]
  },
  {
   "cell_type": "code",
   "execution_count": null,
   "metadata": {
    "collapsed": true
   },
   "outputs": [],
   "source": [
    "varianza()"
   ]
  },
  {
   "cell_type": "code",
   "execution_count": null,
   "metadata": {
    "collapsed": true
   },
   "outputs": [],
   "source": [
    "var()"
   ]
  },
  {
   "cell_type": "markdown",
   "metadata": {},
   "source": [
    "### INCISO (c)"
   ]
  },
  {
   "cell_type": "code",
   "execution_count": null,
   "metadata": {
    "collapsed": true
   },
   "outputs": [],
   "source": [
    "\"\"\"\n",
    "promedio()\n",
    "Esta función calcula el promedio de los valores de las entradas de un vector cualquiera.\n",
    "\"\"\"\n",
    "function promedio_rec(v)\n",
    "end"
   ]
  },
  {
   "cell_type": "code",
   "execution_count": null,
   "metadata": {
    "collapsed": true
   },
   "outputs": [],
   "source": [
    "\"\"\"\n",
    "varianza(v)\n",
    "Esta función calcula la varianza de las entradas de un vector.\n",
    "\"\"\"\n",
    "\n",
    "function varianza_rec(v)\n",
    "end"
   ]
  },
  {
   "cell_type": "code",
   "execution_count": null,
   "metadata": {
    "collapsed": true
   },
   "outputs": [],
   "source": [
    "?promedio_rec()"
   ]
  },
  {
   "cell_type": "code",
   "execution_count": null,
   "metadata": {
    "collapsed": true
   },
   "outputs": [],
   "source": [
    "?varianza_rec()"
   ]
  },
  {
   "cell_type": "code",
   "execution_count": null,
   "metadata": {
    "collapsed": true
   },
   "outputs": [],
   "source": [
    "promedio_rec()"
   ]
  },
  {
   "cell_type": "code",
   "execution_count": null,
   "metadata": {
    "collapsed": true
   },
   "outputs": [],
   "source": [
    "promedio()"
   ]
  },
  {
   "cell_type": "code",
   "execution_count": null,
   "metadata": {
    "collapsed": true
   },
   "outputs": [],
   "source": [
    "mean()"
   ]
  },
  {
   "cell_type": "code",
   "execution_count": null,
   "metadata": {
    "collapsed": true
   },
   "outputs": [],
   "source": [
    "varianza_rec()"
   ]
  },
  {
   "cell_type": "code",
   "execution_count": null,
   "metadata": {
    "collapsed": true
   },
   "outputs": [],
   "source": [
    "varianza()"
   ]
  },
  {
   "cell_type": "code",
   "execution_count": null,
   "metadata": {
    "collapsed": true
   },
   "outputs": [],
   "source": [
    "var()"
   ]
  },
  {
   "cell_type": "markdown",
   "metadata": {},
   "source": [
    "### INCISO (d)"
   ]
  },
  {
   "cell_type": "code",
   "execution_count": null,
   "metadata": {
    "collapsed": true
   },
   "outputs": [],
   "source": [
    "@time 1"
   ]
  },
  {
   "cell_type": "code",
   "execution_count": null,
   "metadata": {
    "collapsed": true
   },
   "outputs": [],
   "source": [
    "@time 1"
   ]
  },
  {
   "cell_type": "code",
   "execution_count": null,
   "metadata": {
    "collapsed": true
   },
   "outputs": [],
   "source": [
    "@time promedio_rec(v)"
   ]
  },
  {
   "cell_type": "code",
   "execution_count": null,
   "metadata": {
    "collapsed": true
   },
   "outputs": [],
   "source": [
    "@time promedio(v)"
   ]
  },
  {
   "cell_type": "code",
   "execution_count": null,
   "metadata": {
    "collapsed": true
   },
   "outputs": [],
   "source": [
    "@time mean(v)"
   ]
  },
  {
   "cell_type": "code",
   "execution_count": null,
   "metadata": {
    "collapsed": true
   },
   "outputs": [],
   "source": [
    "@time varianza_rec(v)"
   ]
  },
  {
   "cell_type": "code",
   "execution_count": null,
   "metadata": {
    "collapsed": true
   },
   "outputs": [],
   "source": [
    "@time varianza(v)"
   ]
  },
  {
   "cell_type": "code",
   "execution_count": null,
   "metadata": {
    "collapsed": true
   },
   "outputs": [],
   "source": [
    "@time var(v)"
   ]
  },
  {
   "cell_type": "markdown",
   "metadata": {},
   "source": [
    "## 3. Método de Simpson para integrar $f(x)$ en un intervalo dado\n",
    "\n",
    "Implementen el método de Simpson para integrar una función arbitraria $f(x)$.\n",
    "\n",
    "Aplicando la [Regla de Simpson](https://en.wikipedia.org/wiki/Simpson%27s_rule) a cada subintervalo $[x_{i-1},x_{i+1}]$ con $i=1,2,..,n-1$. Tengo\n",
    "\n",
    "$$\\int_{x_{i-1}}^{x_{i+1}}f(x)dx=\\frac{x_{i+1}-x_{i-1}}{3}\\left[f(x_{i-1})+4f(x_i)+f(x_{i+1})\\right]$$\n",
    "$$\\int_{a}^{b}f(x)dx=\\sum_{i=1}^{n-1}\\int_{x_{i-1}}^{x_{i+1}}f(x)dx=\\int_{x_{0}=a}^{x_{1}}f(x)dx+\\int_{x_{1}}^{x_{2}}f(x)dx+...+\\int_{x_{n-2}}^{x_{n-1}}f(x)dx+\\int_{x_{n-1}}^{x_{n}=b}f(x)dx$$\n",
    "Sumando todas las integrales de todos los intervalos\n",
    "$$\\int_{a}^{b}f(x)dx\\approx\\frac{h}{3}\\left\\{f(x_0)+2\\sum_{i=1}^{n/2-1}f(x_{2i})+4\\sum_{i=1}^{n/2}f(x_{2i-1})+f(x_n)\\right\\}$$"
   ]
  },
  {
   "cell_type": "code",
   "execution_count": 7,
   "metadata": {
    "collapsed": false
   },
   "outputs": [
    {
     "name": "stderr",
     "output_type": "stream",
     "text": [
      "WARNING: Method definition simpson(Any, Any, Any, Any) in module Main at In[5]:6 overwritten at In[7]:6.\n",
      "\u001b[1m\u001b[31mWARNING: replacing docs for 'simpson :: Tuple{Any,Any,Any,Any}' in module 'Main'.\u001b[0m\n"
     ]
    },
    {
     "data": {
      "text/plain": [
       "simpson"
      ]
     },
     "execution_count": 7,
     "metadata": {},
     "output_type": "execute_result"
    }
   ],
   "source": [
    "\"\"\"\n",
    "simpson(v)\n",
    "Esta función calcula la varianza de las entradas de un vector.\n",
    "\"\"\"\n",
    "function simpson(f,a,b,h)\n",
    "    xmasi=a+h\n",
    "    xmenosi=a\n",
    "    x_0=a+h/2\n",
    "    while xmasi<=b\n",
    "        I=h/3(f(xmenosi)+4f(x_0)+f(xmasi))\n",
    "        xmenosi+=h\n",
    "        xmasi+=h# asignación con incremento\n",
    "        x_0+=h\n",
    "    end\n",
    "    println(I)#return I\n",
    "end"
   ]
  },
  {
   "cell_type": "code",
   "execution_count": 8,
   "metadata": {
    "collapsed": false
   },
   "outputs": [
    {
     "name": "stdout",
     "output_type": "stream",
     "text": [
      "UniformScaling{Int64}\n",
      "1*I\n"
     ]
    }
   ],
   "source": [
    "simpson(x->3x^2,0.0,1.0,0.125/8)"
   ]
  },
  {
   "cell_type": "code",
   "execution_count": 3,
   "metadata": {
    "collapsed": false
   },
   "outputs": [
    {
     "data": {
      "text/plain": [
       "simpson2"
      ]
     },
     "execution_count": 3,
     "metadata": {},
     "output_type": "execute_result"
    }
   ],
   "source": [
    "\"\"\"\n",
    "simpson(v)\n",
    "Esta función calcula la varianza de las entradas de un vector.\n",
    "\"\"\"\n",
    "function simpson2(f,a,b,n)\n",
    "    h=(b-a)/n\n",
    "    y=a\n",
    "    for i in 1:n \n",
    "        I=h/3*(f(y+h)+4*f(y+h/2)+f(y))#I=h/3(f(x+h)+4f(x)+f(x-h))\n",
    "        y+=h\n",
    "    end\n",
    "    return I\n",
    "end"
   ]
  },
  {
   "cell_type": "code",
   "execution_count": 4,
   "metadata": {
    "collapsed": false
   },
   "outputs": [
    {
     "data": {
      "text/plain": [
       "UniformScaling{Int64}\n",
       "1*I"
      ]
     },
     "execution_count": 4,
     "metadata": {},
     "output_type": "execute_result"
    }
   ],
   "source": [
    "simpson2(x->x,0.0,1.0,1000)"
   ]
  },
  {
   "cell_type": "code",
   "execution_count": null,
   "metadata": {
    "collapsed": true
   },
   "outputs": [],
   "source": []
  }
 ],
 "metadata": {
  "kernelspec": {
   "display_name": "Julia 0.5.0",
   "language": "julia",
   "name": "julia-0.5"
  },
  "language_info": {
   "file_extension": ".jl",
   "mimetype": "application/julia",
   "name": "julia",
   "version": "0.5.0"
  }
 },
 "nbformat": 4,
 "nbformat_minor": 2
}
