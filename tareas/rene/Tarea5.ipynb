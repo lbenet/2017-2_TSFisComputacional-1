{
 "cells": [
  {
   "cell_type": "markdown",
   "metadata": {},
   "source": [
    "# Tarea5: Series de Taylor"
   ]
  },
  {
   "cell_type": "markdown",
   "metadata": {},
   "source": [
    "Fecha de envío del PR inicial: **viernes 21 de abril**\n",
    "\n",
    "Fecha de aceptación del PR: **martes 25 de abril, antes de la clase**"
   ]
  },
  {
   "cell_type": "markdown",
   "metadata": {},
   "source": [
    "---"
   ]
  },
  {
   "cell_type": "markdown",
   "metadata": {},
   "source": [
    "## Ejercicio 1\n",
    "\n",
    "Implementen una nueva estructura paramétrica (`type`) que defina el tipo `Taylor`, donde el parámetro debe ser un subtipo de `Number`. Definan métodos que implementen las operaciones aritméticas básicas (`+`, `-`, `*`, `/`) y la igualdad (`==`). Esto deberá ser incluido en un módulo.\n",
    "\n",
    "Incluyan pruebas (en el archivo \"runtests_taylor.jl\") para cada uno de los métodos que implementen.\n"
   ]
  },
  {
   "cell_type": "code",
   "execution_count": 1,
   "metadata": {
    "collapsed": false
   },
   "outputs": [
    {
     "data": {
      "text/plain": [
       "taylor"
      ]
     },
     "execution_count": 1,
     "metadata": {},
     "output_type": "execute_result"
    }
   ],
   "source": [
    "\"\"\"\n",
    "Taylor\n",
    "\n",
    "Definición de polinomios de Taylor, donde v representa los coeficientes \n",
    "\\$f_{[k]} = \\\\frac{f^{(k)}(x_0)}{k!} = \\\\frac{1}{k!}\\\\frac{d^k f}{dx^k}(x_0)\\$ evaluados en \\$x_0\\$ y n es \n",
    "el grado del polinomio.\n",
    "\"\"\"\n",
    "type Taylor{T<:Number}\n",
    "    v::Array{T,1}\n",
    "    n::Int\n",
    "end\n",
    "function Taylor{T<:Number}(v::T)#función Taylor aplicada sobre un número\n",
    "    x=[zero(eltype(v))]\n",
    "    x[1]=v\n",
    "    return Taylor(x,0)#devuelve una estructura Taylor de orden 0\n",
    "end\n",
    "function Taylor{T<:Number}(v::Array{T,1})#función Taylor aplicada sobre un vector\n",
    "    i=length(v)#número de elementos del vector v\n",
    "    while(v[i]==0&& i>1)\n",
    "        i=i-1\n",
    "    end\n",
    "    x=zeros(eltype(v), i)#vector con i elementos\n",
    "    for j in 1:i\n",
    "        x[j]=v[j]\n",
    "    end\n",
    "    return Taylor(x,i-1)#regresa un Taylor con el orden mayor del vector v\n",
    "end\n",
    "\"\"\"\n",
    "taylor(v,n)\n",
    "Función que representa una estructura Taylor con n+1 elementos de v. Si los elementos de v son menores \n",
    "a n llena los elementos faltantes con ceros. Siempre regresa el orden del vector v.\n",
    "\"\"\"\n",
    "function taylor(v,n)#función Taylor aplicada sobre un vector\n",
    "    x=Taylor(v)\n",
    "    a=zeros(eltype(v), n+1)\n",
    "    if x.n==n\n",
    "        return x\n",
    "    elseif x.n<n\n",
    "        for i in 1:x.n+1\n",
    "            a[i]=x.v[i]\n",
    "        end\n",
    "        return Taylor(a,x.n)\n",
    "    else\n",
    "        for i in 1:n+1\n",
    "            a[i]=x.v[i]\n",
    "        end\n",
    "        return Taylor(a,x.n)\n",
    "    end\n",
    "end"
   ]
  },
  {
   "cell_type": "markdown",
   "metadata": {},
   "source": [
    "**Operaciones aritméticas para coeficientes de Taylor**\n",
    "\\begin{eqnarray}\n",
    "(f+g)_{[k]} & = & f_{[k]} + g_{[k]} ,\\\\\n",
    "(f-g)_{[k]} & = & f_{[k]} - g_{[k]} ,\\\\\n",
    "(f \\cdot g)_{[k]} & = & \\sum_{i=0}^k f_{[i]} \\,g_{[k-i]} \\, ,\\\\\n",
    "\\Big(\\frac{f}{g}\\Big)_{[k]} & = & \\frac{1}{g_{[0]}}\n",
    "\\Big( f_{[k]} - \\sum_{i=0}^{k-1} \\big(\\frac{f}{g}\\big)_{[i]} \\, g_{[k-i]} \\Big) . \\\\\n",
    "\\end{eqnarray}"
   ]
  },
  {
   "cell_type": "code",
   "execution_count": 2,
   "metadata": {
    "collapsed": false
   },
   "outputs": [
    {
     "data": {
      "text/plain": [
       "taylorigual"
      ]
     },
     "execution_count": 2,
     "metadata": {},
     "output_type": "execute_result"
    }
   ],
   "source": [
    "\"\"\"\n",
    "taylorsum(a,b)\n",
    "Función que suma dos estructuras Taylor a y b.\n",
    "\"\"\"\n",
    "function taylorsum(a,b)#función que suma los coeficientes tipo Taylor\n",
    "    (x,y)=(Taylor(a.v),Taylor(b.v))\n",
    "    if x.n==y.n#comparo los ordenes de la estructura Taylor de a y b\n",
    "        return Taylor(x.v+y.v)#suma los vectores y regresa un Taylor\n",
    "    elseif x.n<y.n\n",
    "        z=taylor(x.v,y.n)\n",
    "        return Taylor(z.v+y.v)\n",
    "    else \n",
    "        z=taylor(y.v,x.n)\n",
    "        return Taylor(x.v+z.v)\n",
    "    end\n",
    "end\n",
    "\"\"\"\n",
    "taylorres(a,b)\n",
    "Función que resta dos estructuras Taylor a y b.\n",
    "\"\"\"\n",
    "function taylorres(a,b)#función que suma los coeficientes tipo Taylor\n",
    "    (x,y)=(Taylor(a.v),Taylor(b.v))\n",
    "    if x.n==y.n#comparo los ordenes de la estructura Taylor de a y b\n",
    "        return Taylor(x.v-y.v)#resta los vectores y regresa un Taylor\n",
    "    elseif x.n<y.n\n",
    "        z=taylor(x.v,y.n)\n",
    "        return Taylor(z.v-y.v)\n",
    "    else \n",
    "        z=taylor(y.v,x.n)\n",
    "        return Taylor(x.v-z.v)\n",
    "    end\n",
    "end\n",
    "\"\"\"\n",
    "producto(a,b)\n",
    "Función que regresa el producto de dos vectores a,b de igual magnitud. Implementa las operaciones aritméticas de \n",
    "Taylor.\n",
    "\"\"\"\n",
    "function producto(a,b)#producto de los coeficientes tipo Taylor para dos vectores de igual número de elementos\n",
    "    ab=zeros(eltype(a), length(a))#vector con los mismos elementos de a\n",
    "    for k in 1:length(a)\n",
    "        for i in 1:k\n",
    "            ab[k]+=a[i]*b[k+1-i]\n",
    "        end\n",
    "    end\n",
    "    return ab\n",
    "end\n",
    "\"\"\"\n",
    "taylorprod(a,b)\n",
    "Función que regresa el producto de dos estructuras tipo Taylor. \n",
    "\"\"\"\n",
    "function taylorprod(a,b)#función que devuelve el producto de los coeficientes tipo Taylor\n",
    "    (x,y)=(Taylor(a.v),Taylor(b.v))\n",
    "    if x.n==y.n\n",
    "        o=taylor(x.v,length(x.v)+5)\n",
    "        f=taylor(y.v,length(x.v)+5)\n",
    "        return Taylor(producto(o.v,f.v))\n",
    "    elseif x.n<y.n\n",
    "        z=taylor(x.v,y.n)\n",
    "        return Taylor(producto(z.v,y.v))\n",
    "    else\n",
    "        z=taylor(y.v,x.n)\n",
    "        return Taylor(producto(z.v,x.v))\n",
    "    end\n",
    "end\n",
    "\"\"\"\n",
    "division(a,b)\n",
    "Función que regresa la división de dos vectores a,b de igual magnitud. Implementa las operaciones aritméticas de \n",
    "Taylor.\n",
    "\"\"\"\n",
    "function division(x,y)#división de los coeficientes tipo Taylor para dos vectores de igual número de elementos \n",
    "    h=1\n",
    "    for m in 1:length(x)\n",
    "        if(y[m]==0 && x[m]==0)\n",
    "            h=m+1\n",
    "        else\n",
    "            break\n",
    "        end\n",
    "    end\n",
    "    a=[x[i] for i=h:length(x)]\n",
    "    b=[y[i] for i=h:length(x)]\n",
    "    divab=[zero(eltype(x)) for i=h:length(x)]\n",
    "    if b[1]!=zero(eltype(y))\n",
    "        divab[1]=a[1]/b[1]\n",
    "        for k in 2:length(a)\n",
    "            l=zero(eltype(a))\n",
    "            for i in 1:k\n",
    "                l+=divab[i]*b[k-i+1]\n",
    "            end\n",
    "            divab[k]=(1/b[1])*(a[k]-l)\n",
    "        end\n",
    "        return divab\n",
    "    else\n",
    "        return error(\"b[h] debe ser distinto de cero\")\n",
    "    end\n",
    "end\n",
    "\"\"\"\n",
    "taylordiv(a,b)\n",
    "Función que regresa el división de dos estructuras tipo Taylor. \n",
    "\"\"\"\n",
    "function taylordiv(a,b)#función que devuelve la división de los coeficientes tipo Taylor\n",
    "    (x,y)=(Taylor(a.v),Taylor(b.v))\n",
    "    if x.n==y.n\n",
    "        return Taylor(division(x.v,y.v))\n",
    "    elseif x.n<y.n\n",
    "        z=taylor(x.v,y.n)\n",
    "        return Taylor(division(z.v,y.v))\n",
    "    else\n",
    "        z=taylor(y.v,x.n)\n",
    "        return Taylor(division(x.v,z.v))\n",
    "    end\n",
    "end\n",
    "\"\"\"\n",
    "taylorigual(a,b)\n",
    "Función que compara dos estructuras tipo Taylor. \n",
    "\"\"\"\n",
    "function taylorigual(a,b)\n",
    "    (x,y)=(Taylor(a.v),Taylor(b.v))\n",
    "    if x.v==y.v\n",
    "        return true\n",
    "    else\n",
    "        return false\n",
    "    end\n",
    "end"
   ]
  },
  {
   "cell_type": "code",
   "execution_count": 3,
   "metadata": {
    "collapsed": false
   },
   "outputs": [
    {
     "data": {
      "text/plain": [
       "- (generic function with 194 methods)"
      ]
     },
     "execution_count": 3,
     "metadata": {},
     "output_type": "execute_result"
    }
   ],
   "source": [
    "import Base:+,-,*,/,==#falta -polinomio\n",
    "for (f,f1,f2,f3) = ((:+,Taylor,Taylor,(:(taylorsum(a,b)))),\n",
    "                    (:+,Taylor,Number,(:(Taylor(a)+Taylor(b)))),\n",
    "                    (:+,Number,Taylor,(:(Taylor(a)+Taylor(b)))),\n",
    "                    (:-,Taylor,Taylor,(:(taylorres(a,b)))),\n",
    "                    (:-,Taylor,Number,(:(Taylor(a)-Taylor(b)))),\n",
    "                    (:-,Number,Taylor,(:(Taylor(a)-Taylor(b)))),\n",
    "                    (:*,Taylor,Taylor,(:(taylorprod(a,b)))),\n",
    "                    (:*,Taylor,Number,(:(Taylor(a)*Taylor(b)))),\n",
    "                    (:*,Number,Taylor,(:(Taylor(a)*Taylor(b)))),\n",
    "                    (:/,Taylor,Taylor,(:(taylordiv(a,b)))),\n",
    "                    (:/,Taylor,Number,(:(Taylor(a)/Taylor(b)))),\n",
    "                    (:/,Number,Taylor,(:(Taylor(a)/Taylor(b)))),\n",
    "                    (:(==),Taylor,Taylor,(:(taylorigual(a,b)))),\n",
    "                    (:(==),Taylor,Number,(:(a==Taylor(b)))),\n",
    "                    (:(==),Number,Taylor,(:(Taylor(a)==b))) )\n",
    "              \n",
    "    ex = quote\n",
    "        $f(a::$f1,b::$f2)=$f3\n",
    "    end\n",
    "    @eval $ex\n",
    "end\n",
    "-(a::Taylor)=-1*a"
   ]
  },
  {
   "cell_type": "code",
   "execution_count": 6,
   "metadata": {
    "collapsed": false
   },
   "outputs": [
    {
     "name": "stdout",
     "output_type": "stream",
     "text": [
      "\u001b[1m\u001b[37mTest Summary:                              | \u001b[0m\u001b[1m\u001b[32mPass  \u001b[0m\u001b[1m\u001b[34mTotal\u001b[0m\n",
      "  pruebas con operaciones entre tipos Taylor | \u001b[1m\u001b[32m  22  \u001b[0m\u001b[1m\u001b[34m   22\u001b[0m\n"
     ]
    },
    {
     "data": {
      "text/plain": [
       "Base.Test.DefaultTestSet(\"pruebas con operaciones entre tipos Taylor\",Any[],22,false)"
      ]
     },
     "execution_count": 6,
     "metadata": {},
     "output_type": "execute_result"
    }
   ],
   "source": [
    "x=Taylor([1.0,1,1,1],7)\n",
    "y=Taylor([1,1.0,1,1,0,0,0],7)\n",
    "z=Taylor(7.0)\n",
    "a=Taylor([1,1.,1,1,0,0,1],9)\n",
    "b=Taylor([1,1.,0,0,0,0,1],2)\n",
    "α=Taylor([0,0,1])\n",
    "β=Taylor([0,1])\n",
    "using Base.Test\n",
    "@testset \"pruebas con operaciones entre tipos Taylor\"begin\n",
    "    @test z==Taylor([7],0)\n",
    "    @test x==Taylor([1,1,1,1],3)\n",
    "    @test y==Taylor([1,1,1,1],3)\n",
    "    @test z==7\n",
    "    @test x+y==Taylor([2,2,2,2],3)\n",
    "    @test 1+y==Taylor([2,1,1,1],3)\n",
    "    @test y+1==Taylor([2,1,1,1],3)\n",
    "    @test x-y==Taylor([0],0)\n",
    "    @test -y==Taylor([-1,-1,-1,-1],3)\n",
    "    @test -x==Taylor([-1,-1,-1,-1],3)\n",
    "    @test y-x==Taylor([0],0)\n",
    "    @test 1-y==Taylor([0,-1,-1,-1],3)\n",
    "    @test y-1==Taylor([0,1,1,1],3)\n",
    "    @test y*x==Taylor(producto([1.0,1,1,1,0,0,0],[1.0,1,1,1,0,0,0]))\n",
    "    @test 2*y==Taylor([2,2,2,2],3)\n",
    "    @test y*3==Taylor([3,3,3,3],3)\n",
    "    @test 2/y==Taylor(division([2.0,0,0,0],[1.0,1,1,1]))\n",
    "    @test y*(1/3)==Taylor([1/3,1/3,1/3,1/3],3)\n",
    "    @test y/3==Taylor([1/3,1/3,1/3,1/3],3)\n",
    "    @test α/β==Taylor([0,1])\n",
    "    @test z/z==Taylor([1])\n",
    "    @test x/x==Taylor([1])\n",
    "end"
   ]
  },
  {
   "cell_type": "code",
   "execution_count": 7,
   "metadata": {
    "collapsed": false
   },
   "outputs": [
    {
     "data": {
      "text/plain": [
       "ATaylor"
      ]
     },
     "execution_count": 7,
     "metadata": {},
     "output_type": "execute_result"
    }
   ],
   "source": [
    "workspace()\n",
    "__precompile__(true)\n",
    "\n",
    "module ATaylor\n",
    "    import Base: +, -, *, /, ==\n",
    "    export Taylor,taylor,producto,division,taylorsum,taylorres,taylorprod,taylordiv,taylorigual\n",
    "\"\"\"\n",
    "Taylor\n",
    "\n",
    "Definición de polinomios de Taylor, donde v representa los coeficientes \n",
    "\\$f_{[k]} = \\\\frac{f^{(k)}(x_0)}{k!} = \\\\frac{1}{k!}\\\\frac{d^k f}{dx^k}(x_0)\\$ evaluados en \\$x_0\\$ y n es \n",
    "el grado del polinomio.\n",
    "\"\"\"\n",
    "type Taylor{T<:Number}\n",
    "    v::Array{T,1}\n",
    "    n::Int\n",
    "end\n",
    "function Taylor{T<:Number}(v::T)#función Taylor aplicada sobre un número\n",
    "    x=[zero(eltype(v))]\n",
    "    x[1]=v\n",
    "    return Taylor(x,0)#devuelve una estructura Taylor de orden 0\n",
    "end\n",
    "function Taylor{T<:Number}(v::Array{T,1})#función Taylor aplicada sobre un vector\n",
    "    i=length(v)#número de elementos del vector v\n",
    "    while(v[i]==0&& i>1)\n",
    "        i=i-1\n",
    "    end\n",
    "    x=zeros(eltype(v), i)#vector con i elementos\n",
    "    for j in 1:i\n",
    "        x[j]=v[j]\n",
    "    end\n",
    "    return Taylor(x,i-1)#regresa un Taylor con el orden mayor del vector v\n",
    "end\n",
    "\"\"\"\n",
    "taylor(v,n)\n",
    "Función que representa una estructura Taylor con n+1 elementos de v. Si los elementos de v son menores \n",
    "a n llena los elementos faltantes con ceros. Siempre regresa el orden del vector v.\n",
    "\"\"\"\n",
    "function taylor(v,n)#función Taylor aplicada sobre un vector\n",
    "    x=Taylor(v)\n",
    "    a=zeros(eltype(v), n+1)\n",
    "    if x.n==n\n",
    "        return x\n",
    "    elseif x.n<n\n",
    "        for i in 1:x.n+1\n",
    "            a[i]=x.v[i]\n",
    "        end\n",
    "        return Taylor(a,x.n)\n",
    "    else\n",
    "        for i in 1:n+1\n",
    "            a[i]=x.v[i]\n",
    "        end\n",
    "        return Taylor(a,x.n)\n",
    "    end\n",
    "end\n",
    "\"\"\"\n",
    "taylorsum(a,b)\n",
    "Función que suma dos estructuras Taylor a y b.\n",
    "\"\"\"\n",
    "function taylorsum(a,b)#función que suma los coeficientes tipo Taylor\n",
    "    (x,y)=(Taylor(a.v),Taylor(b.v))\n",
    "    if x.n==y.n#comparo los ordenes de la estructura Taylor de a y b\n",
    "        return Taylor(x.v+y.v)#suma los vectores y regresa un Taylor\n",
    "    elseif x.n<y.n\n",
    "        z=taylor(x.v,y.n)\n",
    "        return Taylor(z.v+y.v)\n",
    "    else \n",
    "        z=taylor(y.v,x.n)\n",
    "        return Taylor(x.v+z.v)\n",
    "    end\n",
    "end\n",
    "\"\"\"\n",
    "taylorres(a,b)\n",
    "Función que resta dos estructuras Taylor a y b.\n",
    "\"\"\"\n",
    "function taylorres(a,b)#función que suma los coeficientes tipo Taylor\n",
    "    (x,y)=(Taylor(a.v),Taylor(b.v))\n",
    "    if x.n==y.n#comparo los ordenes de la estructura Taylor de a y b\n",
    "        return Taylor(x.v-y.v)#resta los vectores y regresa un Taylor\n",
    "    elseif x.n<y.n\n",
    "        z=taylor(x.v,y.n)\n",
    "        return Taylor(z.v-y.v)\n",
    "    else \n",
    "        z=taylor(y.v,x.n)\n",
    "        return Taylor(x.v-z.v)\n",
    "    end\n",
    "end\n",
    "\"\"\"\n",
    "producto(a,b)\n",
    "Función que regresa el producto de dos vectores a,b de igual magnitud. Implementa las operaciones aritméticas de \n",
    "Taylor.\n",
    "\"\"\"\n",
    "function producto(a,b)#producto de los coeficientes tipo Taylor para dos vectores de igual número de elementos\n",
    "    ab=zeros(eltype(a), length(a))#vector con los mismos elementos de a\n",
    "    for k in 1:length(a)\n",
    "        for i in 1:k\n",
    "            ab[k]+=a[i]*b[k+1-i]\n",
    "        end\n",
    "    end\n",
    "    return ab\n",
    "end\n",
    "\"\"\"\n",
    "taylorprod(a,b)\n",
    "Función que regresa el producto de dos estructuras tipo Taylor. \n",
    "\"\"\"\n",
    "function taylorprod(a,b)#función que devuelve el producto de los coeficientes tipo Taylor\n",
    "    (x,y)=(Taylor(a.v),Taylor(b.v))\n",
    "    if x.n==y.n\n",
    "        o=taylor(x.v,length(x.v)+5)\n",
    "        f=taylor(y.v,length(x.v)+5)\n",
    "        return Taylor(producto(o.v,f.v))\n",
    "    elseif x.n<y.n\n",
    "        z=taylor(x.v,y.n)\n",
    "        return Taylor(producto(z.v,y.v))\n",
    "    else\n",
    "        z=taylor(y.v,x.n)\n",
    "        return Taylor(producto(z.v,x.v))\n",
    "    end\n",
    "end\n",
    "\"\"\"\n",
    "division(a,b)\n",
    "Función que regresa la división de dos vectores a,b de igual magnitud. Implementa las operaciones aritméticas de \n",
    "Taylor.\n",
    "\"\"\"\n",
    "function division(x,y)#división de los coeficientes tipo Taylor para dos vectores de igual número de elementos \n",
    "    h=1\n",
    "    for m in 1:length(x)\n",
    "        if(y[m]==0 && x[m]==0)\n",
    "            h=m+1\n",
    "        else\n",
    "            break\n",
    "        end\n",
    "    end\n",
    "    a=[x[i] for i=h:length(x)]\n",
    "    b=[y[i] for i=h:length(x)]\n",
    "    divab=[zero(eltype(x)) for i=h:length(x)]\n",
    "    if b[1]!=zero(eltype(y))\n",
    "        divab[1]=a[1]/b[1]\n",
    "        for k in 2:length(a)\n",
    "            l=zero(eltype(a))\n",
    "            for i in 1:k\n",
    "                l+=divab[i]*b[k-i+1]\n",
    "            end\n",
    "            divab[k]=(1/b[1])*(a[k]-l)\n",
    "        end\n",
    "        return divab\n",
    "    else\n",
    "        return error(\"b[h] debe ser distinto de cero\")\n",
    "    end\n",
    "end\n",
    "\"\"\"\n",
    "taylordiv(a,b)\n",
    "Función que regresa el división de dos estructuras tipo Taylor. \n",
    "\"\"\"\n",
    "function taylordiv(a,b)#función que devuelve la división de los coeficientes tipo Taylor\n",
    "    (x,y)=(Taylor(a.v),Taylor(b.v))\n",
    "    if x.n==y.n\n",
    "        return Taylor(division(x.v,y.v))\n",
    "    elseif x.n<y.n\n",
    "        z=taylor(x.v,y.n)\n",
    "        return Taylor(division(z.v,y.v))\n",
    "    else\n",
    "        z=taylor(y.v,x.n)\n",
    "        return Taylor(division(x.v,z.v))\n",
    "    end\n",
    "end\n",
    "\"\"\"\n",
    "taylorigual(a,b)\n",
    "Función que compara dos estructuras tipo Taylor. \n",
    "\"\"\"\n",
    "function taylorigual(a,b)\n",
    "    (x,y)=(Taylor(a.v),Taylor(b.v))\n",
    "    if x.v==y.v\n",
    "        return true\n",
    "    else\n",
    "        return false\n",
    "    end\n",
    "end\n",
    "for (f,f1,f2,f3) = ((:+,Taylor,Taylor,(:(taylorsum(a,b)))),\n",
    "                    (:+,Taylor,Number,(:(Taylor(a)+Taylor(b)))),\n",
    "                    (:+,Number,Taylor,(:(Taylor(a)+Taylor(b)))),\n",
    "                    (:-,Taylor,Taylor,(:(taylorres(a,b)))),\n",
    "                    (:-,Taylor,Number,(:(Taylor(a)-Taylor(b)))),\n",
    "                    (:-,Number,Taylor,(:(Taylor(a)-Taylor(b)))),\n",
    "                    (:*,Taylor,Taylor,(:(taylorprod(a,b)))),\n",
    "                    (:*,Taylor,Number,(:(Taylor(a)*Taylor(b)))),\n",
    "                    (:*,Number,Taylor,(:(Taylor(a)*Taylor(b)))),\n",
    "                    (:/,Taylor,Taylor,(:(taylordiv(a,b)))),\n",
    "                    (:/,Taylor,Number,(:(Taylor(a)/Taylor(b)))),\n",
    "                    (:/,Number,Taylor,(:(Taylor(a)/Taylor(b)))),\n",
    "                    (:(==),Taylor,Taylor,(:(taylorigual(a,b)))),\n",
    "                    (:(==),Taylor,Number,(:(a==Taylor(b)))),\n",
    "                    (:(==),Number,Taylor,(:(Taylor(a)==b))) )\n",
    "              \n",
    "    ex = quote\n",
    "        $f(a::$f1,b::$f2)=$f3\n",
    "    end\n",
    "    @eval $ex\n",
    "end\n",
    "-(a::Taylor)=-1*a\n",
    "\n",
    "end"
   ]
  },
  {
   "cell_type": "code",
   "execution_count": 8,
   "metadata": {
    "collapsed": false
   },
   "outputs": [],
   "source": [
    "using Base.Test\n",
    "using ATaylor"
   ]
  },
  {
   "cell_type": "code",
   "execution_count": 9,
   "metadata": {
    "collapsed": false
   },
   "outputs": [
    {
     "name": "stdout",
     "output_type": "stream",
     "text": [
      "\u001b[1m\u001b[37mTest Summary:                              | \u001b[0m\u001b[1m\u001b[32mPass  \u001b[0m\u001b[1m\u001b[34mTotal\u001b[0m\n",
      "  pruebas con operaciones entre tipos Taylor | \u001b[1m\u001b[32m  22  \u001b[0m\u001b[1m\u001b[34m   22\u001b[0m\n"
     ]
    },
    {
     "data": {
      "text/plain": [
       "Base.Test.DefaultTestSet(\"pruebas con operaciones entre tipos Taylor\",Any[],22,false)"
      ]
     },
     "execution_count": 9,
     "metadata": {},
     "output_type": "execute_result"
    }
   ],
   "source": [
    "x=Taylor([1.0,1,1,1],7)\n",
    "y=Taylor([1,1.0,1,1,0,0,0],7)\n",
    "z=Taylor(7.0)\n",
    "a=Taylor([1,1.,1,1,0,0,1],9)\n",
    "b=Taylor([1,1.,0,0,0,0,1],2)\n",
    "α=Taylor([0,0,1])\n",
    "β=Taylor([0,1])\n",
    "@testset \"pruebas con operaciones entre tipos Taylor\"begin\n",
    "    @test z==Taylor([7],0)\n",
    "    @test x==Taylor([1,1,1,1],3)\n",
    "    @test y==Taylor([1,1,1,1],3)\n",
    "    @test z==7\n",
    "    @test x+y==Taylor([2,2,2,2],3)\n",
    "    @test 1+y==Taylor([2,1,1,1],3)\n",
    "    @test y+1==Taylor([2,1,1,1],3)\n",
    "    @test x-y==Taylor([0],0)\n",
    "    @test -y==Taylor([-1,-1,-1,-1],3)\n",
    "    @test -x==Taylor([-1,-1,-1,-1],3)\n",
    "    @test y-x==Taylor([0],0)\n",
    "    @test 1-y==Taylor([0,-1,-1,-1],3)\n",
    "    @test y-1==Taylor([0,1,1,1],3)\n",
    "    @test y*x==Taylor(producto([1.0,1,1,1,0,0,0],[1.0,1,1,1,0,0,0]))\n",
    "    @test 2*y==Taylor([2,2,2,2],3)\n",
    "    @test y*3==Taylor([3,3,3,3],3)\n",
    "    @test 2/y==Taylor(division([2.0,0,0,0],[1.0,1,1,1]))\n",
    "    @test y*(1/3)==Taylor([1/3,1/3,1/3,1/3],3)\n",
    "    @test y/3==Taylor([1/3,1/3,1/3,1/3],3)\n",
    "    @test α/β==Taylor([0,1])\n",
    "    @test z/z==Taylor([1])\n",
    "    @test x/x==Taylor([1])\n",
    "end"
   ]
  },
  {
   "cell_type": "code",
   "execution_count": 10,
   "metadata": {
    "collapsed": false
   },
   "outputs": [
    {
     "name": "stdout",
     "output_type": "stream",
     "text": [
      "\u001b[1m\u001b[37mTest Summary:                              | \u001b[0m\u001b[1m\u001b[32mPass  \u001b[0m\u001b[1m\u001b[34mTotal\u001b[0m\n",
      "  pruebas con operaciones entre tipos Taylor | \u001b[1m\u001b[32m  22  \u001b[0m\u001b[1m\u001b[34m   22\u001b[0m\n",
      "\u001b[1m\u001b[37mTest Summary:                                           | \u001b[0m\u001b[1m\u001b[32mPass  \u001b[0m\u001b[1m\u001b[34mTotal\u001b[0m\n",
      "  pruebas con operaciones entre funciones de tipos Taylor | \u001b[1m\u001b[32m  13  \u001b[0m\u001b[1m\u001b[34m   13\u001b[0m\n"
     ]
    },
    {
     "data": {
      "text/plain": [
       "Base.Test.DefaultTestSet(\"pruebas con operaciones entre funciones de tipos Taylor\",Any[],13,false)"
      ]
     },
     "execution_count": 10,
     "metadata": {},
     "output_type": "execute_result"
    }
   ],
   "source": [
    "# Muestren que su código funciona con tests adecuados\n",
    "workspace()\n",
    "include(\"runtest_taylor.jl\")"
   ]
  },
  {
   "cell_type": "markdown",
   "metadata": {},
   "source": [
    "---"
   ]
  },
  {
   "cell_type": "markdown",
   "metadata": {},
   "source": [
    "## Ejercicio 2\n",
    "\n",
    "Obtengan las relaciones de recurrencia para las funciones $L(x) = \\log\\big(g(x)\\big)$, $P_\\alpha(x) = \\big(g(x)\\big)^\\alpha$, $S(x) = \\sin\\big(g(x)\\big)$, $C(x) = \\cos\\big(g(x)\\big)$ usando el mismo procedimiento que arriba. Implementen métodos adecuados para estas funciones en el módulo, actuando sobre estructuras `Taylor` e incluyan pruebas necesarias en `runtest_taylor.jl`."
   ]
  },
  {
   "cell_type": "markdown",
   "metadata": {
    "collapsed": true
   },
   "source": [
    "**Para la función exponencial**\n",
    "\n",
    "$$\\displaystyle{E(x)=\\exp(g(x))= \\sum_{k=0}^\\infty E_{[k]} (x-x_0)^k}\\hspace{2cm}g(x)=\\sum_{k=0}^\\infty g_{[k]} (x-x_0)^k$$\n",
    "\n",
    "$$\\frac{dE(x)}{dx}=\\sum_{k=0}^\\infty kE_{[k]} (x-x_0)^{k-1}\\hspace{2cm}\n",
    "\\frac{dg(x)}{dx}=\\sum_{k=0}^\\infty kg_{[k]} (x-x_0)^{k-1}$$\n",
    "$$\\frac{dE(x)}{dx}=\\exp(g(x))\\frac{dg(x)}{dx}$$\n",
    "\n",
    "La relación de recurrencia es\n",
    "\n",
    "\\begin{equation}\n",
    "E_{[k]} = \\frac{1}{k} \\sum_{j=0}^k j g_{[j]} \\, E_{[k-j]} = \n",
    "\\frac{1}{k} \\sum_{j=0}^{k} (k-j) g_{[k-j]} \\, E_{[j]}, \\qquad k=1,2,\\dots,\n",
    "\\end{equation}"
   ]
  },
  {
   "cell_type": "code",
   "execution_count": 11,
   "metadata": {
    "collapsed": false
   },
   "outputs": [
    {
     "data": {
      "text/plain": [
       "ATaylor.Taylor{Float64}([1.0,1.0,0.5,0.166667,0.0416667,0.00833333,0.00138889,0.000198413],7)"
      ]
     },
     "execution_count": 11,
     "metadata": {},
     "output_type": "execute_result"
    }
   ],
   "source": [
    "workspace()\n",
    "include(\"TaylorDiff.jl\")\n",
    "using ATaylor\n",
    "\"\"\"\n",
    "Cexp(g)\n",
    "Función que regresa los coeficientes Taylor para la exp(g), donde g es un polinomio. \n",
    "\"\"\"\n",
    "function Cexp(g)#algoritmo que cálcula los coeficientes de Taylor para la función exp(g(x))\n",
    "    E=zeros(eltype(g.v), length(g.v))\n",
    "    E[1]=exp(g.v[1])\n",
    "    E[2]=g.v[2]*E[1]\n",
    "    for k in 2:length(g.v)-1\n",
    "        p=zero(eltype(g.v))\n",
    "        for j in 0:k-1\n",
    "            p+=(k-j)*g.v[k+1-j]*E[j+1]\n",
    "        end\n",
    "    E[k+1]=p/k\n",
    "    end\n",
    "    return Taylor(E)\n",
    "end\n",
    "g=taylor([0,1.],7)#Taylor que representa la función g(x)=x con un vector de 8 elementos\n",
    "Cexp(g)"
   ]
  },
  {
   "cell_type": "code",
   "execution_count": 12,
   "metadata": {
    "collapsed": false
   },
   "outputs": [
    {
     "name": "stderr",
     "output_type": "stream",
     "text": [
      "WARNING: Method definition exp(ATaylor.Taylor) in module ATaylor at /home/madara/Semestreactual/Temas Selectos de Fisica Computacional I/tareas/TaylorDiff.jl:300 overwritten in module Main at In[12]:2.\n"
     ]
    },
    {
     "data": {
      "text/plain": [
       "exp (generic function with 13 methods)"
      ]
     },
     "execution_count": 12,
     "metadata": {},
     "output_type": "execute_result"
    }
   ],
   "source": [
    "import Base:exp\n",
    "exp(a::Taylor)=Cexp(a)"
   ]
  },
  {
   "cell_type": "code",
   "execution_count": 13,
   "metadata": {
    "collapsed": false
   },
   "outputs": [
    {
     "data": {
      "text/plain": [
       "ATaylor.Taylor{Float64}([1.0,1.0,0.5,0.166667,0.0416667,0.00833333,0.00138889,0.000198413],7)"
      ]
     },
     "execution_count": 13,
     "metadata": {},
     "output_type": "execute_result"
    }
   ],
   "source": [
    "g=taylor([0,1.],7)\n",
    "exp(g)"
   ]
  },
  {
   "cell_type": "markdown",
   "metadata": {},
   "source": [
    "**Para el logaritmo** \n",
    "\n",
    "$$\\displaystyle{L(x)=\\log(g(x))= \\sum_{k=0}^\\infty L_{[k]} (x-x_0)^k}\\hspace{2cm}g(x)=\\sum_{k=0}^\\infty g_{[k]} (x-x_0)^k$$\n",
    "\n",
    "$$\\frac{dL(x)}{dx}=\\sum_{k=0}^\\infty kL_{[k]} (x-x_0)^{k-1}\\hspace{2cm}\n",
    "\\frac{dg(x)}{dx}=\\sum_{k=0}^\\infty kg_{[k]} (x-x_0)^{k-1}$$\n",
    "$$\\frac{dL(x)}{dx}=\\frac{d\\log(g(x))}{dx}=\\frac{1}{g(x)}\\frac{dg(x)}{dx}$$\n",
    "\n",
    "$$g(x)\\frac{dL(x)}{dx}=\\frac{dg(x)}{dx}$$\n",
    "\n",
    "Entonces\n",
    "$$\\sum_{k=0}^\\infty g_{[k]} (x-x_0)^k\\sum_{j=0}^\\infty jL_{[j]} (x-x_0)^{j-1}=\\sum_{k=0}^\\infty kg_{[k]} (x-x_0)^{k-1}$$\n",
    "\n",
    "$$\\left[\\sum_{k=0}^\\infty kL_{[k]} (x-x_0)^{k-1}\\right]\\left[\\sum_{j=0}^\\infty g_{[j]} (x-x_0)^j\\right]=\\sum_{k=0}^\\infty kg_{[k]} (x-x_0)^{k-1}$$\n",
    "\n",
    "$$\\sum_{k=1}^\\infty\\left[\\sum_{j=0}^k(k-j)L_{[k-j]}g_{[j]} \\right] (x-x_0)^{k-1}=\\sum_{k=0}^\\infty kg_{[k]} (x-x_0)^{k-1}$$\n",
    "\n",
    "$$\\sum_{k=1}^\\infty\\left[\\sum_{j=0}^kjL_{[j]}g_{[k-j]} \\right] (x-x_0)^{k-1}=\\sum_{k=0}^\\infty kg_{[k]} (x-x_0)^{k-1}$$\n",
    "\n",
    "$$\\sum_{j=0}^kjL_{[j]}g_{[k-j]}=kg_{[k]}$$\n",
    "\n",
    "$$kL_{[k]}g_{[0]}+\\sum_{j=0}^{k-1}jL_{[j]}g_{[k-j]}=kg_{[k]}$$\n",
    "\n",
    "$$L_{[k]}=\\frac{1}{g_{[0]}}\\left[g_{[k]}-\\frac{1}{k}\\sum_{j=1}^{k-1}jL_{[j]}g_{[k-j]}\\right]$$"
   ]
  },
  {
   "cell_type": "code",
   "execution_count": 14,
   "metadata": {
    "collapsed": false
   },
   "outputs": [
    {
     "data": {
      "text/plain": [
       "ATaylor.Taylor{Rational{Int64}}(Rational{Int64}[0//1,1//1,-1//2,1//3,-1//4,1//5,-1//6,1//7],7)"
      ]
     },
     "execution_count": 14,
     "metadata": {},
     "output_type": "execute_result"
    }
   ],
   "source": [
    "\"\"\"\n",
    "coeflog(g)\n",
    "Función que regresa los coeficientes Taylor para el ln(g), donde g es un polinomio. \n",
    "\"\"\"\n",
    "function coeflog(g)#algoritmo que cálcula los coeficientes de Taylor para la función log(g(x))\n",
    "    L=zeros(eltype(g.v), length(g.v))\n",
    "    L[1]=log(g.v[1])\n",
    "    L[2]=g.v[2]/g.v[1]\n",
    "    for k in 2:length(g.v)-1\n",
    "    l=zero(eltype(g.v))\n",
    "        for j in 1:k-1\n",
    "            l+=j*L[j+1]*g.v[k+1-j]\n",
    "        end\n",
    "    L[k+1]=(1/g.v[1])*(g.v[k+1]-l/k)\n",
    "    end\n",
    "    return Taylor(L)\n",
    "end\n",
    "g=taylor([1,1//1],7)#Taylor que representa la función g(x)=1+x con un vector de 8 elementos \n",
    "coeflog(g)"
   ]
  },
  {
   "cell_type": "code",
   "execution_count": 15,
   "metadata": {
    "collapsed": false
   },
   "outputs": [
    {
     "name": "stderr",
     "output_type": "stream",
     "text": [
      "WARNING: Method definition log(ATaylor.Taylor) in module ATaylor at /home/madara/Semestreactual/Temas Selectos de Fisica Computacional I/tareas/TaylorDiff.jl:301 overwritten in module Main at In[15]:2.\n"
     ]
    },
    {
     "data": {
      "text/plain": [
       "log (generic function with 20 methods)"
      ]
     },
     "execution_count": 15,
     "metadata": {},
     "output_type": "execute_result"
    }
   ],
   "source": [
    "import Base:log\n",
    "log(a::Taylor)=coeflog(a)"
   ]
  },
  {
   "cell_type": "code",
   "execution_count": 16,
   "metadata": {
    "collapsed": false
   },
   "outputs": [
    {
     "data": {
      "text/plain": [
       "ATaylor.Taylor{Rational{Int64}}(Rational{Int64}[0//1,1//1,-1//2,1//3,-1//4,1//5,-1//6,1//7],7)"
      ]
     },
     "execution_count": 16,
     "metadata": {},
     "output_type": "execute_result"
    }
   ],
   "source": [
    "g=taylor([1,1//1],7)#Taylor que representa la función g(x)=1+x con un vector de 8 elementos \n",
    "log(g)"
   ]
  },
  {
   "cell_type": "markdown",
   "metadata": {},
   "source": [
    "**Para la función $P_\\alpha(x)=(g(x))^\\alpha$** \n",
    "\n",
    "$$\\displaystyle{P_\\alpha(x)=(g(x))^\\alpha= \\sum_{k=0}^\\infty {P_\\alpha}_{[k]} (x-x_0)^k}\\hspace{2cm}g(x)=\\sum_{k=0}^\\infty g_{[k]} (x-x_0)^k$$\n",
    "\n",
    "$$\\frac{dP_\\alpha(x)}{dx}=\\sum_{k=0}^\\infty k{P_\\alpha}_{[k]} (x-x_0)^{k-1}\\hspace{2cm}\n",
    "\\frac{dg(x)}{dx}=\\sum_{k=0}^\\infty kg_{[k]} (x-x_0)^{k-1}$$\n",
    "$$\\frac{d(g(x))^\\alpha}{dx}=\\alpha (g(x))^{\\alpha-1}\\frac{dg(x)}{dx}=\\alpha \\frac{(g(x))^{\\alpha}}{g(x)}\\frac{dg(x)}{dx}$$\n",
    "\n",
    "Por una parte\n",
    "$$g(x)\\frac{d(g(x))^\\alpha}{dx}=\\alpha(g(x))^{\\alpha}\\frac{dg(x)}{dx}$$\n",
    "\n",
    "$$\\sum_{k=0}^\\infty g_{[k]} (x-x_0)^k\\sum_{j=0}^\\infty j{P_\\alpha}_{[j]} (x-x_0)^{j-1}=\n",
    "\\alpha \\sum_{j=0}^\\infty {P_\\alpha}_{[j]} (x-x_0)^j\\sum_{k=0}^\\infty kg_{[k]} (x-x_0)^{k-1}$$\n",
    "\n",
    "$$\\sum_{k=1}^\\infty\\left[\\sum_{j=0}^kg_{[k-j]}j{P_\\alpha}_{[j]}\\right](x-x_0)^{k-1}=\n",
    "\\sum_{k=1}^\\infty\\left[\\sum_{j=0}^k \\alpha(k-j)g_{[k-j]}{P_\\alpha}_{[j]}\\right](x-x_0)^{k-1}$$\n",
    "\n",
    "$$\\sum_{j=0}^kg_{[k-j]}j{P_\\alpha}_{[j]}=\\sum_{j=0}^k \\alpha(k-j)g_{[k-j]}{P_\\alpha}_{[j]}$$\n",
    "\n",
    "$$\\sum_{j=1}^kg_{[k-j]}j{P_\\alpha}_{[j]}=\\sum_{j=0}^{k-1} \\alpha(k-j)g_{[k-j]}{P_\\alpha}_{[j]}$$\n",
    "\n",
    "$$g_{[0]}k{P_\\alpha}_{[k]}+\\sum_{j=1}^{k-1}g_{[k-j]}j{P_\\alpha}_{[j]}=\\alpha kg_{[k]}{P_\\alpha}_{[0]}+\\sum_{j=1}^{k-1} \\alpha(k-j)g_{[k-j]}{P_\\alpha}_{[j]}$$\n",
    "\n",
    "$$g_{[0]}k{P_\\alpha}_{[k]}=\\alpha kg_{[k]}{P_\\alpha}_{[0]}+\\sum_{j=1}^{k-1}g_{[k-j]}{P_\\alpha}_{[j]}\\left[\\alpha(k-j)-j\\right]$$\n",
    "\n",
    "$${P_\\alpha}_{[k]}=\\alpha \\frac{g_{[k]}}{g_{[0]}}{P_\\alpha}_{[0]}+\\frac{1}{kg_{[0]}}\\sum_{j=1}^{k-1}g_{[k-j]}{P_\\alpha}_{[j]}\\left[\\alpha k-(\\alpha +1)j\\right]$$"
   ]
  },
  {
   "cell_type": "code",
   "execution_count": 17,
   "metadata": {
    "collapsed": false
   },
   "outputs": [
    {
     "data": {
      "text/plain": [
       "ATaylor.Taylor{Float64}([1.0,4.0,6.0,4.0,1.0],4)"
      ]
     },
     "execution_count": 17,
     "metadata": {},
     "output_type": "execute_result"
    }
   ],
   "source": [
    "\"\"\"\n",
    "Cexpalpha(g,alpha)\n",
    "Función que regresa los coeficientes Taylor para (g)^α, donde g es un polinomio. \n",
    "\"\"\"\n",
    "function Cexpalpha(g,alpha)#algoritmo que cálcula los coeficientes de Taylor para la función (g(x))^α\n",
    "    P=zeros(eltype(g.v), length(g.v))\n",
    "    P[1]=(g.v[1])^alpha\n",
    "    P[2]=alpha*(g.v[2]/g.v[1])*P[1]\n",
    "    for k in 2:length(g.v)-1\n",
    "    p=zero(eltype(g.v))\n",
    "        for j in 1:k-1\n",
    "            p+=(alpha*k-(alpha+1)*j)*g.v[k+1-j]*P[j+1]\n",
    "        end\n",
    "    P[k+1]=alpha*(g.v[k+1]/g.v[1])*P[1]+(1/(k*g.v[1]))*p\n",
    "    end\n",
    "    return Taylor(P)\n",
    "end\n",
    "g=taylor([1,1.],7)#Taylor que representa la función g(x)=1+x con un vector de 8 elementos \n",
    "Cexpalpha(g,4)"
   ]
  },
  {
   "cell_type": "code",
   "execution_count": 18,
   "metadata": {
    "collapsed": false
   },
   "outputs": [
    {
     "name": "stderr",
     "output_type": "stream",
     "text": [
      "WARNING: Method definition ^(ATaylor.Taylor, Number) in module ATaylor at /home/madara/Semestreactual/Temas Selectos de Fisica Computacional I/tareas/TaylorDiff.jl:302 overwritten in module Main at In[18]:2.\n"
     ]
    },
    {
     "data": {
      "text/plain": [
       "^ (generic function with 49 methods)"
      ]
     },
     "execution_count": 18,
     "metadata": {},
     "output_type": "execute_result"
    }
   ],
   "source": [
    "import Base:^\n",
    "^(a::Taylor,b::Number)=Cexpalpha(a,b)"
   ]
  },
  {
   "cell_type": "code",
   "execution_count": 19,
   "metadata": {
    "collapsed": false
   },
   "outputs": [
    {
     "data": {
      "text/plain": [
       "ATaylor.Taylor{Float64}([1.0,5.0,10.0,10.0,5.0,1.0],5)"
      ]
     },
     "execution_count": 19,
     "metadata": {},
     "output_type": "execute_result"
    }
   ],
   "source": [
    "g=taylor([1,1.],7)#Taylor que representa la función g(x)=1+x con un vector de 8 elementos \n",
    "g^5.0"
   ]
  },
  {
   "cell_type": "markdown",
   "metadata": {},
   "source": [
    "**Para la función $S(x)=\\sin(g(x))$ y $C(x) = \\cos(g(x))$** \n",
    "\n",
    "$$S(x)=sin(g(x))= \\sum_{k=0}^\\infty {S}_{[k]} (x-x_0)^k\\hspace{2cm}C(x) = \\cos(g(x))=\\sum_{k=0}^\\infty C_{[k]} (x-x_0)^k$$\n",
    "\n",
    "$$\\frac{dS(x)}{dx}=\\sum_{k=0}^\\infty k{S}_{[k]} (x-x_0)^{k-1}\\hspace{2cm}\n",
    "\\frac{dC(x)}{dx}=\\sum_{k=0}^\\infty k{C}_{[k]} (x-x_0)^{k-1}$$\n",
    "$$\\frac{dS(x)}{dx}=\\cos(g(x))\\frac{dg(x)}{dx}=C(x)\\frac{dg(x)}{dx}\\hspace{2cm}\n",
    "\\frac{dC(x)}{dx}=-\\sin(g(x))\\frac{dg(x)}{dx}=-S(x)\\frac{dg(x)}{dx}$$\n",
    "\n",
    "Igualando las últimas 4 expresiones\n",
    "$$\\frac{dS(x)}{dx}=\\sum_{k=0}^\\infty k{S}_{[k]} (x-x_0)^{k-1}=\n",
    "\\sum_{k=0}^\\infty C_{[k]} (x-x_0)^k\\sum_{j=0}^\\infty jg_{[j]} (x-x_0)^{j-1}=\n",
    "\\sum_{k=1}^\\infty \\left[\\sum_{j=0}^k jg_{[j]}C_{[k-j]}\\right](x-x_0)^{k-1}\n",
    "$$\n",
    "$$\\frac{dC(x)}{dx}=\\sum_{k=0}^\\infty k{C}_{[k]} (x-x_0)^{k-1}=\n",
    "-\\sum_{k=0}^\\infty S_{[k]} (x-x_0)^k\\sum_{j=0}^\\infty jg_{[j]} (x-x_0)^{j-1}=\n",
    "-\\sum_{k=1}^\\infty \\left[\\sum_{j=0}^k jg_{[j]}S_{[k-j]}\\right](x-x_0)^{k-1}\n",
    "$$\n",
    "\n",
    "De aquí obtengo las dos siguientes relaciones\n",
    "\n",
    "$$S_{[k]}=\\frac{1}{k}\\sum_{j=0}^k jg_{[j]}C_{[k-j]}=\\frac{1}{k}\\sum_{j=0}^{k-1} (k-j)g_{[k-j]}C_{[j]}\\hspace{2cm}\n",
    "C_{[k]}=-\\frac{1}{k}\\sum_{j=0}^k jg_{[j]}S_{[k-j]}=-\\frac{1}{k}\\sum_{j=0}^{k-1} (k-j)g_{[k-j]}S_{[j]}$$\n",
    "\n",
    "Con las condiciones iniciales \n",
    "$$S_{[0]}=\\sin(g(x_0))\\hspace{2cm}C_{[0]}=\\cos(g(x_0))$$\n",
    "\n",
    "Para el caso concreto $g(x) = x$ alrededor de $x_0=0$, donde tenemos $g_{[j]} = \\delta_{j,1}$, obtenemos\n",
    "\n",
    "$$S_{[0]}=0 \\hspace{2cm}C_{[0]}=1$$\n",
    "$$S_{[1]}=C_{[0]}=1 \\hspace{2cm}C_{[1]}=-S_{[0]}=0$$\n",
    "\n",
    "$$S_{[k]}=\\frac{1}{k}C_{[k-1]}=\\frac{1(-1)}{k(k-1)}S_{[k-2]}=\\frac{1(-1)(1)}{k(k-1)(k-2)}C_{[k-3]}=\n",
    "\\frac{1(-1)(1)(-1)}{k(k-1)(k-2)(k-3)}S_{[k-4]}=\\dots$$$$\n",
    "C_{[k]}=\\frac{-1}{k}S_{[k-1]}=\\frac{(-1)(1)}{k(k-1)}C_{[k-2]}=\\frac{(-1)(1)(-1)}{k(k-1)(k-2)}S_{[k-3]}=\n",
    "\\frac{(-1)(1)(-1)(1)}{k(k-1)(k-2)(k-3)}C_{[k-4]}=\\dots$$\n",
    "\n",
    "$$S_{[k]}=\\frac{(-1)}{k(k-1)}S_{[k-2]}=\\frac{(-1)^2}{k(k-1)(k-2)(k-3)}S_{[k-4]}=\n",
    "\\frac{(-1)^3}{k(k-1)(k-2)(k-3)(k-4)(k-5)}S_{[k-6]}=\\dots$$$$\n",
    "C_{[k]}=\\frac{(-1)}{k(k-1)}C_{[k-2]}=\\frac{(-1)^2}{k(k-1)(k-2)(k-3)}C_{[k-4]}=\n",
    "\\frac{(-1)^3}{k(k-1)(k-2)(k-3)(k-4)(k-5)}C_{[k-6]}=\\dots$$\n",
    "\n",
    "$$S_{[k]}=\\frac{(-1)^{j/2}(k-j)!}{k!}S_{[k-j]}\\hspace{2cm}C_{[k]}=\\frac{(-1)^{j/2}(k-j)!}{k!}C_{[k-j]}$$\n",
    "\n",
    "Para que $S_{[k]}$ no sea nulo $k>2$ y debe ser un número impar $k=2n+1$. De la misma menera para que $C_{[k]}$ no sea nulo $k\\geq2$ y debe ser un número par $k=2n$. Entonces\n",
    "\n",
    "$$S_{[2n+1]}=\\frac{(-1)^{j/2}((2n+1)-j)!}{(2n+1)!}S_{[(2n+1)-j]}\\hspace{2cm}C_{[2n]}=\\frac{(-1)^{j/2}((2n)-j)!}{(2n)!}C_{[(2n)-j]}$$\n",
    "\n",
    "Para los coeficientes del seno si $2n+1-j=1$ $\\Rightarrow j=2n$. En los coeficientes del coseno si $2n-j=0$ $\\Rightarrow j=2n$. De esta manera\n",
    "\n",
    "$$S_{[2n+1]}=\\frac{(-1)^{n}}{(2n+1)!}S_{[1]}=\\frac{(-1)^{n}}{(2n+1)!}C_{[0]}=\\frac{(-1)^{n}}{(2n+1)!}\\hspace{2cm}C_{[2n]}=\\frac{(-1)^{n}}{(2n)!}C_{[0]}=\\frac{(-1)^{n}}{(2n)!}$$\n",
    "\n",
    "Por lo tanto\n",
    "$$S(x)=\\sin(x)=\\sum_{n=0}^\\infty \\frac{(-1)^{n}}{(2n+1)!}x^{2n+1}\\hspace{2cm}C(x) = \\cos(x)=\\sum_{n=0}^\\infty \\frac{(-1)^{n}}{(2n)!}x^{2n}$$"
   ]
  },
  {
   "cell_type": "code",
   "execution_count": 20,
   "metadata": {
    "collapsed": false
   },
   "outputs": [
    {
     "data": {
      "text/plain": [
       "ATaylor.Taylor{Rational{Int64}}(Rational{Int64}[1//1,0//1,-1//2,0//1,1//24,0//1,-1//720],6)"
      ]
     },
     "execution_count": 20,
     "metadata": {},
     "output_type": "execute_result"
    }
   ],
   "source": [
    "\"\"\"\n",
    "Csencos(g)\n",
    "Función que regresa a la vez,los coeficientes Taylor para sin(g) y cos(g), donde g es un polinomio. \n",
    "\"\"\"\n",
    "function Csencos(g)#algoritmo que cálcula los coeficientes de Taylor para las funciones cos(g(x)) y sin(g(x))\n",
    "    S=zeros(eltype(g.v), length(g.v))\n",
    "    C=zeros(eltype(g.v), length(g.v))\n",
    "    C[1]=cos(g.v[1])\n",
    "    S[2]=C[1]\n",
    "    for k in 2:length(g.v)-1\n",
    "        p=zero(eltype(g.v))\n",
    "        q=zero(eltype(g.v))\n",
    "        for j in 0:k-1\n",
    "            p+=(k-j)*g.v[k+1-j]*C[j+1]\n",
    "            q+=(k-j)*g.v[k+1-j]*S[j+1]\n",
    "        end\n",
    "    S[k+1]=p/k\n",
    "    C[k+1]=-q/k\n",
    "    end\n",
    "    return Taylor(C),Taylor(S)\n",
    "end\n",
    "\"\"\"\n",
    "Csen(g)\n",
    "Función que regresa los coeficientes Taylor para sin(g), donde g es un polinomio. \n",
    "\"\"\"\n",
    "function Csen(g)\n",
    "    (a,b)=Csencos(g)\n",
    "    return b\n",
    "end\n",
    "\"\"\"\n",
    "coeflog(g)\n",
    "Función que regresa los coeficientes Taylor para cos(g), donde g es un polinomio. \n",
    "\"\"\"\n",
    "function Ccos(g)\n",
    "    (a,b)=Csencos(g)\n",
    "    return a\n",
    "end\n",
    "g=taylor([0,1//1],7)#Taylor que representa la función g(x)=x con un vector de 8 elementos \n",
    "Ccos(g)"
   ]
  },
  {
   "cell_type": "code",
   "execution_count": 21,
   "metadata": {
    "collapsed": false
   },
   "outputs": [
    {
     "name": "stderr",
     "output_type": "stream",
     "text": [
      "WARNING: Method definition sin(ATaylor.Taylor) in module ATaylor at /home/madara/Semestreactual/Temas Selectos de Fisica Computacional I/tareas/TaylorDiff.jl:303 overwritten in module Main at In[21]:2.\n",
      "WARNING: Method definition cos(ATaylor.Taylor) in module ATaylor at /home/madara/Semestreactual/Temas Selectos de Fisica Computacional I/tareas/TaylorDiff.jl:304 overwritten in module Main at In[21]:3.\n"
     ]
    },
    {
     "data": {
      "text/plain": [
       "cos (generic function with 12 methods)"
      ]
     },
     "execution_count": 21,
     "metadata": {},
     "output_type": "execute_result"
    }
   ],
   "source": [
    "import Base:sin,cos\n",
    "sin(a::Taylor)=Csen(a)\n",
    "cos(a::Taylor)=Ccos(a)"
   ]
  },
  {
   "cell_type": "code",
   "execution_count": 22,
   "metadata": {
    "collapsed": false
   },
   "outputs": [
    {
     "data": {
      "text/plain": [
       "(ATaylor.Taylor{Rational{Int64}}(Rational{Int64}[0//1,1//1,0//1,-1//6,0//1,1//120,0//1,-1//5040],7),ATaylor.Taylor{Rational{Int64}}(Rational{Int64}[1//1,0//1,-1//2,0//1,1//24,0//1,-1//720],6))"
      ]
     },
     "execution_count": 22,
     "metadata": {},
     "output_type": "execute_result"
    }
   ],
   "source": [
    "g=taylor([0,1//1],7)#Taylor que representa la función g(x)=x con un vector de 8 elementos\n",
    "sin(g),cos(g)"
   ]
  },
  {
   "cell_type": "code",
   "execution_count": 23,
   "metadata": {
    "collapsed": false
   },
   "outputs": [
    {
     "name": "stdout",
     "output_type": "stream",
     "text": [
      "\u001b[1m\u001b[37mTest Summary:                                           | \u001b[0m\u001b[1m\u001b[32mPass  \u001b[0m\u001b[1m\u001b[34mTotal\u001b[0m\n",
      "  pruebas con operaciones entre funciones de tipos Taylor | \u001b[1m\u001b[32m  13  \u001b[0m\u001b[1m\u001b[34m   13\u001b[0m\n"
     ]
    },
    {
     "data": {
      "text/plain": [
       "Base.Test.DefaultTestSet(\"pruebas con operaciones entre funciones de tipos Taylor\",Any[],13,false)"
      ]
     },
     "execution_count": 23,
     "metadata": {},
     "output_type": "execute_result"
    }
   ],
   "source": [
    "a=[0,1.]\n",
    "b=[1,1.]\n",
    "x=taylor(a,4)\n",
    "y=taylor(b,4)\n",
    "\n",
    "using Base.Test\n",
    "@testset \"pruebas con operaciones entre funciones de tipos Taylor\"begin\n",
    "    @test exp(x)==Taylor([1,1,1/2,1/6,1/24],4)\n",
    "    @test exp(x)==Cexp(x)\n",
    "    @test exp(taylor(a,3))==Taylor([1,1,1/2,1/6],3)\n",
    "    @test log(y)==Taylor([0,1,-1/2,1/3,-1/4],4)\n",
    "    @test log(y)==coeflog(taylor(b,4))\n",
    "    @test y^5.0==Cexpalpha(y,5)\n",
    "    @test y^3.0==Taylor([1.,3,3,1],3)\n",
    "    @test sin(x)==Csen(x)\n",
    "    @test sin(x)==Csen(taylor(a,4))\n",
    "    @test cos(x)==Ccos(x)\n",
    "    @test cos(x)==Ccos(taylor(a,4))\n",
    "    @test y^2.0==Taylor(producto([1.0,1.0,0.0,0.0,0.0],[1.0,1.0,0.0,0.0,0.0]))\n",
    "    @test y^2.0==y*y    \n",
    "end"
   ]
  },
  {
   "cell_type": "markdown",
   "metadata": {},
   "source": [
    "**Aquí incluyo las pruebas finales.**"
   ]
  },
  {
   "cell_type": "code",
   "execution_count": 24,
   "metadata": {
    "collapsed": false
   },
   "outputs": [
    {
     "name": "stdout",
     "output_type": "stream",
     "text": [
      "\u001b[1m\u001b[37mTest Summary:                              | \u001b[0m\u001b[1m\u001b[32mPass  \u001b[0m\u001b[1m\u001b[34mTotal\u001b[0m\n",
      "  pruebas con operaciones entre tipos Taylor | \u001b[1m\u001b[32m  22  \u001b[0m\u001b[1m\u001b[34m   22\u001b[0m\n",
      "\u001b[1m\u001b[37mTest Summary:                                           | \u001b[0m\u001b[1m\u001b[32mPass  \u001b[0m\u001b[1m\u001b[34mTotal\u001b[0m\n",
      "  pruebas con operaciones entre funciones de tipos Taylor | \u001b[1m\u001b[32m  13  \u001b[0m\u001b[1m\u001b[34m   13\u001b[0m\n"
     ]
    },
    {
     "data": {
      "text/plain": [
       "Base.Test.DefaultTestSet(\"pruebas con operaciones entre funciones de tipos Taylor\",Any[],13,false)"
      ]
     },
     "execution_count": 24,
     "metadata": {},
     "output_type": "execute_result"
    }
   ],
   "source": [
    "workspace()\n",
    "include(\"runtest_taylor.jl\")"
   ]
  },
  {
   "cell_type": "code",
   "execution_count": null,
   "metadata": {
    "collapsed": true
   },
   "outputs": [],
   "source": []
  }
 ],
 "metadata": {
  "kernelspec": {
   "display_name": "Julia 0.5.0",
   "language": "julia",
   "name": "julia-0.5"
  },
  "language_info": {
   "file_extension": ".jl",
   "mimetype": "application/julia",
   "name": "julia",
   "version": "0.5.1"
  }
 },
 "nbformat": 4,
 "nbformat_minor": 2
}
